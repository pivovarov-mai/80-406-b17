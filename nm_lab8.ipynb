{
  "cells": [
    {
      "attachments": {},
      "cell_type": "markdown",
      "metadata": {
        "id": "96AzdLrJo-FE"
      },
      "source": [
        "# Лабораторная работа 8\n",
        "## Двумерные начально-краевые задачи для дифференциального уравнения параболического типа\n",
        "\n",
        "Айрапетова Е. А.\n",
        "\n",
        "М8О-406Б-19"
      ]
    },
    {
      "cell_type": "markdown",
      "metadata": {
        "id": "RHVo6qNdpOuW"
      },
      "source": [
        "### Задание\n",
        "\n",
        "Используя схемы переменных направлений и дробных шагов, решить двумерную начально-краевую задачу для дифференциального уравнения параболического типа. В различные моменты времени вычислить погрешность численного решения путем сравнения результатов с приведенным в задании аналитическим решением $U(x, y, t)$.\n",
        "\n",
        "Вариант 1.\n",
        "\n",
        "$\\large\\frac{\\partial u}{\\partial t} = a\\frac{\\partial^2 u}{\\partial x^2} + a\\frac{\\partial^2 u}{\\partial y^2}, ~~~a > 0$\n",
        "\n",
        "$u(0, y, t) = cos(\\mu_2y)exp(-(\\mu_1^2+\\mu_2^2)at)$\n",
        "\n",
        "$u(\\pi, y, t) = (-1)^{\\mu_1}cos(\\mu_2y)exp(-(\\mu_1^2+\\mu_2^2)at)$\n",
        "\n",
        "$u(x, 0, t) = cos(\\mu_1x)exp(-(\\mu_1^2+\\mu_2^2)at)$\n",
        "\n",
        "$u(x, \\pi, t) = (-1)^{\\mu_2}cos(\\mu_1x)exp(-(\\mu_1^2+\\mu_2^2)at)$\n",
        "\n",
        "$u(x, y, 0) = cos(\\mu_1x)cos(\\mu_2y)$\n",
        "\n",
        "Аналитическое решение: $U(x, y, t) = cos(\\mu_1x)cos(\\mu_2y)exp(-(\\mu_1^2+\\mu_2^2)at)$\n"
      ]
    },
    {
      "cell_type": "code",
      "execution_count": null,
      "metadata": {
        "id": "roT2D_3NnP4P"
      },
      "outputs": [],
      "source": [
        "import math\n",
        "import numpy as np\n",
        "import matplotlib.pyplot as plt"
      ]
    },
    {
      "cell_type": "code",
      "execution_count": null,
      "metadata": {
        "id": "Lp2rJGpRpLdn"
      },
      "outputs": [],
      "source": [
        "x_begin = 0\n",
        "x_end = math.pi\n",
        "\n",
        "y_begin = 0\n",
        "y_end = math.pi\n",
        "\n",
        "t_begin = 0\n",
        "t_end = 1\n",
        "\n",
        "a = 1\n",
        "mu1 = 1\n",
        "mu2 = 1\n",
        "\n",
        "h_x = 0.01\n",
        "h_y = 0.01\n",
        "tau = 0.01"
      ]
    },
    {
      "cell_type": "markdown",
      "metadata": {
        "id": "kYy7B9KOs7mo"
      },
      "source": [
        "Начальные условия:"
      ]
    },
    {
      "cell_type": "code",
      "execution_count": null,
      "metadata": {
        "id": "7cphmxS3rru5"
      },
      "outputs": [],
      "source": [
        "# boundary conditions\n",
        "def phi_0(y, t, a=a, mu1=mu1, mu2=mu2):\n",
        "    return math.cos(mu2*y) * math.exp(-(mu1**2 + mu2**2) * a * t)\n",
        "\n",
        "def phi_1(y, t, a=a, mu1=mu1, mu2=mu2):\n",
        "    return (-1)**mu1 * math.cos(mu2*y) * math.exp(-(mu1**2 + mu2**2) * a * t)\n",
        "\n",
        "def phi_2(x, t, a=a, mu1=mu1, mu2=mu2):\n",
        "    return math.cos(mu1*x) * math.exp(-(mu1**2 + mu2**2) * a * t)\n",
        "\n",
        "def phi_3(x, t, a=a, mu1=mu1, mu2=mu2):\n",
        "    return (-1)**mu2 * math.cos(mu1*x) * math.exp(-(mu1**2 + mu2**2) * a * t)\n",
        "\n",
        "# initial condition\n",
        "def psi(x, y, mu1=mu1, mu2=mu2):\n",
        "    return math.cos(mu1*x) * math.cos(mu2*y)\n",
        "\n",
        "def solution(x, y, t, a=a, mu1=mu1, mu2=mu2):\n",
        "    return math.cos(mu1*x) * math.cos(mu2*y) * math.exp(-(mu1**2 + mu2**2) * a * t)"
      ]
    },
    {
      "cell_type": "markdown",
      "metadata": {
        "id": "_LdcgsQ3vnQP"
      },
      "source": [
        "## Аналитическое решение\n",
        "\n",
        "Подготовим ответ, полученный аналитическим способом. С ним будем сравнивать численные методы"
      ]
    },
    {
      "cell_type": "code",
      "execution_count": null,
      "metadata": {
        "id": "Jk5MdlvJvlVB"
      },
      "outputs": [],
      "source": [
        "def get_analytical_solution(\n",
        "    x_range, # (x_begin, x_end)\n",
        "    y_range, # (y_begin, y_end)\n",
        "    t_range, # (t_begin, t_end)\n",
        "    h_x, # len of cell by x\n",
        "    h_y, # len of cell by y\n",
        "    tau, # len of cell by t\n",
        "):\n",
        "    \"\"\"\n",
        "    Get analytical solution of 2D parabolic DE\n",
        "    Returns tensor U with values of function\n",
        "    \"\"\"\n",
        "    x = np.arange(*x_range, h_x)\n",
        "    y = np.arange(*y_range, h_y)\n",
        "    t = np.arange(*t_range, tau)\n",
        "\n",
        "    res = np.zeros((len(t), len(x), len(y)))\n",
        "    for idx in range(len(x)):\n",
        "        for idy in range(len(y)):\n",
        "            for idt in range(len(t)):\n",
        "                res[idt][idx][idy] = solution(x[idx], y[idy], t[idt])\n",
        "    \n",
        "    return res"
      ]
    },
    {
      "cell_type": "code",
      "execution_count": null,
      "metadata": {
        "id": "m9GRBb-qzwd4"
      },
      "outputs": [],
      "source": [
        "analytical_solution = get_analytical_solution(\n",
        "    x_range=(x_begin, x_end),\n",
        "    y_range=(y_begin, y_end),\n",
        "    t_range=(t_begin, t_end),\n",
        "    h_x=h_x,\n",
        "    h_y=h_y,\n",
        "    tau=tau,\n",
        ")"
      ]
    },
    {
      "cell_type": "markdown",
      "metadata": {
        "id": "NrffwKK60GCz"
      },
      "source": [
        "Будем складывать все решения в словарь, чтобы потом удобнее было строить графики"
      ]
    },
    {
      "cell_type": "code",
      "execution_count": null,
      "metadata": {
        "id": "pqPgyB8Xz74M"
      },
      "outputs": [],
      "source": [
        "solutions = dict()\n",
        "solutions[\"analytical solution\"] = analytical_solution"
      ]
    },
    {
      "cell_type": "markdown",
      "metadata": {
        "id": "eRH0hqnn0I8r"
      },
      "source": [
        "Функция для вычисления погрешности - максимального модуля ошибки"
      ]
    },
    {
      "cell_type": "code",
      "execution_count": null,
      "metadata": {
        "id": "UUIaDckQ0HUa"
      },
      "outputs": [],
      "source": [
        "def max_abs_error(A, B):\n",
        "    \"\"\"\n",
        "    Calculate max absolute error of elements of matrices A and B\n",
        "    \"\"\"\n",
        "    assert A.shape == B.shape\n",
        "    return abs(A - B).max()"
      ]
    },
    {
      "cell_type": "markdown",
      "metadata": {
        "id": "PCpIRsGP0Ls1"
      },
      "source": [
        "И среднего модуля ошибки:"
      ]
    },
    {
      "cell_type": "code",
      "execution_count": null,
      "metadata": {
        "id": "LJtIrmtG0KFB"
      },
      "outputs": [],
      "source": [
        "def mean_abs_error(A, B):\n",
        "    \"\"\"\n",
        "    Calculate mean absolute error of elements of matrices A and B\n",
        "    \"\"\"\n",
        "    assert A.shape == B.shape\n",
        "    return abs(A - B).mean()"
      ]
    },
    {
      "cell_type": "markdown",
      "metadata": {
        "id": "96oPilAkaosF"
      },
      "source": [
        "И функция для построения проекции плоскости на ось х в заданный момент времени t и при заданной координате y"
      ]
    },
    {
      "cell_type": "code",
      "execution_count": null,
      "metadata": {
        "id": "9mQf86Oiauym"
      },
      "outputs": [],
      "source": [
        "def plot_results(\n",
        "    solutions, # dict: solutions[method name] = solution\n",
        "    cur_time, # moment of time\n",
        "    cur_y, # moment by y\n",
        "    x_range, # (x_begin, x_end)\n",
        "    y_range, # (y_begin, y_end)\n",
        "    t_range, # (t_bein, t_end)\n",
        "    h_x, # len of cell by x\n",
        "    h_y, # len of cell by y\n",
        "    tau, # len of cell by t\n",
        "):\n",
        "    x = np.arange(*x_range, h_x)\n",
        "    y = np.arange(*y_range, h_y)\n",
        "    t = np.arange(*t_range, tau)\n",
        "    cur_t_id = abs(t - cur_time).argmin()\n",
        "    cur_y_id = abs(y - cur_y).argmin()\n",
        "\n",
        "    plt.figure(figsize=(15, 9))\n",
        "    for method_name, solution in solutions.items():\n",
        "        plt.plot(x, solution[cur_t_id][:, cur_y_id], label=method_name)\n",
        "\n",
        "    plt.legend()\n",
        "    plt.grid()\n",
        "    plt.show()"
      ]
    },
    {
      "cell_type": "markdown",
      "metadata": {
        "id": "Z9l7CYoG096O"
      },
      "source": [
        "Зависимость погрешности от времени"
      ]
    },
    {
      "cell_type": "code",
      "execution_count": null,
      "metadata": {
        "id": "YejwYNVT0XoA"
      },
      "outputs": [],
      "source": [
        "def plot_errors_from_time(\n",
        "    solutions, # dict: solutions[method name] = solution\n",
        "    analytical_solution_name, # for comparing\n",
        "    t_range, # (t_begin, t_end)\n",
        "    tau, # len of cell by t\n",
        "):\n",
        "    \"\"\"\n",
        "    Plot max_abs_error = f(time)\n",
        "    \"\"\"\n",
        "    t = np.arange(*t_range, tau)\n",
        "\n",
        "    plt.figure(figsize=(15, 9))\n",
        "    for method_name, solution in solutions.items():\n",
        "        if method_name == analytical_solution_name:\n",
        "            continue\n",
        "        max_abs_errors = np.array([\n",
        "            max_abs_error(solution[i], solutions[analytical_solution_name][i])\n",
        "            for i in range(len(t))\n",
        "        ])\n",
        "        plt.plot(t, max_abs_errors, label=method_name)\n",
        "\n",
        "    plt.xlabel('time')\n",
        "    plt.ylabel('Max abs error')\n",
        "\n",
        "    plt.legend()\n",
        "    plt.grid()\n",
        "    plt.show()"
      ]
    },
    {
      "cell_type": "markdown",
      "metadata": {
        "id": "xXUCLEcRdvZH"
      },
      "source": [
        "### Метод переменных направлений\n",
        "\n",
        "Для момента времени $k+1/2$ производная по иксу будет аппроксимироваться неявно, а по игреку - явно. Для момента времени $k+1$ наоборот.\n",
        "\n",
        "#### Шаг 1.\n",
        "\n",
        "Решаем систему уравнений для всех $j$, чтобы получить значения в момент времени $k+1/2$:\n",
        "\n",
        "$\\large\\begin{equation*}\n",
        " \\begin{cases}\n",
        "   bu_{1j}^{k+1/2}+cu_{2j}^{k+1/2}=d_1, \n",
        "   \\\\\n",
        "   au_{i-1j}^{k+1/2}+bu_{ij}^{k+1/2}+cu_{i+1j}^{k+1/2}=d, ~~~i=2\\dots N-2,\n",
        "   \\\\\n",
        "   au_{N-2j}^{k+1/2}+bu_{N-1j}^{k+1/2}=d_{N-1},\n",
        " \\end{cases}\n",
        "\\end{equation*}$\n",
        "\n",
        "$a=c=-a\\tau h_y^2$\n",
        "\n",
        "$b_j=2h_x^2h_y^2 + 2a\\tau h_y^2$\n",
        "\n",
        "$d = a\\tau h_x^2 u_{ij-1}^k+(2h_x^2h_y^2 - 2a\\tau h_x^2)u_{ij}^k+a\\tau h_x^2u_{ij+1}^k$\n",
        "\n",
        "$d_1=d - au_{0j}^{k+1/2}$\n",
        "\n",
        "$d_{N-1}=d - cu_{Nj}^{k+1/2}$\n",
        "\n",
        "#### Шаг 2.\n",
        "\n",
        "Решаем систему уравнений для всех $i$, чтобы получить значения в момент времени $k+1$:\n",
        "\n",
        "$\\large\\begin{equation*}\n",
        " \\begin{cases}\n",
        "   bu_{1j}^{k+1}+cu_{2j}^{k+1}=d_1, \n",
        "   \\\\\n",
        "   au_{i-1j}^{k+1}+bu_{ij}^{k+1}+cu_{i+1j}^{k+1}=d, ~~~i=2\\dots N-2,\n",
        "   \\\\\n",
        "   au_{N-2j}^{k+1}+bu_{N-1j}^{k+1}=d_{N-1},\n",
        " \\end{cases}\n",
        "\\end{equation*}$\n",
        "\n",
        "$a=c=-a\\tau h_x^2$\n",
        "\n",
        "$b_j=2h_x^2h_y^2 + 2a\\tau h_x^2$\n",
        "\n",
        "$d = a\\tau h_y^2 u_{i-1j}^{k+1/2}+(2h_x^2h_y^2 - 2a\\tau h_y^2)u_{ij}^{k+1/2}+a\\tau h_y^2u_{i+1j}^{k+1/2}$\n",
        "\n",
        "$d_1=d - au_{i0}^{k+1}$\n",
        "\n",
        "$d_{N-1}=d - cu_{iN}^{k+1}$\n",
        "\n",
        "Системы будем решать методом прогонки"
      ]
    },
    {
      "cell_type": "code",
      "execution_count": null,
      "metadata": {
        "id": "kxVeaE001K3I"
      },
      "outputs": [],
      "source": [
        "# stolen from lab 1-2\n",
        "def tridiagonal_solve(A, b):\n",
        "    \"\"\"\n",
        "    Solves Ax=b, where A - tridiagonal matrix\n",
        "    Returns x\n",
        "    \"\"\"\n",
        "    n = len(A)\n",
        "    # Step 1. Forward\n",
        "    v = [0 for _ in range(n)]\n",
        "    u = [0 for _ in range(n)]\n",
        "    v[0] = A[0][1] / -A[0][0]\n",
        "    u[0] = b[0] / A[0][0]\n",
        "    for i in range(1, n-1):\n",
        "        v[i] = A[i][i+1] / (-A[i][i] - A[i][i-1] * v[i-1])\n",
        "        u[i] = (A[i][i-1] * u[i-1] - b[i]) / (-A[i][i] - A[i][i-1] * v[i-1])\n",
        "    v[n-1] = 0\n",
        "    u[n-1] = (A[n-1][n-2] * u[n-2] - b[n-1]) / (-A[n-1][n-1] - A[n-1][n-2] * v[n-2])\n",
        "\n",
        "    # Step 2. Backward\n",
        "    x = [0 for _ in range(n)]\n",
        "    x[n-1] = u[n-1]\n",
        "    for i in range(n-1, 0, -1):\n",
        "        x[i-1] = v[i-1] * x[i] + u[i-1]\n",
        "    return np.array(x)"
      ]
    },
    {
      "cell_type": "code",
      "execution_count": null,
      "metadata": {
        "id": "s95wUcb9fSur"
      },
      "outputs": [],
      "source": [
        "def variable_directions_method(\n",
        "    x_range, # (x_begin, x_end)\n",
        "    y_range, # (y_begin, y_end)\n",
        "    t_range, # (t_begin, t_end)\n",
        "    h_x, # len of cell by x\n",
        "    h_y, # len of cell by y\n",
        "    tau, # len of cell by t\n",
        "    a=a, # coefficient a\n",
        "    mu1=mu1, # coefficient mu1\n",
        "    mu2=mu2, # coefficient mu2\n",
        "    phi_0=phi_0, # boundary condition 0\n",
        "    phi_1=phi_1, # boundary condition 1\n",
        "    phi_2=phi_2, # boundary condition 2\n",
        "    phi_3=phi_3, # boundary condition 3\n",
        "    psi=psi, # initial condition\n",
        "):\n",
        "    \"\"\"\n",
        "    Solves 2D parabolic DE using variable directions.\n",
        "    Returns tensor U with values of function\n",
        "    \"\"\"\n",
        "    x = np.arange(*x_range, h_x)\n",
        "    y = np.arange(*y_range, h_y)\n",
        "    t = np.arange(*t_range, tau)\n",
        "    res = np.zeros((len(t), len(x), len(y)))\n",
        "\n",
        "    # initial condition\n",
        "    for x_id in range(len(x)):\n",
        "        for y_id in range(len(y)):\n",
        "            res[0][x_id][y_id] = psi(x[x_id], y[y_id], mu1, mu2)\n",
        "    \n",
        "    for t_id in range(1, len(t)):\n",
        "        U_halftime = np.zeros((len(x), len(y)))\n",
        "        \n",
        "        # boundary conditions\n",
        "        for x_id in range(len(x)):\n",
        "            res[t_id][x_id][0] = phi_2(x[x_id], t[t_id], a, mu1, mu2)\n",
        "            res[t_id][x_id][-1] = phi_3(x[x_id], t[t_id], a, mu1, mu2)\n",
        "            U_halftime[x_id][0] = phi_2(x[x_id], t[t_id] - tau/2, a, mu1, mu2)\n",
        "            U_halftime[x_id][-1] = phi_3(x[x_id], t[t_id] - tau/2, a, mu1, mu2)\n",
        "        \n",
        "        for y_id in range(len(y)):\n",
        "            res[t_id][0][y_id] = phi_0(y[y_id], t[t_id], a, mu1, mu2)\n",
        "            res[t_id][-1][y_id] = phi_1(y[y_id], t[t_id], a, mu1, mu2)\n",
        "            U_halftime[0][y_id] = phi_0(y[y_id], t[t_id] - tau/2, a, mu1, mu2)\n",
        "            U_halftime[-1][y_id] = phi_1(y[y_id], t[t_id] - tau/2, a, mu1, mu2)\n",
        "        \n",
        "        # solving sytem 1\n",
        "        for y_id in range(1, len(y)-1):\n",
        "            A = np.zeros((len(x)-2, len(x)-2))\n",
        "            b = np.zeros((len(x)-2))\n",
        "\n",
        "            A[0][0] = 2 * h_x**2 * h_y**2 + 2 * a * tau * h_y**2\n",
        "            A[0][1] = -a * tau * h_y**2\n",
        "            for i in range(1, len(A) - 1):\n",
        "                A[i][i-1] = -a * tau * h_y**2\n",
        "                A[i][i] = 2 * h_x**2 * h_y**2 + 2 * a * tau * h_y**2\n",
        "                A[i][i+1] = -a * tau * h_y**2\n",
        "            A[-1][-2] = -a * tau * h_y**2\n",
        "            A[-1][-1] = 2 * h_x**2 * h_y**2 + 2 * a * tau * h_y**2\n",
        "\n",
        "            for x_id in range(1, len(x)-1):\n",
        "                b[x_id-1] = (\n",
        "                    res[t_id-1][x_id][y_id-1] * a * tau * h_x**2\n",
        "                    + res[t_id-1][x_id][y_id] * (2 * h_x**2 * h_y**2 - 2 * a * tau * h_x**2)\n",
        "                    + res[t_id-1][x_id][y_id+1] * a * tau * h_x**2\n",
        "                )\n",
        "            b[0] -= (-a * tau * h_y**2) * phi_0(y[y_id], t[t_id] - tau/2, a, mu1, mu2)\n",
        "            b[-1] -= (-a * tau * h_y**2) * phi_1(y[y_id], t[t_id] - tau/2, a, mu1, mu2)\n",
        "            U_halftime[1:-1, y_id] = np.array(tridiagonal_solve(A, b))\n",
        "        \n",
        "        # solving system 2\n",
        "        for x_id in range(1, len(x)-1):\n",
        "            A = np.zeros((len(y)-2, len(y)-2))\n",
        "            b = np.zeros((len(y)-2))\n",
        "\n",
        "            A[0][0] = 2 * h_x**2 * h_y**2 + 2 * a * tau * h_x**2\n",
        "            A[0][1] = -a * tau * h_x**2\n",
        "            for i in range(1, len(A) - 1):\n",
        "                A[i][i-1] = -a * tau * h_x**2\n",
        "                A[i][i] = 2 * h_x**2 * h_y**2 + 2 * a * tau * h_x**2\n",
        "                A[i][i+1] = -a * tau * h_x**2\n",
        "            A[-1][-2] = -a * tau * h_x**2\n",
        "            A[-1][-1] = 2 * h_x**2 * h_y**2 + 2 * a * tau * h_x**2\n",
        "\n",
        "            for y_id in range(1, len(y)-1):\n",
        "                b[y_id-1] = (\n",
        "                    U_halftime[x_id-1][y_id] * a * tau * h_y**2\n",
        "                    + U_halftime[x_id][y_id] * (2 * h_x**2 * h_y**2 - 2 * a * tau * h_y**2)\n",
        "                    + U_halftime[x_id+1][y_id] * a * tau * h_y**2\n",
        "                )\n",
        "            b[0] -= (-a * tau * h_x**2) * phi_2(x[x_id], t[t_id], a, mu1, mu2)\n",
        "            b[-1] -= (-a * tau * h_x**2) * phi_3(x[x_id], t[t_id], a, mu1, mu2)\n",
        "            res[t_id][x_id][1:-1] = tridiagonal_solve(A, b)\n",
        "    return res"
      ]
    },
    {
      "cell_type": "code",
      "execution_count": null,
      "metadata": {
        "id": "SsqRQQ1Ws9Fx"
      },
      "outputs": [],
      "source": [
        "variable_directions_solution = variable_directions_method(\n",
        "    x_range=(x_begin, x_end),\n",
        "    y_range=(y_begin, y_end),\n",
        "    t_range=(t_begin, t_end),\n",
        "    h_x=h_x,\n",
        "    h_y=h_y,\n",
        "    tau=tau,\n",
        ")"
      ]
    },
    {
      "cell_type": "code",
      "execution_count": null,
      "metadata": {
        "id": "EawQ2ASKwT53"
      },
      "outputs": [],
      "source": [
        "solutions[\"variable directions method\"] = variable_directions_solution"
      ]
    },
    {
      "cell_type": "markdown",
      "metadata": {
        "id": "kGyubjG77LDB"
      },
      "source": [
        "Погрешность в сравнении с аналитическим решением:"
      ]
    },
    {
      "cell_type": "code",
      "execution_count": null,
      "metadata": {
        "colab": {
          "base_uri": "https://localhost:8080/"
        },
        "id": "CrOrD-i2tHH_",
        "outputId": "508b84ea-c824-4151-ca10-afb526e86445"
      },
      "outputs": [
        {
          "name": "stdout",
          "output_type": "stream",
          "text": [
            "max abs error = 2.075687407177007e-06\n",
            "mean abs error = 8.967876674887431e-08\n"
          ]
        }
      ],
      "source": [
        "print(f'max abs error = {max_abs_error(variable_directions_solution, analytical_solution)}')\n",
        "print(f'mean abs error = {mean_abs_error(variable_directions_solution, analytical_solution)}')"
      ]
    },
    {
      "cell_type": "markdown",
      "metadata": {
        "id": "dqNzDHDv7N92"
      },
      "source": [
        "Этот метод абсолютно устойчив только в двумерном случае"
      ]
    },
    {
      "cell_type": "markdown",
      "metadata": {
        "id": "WavZ_HDJ7Wnw"
      },
      "source": [
        "### Метод дробных шагов\n",
        "\n",
        "Метод дробных шагов использует только неявные схемы\n",
        "\n",
        "#### Шаг 1.\n",
        "\n",
        "Решаем систему уравнений для всех $j$, чтобы получить значения в момент времени $k+1/2$:\n",
        "\n",
        "$\\large\\begin{equation*}\n",
        " \\begin{cases}\n",
        "   bu_{1j}^{k+1/2}+cu_{2j}^{k+1/2}=d_1, \n",
        "   \\\\\n",
        "   au_{i-1j}^{k+1/2}+bu_{ij}^{k+1/2}+cu_{i+1j}^{k+1/2}=d, ~~~i=2\\dots N-2,\n",
        "   \\\\\n",
        "   au_{N-2j}^{k+1/2}+bu_{N-1j}^{k+1/2}=d_{N-1},\n",
        " \\end{cases}\n",
        "\\end{equation*}$\n",
        "\n",
        "$a=c=-a\\tau$\n",
        "\n",
        "$b_j=h_x^2 + 2a\\tau$\n",
        "\n",
        "$d = h_x^2u_{ij}^k$\n",
        "\n",
        "$d_1=d - au_{0j}^{k+1/2}$\n",
        "\n",
        "$d_{N-1}=d - cu_{Nj}^{k+1/2}$\n",
        "\n",
        "#### Шаг 2.\n",
        "\n",
        "Решаем систему уравнений для всех $i$, чтобы получить значения в момент времени $k+1$:\n",
        "\n",
        "$\\large\\begin{equation*}\n",
        " \\begin{cases}\n",
        "   bu_{1j}^{k+1}+cu_{2j}^{k+1}=d_1, \n",
        "   \\\\\n",
        "   au_{i-1j}^{k+1}+bu_{ij}^{k+1}+cu_{i+1j}^{k+1}=d, ~~~i=2\\dots N-2,\n",
        "   \\\\\n",
        "   au_{N-2j}^{k+1}+bu_{N-1j}^{k+1}=d_{N-1},\n",
        " \\end{cases}\n",
        "\\end{equation*}$\n",
        "\n",
        "$a=c=-a\\tau h_x^2$\n",
        "\n",
        "$b_j=2h_x^2h_y^2 + 2a\\tau h_x^2$\n",
        "\n",
        "$d = a\\tau h_y^2 u_{i-1j}^{k+1/2}+(2h_x^2h_y^2 - 2a\\tau h_y^2)u_{ij}^{k+1/2}+a\\tau h_y^2u_{i+1j}^{k+1/2}$\n",
        "\n",
        "$d_1=d - au_{i0}^{k+1}$\n",
        "\n",
        "$d_{N-1}=d - cu_{iN}^{k+1}$\n",
        "\n",
        "Системы будем решать методом прогонки"
      ]
    },
    {
      "cell_type": "code",
      "execution_count": null,
      "metadata": {
        "id": "zcZe_03OARCw"
      },
      "outputs": [],
      "source": [
        "def fractional_steps_method(\n",
        "    x_range, # (x_begin, x_end)\n",
        "    y_range, # (y_begin, y_end)\n",
        "    t_range, # (t_begin, t_end)\n",
        "    h_x, # len of cell by x\n",
        "    h_y, # len of cell by y\n",
        "    tau, # len of cell by t\n",
        "    a=a, # coefficient a\n",
        "    mu1=mu1, # coefficient mu1\n",
        "    mu2=mu2, # coefficient mu2\n",
        "    phi_0=phi_0, # boundary condition 0\n",
        "    phi_1=phi_1, # boundary condition 1\n",
        "    phi_2=phi_2, # boundary condition 2\n",
        "    phi_3=phi_3, # boundary condition 3\n",
        "    psi=psi, # initial condition\n",
        "):\n",
        "    \"\"\"\n",
        "    Solves 2D parabolic DE using fractional steps method.\n",
        "    Returns tensor U with values of function\n",
        "    \"\"\"\n",
        "    x = np.arange(*x_range, h_x)\n",
        "    y = np.arange(*y_range, h_y)\n",
        "    t = np.arange(*t_range, tau)\n",
        "    res = np.zeros((len(t), len(x), len(y)))\n",
        "\n",
        "    # initial condition\n",
        "    for x_id in range(len(x)):\n",
        "        for y_id in range(len(y)):\n",
        "            res[0][x_id][y_id] = psi(x[x_id], y[y_id], mu1, mu2)\n",
        "    \n",
        "    for t_id in range(1, len(t)):\n",
        "        U_halftime = np.zeros((len(x), len(y)))\n",
        "        \n",
        "        # boundary conditions\n",
        "        for x_id in range(len(x)):\n",
        "            res[t_id][x_id][0] = phi_2(x[x_id], t[t_id], a, mu1, mu2)\n",
        "            res[t_id][x_id][-1] = phi_3(x[x_id], t[t_id], a, mu1, mu2)\n",
        "            U_halftime[x_id][0] = phi_2(x[x_id], t[t_id] - tau/2, a, mu1, mu2)\n",
        "            U_halftime[x_id][-1] = phi_3(x[x_id], t[t_id] - tau/2, a, mu1, mu2)\n",
        "        \n",
        "        for y_id in range(len(y)):\n",
        "            res[t_id][0][y_id] = phi_0(y[y_id], t[t_id], a, mu1, mu2)\n",
        "            res[t_id][-1][y_id] = phi_1(y[y_id], t[t_id], a, mu1, mu2)\n",
        "            U_halftime[0][y_id] = phi_0(y[y_id], t[t_id] - tau/2, a, mu1, mu2)\n",
        "            U_halftime[-1][y_id] = phi_1(y[y_id], t[t_id] - tau/2, a, mu1, mu2)\n",
        "        \n",
        "        # solving sytem 1\n",
        "        for y_id in range(1, len(y)-1):\n",
        "            A = np.zeros((len(x)-2, len(x)-2))\n",
        "            b = np.zeros((len(x)-2))\n",
        "\n",
        "            A[0][0] = h_x**2 + 2 * a * tau\n",
        "            A[0][1] = -a * tau\n",
        "            for i in range(1, len(A) - 1):\n",
        "                A[i][i-1] = -a * tau\n",
        "                A[i][i] = h_x**2 + 2 * a * tau\n",
        "                A[i][i+1] = -a * tau\n",
        "            A[-1][-2] = -a * tau\n",
        "            A[-1][-1] = h_x**2 + 2 * a * tau\n",
        "\n",
        "            for x_id in range(1, len(x)-1):\n",
        "                b[x_id-1] = res[t_id-1][x_id][y_id] * h_x**2\n",
        "            b[0] -= (-a * tau) * phi_0(y[y_id], t[t_id] - tau/2, a, mu1, mu2)\n",
        "            b[-1] -= (-a * tau) * phi_1(y[y_id], t[t_id] - tau/2, a, mu1, mu2)\n",
        "            U_halftime[1:-1, y_id] = np.array(tridiagonal_solve(A, b))\n",
        "        \n",
        "        # solving system 2\n",
        "        for x_id in range(1, len(x)-1):\n",
        "            A = np.zeros((len(y)-2, len(y)-2))\n",
        "            b = np.zeros((len(y)-2))\n",
        "\n",
        "            A[0][0] = h_y**2 + 2 * a * tau\n",
        "            A[0][1] = -a * tau\n",
        "            for i in range(1, len(A) - 1):\n",
        "                A[i][i-1] = -a * tau\n",
        "                A[i][i] = h_y**2 + 2 * a * tau\n",
        "                A[i][i+1] = -a * tau\n",
        "            A[-1][-2] = -a * tau\n",
        "            A[-1][-1] = h_y**2 + 2 * a * tau\n",
        "\n",
        "            for y_id in range(1, len(y)-1):\n",
        "                b[y_id-1] = U_halftime[x_id][y_id] * h_y**2\n",
        "            b[0] -= (-a * tau) * phi_2(x[x_id], t[t_id], a, mu1, mu2)\n",
        "            b[-1] -= (-a * tau) * phi_3(x[x_id], t[t_id], a, mu1, mu2)\n",
        "            res[t_id][x_id][1:-1] = tridiagonal_solve(A, b)\n",
        "    return res"
      ]
    },
    {
      "cell_type": "code",
      "execution_count": null,
      "metadata": {
        "id": "9_wi6MFQARE-"
      },
      "outputs": [],
      "source": [
        "fractional_steps_solution = fractional_steps_method(\n",
        "    x_range=(x_begin, x_end),\n",
        "    y_range=(y_begin, y_end),\n",
        "    t_range=(t_begin, t_end),\n",
        "    h_x=h_x,\n",
        "    h_y=h_y,\n",
        "    tau=tau,\n",
        ")"
      ]
    },
    {
      "cell_type": "code",
      "execution_count": null,
      "metadata": {
        "id": "L-TTFj4eDHBD"
      },
      "outputs": [],
      "source": [
        "solutions[\"fractional steps method\"] = fractional_steps_solution"
      ]
    },
    {
      "cell_type": "markdown",
      "metadata": {
        "id": "sGKnoxnoDL7k"
      },
      "source": [
        "Погрешность в сравнении с аналитическим решением:"
      ]
    },
    {
      "cell_type": "code",
      "execution_count": null,
      "metadata": {
        "colab": {
          "base_uri": "https://localhost:8080/"
        },
        "id": "9ksGe8sWDMrx",
        "outputId": "40769bd8-d926-47a4-89a1-8ea8c0d3def1"
      },
      "outputs": [
        {
          "name": "stdout",
          "output_type": "stream",
          "text": [
            "max abs error = 0.0005720693203771221\n",
            "mean abs error = 0.00015532941532803743\n"
          ]
        }
      ],
      "source": [
        "print(f'max abs error = {max_abs_error(fractional_steps_solution, analytical_solution)}')\n",
        "print(f'mean abs error = {mean_abs_error(fractional_steps_solution, analytical_solution)}')"
      ]
    },
    {
      "cell_type": "markdown",
      "metadata": {
        "id": "p1gokpGSGWvW"
      },
      "source": [
        "Этот метод абсолютно устойчив"
      ]
    },
    {
      "cell_type": "markdown",
      "metadata": {
        "id": "m-2myg2FGB08"
      },
      "source": [
        "## Визуализация\n",
        "\n",
        "Посмотрим на полученные решения в заданный момент времени при заданной координате y"
      ]
    },
    {
      "cell_type": "code",
      "execution_count": null,
      "metadata": {
        "colab": {
          "base_uri": "https://localhost:8080/",
          "height": 537
        },
        "id": "VTP1ut5Kt6zg",
        "outputId": "8539d8ca-3079-4658-a6c2-970b1a7f81a0"
      },
      "outputs": [
        {
          "data": {
            "image/png": "[encoded data removed]",
            "text/plain": [
              "<Figure size 1080x648 with 1 Axes>"
            ]
          },
          "metadata": {
            "needs_background": "light"
          },
          "output_type": "display_data"
        }
      ],
      "source": [
        "plot_results(\n",
        "    solutions=solutions,\n",
        "    cur_time=0.5,\n",
        "    cur_y=0.5,\n",
        "    x_range=(x_begin, x_end),\n",
        "    y_range=(y_begin, y_end),\n",
        "    t_range=(t_begin, t_end),\n",
        "    h_x=h_x,\n",
        "    h_y=h_y,\n",
        "    tau=tau\n",
        ")"
      ]
    },
    {
      "cell_type": "markdown",
      "metadata": {
        "id": "PszMwI3LGMFL"
      },
      "source": [
        "Посмотрим, как меняется погрешность с течением времени"
      ]
    },
    {
      "cell_type": "code",
      "execution_count": null,
      "metadata": {
        "colab": {
          "base_uri": "https://localhost:8080/",
          "height": 555
        },
        "id": "I2pVx1wPxbSE",
        "outputId": "d7ff474c-a731-4e93-e866-abe682da3f0b"
      },
      "outputs": [
        {
          "data": {
            "image/png": "[encoded data removed]",
            "text/plain": [
              "<Figure size 1080x648 with 1 Axes>"
            ]
          },
          "metadata": {
            "needs_background": "light"
          },
          "output_type": "display_data"
        }
      ],
      "source": [
        "plot_errors_from_time(\n",
        "    solutions=solutions,\n",
        "    analytical_solution_name=\"analytical solution\",\n",
        "    t_range=(t_begin, t_end),\n",
        "    tau=tau,\n",
        ")"
      ]
    },
    {
      "attachments": {},
      "cell_type": "markdown",
      "metadata": {
        "id": "M8bjRn9hGcg9"
      },
      "source": [
        "### Вывод\n",
        "\n",
        "В данной лабораторной работе я научилась решать двумерные начально-краевые задачи параболического типа.\n",
        "\n",
        "Для решения я использовала два метода:\n",
        "* метод переменных направлений\n",
        "* метод дробных шагов\n",
        "\n",
        "С помощью каждого метода мне удалось получить результат с хорошей точностью."
      ]
    },
    {
      "cell_type": "code",
      "execution_count": null,
      "metadata": {
        "id": "hOqYseKLH5af"
      },
      "outputs": [],
      "source": []
    }
  ],
  "metadata": {
    "colab": {
      "provenance": []
    },
    "kernelspec": {
      "display_name": "Python 3",
      "name": "python3"
    },
    "language_info": {
      "name": "python"
    }
  },
  "nbformat": 4,
  "nbformat_minor": 0
}
