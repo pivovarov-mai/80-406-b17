{
  "cells": [
    {
      "attachments": {},
      "cell_type": "markdown",
      "metadata": {
        "id": "IEqOTrsuBroH"
      },
      "source": [
        "# Лабораторная работа 7\n",
        "## Краевые задачи для дифференциального уравнения эллиптического типа\n",
        "\n",
        "Айрапетова Е. А.\n",
        "\n",
        "М8О-406Б-19"
      ]
    },
    {
      "cell_type": "markdown",
      "metadata": {
        "id": "UHlJPhswBzvm"
      },
      "source": [
        "### Задание\n",
        "Решить краевую задачу для дифференциального уравнения эллиптического типа. Аппроксимацию уравнения произвести с использованием центрально-разностной схемы. Для решения дискретного аналога применить следующие методы: метод простых итераций (метод Либмана), метод Зейделя, метод простых итераций с верхней релаксацией. Вычислить погрешность численного решения путем сравнения результатов с приведенным в задании аналитическим решением $U(x, y)$.\n",
        "\n",
        "Вариант 1.\n",
        "\n",
        "$\\large\\frac{\\partial^2 u}{\\partial x^2} + \\frac{\\partial^2 u}{\\partial y^2} = 0$\n",
        "\n",
        "$u(0, y) = y$\n",
        "\n",
        "$u(1, y) = 1 + y$\n",
        "\n",
        "$u(x, 0) = x$\n",
        "\n",
        "$u(x, 1) = 1 + x$\n",
        "\n",
        "Аналитическое решение: $U(x, y) = x + y$"
      ]
    },
    {
      "cell_type": "code",
      "execution_count": null,
      "metadata": {
        "id": "i1rG8pIBBLxa"
      },
      "outputs": [],
      "source": [
        "import math\n",
        "import numpy as np\n",
        "import matplotlib.pyplot as plt"
      ]
    },
    {
      "cell_type": "code",
      "execution_count": null,
      "metadata": {
        "id": "F4xebxlABtwK"
      },
      "outputs": [],
      "source": [
        "x_begin = 0\n",
        "x_end = 1.05\n",
        "\n",
        "y_begin = 0\n",
        "y_end = 1.05\n",
        "\n",
        "h_x = 0.05\n",
        "h_y = 0.05"
      ]
    },
    {
      "cell_type": "markdown",
      "metadata": {
        "id": "lnW5Y_yXDRSh"
      },
      "source": [
        "Начальные условия:"
      ]
    },
    {
      "cell_type": "code",
      "execution_count": null,
      "metadata": {
        "id": "yjtIrwlcDQ6M"
      },
      "outputs": [],
      "source": [
        "# boundary conditions by x\n",
        "def phi_0(y):\n",
        "    return y\n",
        "\n",
        "def phi_1(y):\n",
        "    return 1 + y\n",
        "\n",
        "# boundary conditions by y\n",
        "def psi_0(x):\n",
        "    return x\n",
        "\n",
        "def psi_1(x):\n",
        "    return 1 + x\n",
        "\n",
        "# analytical solution\n",
        "def solution(x, y):\n",
        "    return x + y"
      ]
    },
    {
      "cell_type": "markdown",
      "metadata": {
        "id": "dnNH3lwKEFol"
      },
      "source": [
        "## Аналитическое решение\n",
        "\n",
        "Подготовим ответ, полученный аналитическим способом. С ним будем сравнивать численные методы"
      ]
    },
    {
      "cell_type": "code",
      "execution_count": null,
      "metadata": {
        "id": "PI2RNXzeEDZk"
      },
      "outputs": [],
      "source": [
        "def get_analytical_solution(\n",
        "    x_range, # (x_begin, x_end)\n",
        "    y_range, # (y_begin, y_end)\n",
        "    h_x, # len of cell by x\n",
        "    h_y, # len of cell by y\n",
        "):\n",
        "    \"\"\"\n",
        "    Get analytical solution of elliptical DE\n",
        "    Returns matrix U with values of function\n",
        "    \"\"\"\n",
        "    x = np.arange(*x_range, h_x)\n",
        "    y = np.arange(*y_range, h_y)\n",
        "\n",
        "    res = np.zeros((len(x), len(y)))\n",
        "    for idx in range(len(x)):\n",
        "        for idy in range(len(y)):\n",
        "            res[idx][idy] = solution(x[idx], y[idy])\n",
        "    \n",
        "    return res"
      ]
    },
    {
      "cell_type": "code",
      "execution_count": null,
      "metadata": {
        "id": "HHnIW4WvLtrA"
      },
      "outputs": [],
      "source": [
        "analytical_solution = get_analytical_solution(\n",
        "    x_range=(x_begin, x_end),\n",
        "    y_range=(y_begin, y_end),\n",
        "    h_x=h_x,\n",
        "    h_y=h_y,\n",
        ")"
      ]
    },
    {
      "cell_type": "markdown",
      "metadata": {
        "id": "lU2Zb1jlL22s"
      },
      "source": [
        "Будем складывать все решения в словарь, чтобы потом удобнее было строить графики"
      ]
    },
    {
      "cell_type": "code",
      "execution_count": null,
      "metadata": {
        "id": "Iu3BhewjL0xP"
      },
      "outputs": [],
      "source": [
        "solutions = dict()\n",
        "solutions[\"analytical solution\"] = analytical_solution"
      ]
    },
    {
      "cell_type": "markdown",
      "metadata": {
        "id": "A-M6ZsNSM-w9"
      },
      "source": [
        "Функция для вычисления погрешности - максимального модуля ошибки"
      ]
    },
    {
      "cell_type": "code",
      "execution_count": null,
      "metadata": {
        "id": "tE00AZ9lL4U-"
      },
      "outputs": [],
      "source": [
        "def max_abs_error(A, B):\n",
        "    \"\"\"\n",
        "    Calculate max absolute error of elements of matrices A and B\n",
        "    \"\"\"\n",
        "    assert A.shape == B.shape\n",
        "    return abs(A - B).max()"
      ]
    },
    {
      "cell_type": "markdown",
      "metadata": {
        "id": "w55-W99VNBLe"
      },
      "source": [
        "И среднего модуля ошибки:"
      ]
    },
    {
      "cell_type": "code",
      "execution_count": null,
      "metadata": {
        "id": "DDTjIJ5OM_1Y"
      },
      "outputs": [],
      "source": [
        "def mean_abs_error(A, B):\n",
        "    \"\"\"\n",
        "    Calculate mean absolute error of elements of matrices A and B\n",
        "    \"\"\"\n",
        "    assert A.shape == B.shape\n",
        "    return abs(A - B).mean()"
      ]
    },
    {
      "cell_type": "markdown",
      "metadata": {
        "id": "1QhsPfr3KIRH"
      },
      "source": [
        "L2 норма (понадобится при решении уравнений)"
      ]
    },
    {
      "cell_type": "code",
      "execution_count": null,
      "metadata": {
        "id": "oJVOQqjLKHwO"
      },
      "outputs": [],
      "source": [
        "def L2_norm(X):\n",
        "    \"\"\"\n",
        "    Count ||X||_2\n",
        "    \"\"\"\n",
        "    n = X.shape[0]\n",
        "    l2_norm = 0\n",
        "    for i in range(n):\n",
        "        l2_norm += X[i] * X[i]\n",
        "    return math.sqrt(l2_norm)"
      ]
    },
    {
      "cell_type": "markdown",
      "metadata": {
        "id": "2RjdqDKLNERH"
      },
      "source": [
        "Функция для построения результата - функций U(x), полученных разыми методами, при заданном параметре y."
      ]
    },
    {
      "cell_type": "code",
      "execution_count": null,
      "metadata": {
        "id": "OEIbHik0NCbv"
      },
      "outputs": [],
      "source": [
        "def plot_results(\n",
        "    solutions, # dict: solutions[method name] = solution\n",
        "    cur_y, # coord by y\n",
        "    x_range, # (x_begin, x_end)\n",
        "    y_range, # (y_begin, y_end)\n",
        "    h_x, # len of cell by x\n",
        "    h_y, # len of cell by y\n",
        "):\n",
        "    x = np.arange(*x_range, h_x)\n",
        "    y = np.arange(*y_range, h_y)\n",
        "    cur_y_id = abs(y - cur_y).argmin()\n",
        "\n",
        "    plt.figure(figsize=(15, 9))\n",
        "    for method_name, solution in solutions.items():\n",
        "        plt.plot(x, solution[:, cur_y_id], label=method_name)\n",
        "\n",
        "    plt.legend()\n",
        "    plt.grid()\n",
        "    plt.show()"
      ]
    },
    {
      "cell_type": "markdown",
      "metadata": {
        "id": "et_rFbZaNdIQ"
      },
      "source": [
        "Зависимость погрешности от координаты y"
      ]
    },
    {
      "cell_type": "code",
      "execution_count": null,
      "metadata": {
        "id": "TBI62PlCNaws"
      },
      "outputs": [],
      "source": [
        "def plot_errors_from_y(\n",
        "    solutions, # dict: solutions[method name] = solution\n",
        "    analytical_solution_name, # for comparing\n",
        "    y_range, # (y_begin, y_end)\n",
        "    h_y, # len of cell by y\n",
        "):\n",
        "    \"\"\"\n",
        "    Plot max_abs_error = f(y)\n",
        "    \"\"\"\n",
        "    y = np.arange(*y_range, h_y)\n",
        "\n",
        "    plt.figure(figsize=(15, 9))\n",
        "    for method_name, solution in solutions.items():\n",
        "        if method_name == analytical_solution_name:\n",
        "            continue\n",
        "        max_abs_errors = np.array([\n",
        "            max_abs_error(solution[:, i], solutions[analytical_solution_name][:, i])\n",
        "            for i in range(len(y))\n",
        "        ])\n",
        "        plt.plot(y, max_abs_errors, label=method_name)\n",
        "\n",
        "    plt.xlabel('y')\n",
        "    plt.ylabel('Max abs error')\n",
        "\n",
        "    plt.legend()\n",
        "    plt.grid()\n",
        "    plt.show()"
      ]
    },
    {
      "cell_type": "markdown",
      "metadata": {
        "id": "JCYF6F7sOJiL"
      },
      "source": [
        "### Конечно-разностная схема\n",
        "\n",
        "В исходном уравнении перейдем от производных к их численным приближениям. \n",
        "Получим соотношение:\n",
        "\n",
        "$\\large u_{i,j} - (u_{i,j+1} + u_{i, j-1}) \\frac{h_x^2}{2(h_x^2+h_y^2)} - (u_{i+1, j} + u_{i-1, j}) \\frac{h_y^2}{2(h_x^2+h_y^2)} = 0$\n",
        "\n",
        "Записав такое соотношение для всех i, j, получим систему уравнений. Решить ее можно итерационными способами.\n"
      ]
    },
    {
      "cell_type": "code",
      "execution_count": null,
      "metadata": {
        "id": "zipZA3TYOBB7"
      },
      "outputs": [],
      "source": [
        "def finite_difference_schema(\n",
        "    x_range, # (x_begin, x_end)\n",
        "    y_range, # (y_begin, y_end)\n",
        "    h_x, # len of cell by x\n",
        "    h_y, # len of cell by y\n",
        "    method, # method for solving system of equations\n",
        "    phi_0=phi_0, # boundary condition 0 by x\n",
        "    phi_1=phi_1, # boundary condition 1 by x\n",
        "    psi_0=psi_0, # boundary condition 0 by y\n",
        "    psi_1=psi_1, # boundary condition 1 by y\n",
        "    eps=1e-7, # epsilon for solving system of equations\n",
        "):\n",
        "    \"\"\"\n",
        "    Solves elliptical DE using finite difference schema and one of numerical methods for system of equations.\n",
        "    Returns matrix U with values of function\n",
        "    \"\"\"\n",
        "\n",
        "    x = np.arange(*x_range, h_x)\n",
        "    y = np.arange(*y_range, h_y)\n",
        "\n",
        "    # Step 1. Initialise grid with border conditions\n",
        "    res = np.zeros((len(x), len(y)))\n",
        "\n",
        "    # rows 0, n -> use initial conditions by y\n",
        "    for cur_x_id in range(len(x)):\n",
        "        res[cur_x_id][0] = psi_0(x[cur_x_id])\n",
        "        res[cur_x_id][-1] = psi_1(x[cur_x_id])\n",
        "    \n",
        "    # cols 0, n -> use initial conditions by x\n",
        "    for cur_y_id in range(len(y)):\n",
        "        res[0][cur_y_id] = phi_0(y[cur_y_id])\n",
        "        res[-1][cur_y_id] = phi_1(y[cur_y_id])\n",
        "\n",
        "    # Step 2. Create system of equations\n",
        "    mapping = np.zeros((len(x), len(y)), dtype='int') # mapping[i][j] = id of equation with u_{i,j} = 1\n",
        "    cur_eq_id = 0\n",
        "    for cur_x_id in range(1, len(x)-1):\n",
        "        for cur_y_id in range(1, len(y)-1):\n",
        "            mapping[cur_x_id][cur_y_id] = cur_eq_id\n",
        "            cur_eq_id += 1\n",
        "    \n",
        "    nums_of_equations = (len(x) - 2) * (len(y) - 2)\n",
        "    A = np.zeros((nums_of_equations, nums_of_equations))\n",
        "    b = np.zeros((nums_of_equations))\n",
        "    for cur_x_id in range(1, len(x) - 1):\n",
        "        for cur_y_id in range(1, len(y) - 1):\n",
        "            cur_eq_id = mapping[cur_x_id][cur_y_id]\n",
        "\n",
        "            A[cur_eq_id][mapping[cur_x_id][cur_y_id]] = 1 # u_{i, j}\n",
        "\n",
        "            if cur_y_id-1 == 0:\n",
        "                # u_{i, j-1} is already known from border conditions -> move the result to b\n",
        "                b[cur_eq_id] += psi_0(x[cur_x_id]) * h_x**2 / (2 * (h_x**2 + h_y**2))\n",
        "            else:\n",
        "                A[cur_eq_id][mapping[cur_x_id][cur_y_id-1]] = -h_x**2 / (2 * (h_x**2 + h_y**2)) # u_{i, j-1}\n",
        "            \n",
        "            if cur_y_id+1 == len(y) - 1:\n",
        "                # u_{i, j+1} is already known from border conditions -> move the result to b\n",
        "                b[cur_eq_id] += psi_1(x[cur_x_id]) * h_x**2 / (2 * (h_x**2 + h_y**2))\n",
        "            else:\n",
        "                A[cur_eq_id][mapping[cur_x_id][cur_y_id+1]] = -h_x**2 / (2 * (h_x**2 + h_y**2)) # u_{i, j+1}\n",
        "            \n",
        "            if cur_x_id-1 == 0:\n",
        "                # u_{i-1, j} is already known from border conditions -> move the result to b\n",
        "                b[cur_eq_id] += phi_0(y[cur_y_id]) * h_y**2 / (2 * (h_x**2 + h_y**2))\n",
        "            else:\n",
        "                A[cur_eq_id][mapping[cur_x_id-1][cur_y_id]] = -h_y**2 / (2 * (h_x**2 + h_y**2)) # u_{i-1, j}\n",
        "            \n",
        "            if cur_x_id+1 == len(x) - 1:\n",
        "                # u_{i+1, j} is already known from border conditions -> move the result to b\n",
        "                b[cur_eq_id] += phi_1(y[cur_y_id]) * h_y**2 / (2 * (h_x**2 + h_y**2))\n",
        "            else:\n",
        "                A[cur_eq_id][mapping[cur_x_id+1][cur_y_id]] = -h_y**2 / (2 * (h_x**2 + h_y**2)) # u_{i+1, j}\n",
        "    \n",
        "    # Step 3. Solve system of equations\n",
        "    ans, iters = method(A, b, eps)\n",
        "    for cur_x_id in range(1, len(x) - 1):\n",
        "        for cur_y_id in range(1, len(y) - 1):\n",
        "            res[cur_x_id][cur_y_id] = ans[mapping[cur_x_id][cur_y_id]]\n",
        "\n",
        "    return res, iters"
      ]
    },
    {
      "cell_type": "markdown",
      "metadata": {
        "id": "f3M2jnFx68nj"
      },
      "source": [
        "### Метод простых итераций для решения СЛАУ\n",
        "Взято с лабы 1.3"
      ]
    },
    {
      "cell_type": "code",
      "execution_count": null,
      "metadata": {
        "id": "LAo9142XZ3eE"
      },
      "outputs": [],
      "source": [
        "def iterative(A, b, eps):\n",
        "    \"\"\"\n",
        "    Uses iterative method to solve Ax=b\n",
        "    Returns x and number of iterations\n",
        "    \"\"\"\n",
        "    n = A.shape[0]\n",
        "\n",
        "    # Step 1. Ax=b -> x = alpha * x + beta\n",
        "    alpha = np.zeros_like(A, dtype='float')\n",
        "    beta = np.zeros_like(b, dtype='float')\n",
        "    for i in range(n):\n",
        "        for j in range(n):\n",
        "            if i == j:\n",
        "                alpha[i][j] = 0\n",
        "            else:\n",
        "                alpha[i][j] = -A[i][j] / A[i][i]\n",
        "\n",
        "        beta[i] = b[i] / A[i][i]\n",
        "\n",
        "    # Step 2. Iterating\n",
        "    iterations = 0\n",
        "    cur_x = np.copy(beta)\n",
        "    converge = False\n",
        "    while not converge:\n",
        "        prev_x = np.copy(cur_x)\n",
        "        cur_x = alpha @ prev_x + beta\n",
        "        iterations += 1\n",
        "        converge = L2_norm(prev_x - cur_x) <= eps\n",
        "    return cur_x, iterations"
      ]
    },
    {
      "cell_type": "markdown",
      "metadata": {
        "id": "JvQUrvh57NBY"
      },
      "source": [
        "Решим систему из конечно-разностной схемы с помощью метода простых итераций"
      ]
    },
    {
      "cell_type": "code",
      "execution_count": null,
      "metadata": {
        "id": "2ICNH0Bo7TnU"
      },
      "outputs": [],
      "source": [
        "iterative_solution, iterative_iters = finite_difference_schema(\n",
        "    x_range=(x_begin, x_end),\n",
        "    y_range=(y_begin, y_end),\n",
        "    h_x=h_x,\n",
        "    h_y=h_y,\n",
        "    method=iterative,\n",
        "    eps=1e-7,\n",
        ")"
      ]
    },
    {
      "cell_type": "code",
      "execution_count": null,
      "metadata": {
        "id": "9CfU0v_L-VJY"
      },
      "outputs": [],
      "source": [
        "solutions[\"iterative solution\"] = iterative_solution"
      ]
    },
    {
      "cell_type": "code",
      "execution_count": null,
      "metadata": {
        "colab": {
          "base_uri": "https://localhost:8080/"
        },
        "id": "NijK8Wiv7dBC",
        "outputId": "00b7bf16-ddcb-4232-ed8d-aa51df34b545"
      },
      "outputs": [
        {
          "name": "stdout",
          "output_type": "stream",
          "text": [
            "max abs error = 7.991032178189528e-07\n",
            "mean abs error = 2.925360055610478e-07\n",
            "iterations = 1171\n"
          ]
        }
      ],
      "source": [
        "print(f'max abs error = {max_abs_error(iterative_solution, analytical_solution)}')\n",
        "print(f'mean abs error = {mean_abs_error(iterative_solution, analytical_solution)}')\n",
        "\n",
        "print(f'iterations = {iterative_iters}')"
      ]
    },
    {
      "cell_type": "markdown",
      "metadata": {
        "id": "ZPDK6ZIx7HwZ"
      },
      "source": [
        "### Метод Зейделя для решения СЛАУ\n",
        "Взято с лабы 1.3"
      ]
    },
    {
      "cell_type": "code",
      "execution_count": null,
      "metadata": {
        "id": "xjzRuVbfOFdm"
      },
      "outputs": [],
      "source": [
        "def seidel_multiplication(alpha, x, beta):\n",
        "    \"\"\"\n",
        "    Count alhpa * x + beta for seidel method\n",
        "    \"\"\"\n",
        "    res = np.copy(x)\n",
        "    for i in range(alpha.shape[0]):\n",
        "        res[i] = beta[i]\n",
        "        for j in range(alpha.shape[1]):\n",
        "            res[i] += alpha[i][j] * res[j]\n",
        "    return res\n",
        "\n",
        "\n",
        "def seidel(A, b, eps):\n",
        "    \"\"\"\n",
        "    Uses Seidel method to solve Ax=b\n",
        "    Returns x and number of iterations\n",
        "    \"\"\"\n",
        "    n = A.shape[0]\n",
        "\n",
        "    # Step 1. Ax=b -> x = alpha * x + beta\n",
        "    alpha = np.zeros_like(A, dtype='float')\n",
        "    beta = np.zeros_like(b, dtype='float')\n",
        "    for i in range(n):\n",
        "        for j in range(n):\n",
        "            if i == j:\n",
        "                alpha[i][j] = 0\n",
        "            else:\n",
        "                alpha[i][j] = -A[i][j] / A[i][i]\n",
        "\n",
        "        beta[i] = b[i] / A[i][i]\n",
        "\n",
        "    # Step 2. Iterating\n",
        "    iterations = 0\n",
        "    cur_x = np.copy(beta)\n",
        "    converge = False\n",
        "    while not converge:\n",
        "        prev_x = np.copy(cur_x)\n",
        "        cur_x = seidel_multiplication(alpha, prev_x, beta)\n",
        "        iterations += 1\n",
        "        converge = L2_norm(prev_x - cur_x) <= eps\n",
        "    return cur_x, iterations\n"
      ]
    },
    {
      "cell_type": "markdown",
      "metadata": {
        "id": "tXQ8tocv9zZM"
      },
      "source": [
        "Решим систему из конечно-разностной схемы с помощью метода Зейделя"
      ]
    },
    {
      "cell_type": "code",
      "execution_count": null,
      "metadata": {
        "id": "LmMCzoCFKoU1"
      },
      "outputs": [],
      "source": [
        "seidel_solution, seidel_iters = finite_difference_schema(\n",
        "    x_range=(x_begin, x_end),\n",
        "    y_range=(y_begin, y_end),\n",
        "    h_x=h_x,\n",
        "    h_y=h_y,\n",
        "    method=seidel,\n",
        "    eps=1e-7,\n",
        ")"
      ]
    },
    {
      "cell_type": "code",
      "execution_count": null,
      "metadata": {
        "id": "b-VOC_JW-Y_7"
      },
      "outputs": [],
      "source": [
        "solutions[\"seidel solution\"] = seidel_solution"
      ]
    },
    {
      "cell_type": "code",
      "execution_count": null,
      "metadata": {
        "colab": {
          "base_uri": "https://localhost:8080/"
        },
        "id": "vuBkH-dX14xx",
        "outputId": "560d8f10-8540-4d15-a356-8ef7c912d4ed"
      },
      "outputs": [
        {
          "name": "stdout",
          "output_type": "stream",
          "text": [
            "max abs error = 3.9464804979516543e-07\n",
            "mean abs error = 1.448952778319784e-07\n",
            "iterations = 617\n"
          ]
        }
      ],
      "source": [
        "print(f'max abs error = {max_abs_error(seidel_solution, analytical_solution)}')\n",
        "print(f'mean abs error = {mean_abs_error(seidel_solution, analytical_solution)}')\n",
        "\n",
        "print(f'iterations = {seidel_iters}')"
      ]
    },
    {
      "cell_type": "markdown",
      "metadata": {
        "id": "9lLbo3G9-Gqt"
      },
      "source": [
        "С помощью метода Зейделя мы получили решение за меньшее количество итераций (примерно в 2 раза меньше)"
      ]
    },
    {
      "cell_type": "markdown",
      "metadata": {
        "id": "tJwSS3oZ-dhs"
      },
      "source": [
        "### Метод верхних релаксаций для решения СЛАУ\n",
        "\n",
        "Реализуем метод верхних релаксаций для решения системы уравнений. По сути этот метод является модификацией метода Зейделя.\n",
        "\n",
        "Новое значение неизвестных расчитывается как среднее взвешенное значений на текущей и прошлой итерации.\n",
        "\n",
        "Это может обеспечить более быструю сходимость\n"
      ]
    },
    {
      "cell_type": "code",
      "execution_count": null,
      "metadata": {
        "id": "i_vrovsX-BRr"
      },
      "outputs": [],
      "source": [
        "def relaxation(A, b, eps, w=1.5):\n",
        "    \"\"\"\n",
        "    Uses relaxation method to solve Ax=b\n",
        "    Returns x and number of iterations\n",
        "    \"\"\"\n",
        "    n = A.shape[0]\n",
        "\n",
        "    # Step 1. Ax=b -> x = alpha * x + beta\n",
        "    alpha = np.zeros_like(A, dtype='float')\n",
        "    beta = np.zeros_like(b, dtype='float')\n",
        "    for i in range(n):\n",
        "        for j in range(n):\n",
        "            if i == j:\n",
        "                alpha[i][j] = 0\n",
        "            else:\n",
        "                alpha[i][j] = -A[i][j] / A[i][i]\n",
        "\n",
        "        beta[i] = b[i] / A[i][i]\n",
        "\n",
        "    # Step 2. Iterating\n",
        "    iterations = 0\n",
        "    cur_x = np.copy(beta)\n",
        "    converge = False\n",
        "    while not converge:\n",
        "        prev_x = np.copy(cur_x)\n",
        "        cur_x = seidel_multiplication(alpha, prev_x, beta)\n",
        "        cur_x = w * cur_x + (1-w) * prev_x\n",
        "        iterations += 1\n",
        "        converge = L2_norm(prev_x - cur_x) <= eps\n",
        "    return cur_x, iterations"
      ]
    },
    {
      "cell_type": "markdown",
      "metadata": {
        "id": "sobXGnqZA0w8"
      },
      "source": [
        "Решим систему из конечно-разностной схемы с помощью метода верхних релаксаций"
      ]
    },
    {
      "cell_type": "code",
      "execution_count": null,
      "metadata": {
        "id": "GsQQQVhM-fuw"
      },
      "outputs": [],
      "source": [
        "relaxation_solution, relaxation_iters = finite_difference_schema(\n",
        "    x_range=(x_begin, x_end),\n",
        "    y_range=(y_begin, y_end),\n",
        "    h_x=h_x,\n",
        "    h_y=h_y,\n",
        "    method=relaxation,\n",
        "    eps=1e-7,\n",
        ")"
      ]
    },
    {
      "cell_type": "code",
      "execution_count": null,
      "metadata": {
        "id": "HYd8Mijs-f5P"
      },
      "outputs": [],
      "source": [
        "solutions[\"relaxation solution\"] = relaxation_solution"
      ]
    },
    {
      "cell_type": "code",
      "execution_count": null,
      "metadata": {
        "colab": {
          "base_uri": "https://localhost:8080/"
        },
        "id": "Le0r2dkoA-4Z",
        "outputId": "9de030a8-26b2-4c06-d336-28c853fe7679"
      },
      "outputs": [
        {
          "name": "stdout",
          "output_type": "stream",
          "text": [
            "max abs error = 2.591992710465618e-07\n",
            "mean abs error = 9.516517408715057e-08\n",
            "iterations = 420\n"
          ]
        }
      ],
      "source": [
        "print(f'max abs error = {max_abs_error(relaxation_solution, analytical_solution)}')\n",
        "print(f'mean abs error = {mean_abs_error(relaxation_solution, analytical_solution)}')\n",
        "\n",
        "print(f'iterations = {relaxation_iters}')"
      ]
    },
    {
      "cell_type": "markdown",
      "metadata": {
        "id": "Ak6GYBG3-gCU"
      },
      "source": [
        "## Визуализация\n",
        "\n",
        "Посмотрим на полученные функции при некотором фиксированном y"
      ]
    },
    {
      "cell_type": "code",
      "execution_count": null,
      "metadata": {
        "colab": {
          "base_uri": "https://localhost:8080/",
          "height": 537
        },
        "id": "o-beYWcz-ht8",
        "outputId": "80dae642-c243-4188-fe2c-8c2266012949"
      },
      "outputs": [
        {
          "data": {
            "image/png": "[encoded data removed]",
            "text/plain": [
              "<Figure size 1080x648 with 1 Axes>"
            ]
          },
          "metadata": {
            "needs_background": "light"
          },
          "output_type": "display_data"
        }
      ],
      "source": [
        "plot_results(\n",
        "    solutions=solutions,\n",
        "    cur_y=0.5,\n",
        "    x_range=(x_begin, x_end),\n",
        "    y_range=(y_begin, y_end),\n",
        "    h_x=h_x,\n",
        "    h_y=h_y,\n",
        ")"
      ]
    },
    {
      "cell_type": "markdown",
      "metadata": {
        "id": "y4oSLXd5-yA-"
      },
      "source": [
        "Посмотрим, как меняется зависимость погрешности при изменении y"
      ]
    },
    {
      "cell_type": "code",
      "execution_count": null,
      "metadata": {
        "colab": {
          "base_uri": "https://localhost:8080/",
          "height": 562
        },
        "id": "j87Wg_3k-ruj",
        "outputId": "f90044fa-d705-4050-b17c-4ea8c9e5c7ee"
      },
      "outputs": [
        {
          "data": {
            "image/png": "[encoded data removed]",
            "text/plain": [
              "<Figure size 1080x648 with 1 Axes>"
            ]
          },
          "metadata": {
            "needs_background": "light"
          },
          "output_type": "display_data"
        }
      ],
      "source": [
        "plot_errors_from_y(\n",
        "    solutions=solutions,\n",
        "    analytical_solution_name=\"analytical solution\",\n",
        "    y_range=(y_begin, y_end),\n",
        "    h_y=h_y,\n",
        ")"
      ]
    },
    {
      "attachments": {},
      "cell_type": "markdown",
      "metadata": {
        "id": "DBO6cS7D_b4Y"
      },
      "source": [
        "## Вывод\n",
        "\n",
        "В данной работе я научилась решать краевые задачи для ДУ эллиптического типа с помощью конечно-разностной схемы.\n",
        "\n",
        "После применения конечно-разностной схемы мы получаем систему уравнений, которую можно решать несколькими методами. Я использовала:\n",
        "* метод простых итераций\n",
        "* метод Зейделя\n",
        "* метод верхних релаксаций\n",
        "\n",
        "С помощью каждого из этих методов я смогла получить решение, отличающееся от аналитического на ~1e-7. Метод релаксаций оказался наиболее точным и потребовал меньшее количество итераций"
      ]
    },
    {
      "cell_type": "code",
      "execution_count": null,
      "metadata": {
        "id": "z3Xsc0-u-6oq"
      },
      "outputs": [],
      "source": []
    }
  ],
  "metadata": {
    "colab": {
      "provenance": []
    },
    "kernelspec": {
      "display_name": "Python 3.9.4 64-bit",
      "language": "python",
      "name": "python3"
    },
    "language_info": {
      "name": "python",
      "version": "3.9.4"
    },
    "vscode": {
      "interpreter": {
        "hash": "dd426dfed99da6cb3eeddada32cbe22393fcbce2a3b224045159bf9f02b27406"
      }
    }
  },
  "nbformat": 4,
  "nbformat_minor": 0
}
