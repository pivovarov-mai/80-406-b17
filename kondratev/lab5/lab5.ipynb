{
  "cells": [
    {
      "cell_type": "markdown",
      "metadata": {
        "id": "1o4cn2fJJ2di"
      },
      "source": [
        "##          Московский авиационный институт\n",
        "###      (Национальный исследовательский университет)\n",
        "####   Институт №8 «Информационные технологии и прикладная математика»\n",
        "####        Кафедра вычислительной математики и программирования\n",
        "\n",
        " \n",
        " \n",
        " \n",
        "\n",
        "\n",
        "\n",
        "\n",
        "\n",
        "\n",
        "\n",
        "\n",
        "            Лабораторная работа № 5\n",
        "            по курсу «Численные методы».\n",
        "            \n",
        "            Тема: «ЧИСЛЕННОЕ РЕШЕНИЕ УРАВНЕНИЙ ПАРАБОЛИЧЕСКОГО ТИПА.\n",
        "            ПОНЯТИЕ О МЕТОДЕ КОНЕЧНЫХ РАЗНОСТЕЙ.\n",
        "            ОСНОВНЫЕ ОПРЕДЕЛЕНИЯ И КОНЕЧНО-РАЗНОСТНЫЕ СХЕМЫ».\n",
        "\n",
        " \n",
        " \n",
        " \n",
        "\n",
        "\n",
        "\n",
        "\n",
        "\n",
        "\n",
        "\n",
        "                                  Студент: Кондратьев Е.А.\n",
        "                                  Группа: 80-406Б\n",
        "                                  Преподаватель: Ревизников Д.Л.\n",
        "                                  Преподаватель: Пивоваров Д.Е.\n",
        "                                  \n",
        "\n",
        " \n",
        "\n",
        "                        Москва, 2022"
      ]
    },
    {
      "cell_type": "markdown",
      "metadata": {
        "id": "9MCmzqxvJ2do"
      },
      "source": [
        "<h1><center>Лабораторная работа №5</center></h1>"
      ]
    },
    {
      "cell_type": "markdown",
      "metadata": {
        "id": "81dafeq4J2dp"
      },
      "source": [
        "***Задание:*** \n",
        "\n",
        "Используя *явную и неявную конечно-разностные схемы*, а также *схему Кранка - Николсона*, решить начально-краевую задачу для дифференциального уравнения параболического типа.\n",
        "Осуществить реализацию трех вариантов аппроксимации граничных условий, содержащих производные: *двухточечная аппроксимация с первым порядком, трехточечная аппроксимация со вторым порядком, двухточечная аппроксимация со вторым порядком.*\n",
        "В различные моменты времени вычислить погрешность численного решения путем сравнения результатов с приведенным в задании аналитическим решением $u(x, t)$. Исследовать зависимость погрешности от сеточных параметров $\\tau$ и $h$."
      ]
    },
    {
      "cell_type": "markdown",
      "metadata": {
        "id": "U1Boybb3J2dq"
      },
      "source": [
        "###Вариант №4"
      ]
    },
    {
      "cell_type": "markdown",
      "metadata": {
        "id": "hTYhm7DCJ2dr"
      },
      "source": [
        "***Инструменты:***"
      ]
    },
    {
      "cell_type": "code",
      "execution_count": 1,
      "metadata": {
        "id": "SIqEUJNsJ2ds"
      },
      "outputs": [],
      "source": [
        "import ipywidgets as widgets\n",
        "from ipywidgets import interact\n",
        "from IPython.display import display\n",
        "import random\n",
        "import matplotlib.pyplot as plt\n",
        "import math\n",
        "import sys\n",
        "import warnings\n",
        "import numpy as np\n",
        "from functools import reduce\n",
        "from mpl_toolkits.mplot3d import Axes3D"
      ]
    },
    {
      "cell_type": "markdown",
      "metadata": {
        "id": "D7jnu1cuJ2dw"
      },
      "source": [
        "***Уравнение:***\n",
        "\n",
        "$$\\displaystyle\\frac{\\partial u}{\\partial t} = \\displaystyle\\frac{\\partial^2 u}{\\partial x^2} + g(x, t),$$ \n",
        "\n",
        "где $g(x, t) = \\frac{1}{2}e^{-\\frac{1}{2}t} \\cos{x}$\n",
        "\n",
        "\n",
        "***Граничные условия:***\n",
        "\n",
        "\\begin{equation*}\n",
        " \\begin{cases}\n",
        "   u_{x}' (0, \\: t) = \\phi_0(t) = e^{-\\frac{1}{2}t}\n",
        "   \\\\\n",
        "   u_{x}' (\\pi, \\: t) = \\phi_l(t) = -e^{-\\frac{1}{2}t}\n",
        "   \\\\\n",
        "   u(x, \\: 0) = \\sin{x}\n",
        " \\end{cases}\n",
        "\\end{equation*}\n",
        "\n",
        "***Аналитическое решение:***\n",
        "$$u(x, t) = e^{-at} \\sin{x}$$\n"
      ]
    },
    {
      "cell_type": "markdown",
      "metadata": {
        "id": "hHVpj2_6J2dy"
      },
      "source": [
        "Задаем наши данные из условия задачи."
      ]
    },
    {
      "cell_type": "code",
      "execution_count": 2,
      "metadata": {
        "id": "eSGZmr0jJ2dy"
      },
      "outputs": [],
      "source": [
        "def phi_0(t):\n",
        "    return math.exp(-0.5*t)\n",
        "\n",
        "def phi_l(t):\n",
        "    return -math.exp(-0.5*t)\n",
        "\n",
        "def u_0(x):\n",
        "    return math.sin(x)\n",
        "\n",
        "# Вместо cos нужно sin, так как ошибка в условии\n",
        "def g(x, t):\n",
        "    return 0.5 * math.exp(-0.5*t) * math.sin(x)\n",
        "\n",
        "def u(x, t):\n",
        "    return math.exp(-0.5*t)*math.sin(x)"
      ]
    },
    {
      "cell_type": "markdown",
      "metadata": {
        "id": "hxvfdhRhJ2dz"
      },
      "source": [
        "## Конечно-разностная схема"
      ]
    },
    {
      "cell_type": "markdown",
      "metadata": {
        "id": "JiSMvYTUJ2d0"
      },
      "source": [
        "Рассмотрим конечно-разностную схему решения краевой задачи на сетке с граничными параметрами $l$, $T$ и параметрами насыщенности сетки $N$, $K$.  Отсюда размер шага по каждой из координат определяется:\n",
        "$$h = \\displaystyle\\frac{l}{N}, \\; \\tau = \\displaystyle\\frac{T}{K}$$\n",
        "\n",
        "Определим значения функции на временном слое $t^{k+1}$ путем разностной апроксимации производной:\n",
        "$$\\displaystyle\\frac{\\partial u}{\\partial t}(x_j, t^k) = \\displaystyle\\frac{u^{k+1}_j - u^k_j}{\\tau}$$\n",
        "\n",
        "И одним из методов апроксимации второй производной по $x$:\n",
        "$$\\displaystyle\\frac{\\partial^2 u}{\\partial x^2}(x_j, t^k)$$"
      ]
    },
    {
      "cell_type": "code",
      "execution_count": 3,
      "metadata": {
        "id": "j-ePxKhCJ2d1"
      },
      "outputs": [],
      "source": [
        "class Schema:\n",
        "    def __init__(self, f0 = phi_0, fl = phi_l,\n",
        "                 u0 = u_0, g = g,\n",
        "                 O = 0.5, l0 = 0, l1 = math.pi,\n",
        "                 T = 5, aprx_cls = None):\n",
        "        self.fl = fl\n",
        "        self.f0 = f0\n",
        "        self.u0 = u0\n",
        "        self.g = g\n",
        "        self.T = T\n",
        "        self.l0 = l0\n",
        "        self.l1 = l1\n",
        "        self.tau = None\n",
        "        self.h = None\n",
        "        self.O = O\n",
        "        self.approx = None\n",
        "        if aprx_cls is not None:\n",
        "            self._init_approx(aprx_cls)\n",
        "        self.sigma = None\n",
        "        \n",
        "    def _init_approx(self, a_cls):\n",
        "        self.approx = a_cls(self.f0, self.fl)\n",
        "    \n",
        "    def SetApprox(self, aprx_cls):\n",
        "        self._init_approx(self, aprx_cls)\n",
        "        \n",
        "    def Set_l0_l1(self, l0, l1):\n",
        "        self.l0 = l0\n",
        "        self.l1 = l1\n",
        "        \n",
        "    def SetT(self, T):\n",
        "        self.T = T\n",
        "        \n",
        "    def CalculateH(self, N):\n",
        "        self.h = (self.l1 - self.l0) / N\n",
        "        \n",
        "    def CalculateTau(self, K):\n",
        "        self.tau = self.T / K\n",
        "        \n",
        "    def CalculateSigma(self):\n",
        "        self.sigma = self.tau / (self.h * self.h)\n",
        "      \n",
        "    @staticmethod\n",
        "    def nparange(start, end, step = 1):\n",
        "        now = start\n",
        "        e = 0.00000000001\n",
        "        while now - e <= end:\n",
        "            yield now\n",
        "            now += step\n",
        "        \n",
        "    def CalculateLine(self, t, x, lastLine):\n",
        "        pass\n",
        "    \n",
        "    def __call__(self, N=50, K=70):\n",
        "        N, K = N - 1, K - 1\n",
        "        self.CalculateTau(K)\n",
        "        self.CalculateH(N)\n",
        "        self.CalculateSigma()\n",
        "        ans = []\n",
        "        x = list(np.arange(self.l0, self.l1 + 0.5 * self.h, self.h))\n",
        "        lastLine = list(map(self.u0, x))\n",
        "        ans.append(list(lastLine))\n",
        "        X, Y = [], []\n",
        "        X.append(x)\n",
        "        Y.append([0.0 for _ in x])\n",
        "        for t in np.arange(self.tau, self.T + 0.5 * self.tau, self.tau):\n",
        "            ans.append(self.CalculateLine(t, x, lastLine))\n",
        "            X.append(x)\n",
        "            Y.append([t for _ in x])\n",
        "            lastLine = ans[-1]\n",
        "        return X, Y, ans"
      ]
    },
    {
      "cell_type": "markdown",
      "metadata": {
        "id": "eMNbeQz4J2d3"
      },
      "source": [
        "###  Явная конечно-разностная схема"
      ]
    },
    {
      "cell_type": "markdown",
      "metadata": {
        "id": "jc0CEO7uJ2d3"
      },
      "source": [
        "Апроксимируем вторую производную по значениям нижнего временного слоя $t^k$, а именно:\n",
        "\n",
        "$$\\displaystyle\\frac{\\partial^2 u}{\\partial x^2}(x_j, t^k) = \\displaystyle\\frac{u^k_{j-1} - 2 u^k_{j} + u^k_{j+1}}{h^2}$$\n",
        "\n",
        "Тогда получим явную схему конечно-разностного метода во внутренних узлах сетки для $\\forall j \\in \\{1, ..., N-1\\}, \\forall k \\in \\{0, ..., K-1\\}$:\n",
        "\n",
        "$$\\displaystyle\\frac{u^{k+1}_j - u^k_j}{\\tau} = \\displaystyle\\frac{u^k_{j-1} - 2 u^k_{j} + u^k_{j+1}}{h^2} + g(x, t^k)$$\n",
        "\n",
        "Обозначим $\\sigma = \\displaystyle\\frac{\\tau}{h^2}$, тогда:\n",
        "\n",
        "$$u^{k+1}_j = \\sigma u^k_{j-1} + (1 - 2\\sigma)u^k_j + \\sigma u^k_{j+1} + \\tau g(x_j, t^k)$$\n",
        "\n",
        "Граничные же значения $u^{k+1}_0$ и $u^{k+1}_N$ определяются граничными условиями $u_x(0, t) = \\phi_0(t)$ и $u_x(l, t) = \\phi_l(t)$ при помощи апроксимации производной."
      ]
    },
    {
      "cell_type": "code",
      "execution_count": 4,
      "metadata": {
        "id": "t4oR6fhRJ2d4"
      },
      "outputs": [],
      "source": [
        "class ExplictSchema(Schema):\n",
        "    def CalculateSigma(self):\n",
        "        self.sigma = self.tau / (self.h * self.h)\n",
        "        if self.sigma > 0.5:\n",
        "            warnings.warn(\"Sigma > 0.5\")\n",
        "        \n",
        "    def CalculateLine(self, t, x, lastLine):\n",
        "        line = [None for _ in lastLine]\n",
        "        for i in range(1, len(x) - 1):\n",
        "            line[i] = self.sigma * lastLine[i-1] \n",
        "            line[i] += (1 - 2 * self.sigma) * lastLine[i]\n",
        "            line[i] += self.sigma * lastLine[i + 1]\n",
        "            line[i] += self.tau * self.g(x[i], t - self.tau)\n",
        "        line[0] = self.approx.explict_0(t, self.h, self.sigma,\n",
        "                                        self.g, self.l0, lastLine,\n",
        "                                        line, t - self.tau)\n",
        "        line[-1] = self.approx.explict_l(t, self.h, self.sigma,\n",
        "                                         self.g, self.l0, lastLine,\n",
        "                                         line, t - self.tau)\n",
        "        return line"
      ]
    },
    {
      "cell_type": "markdown",
      "metadata": {
        "id": "Mji2eTTHJ2d5"
      },
      "source": [
        "### Неявная конечно-разностная схема"
      ]
    },
    {
      "cell_type": "markdown",
      "metadata": {
        "id": "1yGsSG9FJ2d5"
      },
      "source": [
        "Апроксимируем вторую производную по значениям верхнего временного слоя $t^{k+1}$, а именно:\n",
        "\n",
        "$$\\displaystyle\\frac{\\partial^2 u}{\\partial x^2}(x_j, t^k) = \\displaystyle\\frac{u^{k+1}_{j-1} - 2 u^{k+1}_{j} + u^{k+1}_{j+1}}{h^2}$$\n",
        "\n",
        "Тогда получим явную схему конечно-разностного метода во внутренних узлах сетки для $\\forall j \\in \\{1, ..., N-1\\}, \\forall k \\in \\{0, ..., K-1\\}$:\n",
        "\n",
        "$$\\displaystyle\\frac{u^{k+1}_j - u^k_j}{\\tau} = \\displaystyle\\frac{u^{k+1}_{j-1} - 2 u^{k+1}_{j} + u^{k+1}_{j+1}}{h^2} + g(x_j, t^{k+1})$$\n",
        "\n",
        "Обозначим $\\sigma = \\displaystyle\\frac{\\tau}{h^2}, \\; g^{k}_j = g(x_j, t^{k})$. Тогда значения функции на верхнем временном слое можно найти из решения **СЛАУ** с трехдиагональной матрицей. Сделаем это с помощью метода прогонки, где **СЛАУ**, кроме крайних двух уравнений, определяется коэффициентами $a_j = \\sigma$, $b_j = -(1 + 2\\sigma)$, $c_j = \\sigma$, $d_j = -u^k_j - \\tau g_j^{k+1}$ уравнений:\n",
        "\n",
        "$$a_j u^{k+1}_{j - 1} + b_j u^{k+1}_j + c_j u^{k+1}_{j+1} = d_j, \\; \\forall j \\in \\{1, ..., N-1\\}$$"
      ]
    },
    {
      "cell_type": "markdown",
      "metadata": {
        "id": "s31uKrz4J2d6"
      },
      "source": [
        "### Схема Кранка-Николсона"
      ]
    },
    {
      "cell_type": "markdown",
      "metadata": {
        "id": "K9dPkGQqJ2d6"
      },
      "source": [
        "*Явно-неявная схема* для $\\forall j \\in \\{1, ..., N-1\\}, \\forall k \\in \\{0, ..., K-1\\}$ будет выглядеть следующим образом:\n",
        "\n",
        "$$\\displaystyle\\frac{u^{k+1}_j - u^k_j}{\\tau} = \\theta \\left(\\displaystyle\\frac{u^{k+1}_{j-1} - 2 u^{k+1}_{j} + u^{k+1}_{j+1}}{h^2} + g_j^{k+1} \\right) + (1 - \\theta) \\left(\\displaystyle\\frac{u^k_{j-1} - 2 u^k_{j} + u^k_{j+1}}{h^2} + g_j^k \\right)$$\n",
        "\n",
        "$\\theta$ - вес неявной части конечно-разностной схемы, $(1 - \\theta)$ - вес для явной части.\n",
        "\n",
        "При значении параметра $\\theta = \\displaystyle\\frac{1}{2}$ мы имеем *схему Кранка-Николсона*.\n",
        "\n",
        "Обозначим $\\sigma = \\displaystyle\\frac{\\tau}{h^2}$. Тогда значения функции на слое можно найти эффективным образом с помощью методом прогонки, где СЛАУ, кроме крайних двух уравнений, определяется коэффициентами $a_j = \\sigma \\theta$, $b_j = -(1 + 2 \\theta \\sigma)$, $c_j = \\sigma \\theta$, $d_j = -(u^k_j + \\theta \\tau g^{k+1}_j + (1 - \\theta) \\sigma (u^k_{j-1} - 2u^k_j + u^k_{j+1} + h^2 g^{k}_j))$ уравнений:\n",
        "\n",
        "$$a_j u^{k+1}_{j - 1} + b_j u^{k+1}_j + c_j u^{k+1}_{j+1} = d_j, \\; \\forall j \\in \\{1, ..., N-1\\}$$"
      ]
    },
    {
      "cell_type": "code",
      "execution_count": 5,
      "metadata": {
        "id": "oc2fwzYBJ2d6"
      },
      "outputs": [],
      "source": [
        "class ImplictExplict(Schema):\n",
        "    def SetO(self, O):\n",
        "        self.O = O\n",
        "    \n",
        "    @staticmethod\n",
        "    def SweepMethod(A, b):\n",
        "        P = [-item[2] for item in A]\n",
        "        Q = [item for item in b]\n",
        "        P[0] /= A[0][1]\n",
        "        Q[0] /= A[0][1]\n",
        "        for i in range(1, len(b)):\n",
        "            z = (A[i][1] + A[i][0] * P[i-1])\n",
        "            P[i] /= z\n",
        "            Q[i] -= A[i][0] * Q[i-1]\n",
        "            Q[i] /= z\n",
        "        x = [item for item in Q]\n",
        "        for i in range(len(x) - 2, -1, -1):\n",
        "            x[i] += P[i] * x[i + 1]\n",
        "        return x\n",
        "    \n",
        "    def CalculateLine(self, t, x, lastLine):\n",
        "        a = self.sigma * self.O\n",
        "        b = -1 - 2 * self.sigma * self.O\n",
        "        A = [(a, b, a) for _ in range(1, len(x)-1)]\n",
        "        w = [-(lastLine[i] + self.O * self.tau * self.g(x[i], t) + (1 - self.O) * self.sigma * (lastLine[i - 1] - 2 * lastLine[i] + lastLine[i + 1] + self.h * self.h * self.g(x[i], t - self.tau))) for i in range(1, len(x) - 1)]\n",
        "        koeffs = self.approx.nikolson_0(t, self.h, self.sigma,\n",
        "                                        self.g, self.l0, lastLine,\n",
        "                                        self.O, t - self.tau)\n",
        "        A.insert(0, koeffs[:-1])\n",
        "        w.insert(0, koeffs[-1])\n",
        "        koeffs = self.approx.nikolson_l(t, self.h, self.sigma,\n",
        "                                        self.g, self.l1, lastLine,\n",
        "                                        self.O, t - self.tau)\n",
        "        A.append(koeffs[:-1])\n",
        "        w.append(koeffs[-1])\n",
        "        \n",
        "        return self.SweepMethod(A, w)"
      ]
    },
    {
      "cell_type": "markdown",
      "metadata": {
        "id": "CUIEi__0J2d7"
      },
      "source": [
        "## Апроксимация первых производных\n",
        "\n",
        "Граничные условия 1-го рода аппроксимируются точно в узлах на границе расчетной области. \n",
        "\n",
        "Граничные условия 2-го и 3-го рода отличаются тем, что в них присутствует производная первого порядка искомой функции по пространственной переменной. Поэтому для замыкания конечно-разностной схемы необходима их аппроксимация. Простейшим способом является аппроксимация производных направленными разностями первого порядка."
      ]
    },
    {
      "cell_type": "code",
      "execution_count": 6,
      "metadata": {
        "id": "e1VG_jhcJ2d8"
      },
      "outputs": [],
      "source": [
        "class Approx:\n",
        "    def __init__(self, f0, fl):\n",
        "        self.f0 = f0\n",
        "        self.fl = fl\n",
        "        \n",
        "    def explict_0(self, t, h, sigma, g, x0, l0, l1, t0):\n",
        "        pass\n",
        "    def explict_l(self, t, h, sigma, g, xN, l0, l1, t0):\n",
        "        pass\n",
        "    \n",
        "    def nikolson_0(self, t, h, sigma, g, x0, l0, O, t0):\n",
        "        pass\n",
        "    def nikolson_l(self, t, h, sigma, g, xN, l0, O, t0):\n",
        "        pass"
      ]
    },
    {
      "cell_type": "markdown",
      "metadata": {
        "id": "e57jngy1J2d8"
      },
      "source": [
        "### Двухточечная первого порядка"
      ]
    },
    {
      "cell_type": "markdown",
      "metadata": {
        "id": "6LvacXncJ2d8"
      },
      "source": [
        "Двухточечная апроксимация первого порядка в точке $x = 0$ и $x = l$ равны соответственно:\n",
        "$$\\displaystyle\\frac{u^{k+1}_1 - u^{k+1}_0}{h} = \\phi_0(t^{k+1})$$\n",
        "$$\\displaystyle\\frac{u^{k+1}_N - u^{k+1}_{N-1}}{h} = \\phi_l(t^{k+1})$$\n",
        "\n",
        "Получаем выражения для граничных значений при явном методе:\n",
        "$$u^{k+1}_0 = -h \\phi_0(t^{k+1}) + u^{k+1}_1$$\n",
        "$$u^{k+1}_N = h \\phi_l(t^{k+1}) + u^{k+1}_{N-1}$$\n",
        "\n",
        "И крайние уравенения для методда прогонки в неявном методе и в *схеме Кранка-Николсона*:\n",
        "$$-u^{k+1}_0 + u^{k+1}_1 = h \\phi_0(t^{k+1})$$\n",
        "$$-u^{k+1}_{N-1} + u^{k+1}_N = h \\phi_l(t^{k+1})$$"
      ]
    },
    {
      "cell_type": "code",
      "execution_count": 7,
      "metadata": {
        "id": "yP0kPvDVJ2d9"
      },
      "outputs": [],
      "source": [
        "class Approx2pointFirstOrder(Approx):\n",
        "    def explict_0(self, t, h, sigma, g, x0, l0, l1, t0):\n",
        "        return -h * self.f0(t) + l1[1]\n",
        "    \n",
        "    def explict_l(self, t, h, sigma, g, xN, l0, l1, t0):\n",
        "        return h * self.fl(t) + l1[-2]\n",
        "    \n",
        "    def nikolson_0(self, t, h, sigma, g, x0, l0, O, t0):\n",
        "        return 0, -1, 1, h * self.f0(t)\n",
        "    \n",
        "    def nikolson_l(self, t, h, sigma, g, xN, l0, O, t0):\n",
        "        return -1, 1, 0, h * self.fl(t)"
      ]
    },
    {
      "cell_type": "markdown",
      "metadata": {
        "id": "752_0FptJ2d9"
      },
      "source": [
        "### Трёхточечная второго порядка"
      ]
    },
    {
      "cell_type": "markdown",
      "metadata": {
        "id": "k1eol8OIJ2d-"
      },
      "source": [
        "Трёхточечная аппроксимация второго порядка в точке $x = 0$ и $x = l$ равны соответственно:\n",
        "$$\\displaystyle\\frac{-3u^{k+1}_0 + 4u^{k+1}_1 - u^{k+1}_2}{2h} = \\phi_0(t^{k+1})$$\n",
        "\n",
        "$$\\displaystyle\\frac{3u^{k+1}_N - 4u^{k+1}_{N-1} + u^{k+1}_{N-2}}{2h} = \\phi_l(t^{k+1})$$\n",
        "\n",
        "Получаем выражения для граничных значений при явном методе:\n",
        "$$u^{k+1}_0 = \\displaystyle\\frac{-2h \\phi_0(t^{k+1}) + 4u^{k+1}_1 - u^{k+1}_2}{3}$$\n",
        "\n",
        "$$u^{k+1}_N = \\displaystyle\\frac{2h \\phi_l(t^{k+1}) + 4u^{k+1}_{N-1} - u^{k+1}_{N-2}}{3}$$\n",
        "\n",
        "И крайние уравнения для *схемы Кранка-Николсона*:\n",
        "$$-2\\sigma\\theta u^{k+1}_{0} + (2\\sigma\\theta - 1)u^{k+1}_{1} = 2\\sigma\\theta h \\phi_0(t^{k+1}) -(u^k_1 + \\theta \\tau g^{k+1}_1 + (1 - \\theta) \\sigma (u^k_{0} - 2u^k_1 + u^k_{2} + h^2 g^{k}_1))$$\n",
        "$$(1 - 2\\sigma\\theta)u^{k+1}_{N-1} + 2\\sigma\\theta u^{k+1}_{N} = 2\\sigma\\theta h \\phi_l(t^{k+1}) + (u^k_{N-1} + \\theta \\tau g^{k+1}_{N-1} + (1 - \\theta) \\sigma (u^k_{N-2} - 2u^k_{N-1} + u^k_{N} + h^2 g^{k}_{N-1}))$$"
      ]
    },
    {
      "cell_type": "code",
      "execution_count": 8,
      "metadata": {
        "id": "W49VRSCSJ2eA"
      },
      "outputs": [],
      "source": [
        "class Approx3pointSecondOrder(Approx):\n",
        "    def explict_0(self, t, h, sigma, l0, l1, t0):\n",
        "        return (-2 * h * self.f0(t) + 4 * l1[1] - l1[2]) / 3\n",
        "                \n",
        "    def explict_l(self, t, h, sigma, l0, l1, t0):\n",
        "        return (2 * h * self.fl(t) + 4 * l1[-2] - l1[-3]) / 3\n",
        "    \n",
        "    def nikolson_0(self, t, h, sigma, g, x0, l0, O, t0):\n",
        "        d = 2 * sigma * O * h * self.f0(t)\n",
        "        d -= l0[1] + O * (t - t0) * g(x0 + h, t)\n",
        "        d -= (1 - O) * sigma * (l0[0] - 2 * l0[1] + l0[2] + h * h * g(x0 + h, t0))\n",
        "        return 0, -2 * sigma * O, 2 * sigma * O - 1, d\n",
        "    \n",
        "    def nikolson_l(self, t, h, sigma, g, xN, l0, O, t0):\n",
        "        d = 2 * sigma * O * h * self.fl(t)\n",
        "        d += l0[-2] + O * (t - t0) * g(xN - h, t) \n",
        "        d += (1 - O) * sigma * (l0[-3] - 2 * l0[-2] + l0[-1] + h * h * g(xN - h, t0))\n",
        "        return 1 - 2 * sigma * O, 2 * sigma * O, 0, d"
      ]
    },
    {
      "cell_type": "markdown",
      "metadata": {
        "id": "EsR6rY0gJ2eB"
      },
      "source": [
        "### Двухточечная второго порядка"
      ]
    },
    {
      "cell_type": "markdown",
      "metadata": {
        "id": "ezURBgf_J2eB"
      },
      "source": [
        "Двухточечная апроксимация второго порядка в точке $x = 0$ и $x = l$ равны соответственно:\n",
        "$$\\displaystyle\\frac{u^{k+1}_1 - u^{k+1}_{-1}}{2h} = \\phi_0(t^{k+1})$$\n",
        "\n",
        "$$\\displaystyle\\frac{u^{k+1}_{N+1} - u^{k+1}_{N-1}}{2h} = \\phi_l(t^{k+1})$$\n",
        "\n",
        "Тогда, используя апроксимацию на предыдущем временном слое, а именно при $t = t^k$, и выразив значения, выходящие за пределы сетки с помощью уравнения:\n",
        "$\\displaystyle\\frac{u^{k+1}_j - u^k_j}{\\tau} = \\displaystyle\\frac{u^k_{j-1} - 2 u^k_{j} + u^k_{j+1}}{h^2} + g_j^k$ для значений $j=0$ и $j = N$\n",
        "мы получим формулу граничных значений для явной схемы:\n",
        "\n",
        "$$u^{k+1}_0 = -2 \\sigma h \\phi_0(t^{k}) + 2\\sigma u^{k}_1 + (1 - 2\\sigma)u^{k}_0 + \\tau g_0^k$$\n",
        "\n",
        "$$u^{k+1}_N = 2 \\sigma h \\phi_l(t^{k}) + 2 \\sigma u^{k}_{N-1} + (1 - 2 \\sigma) u^{k}_{N} + \\tau g^k_N$$\n",
        "\n",
        "Мы можем использовать аппроксимацию на слое $t^{k+1}$ и тогда получим крайние уравнения для алгоритма прогонки в неявном методе:\n",
        "$$-(2\\sigma+1)u^{k+1}_0 + 2\\sigma u^{k+1}_1 = 2\\sigma h\\phi_0(t^{k+1}) - u^k_0$$\n",
        "$$2\\sigma u^{k+1}_{N-1} - (2\\sigma+1)u^{k+1}_N = -2\\sigma h\\phi_l(t^{k+1}) - u^k_N$$\n",
        "\n",
        "И крайние уравнения для явной-неявной схемы:\n",
        "$$-(2\\theta\\sigma+1)u^{k+1}_0 + 2\\sigma\\theta u^{k+1}_1 = 2\\theta\\sigma h\\phi_0(t^{k+1}) - (u^k_0 + \\theta \\tau g^{k+1}_0 + 2(1-\\theta)\\sigma(u^k_1 - u^k_0 - h\\phi_0(t^k) + \\frac{h^2}{2} g^k_0))$$\n",
        "$$2\\sigma\\theta u^{k+1}_{N-1} - (2\\theta\\sigma+1)u^{k+1}_N = -2\\theta\\sigma h\\phi_l(t^{k+1}) - (u^k_N + \\theta \\tau g^{k+1}_N + 2(1-\\theta)\\sigma(u^k_{N-1} - u^k_N + h\\phi_l(t^k) + \\frac{h^2}{2} g^k_N))$$"
      ]
    },
    {
      "cell_type": "code",
      "execution_count": 9,
      "metadata": {
        "id": "Lan0S11aJ2eC"
      },
      "outputs": [],
      "source": [
        "class Approx2pointSecondOrder(Approx):\n",
        "    def explict_0(self, t, h, sigma, g, x0, l0, l1, t0):\n",
        "        return -2 * sigma * h * self.f0(t0) + 2 * sigma * l0[1] + \\\n",
        "                    (1 - 2 * sigma) * l0[0] + (t - t0) * g(x0, t0)\n",
        "                \n",
        "    def explict_l(self, t, h, sigma, g, xN, l0, l1, t0):\n",
        "        return 2*sigma*h*self.fl(t0) + 2*sigma*l0[-2] + \\\n",
        "                    (1 - 2 * sigma) * l0[-1] + (t - t0) * g(xN, t0)\n",
        "    \n",
        "    def nikolson_0(self, t, h, sigma, g, x0, l0, O, t0):\n",
        "        d = 2*sigma*O*h*self.f0(t) - l0[0] - O*(t-t0)*g(x0, t)\n",
        "        d -= 2*(1 - O)*sigma*(l0[1] - l0[0] - h*self.f0(t0) + 0.5*h*h*g(x0, t0))\n",
        "        return 0, -(2*sigma*O + 1), 2*sigma*O, d\n",
        "    \n",
        "    def nikolson_l(self, t, h, sigma, g, xN, l0, O, t0):\n",
        "        d = -2*sigma*O*h*self.fl(t) - l0[-1] - O*(t-t0)*g(xN, t)\n",
        "        d -= 2*(1 - O)*sigma*(l0[-2] - l0[-1] + h*self.fl(t0) + 0.5*h*h*g(xN, t0))\n",
        "        return 2*sigma*O, -(2*sigma*O + 1), 0, d"
      ]
    },
    {
      "cell_type": "markdown",
      "metadata": {
        "id": "d4Ps_AEVJ2eC"
      },
      "source": [
        "## Результаты работы"
      ]
    },
    {
      "cell_type": "markdown",
      "metadata": {
        "id": "0SN_wjCwJ2eC"
      },
      "source": [
        "### Зависимость погрешности от параметра $h$"
      ]
    },
    {
      "cell_type": "markdown",
      "metadata": {
        "id": "u-saQi7iJ2eD"
      },
      "source": [
        "#### Вычисление погрешностей"
      ]
    },
    {
      "cell_type": "markdown",
      "metadata": {
        "id": "osbQKDGfJ2eD"
      },
      "source": [
        "Будем считать погрешность как норму матрицы.\n",
        "\n",
        "$e = \\| \\hat{z} - z \\|_2$\n",
        "\n",
        "$\\hat{z}$,  $z$ - матрицы  вычисленных и реальных значений функции в сетке соответственно."
      ]
    },
    {
      "cell_type": "code",
      "execution_count": 10,
      "metadata": {
        "id": "ohezEKfAJ2eD"
      },
      "outputs": [],
      "source": [
        "def Error(x, y, z, f):\n",
        "    ans = 0.0\n",
        "    for i in range(len(z)):\n",
        "        for j in range(len(z[i])):\n",
        "            ans += (z[i][j] - f(x[i][j], y[i][j]))**2\n",
        "    return ans **0.5"
      ]
    },
    {
      "cell_type": "markdown",
      "metadata": {
        "id": "DJWVF6G-J2eE"
      },
      "source": [
        "Построение зависимости погрешности от шага $h$."
      ]
    },
    {
      "cell_type": "code",
      "execution_count": 11,
      "metadata": {
        "id": "LiM2xOLLJ2eE"
      },
      "outputs": [],
      "source": [
        "def GetStepHandError(solver, real_f):\n",
        "    h = []\n",
        "    e = []\n",
        "    for N in range(3, 20):\n",
        "        x, y, z = solver(N, 70)\n",
        "        h.append(solver.h)\n",
        "        e.append(Error(x, y, z, real_f))\n",
        "    return h, e"
      ]
    },
    {
      "cell_type": "markdown",
      "metadata": {
        "id": "XUNukugCJ2eF"
      },
      "source": [
        "#### Явная схема"
      ]
    },
    {
      "cell_type": "code",
      "execution_count": 12,
      "metadata": {
        "id": "0mwVJ-5rJ2eF"
      },
      "outputs": [],
      "source": [
        "explict = ExplictSchema(T = 1, aprx_cls=Approx2pointSecondOrder)"
      ]
    },
    {
      "cell_type": "code",
      "execution_count": 13,
      "metadata": {
        "colab": {
          "base_uri": "https://localhost:8080/",
          "height": 1067
        },
        "id": "LtV5SP05J2eF",
        "outputId": "a6c6dbe6-0e5f-4a4e-da08-e5dd39d500d0"
      },
      "outputs": [
        {
          "output_type": "display_data",
          "data": {
            "text/html": [
              "<html>\n",
              "<head><meta charset=\"utf-8\" /></head>\n",
              "<body>\n",
              "    <div>            <script src=\"https://cdnjs.cloudflare.com/ajax/libs/mathjax/2.7.5/MathJax.js?config=TeX-AMS-MML_SVG\"></script><script type=\"text/javascript\">if (window.MathJax) {MathJax.Hub.Config({SVG: {font: \"STIX-Web\"}});}</script>                <script type=\"text/javascript\">window.PlotlyConfig = {MathJaxConfig: 'local'};</script>\n",
              "        <script src=\"https://cdn.plot.ly/plotly-2.8.3.min.js\"></script>                <div id=\"1a14c69a-14b8-4307-9fcf-6122421b9ef1\" class=\"plotly-graph-div\" style=\"height:525px; width:100%;\"></div>            <script type=\"text/javascript\">                                    window.PLOTLYENV=window.PLOTLYENV || {};                                    if (document.getElementById(\"1a14c69a-14b8-4307-9fcf-6122421b9ef1\")) {                    Plotly.newPlot(                        \"1a14c69a-14b8-4307-9fcf-6122421b9ef1\",                        [{\"mode\":\"lines\",\"name\":\"\\u042f\\u0432\\u043d\\u0430\\u044f\",\"showlegend\":true,\"text\":\"(x, y)\",\"x\":[1.5707963267948966,1.0471975511965976,0.7853981633974483,0.6283185307179586,0.5235987755982988,0.4487989505128276,0.39269908169872414,0.3490658503988659,0.3141592653589793,0.28559933214452665,0.2617993877991494,0.241660973353061,0.2243994752564138,0.20943951023931953,0.19634954084936207,0.18479956785822313,0.17453292519943295],\"y\":[1.886196802834334,1.0196309130033914,0.629757814241994,0.4296402361360902,0.3148767736699882,0.24312855973860661,0.19523749235918858,0.16162896772467183,0.1371056573291367,0.11865012299987511,0.10441154351604828,0.09320184451835485,0.08422871258179422,0.07694633845381162,0.07096808800853183,0.06601339378371941,0.06187466609681851],\"type\":\"scatter\"}],                        {\"template\":{\"data\":{\"barpolar\":[{\"marker\":{\"line\":{\"color\":\"#E5ECF6\",\"width\":0.5},\"pattern\":{\"fillmode\":\"overlay\",\"size\":10,\"solidity\":0.2}},\"type\":\"barpolar\"}],\"bar\":[{\"error_x\":{\"color\":\"#2a3f5f\"},\"error_y\":{\"color\":\"#2a3f5f\"},\"marker\":{\"line\":{\"color\":\"#E5ECF6\",\"width\":0.5},\"pattern\":{\"fillmode\":\"overlay\",\"size\":10,\"solidity\":0.2}},\"type\":\"bar\"}],\"carpet\":[{\"aaxis\":{\"endlinecolor\":\"#2a3f5f\",\"gridcolor\":\"white\",\"linecolor\":\"white\",\"minorgridcolor\":\"white\",\"startlinecolor\":\"#2a3f5f\"},\"baxis\":{\"endlinecolor\":\"#2a3f5f\",\"gridcolor\":\"white\",\"linecolor\":\"white\",\"minorgridcolor\":\"white\",\"startlinecolor\":\"#2a3f5f\"},\"type\":\"carpet\"}],\"choropleth\":[{\"colorbar\":{\"outlinewidth\":0,\"ticks\":\"\"},\"type\":\"choropleth\"}],\"contourcarpet\":[{\"colorbar\":{\"outlinewidth\":0,\"ticks\":\"\"},\"type\":\"contourcarpet\"}],\"contour\":[{\"colorbar\":{\"outlinewidth\":0,\"ticks\":\"\"},\"colorscale\":[[0.0,\"#0d0887\"],[0.1111111111111111,\"#46039f\"],[0.2222222222222222,\"#7201a8\"],[0.3333333333333333,\"#9c179e\"],[0.4444444444444444,\"#bd3786\"],[0.5555555555555556,\"#d8576b\"],[0.6666666666666666,\"#ed7953\"],[0.7777777777777778,\"#fb9f3a\"],[0.8888888888888888,\"#fdca26\"],[1.0,\"#f0f921\"]],\"type\":\"contour\"}],\"heatmapgl\":[{\"colorbar\":{\"outlinewidth\":0,\"ticks\":\"\"},\"colorscale\":[[0.0,\"#0d0887\"],[0.1111111111111111,\"#46039f\"],[0.2222222222222222,\"#7201a8\"],[0.3333333333333333,\"#9c179e\"],[0.4444444444444444,\"#bd3786\"],[0.5555555555555556,\"#d8576b\"],[0.6666666666666666,\"#ed7953\"],[0.7777777777777778,\"#fb9f3a\"],[0.8888888888888888,\"#fdca26\"],[1.0,\"#f0f921\"]],\"type\":\"heatmapgl\"}],\"heatmap\":[{\"colorbar\":{\"outlinewidth\":0,\"ticks\":\"\"},\"colorscale\":[[0.0,\"#0d0887\"],[0.1111111111111111,\"#46039f\"],[0.2222222222222222,\"#7201a8\"],[0.3333333333333333,\"#9c179e\"],[0.4444444444444444,\"#bd3786\"],[0.5555555555555556,\"#d8576b\"],[0.6666666666666666,\"#ed7953\"],[0.7777777777777778,\"#fb9f3a\"],[0.8888888888888888,\"#fdca26\"],[1.0,\"#f0f921\"]],\"type\":\"heatmap\"}],\"histogram2dcontour\":[{\"colorbar\":{\"outlinewidth\":0,\"ticks\":\"\"},\"colorscale\":[[0.0,\"#0d0887\"],[0.1111111111111111,\"#46039f\"],[0.2222222222222222,\"#7201a8\"],[0.3333333333333333,\"#9c179e\"],[0.4444444444444444,\"#bd3786\"],[0.5555555555555556,\"#d8576b\"],[0.6666666666666666,\"#ed7953\"],[0.7777777777777778,\"#fb9f3a\"],[0.8888888888888888,\"#fdca26\"],[1.0,\"#f0f921\"]],\"type\":\"histogram2dcontour\"}],\"histogram2d\":[{\"colorbar\":{\"outlinewidth\":0,\"ticks\":\"\"},\"colorscale\":[[0.0,\"#0d0887\"],[0.1111111111111111,\"#46039f\"],[0.2222222222222222,\"#7201a8\"],[0.3333333333333333,\"#9c179e\"],[0.4444444444444444,\"#bd3786\"],[0.5555555555555556,\"#d8576b\"],[0.6666666666666666,\"#ed7953\"],[0.7777777777777778,\"#fb9f3a\"],[0.8888888888888888,\"#fdca26\"],[1.0,\"#f0f921\"]],\"type\":\"histogram2d\"}],\"histogram\":[{\"marker\":{\"pattern\":{\"fillmode\":\"overlay\",\"size\":10,\"solidity\":0.2}},\"type\":\"histogram\"}],\"mesh3d\":[{\"colorbar\":{\"outlinewidth\":0,\"ticks\":\"\"},\"type\":\"mesh3d\"}],\"parcoords\":[{\"line\":{\"colorbar\":{\"outlinewidth\":0,\"ticks\":\"\"}},\"type\":\"parcoords\"}],\"pie\":[{\"automargin\":true,\"type\":\"pie\"}],\"scatter3d\":[{\"line\":{\"colorbar\":{\"outlinewidth\":0,\"ticks\":\"\"}},\"marker\":{\"colorbar\":{\"outlinewidth\":0,\"ticks\":\"\"}},\"type\":\"scatter3d\"}],\"scattercarpet\":[{\"marker\":{\"colorbar\":{\"outlinewidth\":0,\"ticks\":\"\"}},\"type\":\"scattercarpet\"}],\"scattergeo\":[{\"marker\":{\"colorbar\":{\"outlinewidth\":0,\"ticks\":\"\"}},\"type\":\"scattergeo\"}],\"scattergl\":[{\"marker\":{\"colorbar\":{\"outlinewidth\":0,\"ticks\":\"\"}},\"type\":\"scattergl\"}],\"scattermapbox\":[{\"marker\":{\"colorbar\":{\"outlinewidth\":0,\"ticks\":\"\"}},\"type\":\"scattermapbox\"}],\"scatterpolargl\":[{\"marker\":{\"colorbar\":{\"outlinewidth\":0,\"ticks\":\"\"}},\"type\":\"scatterpolargl\"}],\"scatterpolar\":[{\"marker\":{\"colorbar\":{\"outlinewidth\":0,\"ticks\":\"\"}},\"type\":\"scatterpolar\"}],\"scatter\":[{\"marker\":{\"colorbar\":{\"outlinewidth\":0,\"ticks\":\"\"}},\"type\":\"scatter\"}],\"scatterternary\":[{\"marker\":{\"colorbar\":{\"outlinewidth\":0,\"ticks\":\"\"}},\"type\":\"scatterternary\"}],\"surface\":[{\"colorbar\":{\"outlinewidth\":0,\"ticks\":\"\"},\"colorscale\":[[0.0,\"#0d0887\"],[0.1111111111111111,\"#46039f\"],[0.2222222222222222,\"#7201a8\"],[0.3333333333333333,\"#9c179e\"],[0.4444444444444444,\"#bd3786\"],[0.5555555555555556,\"#d8576b\"],[0.6666666666666666,\"#ed7953\"],[0.7777777777777778,\"#fb9f3a\"],[0.8888888888888888,\"#fdca26\"],[1.0,\"#f0f921\"]],\"type\":\"surface\"}],\"table\":[{\"cells\":{\"fill\":{\"color\":\"#EBF0F8\"},\"line\":{\"color\":\"white\"}},\"header\":{\"fill\":{\"color\":\"#C8D4E3\"},\"line\":{\"color\":\"white\"}},\"type\":\"table\"}]},\"layout\":{\"annotationdefaults\":{\"arrowcolor\":\"#2a3f5f\",\"arrowhead\":0,\"arrowwidth\":1},\"autotypenumbers\":\"strict\",\"coloraxis\":{\"colorbar\":{\"outlinewidth\":0,\"ticks\":\"\"}},\"colorscale\":{\"diverging\":[[0,\"#8e0152\"],[0.1,\"#c51b7d\"],[0.2,\"#de77ae\"],[0.3,\"#f1b6da\"],[0.4,\"#fde0ef\"],[0.5,\"#f7f7f7\"],[0.6,\"#e6f5d0\"],[0.7,\"#b8e186\"],[0.8,\"#7fbc41\"],[0.9,\"#4d9221\"],[1,\"#276419\"]],\"sequential\":[[0.0,\"#0d0887\"],[0.1111111111111111,\"#46039f\"],[0.2222222222222222,\"#7201a8\"],[0.3333333333333333,\"#9c179e\"],[0.4444444444444444,\"#bd3786\"],[0.5555555555555556,\"#d8576b\"],[0.6666666666666666,\"#ed7953\"],[0.7777777777777778,\"#fb9f3a\"],[0.8888888888888888,\"#fdca26\"],[1.0,\"#f0f921\"]],\"sequentialminus\":[[0.0,\"#0d0887\"],[0.1111111111111111,\"#46039f\"],[0.2222222222222222,\"#7201a8\"],[0.3333333333333333,\"#9c179e\"],[0.4444444444444444,\"#bd3786\"],[0.5555555555555556,\"#d8576b\"],[0.6666666666666666,\"#ed7953\"],[0.7777777777777778,\"#fb9f3a\"],[0.8888888888888888,\"#fdca26\"],[1.0,\"#f0f921\"]]},\"colorway\":[\"#636efa\",\"#EF553B\",\"#00cc96\",\"#ab63fa\",\"#FFA15A\",\"#19d3f3\",\"#FF6692\",\"#B6E880\",\"#FF97FF\",\"#FECB52\"],\"font\":{\"color\":\"#2a3f5f\"},\"geo\":{\"bgcolor\":\"white\",\"lakecolor\":\"white\",\"landcolor\":\"#E5ECF6\",\"showlakes\":true,\"showland\":true,\"subunitcolor\":\"white\"},\"hoverlabel\":{\"align\":\"left\"},\"hovermode\":\"closest\",\"mapbox\":{\"style\":\"light\"},\"paper_bgcolor\":\"white\",\"plot_bgcolor\":\"#E5ECF6\",\"polar\":{\"angularaxis\":{\"gridcolor\":\"white\",\"linecolor\":\"white\",\"ticks\":\"\"},\"bgcolor\":\"#E5ECF6\",\"radialaxis\":{\"gridcolor\":\"white\",\"linecolor\":\"white\",\"ticks\":\"\"}},\"scene\":{\"xaxis\":{\"backgroundcolor\":\"#E5ECF6\",\"gridcolor\":\"white\",\"gridwidth\":2,\"linecolor\":\"white\",\"showbackground\":true,\"ticks\":\"\",\"zerolinecolor\":\"white\"},\"yaxis\":{\"backgroundcolor\":\"#E5ECF6\",\"gridcolor\":\"white\",\"gridwidth\":2,\"linecolor\":\"white\",\"showbackground\":true,\"ticks\":\"\",\"zerolinecolor\":\"white\"},\"zaxis\":{\"backgroundcolor\":\"#E5ECF6\",\"gridcolor\":\"white\",\"gridwidth\":2,\"linecolor\":\"white\",\"showbackground\":true,\"ticks\":\"\",\"zerolinecolor\":\"white\"}},\"shapedefaults\":{\"line\":{\"color\":\"#2a3f5f\"}},\"ternary\":{\"aaxis\":{\"gridcolor\":\"white\",\"linecolor\":\"white\",\"ticks\":\"\"},\"baxis\":{\"gridcolor\":\"white\",\"linecolor\":\"white\",\"ticks\":\"\"},\"bgcolor\":\"#E5ECF6\",\"caxis\":{\"gridcolor\":\"white\",\"linecolor\":\"white\",\"ticks\":\"\"}},\"title\":{\"x\":0.05},\"xaxis\":{\"automargin\":true,\"gridcolor\":\"white\",\"linecolor\":\"white\",\"ticks\":\"\",\"title\":{\"standoff\":15},\"zerolinecolor\":\"white\",\"zerolinewidth\":2},\"yaxis\":{\"automargin\":true,\"gridcolor\":\"white\",\"linecolor\":\"white\",\"ticks\":\"\",\"title\":{\"standoff\":15},\"zerolinecolor\":\"white\",\"zerolinewidth\":2}}},\"title\":{\"text\":\"\\u0417\\u0430\\u0432\\u0438\\u0441\\u0438\\u043c\\u043e\\u0441\\u0442\\u044c \\u043f\\u043e\\u0433\\u0440\\u0435\\u0448\\u043d\\u043e\\u0441\\u0442\\u0438 \\u043e\\u0442 \\u0434\\u043b\\u0438\\u043d\\u044b \\u0448\\u0430\\u0433\\u0430\"},\"xaxis\":{\"dtick\":0.1,\"range\":[0,1.6],\"tick0\":0,\"tickmode\":\"linear\",\"title\":{\"text\":\"h\"}},\"yaxis\":{\"range\":[0,2.1],\"tickmode\":\"array\",\"tickvals\":[0,0.2,0.4,0.6000000000000001,0.8,1.0,1.2,1.4,1.5999999999999999,1.7999999999999998,1.9999999999999998],\"title\":{\"text\":\"e\"}}},                        {\"responsive\": true}                    ).then(function(){\n",
              "                            \n",
              "var gd = document.getElementById('1a14c69a-14b8-4307-9fcf-6122421b9ef1');\n",
              "var x = new MutationObserver(function (mutations, observer) {{\n",
              "        var display = window.getComputedStyle(gd).display;\n",
              "        if (!display || display === 'none') {{\n",
              "            console.log([gd, 'removed!']);\n",
              "            Plotly.purge(gd);\n",
              "            observer.disconnect();\n",
              "        }}\n",
              "}});\n",
              "\n",
              "// Listen for the removal of the full notebook cells\n",
              "var notebookContainer = gd.closest('#notebook-container');\n",
              "if (notebookContainer) {{\n",
              "    x.observe(notebookContainer, {childList: true});\n",
              "}}\n",
              "\n",
              "// Listen for the clearing of the current output cell\n",
              "var outputEl = gd.closest('.output');\n",
              "if (outputEl) {{\n",
              "    x.observe(outputEl, {childList: true});\n",
              "}}\n",
              "\n",
              "                        })                };                            </script>        </div>\n",
              "</body>\n",
              "</html>"
            ]
          },
          "metadata": {}
        },
        {
          "output_type": "display_data",
          "data": {
            "text/html": [
              "<html>\n",
              "<head><meta charset=\"utf-8\" /></head>\n",
              "<body>\n",
              "    <div>            <script src=\"https://cdnjs.cloudflare.com/ajax/libs/mathjax/2.7.5/MathJax.js?config=TeX-AMS-MML_SVG\"></script><script type=\"text/javascript\">if (window.MathJax) {MathJax.Hub.Config({SVG: {font: \"STIX-Web\"}});}</script>                <script type=\"text/javascript\">window.PlotlyConfig = {MathJaxConfig: 'local'};</script>\n",
              "        <script src=\"https://cdn.plot.ly/plotly-2.8.3.min.js\"></script>                <div id=\"1789b6d6-6c2e-4247-802a-607d5e105277\" class=\"plotly-graph-div\" style=\"height:525px; width:100%;\"></div>            <script type=\"text/javascript\">                                    window.PLOTLYENV=window.PLOTLYENV || {};                                    if (document.getElementById(\"1789b6d6-6c2e-4247-802a-607d5e105277\")) {                    Plotly.newPlot(                        \"1789b6d6-6c2e-4247-802a-607d5e105277\",                        [{\"mode\":\"lines\",\"name\":\"\\u042f\\u0432\\u043d\\u0430\\u044f\",\"showlegend\":true,\"text\":\"(x, y)\",\"x\":[0.4515827052894548,0.046117597181290375,-0.2415644752704905,-0.46470802658470023,-0.6470295833786549,-0.8011802632059132,-0.9347116558304358,-1.0524946914868192,-1.1578552071446455,-1.2531653869489703,-1.3401767639386002,-1.4202194716121366,-1.4943274437658585,-1.56332031525281,-1.6278588363903812,-1.688483458206816,-1.7456418720467646],\"y\":[0.6345625280961684,0.01944071181599726,-0.4624199553436804,-0.8448070806386019,-1.1555739113915615,-1.4141649231182316,-1.6335385519342798,-1.82245189323755,-1.9870034290118466,-2.131576259439502,-2.2594150395689283,-2.3729877665169576,-2.4742194113283147,-2.5646470032756197,-2.6455249676489085,-2.717897621427499,-2.782644454522898],\"type\":\"scatter\"},{\"mode\":\"lines\",\"name\":\"\\u0417\\u0430\\u0432\\u0438\\u0441\\u0438\\u043c\\u043e\\u0441\\u0442\\u044c $O(h)$\",\"showlegend\":true,\"text\":\"(x, y)\",\"x\":[-2,0.5],\"y\":[-3,-0.5],\"type\":\"scatter\"},{\"mode\":\"lines\",\"name\":\"\\u0417\\u0430\\u0432\\u0438\\u0441\\u0438\\u043c\\u043e\\u0441\\u0442\\u044c $O(h^2)$\",\"showlegend\":true,\"text\":\"(x, y)\",\"x\":[-2,0.5],\"y\":[-3,2],\"type\":\"scatter\"}],                        {\"template\":{\"data\":{\"barpolar\":[{\"marker\":{\"line\":{\"color\":\"#E5ECF6\",\"width\":0.5},\"pattern\":{\"fillmode\":\"overlay\",\"size\":10,\"solidity\":0.2}},\"type\":\"barpolar\"}],\"bar\":[{\"error_x\":{\"color\":\"#2a3f5f\"},\"error_y\":{\"color\":\"#2a3f5f\"},\"marker\":{\"line\":{\"color\":\"#E5ECF6\",\"width\":0.5},\"pattern\":{\"fillmode\":\"overlay\",\"size\":10,\"solidity\":0.2}},\"type\":\"bar\"}],\"carpet\":[{\"aaxis\":{\"endlinecolor\":\"#2a3f5f\",\"gridcolor\":\"white\",\"linecolor\":\"white\",\"minorgridcolor\":\"white\",\"startlinecolor\":\"#2a3f5f\"},\"baxis\":{\"endlinecolor\":\"#2a3f5f\",\"gridcolor\":\"white\",\"linecolor\":\"white\",\"minorgridcolor\":\"white\",\"startlinecolor\":\"#2a3f5f\"},\"type\":\"carpet\"}],\"choropleth\":[{\"colorbar\":{\"outlinewidth\":0,\"ticks\":\"\"},\"type\":\"choropleth\"}],\"contourcarpet\":[{\"colorbar\":{\"outlinewidth\":0,\"ticks\":\"\"},\"type\":\"contourcarpet\"}],\"contour\":[{\"colorbar\":{\"outlinewidth\":0,\"ticks\":\"\"},\"colorscale\":[[0.0,\"#0d0887\"],[0.1111111111111111,\"#46039f\"],[0.2222222222222222,\"#7201a8\"],[0.3333333333333333,\"#9c179e\"],[0.4444444444444444,\"#bd3786\"],[0.5555555555555556,\"#d8576b\"],[0.6666666666666666,\"#ed7953\"],[0.7777777777777778,\"#fb9f3a\"],[0.8888888888888888,\"#fdca26\"],[1.0,\"#f0f921\"]],\"type\":\"contour\"}],\"heatmapgl\":[{\"colorbar\":{\"outlinewidth\":0,\"ticks\":\"\"},\"colorscale\":[[0.0,\"#0d0887\"],[0.1111111111111111,\"#46039f\"],[0.2222222222222222,\"#7201a8\"],[0.3333333333333333,\"#9c179e\"],[0.4444444444444444,\"#bd3786\"],[0.5555555555555556,\"#d8576b\"],[0.6666666666666666,\"#ed7953\"],[0.7777777777777778,\"#fb9f3a\"],[0.8888888888888888,\"#fdca26\"],[1.0,\"#f0f921\"]],\"type\":\"heatmapgl\"}],\"heatmap\":[{\"colorbar\":{\"outlinewidth\":0,\"ticks\":\"\"},\"colorscale\":[[0.0,\"#0d0887\"],[0.1111111111111111,\"#46039f\"],[0.2222222222222222,\"#7201a8\"],[0.3333333333333333,\"#9c179e\"],[0.4444444444444444,\"#bd3786\"],[0.5555555555555556,\"#d8576b\"],[0.6666666666666666,\"#ed7953\"],[0.7777777777777778,\"#fb9f3a\"],[0.8888888888888888,\"#fdca26\"],[1.0,\"#f0f921\"]],\"type\":\"heatmap\"}],\"histogram2dcontour\":[{\"colorbar\":{\"outlinewidth\":0,\"ticks\":\"\"},\"colorscale\":[[0.0,\"#0d0887\"],[0.1111111111111111,\"#46039f\"],[0.2222222222222222,\"#7201a8\"],[0.3333333333333333,\"#9c179e\"],[0.4444444444444444,\"#bd3786\"],[0.5555555555555556,\"#d8576b\"],[0.6666666666666666,\"#ed7953\"],[0.7777777777777778,\"#fb9f3a\"],[0.8888888888888888,\"#fdca26\"],[1.0,\"#f0f921\"]],\"type\":\"histogram2dcontour\"}],\"histogram2d\":[{\"colorbar\":{\"outlinewidth\":0,\"ticks\":\"\"},\"colorscale\":[[0.0,\"#0d0887\"],[0.1111111111111111,\"#46039f\"],[0.2222222222222222,\"#7201a8\"],[0.3333333333333333,\"#9c179e\"],[0.4444444444444444,\"#bd3786\"],[0.5555555555555556,\"#d8576b\"],[0.6666666666666666,\"#ed7953\"],[0.7777777777777778,\"#fb9f3a\"],[0.8888888888888888,\"#fdca26\"],[1.0,\"#f0f921\"]],\"type\":\"histogram2d\"}],\"histogram\":[{\"marker\":{\"pattern\":{\"fillmode\":\"overlay\",\"size\":10,\"solidity\":0.2}},\"type\":\"histogram\"}],\"mesh3d\":[{\"colorbar\":{\"outlinewidth\":0,\"ticks\":\"\"},\"type\":\"mesh3d\"}],\"parcoords\":[{\"line\":{\"colorbar\":{\"outlinewidth\":0,\"ticks\":\"\"}},\"type\":\"parcoords\"}],\"pie\":[{\"automargin\":true,\"type\":\"pie\"}],\"scatter3d\":[{\"line\":{\"colorbar\":{\"outlinewidth\":0,\"ticks\":\"\"}},\"marker\":{\"colorbar\":{\"outlinewidth\":0,\"ticks\":\"\"}},\"type\":\"scatter3d\"}],\"scattercarpet\":[{\"marker\":{\"colorbar\":{\"outlinewidth\":0,\"ticks\":\"\"}},\"type\":\"scattercarpet\"}],\"scattergeo\":[{\"marker\":{\"colorbar\":{\"outlinewidth\":0,\"ticks\":\"\"}},\"type\":\"scattergeo\"}],\"scattergl\":[{\"marker\":{\"colorbar\":{\"outlinewidth\":0,\"ticks\":\"\"}},\"type\":\"scattergl\"}],\"scattermapbox\":[{\"marker\":{\"colorbar\":{\"outlinewidth\":0,\"ticks\":\"\"}},\"type\":\"scattermapbox\"}],\"scatterpolargl\":[{\"marker\":{\"colorbar\":{\"outlinewidth\":0,\"ticks\":\"\"}},\"type\":\"scatterpolargl\"}],\"scatterpolar\":[{\"marker\":{\"colorbar\":{\"outlinewidth\":0,\"ticks\":\"\"}},\"type\":\"scatterpolar\"}],\"scatter\":[{\"marker\":{\"colorbar\":{\"outlinewidth\":0,\"ticks\":\"\"}},\"type\":\"scatter\"}],\"scatterternary\":[{\"marker\":{\"colorbar\":{\"outlinewidth\":0,\"ticks\":\"\"}},\"type\":\"scatterternary\"}],\"surface\":[{\"colorbar\":{\"outlinewidth\":0,\"ticks\":\"\"},\"colorscale\":[[0.0,\"#0d0887\"],[0.1111111111111111,\"#46039f\"],[0.2222222222222222,\"#7201a8\"],[0.3333333333333333,\"#9c179e\"],[0.4444444444444444,\"#bd3786\"],[0.5555555555555556,\"#d8576b\"],[0.6666666666666666,\"#ed7953\"],[0.7777777777777778,\"#fb9f3a\"],[0.8888888888888888,\"#fdca26\"],[1.0,\"#f0f921\"]],\"type\":\"surface\"}],\"table\":[{\"cells\":{\"fill\":{\"color\":\"#EBF0F8\"},\"line\":{\"color\":\"white\"}},\"header\":{\"fill\":{\"color\":\"#C8D4E3\"},\"line\":{\"color\":\"white\"}},\"type\":\"table\"}]},\"layout\":{\"annotationdefaults\":{\"arrowcolor\":\"#2a3f5f\",\"arrowhead\":0,\"arrowwidth\":1},\"autotypenumbers\":\"strict\",\"coloraxis\":{\"colorbar\":{\"outlinewidth\":0,\"ticks\":\"\"}},\"colorscale\":{\"diverging\":[[0,\"#8e0152\"],[0.1,\"#c51b7d\"],[0.2,\"#de77ae\"],[0.3,\"#f1b6da\"],[0.4,\"#fde0ef\"],[0.5,\"#f7f7f7\"],[0.6,\"#e6f5d0\"],[0.7,\"#b8e186\"],[0.8,\"#7fbc41\"],[0.9,\"#4d9221\"],[1,\"#276419\"]],\"sequential\":[[0.0,\"#0d0887\"],[0.1111111111111111,\"#46039f\"],[0.2222222222222222,\"#7201a8\"],[0.3333333333333333,\"#9c179e\"],[0.4444444444444444,\"#bd3786\"],[0.5555555555555556,\"#d8576b\"],[0.6666666666666666,\"#ed7953\"],[0.7777777777777778,\"#fb9f3a\"],[0.8888888888888888,\"#fdca26\"],[1.0,\"#f0f921\"]],\"sequentialminus\":[[0.0,\"#0d0887\"],[0.1111111111111111,\"#46039f\"],[0.2222222222222222,\"#7201a8\"],[0.3333333333333333,\"#9c179e\"],[0.4444444444444444,\"#bd3786\"],[0.5555555555555556,\"#d8576b\"],[0.6666666666666666,\"#ed7953\"],[0.7777777777777778,\"#fb9f3a\"],[0.8888888888888888,\"#fdca26\"],[1.0,\"#f0f921\"]]},\"colorway\":[\"#636efa\",\"#EF553B\",\"#00cc96\",\"#ab63fa\",\"#FFA15A\",\"#19d3f3\",\"#FF6692\",\"#B6E880\",\"#FF97FF\",\"#FECB52\"],\"font\":{\"color\":\"#2a3f5f\"},\"geo\":{\"bgcolor\":\"white\",\"lakecolor\":\"white\",\"landcolor\":\"#E5ECF6\",\"showlakes\":true,\"showland\":true,\"subunitcolor\":\"white\"},\"hoverlabel\":{\"align\":\"left\"},\"hovermode\":\"closest\",\"mapbox\":{\"style\":\"light\"},\"paper_bgcolor\":\"white\",\"plot_bgcolor\":\"#E5ECF6\",\"polar\":{\"angularaxis\":{\"gridcolor\":\"white\",\"linecolor\":\"white\",\"ticks\":\"\"},\"bgcolor\":\"#E5ECF6\",\"radialaxis\":{\"gridcolor\":\"white\",\"linecolor\":\"white\",\"ticks\":\"\"}},\"scene\":{\"xaxis\":{\"backgroundcolor\":\"#E5ECF6\",\"gridcolor\":\"white\",\"gridwidth\":2,\"linecolor\":\"white\",\"showbackground\":true,\"ticks\":\"\",\"zerolinecolor\":\"white\"},\"yaxis\":{\"backgroundcolor\":\"#E5ECF6\",\"gridcolor\":\"white\",\"gridwidth\":2,\"linecolor\":\"white\",\"showbackground\":true,\"ticks\":\"\",\"zerolinecolor\":\"white\"},\"zaxis\":{\"backgroundcolor\":\"#E5ECF6\",\"gridcolor\":\"white\",\"gridwidth\":2,\"linecolor\":\"white\",\"showbackground\":true,\"ticks\":\"\",\"zerolinecolor\":\"white\"}},\"shapedefaults\":{\"line\":{\"color\":\"#2a3f5f\"}},\"ternary\":{\"aaxis\":{\"gridcolor\":\"white\",\"linecolor\":\"white\",\"ticks\":\"\"},\"baxis\":{\"gridcolor\":\"white\",\"linecolor\":\"white\",\"ticks\":\"\"},\"bgcolor\":\"#E5ECF6\",\"caxis\":{\"gridcolor\":\"white\",\"linecolor\":\"white\",\"ticks\":\"\"}},\"title\":{\"x\":0.05},\"xaxis\":{\"automargin\":true,\"gridcolor\":\"white\",\"linecolor\":\"white\",\"ticks\":\"\",\"title\":{\"standoff\":15},\"zerolinecolor\":\"white\",\"zerolinewidth\":2},\"yaxis\":{\"automargin\":true,\"gridcolor\":\"white\",\"linecolor\":\"white\",\"ticks\":\"\",\"title\":{\"standoff\":15},\"zerolinecolor\":\"white\",\"zerolinewidth\":2}}},\"title\":{\"text\":\"\\u0417\\u0430\\u0432\\u0438\\u0441\\u0438\\u043c\\u043e\\u0441\\u0442\\u044c \\u043f\\u043e\\u0433\\u0440\\u0435\\u0448\\u043d\\u043e\\u0441\\u0442\\u0438 \\u043e\\u0442 \\u0434\\u043b\\u0438\\u043d\\u044b \\u0448\\u0430\\u0433\\u0430\"},\"xaxis\":{\"dtick\":0.1,\"range\":[-2.1,0.5],\"tick0\":0,\"tickmode\":\"linear\",\"title\":{\"text\":\"log h\"}},\"yaxis\":{\"range\":[-3,1],\"tickmode\":\"array\",\"tickvals\":[-3,-2.8,-2.5999999999999996,-2.3999999999999995,-2.1999999999999993,-1.9999999999999993,-1.7999999999999994,-1.5999999999999994,-1.3999999999999995,-1.1999999999999995,-0.9999999999999996,-0.7999999999999996,-0.5999999999999996,-0.39999999999999963,-0.19999999999999962,3.885780586188048e-16,0.2000000000000004,0.4000000000000004,0.6000000000000004,0.8000000000000005,1.0000000000000004],\"title\":{\"text\":\"log e\"}}},                        {\"responsive\": true}                    ).then(function(){\n",
              "                            \n",
              "var gd = document.getElementById('1789b6d6-6c2e-4247-802a-607d5e105277');\n",
              "var x = new MutationObserver(function (mutations, observer) {{\n",
              "        var display = window.getComputedStyle(gd).display;\n",
              "        if (!display || display === 'none') {{\n",
              "            console.log([gd, 'removed!']);\n",
              "            Plotly.purge(gd);\n",
              "            observer.disconnect();\n",
              "        }}\n",
              "}});\n",
              "\n",
              "// Listen for the removal of the full notebook cells\n",
              "var notebookContainer = gd.closest('#notebook-container');\n",
              "if (notebookContainer) {{\n",
              "    x.observe(notebookContainer, {childList: true});\n",
              "}}\n",
              "\n",
              "// Listen for the clearing of the current output cell\n",
              "var outputEl = gd.closest('.output');\n",
              "if (outputEl) {{\n",
              "    x.observe(outputEl, {childList: true});\n",
              "}}\n",
              "\n",
              "                        })                };                            </script>        </div>\n",
              "</body>\n",
              "</html>"
            ]
          },
          "metadata": {}
        }
      ],
      "source": [
        "import plotly.offline as offline\n",
        "from plotly.graph_objs import *\n",
        "\n",
        "h, e = GetStepHandError(explict, u)\n",
        "\n",
        "trace1 = Scatter(\n",
        "    x = h,\n",
        "    y = e,\n",
        "    name = 'Явная',\n",
        "    mode = 'lines',\n",
        "    text = ('(x, y)'),\n",
        "    showlegend = True\n",
        ")\n",
        "\n",
        "data = [trace1]\n",
        "\n",
        "layout = Layout(\n",
        "    title = 'Зависимость погрешности от длины шага',\n",
        "    xaxis = dict(#tickmode = 'array',\n",
        "                 #tickvals = list(explict.nparange(0, 1.6, 0.1)),\n",
        "                 tickmode = 'linear',\n",
        "                 tick0 = 0,\n",
        "                 dtick = 0.1,\n",
        "                 range = [0, 1.6],\n",
        "                 title = 'h'),\n",
        "    yaxis = dict(tickmode = 'array',\n",
        "                 tickvals = list(explict.nparange(0, 2.1, 0.2)),\n",
        "                 range = [0, 2.1],\n",
        "                 title = 'e')\n",
        ")\n",
        "\n",
        "\n",
        "fig = Figure(data = data, layout = layout)\n",
        "offline.iplot(fig)\n",
        "\n",
        "trace1 = Scatter(\n",
        "    x = list(map(math.log, h)),\n",
        "    y = list(map(math.log, e)),\n",
        "    name = 'Явная',\n",
        "    mode = 'lines',\n",
        "    text = ('(x, y)'),\n",
        "    showlegend = True\n",
        ")\n",
        "\n",
        "trace2 = Scatter(\n",
        "    x = [-2, 0.5],\n",
        "    y = [-3, -0.5],\n",
        "    name = 'Зависимость $O(h)$',\n",
        "    mode = 'lines',\n",
        "    text = ('(x, y)'),\n",
        "    showlegend = True\n",
        ")\n",
        "\n",
        "trace3 = Scatter(\n",
        "    x = [-2, 0.5],\n",
        "    y = [-3, 2],\n",
        "    name = 'Зависимость $O(h^2)$',\n",
        "    mode = 'lines',\n",
        "    text = ('(x, y)'),\n",
        "    showlegend = True\n",
        ")\n",
        "\n",
        "data = [trace1, trace2, trace3]\n",
        "\n",
        "layout = Layout(\n",
        "    title = 'Зависимость погрешности от длины шага',\n",
        "    xaxis = dict(#tickmode = 'array',\n",
        "                 #tickvals = list(explict.nparange(-2, 0.5, 0.1)),\n",
        "                 tickmode = 'linear',\n",
        "                 tick0 = 0,\n",
        "                 dtick = 0.1,\n",
        "                 range = [-2.1, 0.5],\n",
        "                 title = 'log h'),\n",
        "    yaxis = dict(tickmode = 'array',\n",
        "                 tickvals = list(explict.nparange(-3, 1, 0.2)),\n",
        "                 range = [-3, 1],\n",
        "                 title = 'log e')\n",
        ")\n",
        "\n",
        "fig = Figure(data = data, layout = layout)\n",
        "offline.iplot(fig)"
      ]
    },
    {
      "cell_type": "markdown",
      "metadata": {
        "id": "NoQu_TMRJ2eH"
      },
      "source": [
        "#### Неявная схема"
      ]
    },
    {
      "cell_type": "code",
      "execution_count": 14,
      "metadata": {
        "id": "MCOKQErXJ2eI"
      },
      "outputs": [],
      "source": [
        "# ImplictExplict с параметром O=1 это неявная схема\n",
        "implict = ImplictExplict(T=1, aprx_cls=Approx2pointFirstOrder, O=1)"
      ]
    },
    {
      "cell_type": "code",
      "execution_count": 15,
      "metadata": {
        "colab": {
          "base_uri": "https://localhost:8080/",
          "height": 1067
        },
        "id": "moUByxgYJ2eI",
        "outputId": "52180f42-5cf8-4c53-8de6-17c3d7273a0f"
      },
      "outputs": [
        {
          "output_type": "display_data",
          "data": {
            "text/html": [
              "<html>\n",
              "<head><meta charset=\"utf-8\" /></head>\n",
              "<body>\n",
              "    <div>            <script src=\"https://cdnjs.cloudflare.com/ajax/libs/mathjax/2.7.5/MathJax.js?config=TeX-AMS-MML_SVG\"></script><script type=\"text/javascript\">if (window.MathJax) {MathJax.Hub.Config({SVG: {font: \"STIX-Web\"}});}</script>                <script type=\"text/javascript\">window.PlotlyConfig = {MathJaxConfig: 'local'};</script>\n",
              "        <script src=\"https://cdn.plot.ly/plotly-2.8.3.min.js\"></script>                <div id=\"ff8b0cb5-2a04-498d-834f-883076cdad59\" class=\"plotly-graph-div\" style=\"height:525px; width:100%;\"></div>            <script type=\"text/javascript\">                                    window.PLOTLYENV=window.PLOTLYENV || {};                                    if (document.getElementById(\"ff8b0cb5-2a04-498d-834f-883076cdad59\")) {                    Plotly.newPlot(                        \"ff8b0cb5-2a04-498d-834f-883076cdad59\",                        [{\"mode\":\"lines\",\"name\":\"\\u041d\\u0435\\u044f\\u0432\\u043d\\u0430\\u044f\",\"showlegend\":true,\"text\":\"(x, y)\",\"x\":[1.5707963267948966,1.0471975511965976,0.7853981633974483,0.6283185307179586,0.5235987755982988,0.4487989505128276,0.39269908169872414,0.3490658503988659,0.3141592653589793,0.28559933214452665,0.2617993877991494,0.241660973353061,0.2243994752564138,0.20943951023931953,0.19634954084936207,0.18479956785822313,0.17453292519943295],\"y\":[6.719363579903188,2.168197780676597,1.0622423208426308,0.6338641954562684,0.42373858080027454,0.30467541538844634,0.23034110373407884,0.18059864735739492,0.14554202465284488,0.11982927179390504,0.10036832155921907,0.08526607598529885,0.07330959419588565,0.06369208742259928,0.05585989115197023,0.04942285984088252,0.04409969610149933],\"type\":\"scatter\"}],                        {\"template\":{\"data\":{\"barpolar\":[{\"marker\":{\"line\":{\"color\":\"#E5ECF6\",\"width\":0.5},\"pattern\":{\"fillmode\":\"overlay\",\"size\":10,\"solidity\":0.2}},\"type\":\"barpolar\"}],\"bar\":[{\"error_x\":{\"color\":\"#2a3f5f\"},\"error_y\":{\"color\":\"#2a3f5f\"},\"marker\":{\"line\":{\"color\":\"#E5ECF6\",\"width\":0.5},\"pattern\":{\"fillmode\":\"overlay\",\"size\":10,\"solidity\":0.2}},\"type\":\"bar\"}],\"carpet\":[{\"aaxis\":{\"endlinecolor\":\"#2a3f5f\",\"gridcolor\":\"white\",\"linecolor\":\"white\",\"minorgridcolor\":\"white\",\"startlinecolor\":\"#2a3f5f\"},\"baxis\":{\"endlinecolor\":\"#2a3f5f\",\"gridcolor\":\"white\",\"linecolor\":\"white\",\"minorgridcolor\":\"white\",\"startlinecolor\":\"#2a3f5f\"},\"type\":\"carpet\"}],\"choropleth\":[{\"colorbar\":{\"outlinewidth\":0,\"ticks\":\"\"},\"type\":\"choropleth\"}],\"contourcarpet\":[{\"colorbar\":{\"outlinewidth\":0,\"ticks\":\"\"},\"type\":\"contourcarpet\"}],\"contour\":[{\"colorbar\":{\"outlinewidth\":0,\"ticks\":\"\"},\"colorscale\":[[0.0,\"#0d0887\"],[0.1111111111111111,\"#46039f\"],[0.2222222222222222,\"#7201a8\"],[0.3333333333333333,\"#9c179e\"],[0.4444444444444444,\"#bd3786\"],[0.5555555555555556,\"#d8576b\"],[0.6666666666666666,\"#ed7953\"],[0.7777777777777778,\"#fb9f3a\"],[0.8888888888888888,\"#fdca26\"],[1.0,\"#f0f921\"]],\"type\":\"contour\"}],\"heatmapgl\":[{\"colorbar\":{\"outlinewidth\":0,\"ticks\":\"\"},\"colorscale\":[[0.0,\"#0d0887\"],[0.1111111111111111,\"#46039f\"],[0.2222222222222222,\"#7201a8\"],[0.3333333333333333,\"#9c179e\"],[0.4444444444444444,\"#bd3786\"],[0.5555555555555556,\"#d8576b\"],[0.6666666666666666,\"#ed7953\"],[0.7777777777777778,\"#fb9f3a\"],[0.8888888888888888,\"#fdca26\"],[1.0,\"#f0f921\"]],\"type\":\"heatmapgl\"}],\"heatmap\":[{\"colorbar\":{\"outlinewidth\":0,\"ticks\":\"\"},\"colorscale\":[[0.0,\"#0d0887\"],[0.1111111111111111,\"#46039f\"],[0.2222222222222222,\"#7201a8\"],[0.3333333333333333,\"#9c179e\"],[0.4444444444444444,\"#bd3786\"],[0.5555555555555556,\"#d8576b\"],[0.6666666666666666,\"#ed7953\"],[0.7777777777777778,\"#fb9f3a\"],[0.8888888888888888,\"#fdca26\"],[1.0,\"#f0f921\"]],\"type\":\"heatmap\"}],\"histogram2dcontour\":[{\"colorbar\":{\"outlinewidth\":0,\"ticks\":\"\"},\"colorscale\":[[0.0,\"#0d0887\"],[0.1111111111111111,\"#46039f\"],[0.2222222222222222,\"#7201a8\"],[0.3333333333333333,\"#9c179e\"],[0.4444444444444444,\"#bd3786\"],[0.5555555555555556,\"#d8576b\"],[0.6666666666666666,\"#ed7953\"],[0.7777777777777778,\"#fb9f3a\"],[0.8888888888888888,\"#fdca26\"],[1.0,\"#f0f921\"]],\"type\":\"histogram2dcontour\"}],\"histogram2d\":[{\"colorbar\":{\"outlinewidth\":0,\"ticks\":\"\"},\"colorscale\":[[0.0,\"#0d0887\"],[0.1111111111111111,\"#46039f\"],[0.2222222222222222,\"#7201a8\"],[0.3333333333333333,\"#9c179e\"],[0.4444444444444444,\"#bd3786\"],[0.5555555555555556,\"#d8576b\"],[0.6666666666666666,\"#ed7953\"],[0.7777777777777778,\"#fb9f3a\"],[0.8888888888888888,\"#fdca26\"],[1.0,\"#f0f921\"]],\"type\":\"histogram2d\"}],\"histogram\":[{\"marker\":{\"pattern\":{\"fillmode\":\"overlay\",\"size\":10,\"solidity\":0.2}},\"type\":\"histogram\"}],\"mesh3d\":[{\"colorbar\":{\"outlinewidth\":0,\"ticks\":\"\"},\"type\":\"mesh3d\"}],\"parcoords\":[{\"line\":{\"colorbar\":{\"outlinewidth\":0,\"ticks\":\"\"}},\"type\":\"parcoords\"}],\"pie\":[{\"automargin\":true,\"type\":\"pie\"}],\"scatter3d\":[{\"line\":{\"colorbar\":{\"outlinewidth\":0,\"ticks\":\"\"}},\"marker\":{\"colorbar\":{\"outlinewidth\":0,\"ticks\":\"\"}},\"type\":\"scatter3d\"}],\"scattercarpet\":[{\"marker\":{\"colorbar\":{\"outlinewidth\":0,\"ticks\":\"\"}},\"type\":\"scattercarpet\"}],\"scattergeo\":[{\"marker\":{\"colorbar\":{\"outlinewidth\":0,\"ticks\":\"\"}},\"type\":\"scattergeo\"}],\"scattergl\":[{\"marker\":{\"colorbar\":{\"outlinewidth\":0,\"ticks\":\"\"}},\"type\":\"scattergl\"}],\"scattermapbox\":[{\"marker\":{\"colorbar\":{\"outlinewidth\":0,\"ticks\":\"\"}},\"type\":\"scattermapbox\"}],\"scatterpolargl\":[{\"marker\":{\"colorbar\":{\"outlinewidth\":0,\"ticks\":\"\"}},\"type\":\"scatterpolargl\"}],\"scatterpolar\":[{\"marker\":{\"colorbar\":{\"outlinewidth\":0,\"ticks\":\"\"}},\"type\":\"scatterpolar\"}],\"scatter\":[{\"marker\":{\"colorbar\":{\"outlinewidth\":0,\"ticks\":\"\"}},\"type\":\"scatter\"}],\"scatterternary\":[{\"marker\":{\"colorbar\":{\"outlinewidth\":0,\"ticks\":\"\"}},\"type\":\"scatterternary\"}],\"surface\":[{\"colorbar\":{\"outlinewidth\":0,\"ticks\":\"\"},\"colorscale\":[[0.0,\"#0d0887\"],[0.1111111111111111,\"#46039f\"],[0.2222222222222222,\"#7201a8\"],[0.3333333333333333,\"#9c179e\"],[0.4444444444444444,\"#bd3786\"],[0.5555555555555556,\"#d8576b\"],[0.6666666666666666,\"#ed7953\"],[0.7777777777777778,\"#fb9f3a\"],[0.8888888888888888,\"#fdca26\"],[1.0,\"#f0f921\"]],\"type\":\"surface\"}],\"table\":[{\"cells\":{\"fill\":{\"color\":\"#EBF0F8\"},\"line\":{\"color\":\"white\"}},\"header\":{\"fill\":{\"color\":\"#C8D4E3\"},\"line\":{\"color\":\"white\"}},\"type\":\"table\"}]},\"layout\":{\"annotationdefaults\":{\"arrowcolor\":\"#2a3f5f\",\"arrowhead\":0,\"arrowwidth\":1},\"autotypenumbers\":\"strict\",\"coloraxis\":{\"colorbar\":{\"outlinewidth\":0,\"ticks\":\"\"}},\"colorscale\":{\"diverging\":[[0,\"#8e0152\"],[0.1,\"#c51b7d\"],[0.2,\"#de77ae\"],[0.3,\"#f1b6da\"],[0.4,\"#fde0ef\"],[0.5,\"#f7f7f7\"],[0.6,\"#e6f5d0\"],[0.7,\"#b8e186\"],[0.8,\"#7fbc41\"],[0.9,\"#4d9221\"],[1,\"#276419\"]],\"sequential\":[[0.0,\"#0d0887\"],[0.1111111111111111,\"#46039f\"],[0.2222222222222222,\"#7201a8\"],[0.3333333333333333,\"#9c179e\"],[0.4444444444444444,\"#bd3786\"],[0.5555555555555556,\"#d8576b\"],[0.6666666666666666,\"#ed7953\"],[0.7777777777777778,\"#fb9f3a\"],[0.8888888888888888,\"#fdca26\"],[1.0,\"#f0f921\"]],\"sequentialminus\":[[0.0,\"#0d0887\"],[0.1111111111111111,\"#46039f\"],[0.2222222222222222,\"#7201a8\"],[0.3333333333333333,\"#9c179e\"],[0.4444444444444444,\"#bd3786\"],[0.5555555555555556,\"#d8576b\"],[0.6666666666666666,\"#ed7953\"],[0.7777777777777778,\"#fb9f3a\"],[0.8888888888888888,\"#fdca26\"],[1.0,\"#f0f921\"]]},\"colorway\":[\"#636efa\",\"#EF553B\",\"#00cc96\",\"#ab63fa\",\"#FFA15A\",\"#19d3f3\",\"#FF6692\",\"#B6E880\",\"#FF97FF\",\"#FECB52\"],\"font\":{\"color\":\"#2a3f5f\"},\"geo\":{\"bgcolor\":\"white\",\"lakecolor\":\"white\",\"landcolor\":\"#E5ECF6\",\"showlakes\":true,\"showland\":true,\"subunitcolor\":\"white\"},\"hoverlabel\":{\"align\":\"left\"},\"hovermode\":\"closest\",\"mapbox\":{\"style\":\"light\"},\"paper_bgcolor\":\"white\",\"plot_bgcolor\":\"#E5ECF6\",\"polar\":{\"angularaxis\":{\"gridcolor\":\"white\",\"linecolor\":\"white\",\"ticks\":\"\"},\"bgcolor\":\"#E5ECF6\",\"radialaxis\":{\"gridcolor\":\"white\",\"linecolor\":\"white\",\"ticks\":\"\"}},\"scene\":{\"xaxis\":{\"backgroundcolor\":\"#E5ECF6\",\"gridcolor\":\"white\",\"gridwidth\":2,\"linecolor\":\"white\",\"showbackground\":true,\"ticks\":\"\",\"zerolinecolor\":\"white\"},\"yaxis\":{\"backgroundcolor\":\"#E5ECF6\",\"gridcolor\":\"white\",\"gridwidth\":2,\"linecolor\":\"white\",\"showbackground\":true,\"ticks\":\"\",\"zerolinecolor\":\"white\"},\"zaxis\":{\"backgroundcolor\":\"#E5ECF6\",\"gridcolor\":\"white\",\"gridwidth\":2,\"linecolor\":\"white\",\"showbackground\":true,\"ticks\":\"\",\"zerolinecolor\":\"white\"}},\"shapedefaults\":{\"line\":{\"color\":\"#2a3f5f\"}},\"ternary\":{\"aaxis\":{\"gridcolor\":\"white\",\"linecolor\":\"white\",\"ticks\":\"\"},\"baxis\":{\"gridcolor\":\"white\",\"linecolor\":\"white\",\"ticks\":\"\"},\"bgcolor\":\"#E5ECF6\",\"caxis\":{\"gridcolor\":\"white\",\"linecolor\":\"white\",\"ticks\":\"\"}},\"title\":{\"x\":0.05},\"xaxis\":{\"automargin\":true,\"gridcolor\":\"white\",\"linecolor\":\"white\",\"ticks\":\"\",\"title\":{\"standoff\":15},\"zerolinecolor\":\"white\",\"zerolinewidth\":2},\"yaxis\":{\"automargin\":true,\"gridcolor\":\"white\",\"linecolor\":\"white\",\"ticks\":\"\",\"title\":{\"standoff\":15},\"zerolinecolor\":\"white\",\"zerolinewidth\":2}}},\"title\":{\"text\":\"\\u0417\\u0430\\u0432\\u0438\\u0441\\u0438\\u043c\\u043e\\u0441\\u0442\\u044c \\u043f\\u043e\\u0433\\u0440\\u0435\\u0448\\u043d\\u043e\\u0441\\u0442\\u0438 \\u043e\\u0442 \\u0434\\u043b\\u0438\\u043d\\u044b \\u0448\\u0430\\u0433\\u0430\"},\"xaxis\":{\"dtick\":0.1,\"range\":[0,1.6],\"tick0\":0,\"tickmode\":\"linear\",\"title\":{\"text\":\"h\"}},\"yaxis\":{\"range\":[0,2.1],\"tickmode\":\"array\",\"tickvals\":[0,0.2,0.4,0.6000000000000001,0.8,1.0,1.2,1.4,1.5999999999999999,1.7999999999999998,1.9999999999999998],\"title\":{\"text\":\"e\"}}},                        {\"responsive\": true}                    ).then(function(){\n",
              "                            \n",
              "var gd = document.getElementById('ff8b0cb5-2a04-498d-834f-883076cdad59');\n",
              "var x = new MutationObserver(function (mutations, observer) {{\n",
              "        var display = window.getComputedStyle(gd).display;\n",
              "        if (!display || display === 'none') {{\n",
              "            console.log([gd, 'removed!']);\n",
              "            Plotly.purge(gd);\n",
              "            observer.disconnect();\n",
              "        }}\n",
              "}});\n",
              "\n",
              "// Listen for the removal of the full notebook cells\n",
              "var notebookContainer = gd.closest('#notebook-container');\n",
              "if (notebookContainer) {{\n",
              "    x.observe(notebookContainer, {childList: true});\n",
              "}}\n",
              "\n",
              "// Listen for the clearing of the current output cell\n",
              "var outputEl = gd.closest('.output');\n",
              "if (outputEl) {{\n",
              "    x.observe(outputEl, {childList: true});\n",
              "}}\n",
              "\n",
              "                        })                };                            </script>        </div>\n",
              "</body>\n",
              "</html>"
            ]
          },
          "metadata": {}
        },
        {
          "output_type": "display_data",
          "data": {
            "text/html": [
              "<html>\n",
              "<head><meta charset=\"utf-8\" /></head>\n",
              "<body>\n",
              "    <div>            <script src=\"https://cdnjs.cloudflare.com/ajax/libs/mathjax/2.7.5/MathJax.js?config=TeX-AMS-MML_SVG\"></script><script type=\"text/javascript\">if (window.MathJax) {MathJax.Hub.Config({SVG: {font: \"STIX-Web\"}});}</script>                <script type=\"text/javascript\">window.PlotlyConfig = {MathJaxConfig: 'local'};</script>\n",
              "        <script src=\"https://cdn.plot.ly/plotly-2.8.3.min.js\"></script>                <div id=\"64112ac4-4039-4803-b213-99ead16a68a2\" class=\"plotly-graph-div\" style=\"height:525px; width:100%;\"></div>            <script type=\"text/javascript\">                                    window.PLOTLYENV=window.PLOTLYENV || {};                                    if (document.getElementById(\"64112ac4-4039-4803-b213-99ead16a68a2\")) {                    Plotly.newPlot(                        \"64112ac4-4039-4803-b213-99ead16a68a2\",                        [{\"mode\":\"lines\",\"name\":\"\\u041d\\u0435\\u044f\\u0432\\u043d\\u0430\\u044f\",\"showlegend\":true,\"text\":\"(x, y)\",\"x\":[0.4515827052894548,0.046117597181290375,-0.2415644752704905,-0.46470802658470023,-0.6470295833786549,-0.8011802632059132,-0.9347116558304358,-1.0524946914868192,-1.1578552071446455,-1.2531653869489703,-1.3401767639386002,-1.4202194716121366,-1.4943274437658585,-1.56332031525281,-1.6278588363903812,-1.688483458206816,-1.7456418720467646],\"y\":[1.9049934446786718,0.7738963066658001,0.06038207084344882,-0.4559205502399622,-0.8586385686145338,-1.188508280891384,-1.468194008992507,-1.7114781277427213,-1.9272904048445474,-2.1216872842993753,-2.298908643830683,-2.461978605988856,-2.613063789215712,-2.753694940405227,-2.884908667053288,-3.0073422120085014,-3.1213023876755446],\"type\":\"scatter\"},{\"mode\":\"lines\",\"name\":\"\\u0417\\u0430\\u0432\\u0438\\u0441\\u0438\\u043c\\u043e\\u0441\\u0442\\u044c $O(h)$\",\"showlegend\":true,\"text\":\"(x, y)\",\"x\":[-2,0.5],\"y\":[-3,-0.5],\"type\":\"scatter\"},{\"mode\":\"lines\",\"name\":\"\\u0417\\u0430\\u0432\\u0438\\u0441\\u0438\\u043c\\u043e\\u0441\\u0442\\u044c $O(h^2)$\",\"showlegend\":true,\"text\":\"(x, y)\",\"x\":[-2,0.5],\"y\":[-3,2],\"type\":\"scatter\"}],                        {\"template\":{\"data\":{\"barpolar\":[{\"marker\":{\"line\":{\"color\":\"#E5ECF6\",\"width\":0.5},\"pattern\":{\"fillmode\":\"overlay\",\"size\":10,\"solidity\":0.2}},\"type\":\"barpolar\"}],\"bar\":[{\"error_x\":{\"color\":\"#2a3f5f\"},\"error_y\":{\"color\":\"#2a3f5f\"},\"marker\":{\"line\":{\"color\":\"#E5ECF6\",\"width\":0.5},\"pattern\":{\"fillmode\":\"overlay\",\"size\":10,\"solidity\":0.2}},\"type\":\"bar\"}],\"carpet\":[{\"aaxis\":{\"endlinecolor\":\"#2a3f5f\",\"gridcolor\":\"white\",\"linecolor\":\"white\",\"minorgridcolor\":\"white\",\"startlinecolor\":\"#2a3f5f\"},\"baxis\":{\"endlinecolor\":\"#2a3f5f\",\"gridcolor\":\"white\",\"linecolor\":\"white\",\"minorgridcolor\":\"white\",\"startlinecolor\":\"#2a3f5f\"},\"type\":\"carpet\"}],\"choropleth\":[{\"colorbar\":{\"outlinewidth\":0,\"ticks\":\"\"},\"type\":\"choropleth\"}],\"contourcarpet\":[{\"colorbar\":{\"outlinewidth\":0,\"ticks\":\"\"},\"type\":\"contourcarpet\"}],\"contour\":[{\"colorbar\":{\"outlinewidth\":0,\"ticks\":\"\"},\"colorscale\":[[0.0,\"#0d0887\"],[0.1111111111111111,\"#46039f\"],[0.2222222222222222,\"#7201a8\"],[0.3333333333333333,\"#9c179e\"],[0.4444444444444444,\"#bd3786\"],[0.5555555555555556,\"#d8576b\"],[0.6666666666666666,\"#ed7953\"],[0.7777777777777778,\"#fb9f3a\"],[0.8888888888888888,\"#fdca26\"],[1.0,\"#f0f921\"]],\"type\":\"contour\"}],\"heatmapgl\":[{\"colorbar\":{\"outlinewidth\":0,\"ticks\":\"\"},\"colorscale\":[[0.0,\"#0d0887\"],[0.1111111111111111,\"#46039f\"],[0.2222222222222222,\"#7201a8\"],[0.3333333333333333,\"#9c179e\"],[0.4444444444444444,\"#bd3786\"],[0.5555555555555556,\"#d8576b\"],[0.6666666666666666,\"#ed7953\"],[0.7777777777777778,\"#fb9f3a\"],[0.8888888888888888,\"#fdca26\"],[1.0,\"#f0f921\"]],\"type\":\"heatmapgl\"}],\"heatmap\":[{\"colorbar\":{\"outlinewidth\":0,\"ticks\":\"\"},\"colorscale\":[[0.0,\"#0d0887\"],[0.1111111111111111,\"#46039f\"],[0.2222222222222222,\"#7201a8\"],[0.3333333333333333,\"#9c179e\"],[0.4444444444444444,\"#bd3786\"],[0.5555555555555556,\"#d8576b\"],[0.6666666666666666,\"#ed7953\"],[0.7777777777777778,\"#fb9f3a\"],[0.8888888888888888,\"#fdca26\"],[1.0,\"#f0f921\"]],\"type\":\"heatmap\"}],\"histogram2dcontour\":[{\"colorbar\":{\"outlinewidth\":0,\"ticks\":\"\"},\"colorscale\":[[0.0,\"#0d0887\"],[0.1111111111111111,\"#46039f\"],[0.2222222222222222,\"#7201a8\"],[0.3333333333333333,\"#9c179e\"],[0.4444444444444444,\"#bd3786\"],[0.5555555555555556,\"#d8576b\"],[0.6666666666666666,\"#ed7953\"],[0.7777777777777778,\"#fb9f3a\"],[0.8888888888888888,\"#fdca26\"],[1.0,\"#f0f921\"]],\"type\":\"histogram2dcontour\"}],\"histogram2d\":[{\"colorbar\":{\"outlinewidth\":0,\"ticks\":\"\"},\"colorscale\":[[0.0,\"#0d0887\"],[0.1111111111111111,\"#46039f\"],[0.2222222222222222,\"#7201a8\"],[0.3333333333333333,\"#9c179e\"],[0.4444444444444444,\"#bd3786\"],[0.5555555555555556,\"#d8576b\"],[0.6666666666666666,\"#ed7953\"],[0.7777777777777778,\"#fb9f3a\"],[0.8888888888888888,\"#fdca26\"],[1.0,\"#f0f921\"]],\"type\":\"histogram2d\"}],\"histogram\":[{\"marker\":{\"pattern\":{\"fillmode\":\"overlay\",\"size\":10,\"solidity\":0.2}},\"type\":\"histogram\"}],\"mesh3d\":[{\"colorbar\":{\"outlinewidth\":0,\"ticks\":\"\"},\"type\":\"mesh3d\"}],\"parcoords\":[{\"line\":{\"colorbar\":{\"outlinewidth\":0,\"ticks\":\"\"}},\"type\":\"parcoords\"}],\"pie\":[{\"automargin\":true,\"type\":\"pie\"}],\"scatter3d\":[{\"line\":{\"colorbar\":{\"outlinewidth\":0,\"ticks\":\"\"}},\"marker\":{\"colorbar\":{\"outlinewidth\":0,\"ticks\":\"\"}},\"type\":\"scatter3d\"}],\"scattercarpet\":[{\"marker\":{\"colorbar\":{\"outlinewidth\":0,\"ticks\":\"\"}},\"type\":\"scattercarpet\"}],\"scattergeo\":[{\"marker\":{\"colorbar\":{\"outlinewidth\":0,\"ticks\":\"\"}},\"type\":\"scattergeo\"}],\"scattergl\":[{\"marker\":{\"colorbar\":{\"outlinewidth\":0,\"ticks\":\"\"}},\"type\":\"scattergl\"}],\"scattermapbox\":[{\"marker\":{\"colorbar\":{\"outlinewidth\":0,\"ticks\":\"\"}},\"type\":\"scattermapbox\"}],\"scatterpolargl\":[{\"marker\":{\"colorbar\":{\"outlinewidth\":0,\"ticks\":\"\"}},\"type\":\"scatterpolargl\"}],\"scatterpolar\":[{\"marker\":{\"colorbar\":{\"outlinewidth\":0,\"ticks\":\"\"}},\"type\":\"scatterpolar\"}],\"scatter\":[{\"marker\":{\"colorbar\":{\"outlinewidth\":0,\"ticks\":\"\"}},\"type\":\"scatter\"}],\"scatterternary\":[{\"marker\":{\"colorbar\":{\"outlinewidth\":0,\"ticks\":\"\"}},\"type\":\"scatterternary\"}],\"surface\":[{\"colorbar\":{\"outlinewidth\":0,\"ticks\":\"\"},\"colorscale\":[[0.0,\"#0d0887\"],[0.1111111111111111,\"#46039f\"],[0.2222222222222222,\"#7201a8\"],[0.3333333333333333,\"#9c179e\"],[0.4444444444444444,\"#bd3786\"],[0.5555555555555556,\"#d8576b\"],[0.6666666666666666,\"#ed7953\"],[0.7777777777777778,\"#fb9f3a\"],[0.8888888888888888,\"#fdca26\"],[1.0,\"#f0f921\"]],\"type\":\"surface\"}],\"table\":[{\"cells\":{\"fill\":{\"color\":\"#EBF0F8\"},\"line\":{\"color\":\"white\"}},\"header\":{\"fill\":{\"color\":\"#C8D4E3\"},\"line\":{\"color\":\"white\"}},\"type\":\"table\"}]},\"layout\":{\"annotationdefaults\":{\"arrowcolor\":\"#2a3f5f\",\"arrowhead\":0,\"arrowwidth\":1},\"autotypenumbers\":\"strict\",\"coloraxis\":{\"colorbar\":{\"outlinewidth\":0,\"ticks\":\"\"}},\"colorscale\":{\"diverging\":[[0,\"#8e0152\"],[0.1,\"#c51b7d\"],[0.2,\"#de77ae\"],[0.3,\"#f1b6da\"],[0.4,\"#fde0ef\"],[0.5,\"#f7f7f7\"],[0.6,\"#e6f5d0\"],[0.7,\"#b8e186\"],[0.8,\"#7fbc41\"],[0.9,\"#4d9221\"],[1,\"#276419\"]],\"sequential\":[[0.0,\"#0d0887\"],[0.1111111111111111,\"#46039f\"],[0.2222222222222222,\"#7201a8\"],[0.3333333333333333,\"#9c179e\"],[0.4444444444444444,\"#bd3786\"],[0.5555555555555556,\"#d8576b\"],[0.6666666666666666,\"#ed7953\"],[0.7777777777777778,\"#fb9f3a\"],[0.8888888888888888,\"#fdca26\"],[1.0,\"#f0f921\"]],\"sequentialminus\":[[0.0,\"#0d0887\"],[0.1111111111111111,\"#46039f\"],[0.2222222222222222,\"#7201a8\"],[0.3333333333333333,\"#9c179e\"],[0.4444444444444444,\"#bd3786\"],[0.5555555555555556,\"#d8576b\"],[0.6666666666666666,\"#ed7953\"],[0.7777777777777778,\"#fb9f3a\"],[0.8888888888888888,\"#fdca26\"],[1.0,\"#f0f921\"]]},\"colorway\":[\"#636efa\",\"#EF553B\",\"#00cc96\",\"#ab63fa\",\"#FFA15A\",\"#19d3f3\",\"#FF6692\",\"#B6E880\",\"#FF97FF\",\"#FECB52\"],\"font\":{\"color\":\"#2a3f5f\"},\"geo\":{\"bgcolor\":\"white\",\"lakecolor\":\"white\",\"landcolor\":\"#E5ECF6\",\"showlakes\":true,\"showland\":true,\"subunitcolor\":\"white\"},\"hoverlabel\":{\"align\":\"left\"},\"hovermode\":\"closest\",\"mapbox\":{\"style\":\"light\"},\"paper_bgcolor\":\"white\",\"plot_bgcolor\":\"#E5ECF6\",\"polar\":{\"angularaxis\":{\"gridcolor\":\"white\",\"linecolor\":\"white\",\"ticks\":\"\"},\"bgcolor\":\"#E5ECF6\",\"radialaxis\":{\"gridcolor\":\"white\",\"linecolor\":\"white\",\"ticks\":\"\"}},\"scene\":{\"xaxis\":{\"backgroundcolor\":\"#E5ECF6\",\"gridcolor\":\"white\",\"gridwidth\":2,\"linecolor\":\"white\",\"showbackground\":true,\"ticks\":\"\",\"zerolinecolor\":\"white\"},\"yaxis\":{\"backgroundcolor\":\"#E5ECF6\",\"gridcolor\":\"white\",\"gridwidth\":2,\"linecolor\":\"white\",\"showbackground\":true,\"ticks\":\"\",\"zerolinecolor\":\"white\"},\"zaxis\":{\"backgroundcolor\":\"#E5ECF6\",\"gridcolor\":\"white\",\"gridwidth\":2,\"linecolor\":\"white\",\"showbackground\":true,\"ticks\":\"\",\"zerolinecolor\":\"white\"}},\"shapedefaults\":{\"line\":{\"color\":\"#2a3f5f\"}},\"ternary\":{\"aaxis\":{\"gridcolor\":\"white\",\"linecolor\":\"white\",\"ticks\":\"\"},\"baxis\":{\"gridcolor\":\"white\",\"linecolor\":\"white\",\"ticks\":\"\"},\"bgcolor\":\"#E5ECF6\",\"caxis\":{\"gridcolor\":\"white\",\"linecolor\":\"white\",\"ticks\":\"\"}},\"title\":{\"x\":0.05},\"xaxis\":{\"automargin\":true,\"gridcolor\":\"white\",\"linecolor\":\"white\",\"ticks\":\"\",\"title\":{\"standoff\":15},\"zerolinecolor\":\"white\",\"zerolinewidth\":2},\"yaxis\":{\"automargin\":true,\"gridcolor\":\"white\",\"linecolor\":\"white\",\"ticks\":\"\",\"title\":{\"standoff\":15},\"zerolinecolor\":\"white\",\"zerolinewidth\":2}}},\"title\":{\"text\":\"\\u0417\\u0430\\u0432\\u0438\\u0441\\u0438\\u043c\\u043e\\u0441\\u0442\\u044c \\u043f\\u043e\\u0433\\u0440\\u0435\\u0448\\u043d\\u043e\\u0441\\u0442\\u0438 \\u043e\\u0442 \\u0434\\u043b\\u0438\\u043d\\u044b \\u0448\\u0430\\u0433\\u0430\"},\"xaxis\":{\"dtick\":0.1,\"range\":[-2,0.5],\"tick0\":0,\"tickmode\":\"linear\",\"title\":{\"text\":\"log h\"}},\"yaxis\":{\"range\":[-3,1],\"tickmode\":\"array\",\"tickvals\":[-3,-2.8,-2.5999999999999996,-2.3999999999999995,-2.1999999999999993,-1.9999999999999993,-1.7999999999999994,-1.5999999999999994,-1.3999999999999995,-1.1999999999999995,-0.9999999999999996,-0.7999999999999996,-0.5999999999999996,-0.39999999999999963,-0.19999999999999962,3.885780586188048e-16,0.2000000000000004,0.4000000000000004,0.6000000000000004,0.8000000000000005,1.0000000000000004],\"title\":{\"text\":\"log e\"}}},                        {\"responsive\": true}                    ).then(function(){\n",
              "                            \n",
              "var gd = document.getElementById('64112ac4-4039-4803-b213-99ead16a68a2');\n",
              "var x = new MutationObserver(function (mutations, observer) {{\n",
              "        var display = window.getComputedStyle(gd).display;\n",
              "        if (!display || display === 'none') {{\n",
              "            console.log([gd, 'removed!']);\n",
              "            Plotly.purge(gd);\n",
              "            observer.disconnect();\n",
              "        }}\n",
              "}});\n",
              "\n",
              "// Listen for the removal of the full notebook cells\n",
              "var notebookContainer = gd.closest('#notebook-container');\n",
              "if (notebookContainer) {{\n",
              "    x.observe(notebookContainer, {childList: true});\n",
              "}}\n",
              "\n",
              "// Listen for the clearing of the current output cell\n",
              "var outputEl = gd.closest('.output');\n",
              "if (outputEl) {{\n",
              "    x.observe(outputEl, {childList: true});\n",
              "}}\n",
              "\n",
              "                        })                };                            </script>        </div>\n",
              "</body>\n",
              "</html>"
            ]
          },
          "metadata": {}
        }
      ],
      "source": [
        "h, e = GetStepHandError(implict, u)\n",
        "\n",
        "trace1 = Scatter(\n",
        "    x = h,\n",
        "    y = e,\n",
        "    name = 'Неявная',\n",
        "    mode = 'lines',\n",
        "    text = ('(x, y)'),\n",
        "    showlegend = True\n",
        ")\n",
        "\n",
        "data = [trace1]\n",
        "\n",
        "layout = Layout(\n",
        "    title = 'Зависимость погрешности от длины шага',\n",
        "    xaxis = dict(#tickmode = 'array',\n",
        "                 #tickvals = list(implict.nparange(0, 1.6, 0.1)),\n",
        "                 tickmode = 'linear',\n",
        "                 tick0 = 0,\n",
        "                 dtick = 0.1,\n",
        "                 range = [0, 1.6],\n",
        "                 title = 'h'),\n",
        "    yaxis = dict(tickmode = 'array',\n",
        "                 tickvals = list(implict.nparange(0, 2.1, 0.2)),\n",
        "                 range = [0, 2.1],\n",
        "                 title = 'e')\n",
        ")\n",
        "\n",
        "fig = Figure(data = data, layout = layout)\n",
        "offline.iplot(fig)\n",
        "\n",
        "trace1 = Scatter(\n",
        "    x = list(map(math.log, h)),\n",
        "    y = list(map(math.log, e)),\n",
        "    name = 'Неявная',\n",
        "    mode = 'lines',\n",
        "    text = ('(x, y)'),\n",
        "    showlegend = True\n",
        ")\n",
        "\n",
        "trace2 = Scatter(\n",
        "    x = [-2, 0.5],\n",
        "    y = [-3, -0.5],\n",
        "    name = 'Зависимость $O(h)$',\n",
        "    mode = 'lines',\n",
        "    text = ('(x, y)'),\n",
        "    showlegend = True\n",
        ")\n",
        "\n",
        "trace3 = Scatter(\n",
        "    x = [-2, 0.5],\n",
        "    y = [-3, 2],\n",
        "    name = 'Зависимость $O(h^2)$',\n",
        "    mode = 'lines',\n",
        "    text = ('(x, y)'),\n",
        "    showlegend = True\n",
        ")\n",
        "\n",
        "data = [trace1, trace2, trace3]\n",
        "\n",
        "layout = Layout(\n",
        "    title = 'Зависимость погрешности от длины шага',\n",
        "    xaxis = dict(#tickmode = 'array',\n",
        "                 #tickvals = list(implict.nparange(-2, 0.5, 0.1)),\n",
        "                 tickmode = 'linear',\n",
        "                 tick0 = 0,\n",
        "                 dtick = 0.1,\n",
        "                 range = [-2, 0.5],\n",
        "                 title = 'log h'),\n",
        "    yaxis = dict(tickmode = 'array',\n",
        "                 tickvals = list(implict.nparange(-3, 1, 0.2)),\n",
        "                 range = [-3, 1],\n",
        "                 title = 'log e')\n",
        ")\n",
        "\n",
        "fig = Figure(data = data, layout = layout)\n",
        "offline.iplot(fig)"
      ]
    },
    {
      "cell_type": "markdown",
      "metadata": {
        "id": "XiPyNPpZJ2eJ"
      },
      "source": [
        "#### Схема Кранка-Николсона"
      ]
    },
    {
      "cell_type": "code",
      "execution_count": 16,
      "metadata": {
        "id": "5INsxPuCJ2eK"
      },
      "outputs": [],
      "source": [
        "# ImplictExplict с параметром O=0.5 это схема Кранка-Николсона\n",
        "krank = ImplictExplict(T=1, aprx_cls=Approx2pointSecondOrder, O=0.5)"
      ]
    },
    {
      "cell_type": "code",
      "execution_count": 17,
      "metadata": {
        "colab": {
          "base_uri": "https://localhost:8080/",
          "height": 1067
        },
        "id": "jC5SI_vxJ2eK",
        "outputId": "3368446c-62ea-4d9d-9b79-4a8e615786a0"
      },
      "outputs": [
        {
          "output_type": "display_data",
          "data": {
            "text/html": [
              "<html>\n",
              "<head><meta charset=\"utf-8\" /></head>\n",
              "<body>\n",
              "    <div>            <script src=\"https://cdnjs.cloudflare.com/ajax/libs/mathjax/2.7.5/MathJax.js?config=TeX-AMS-MML_SVG\"></script><script type=\"text/javascript\">if (window.MathJax) {MathJax.Hub.Config({SVG: {font: \"STIX-Web\"}});}</script>                <script type=\"text/javascript\">window.PlotlyConfig = {MathJaxConfig: 'local'};</script>\n",
              "        <script src=\"https://cdn.plot.ly/plotly-2.8.3.min.js\"></script>                <div id=\"63325cd3-90d7-47c7-980a-1bf52b5699d1\" class=\"plotly-graph-div\" style=\"height:525px; width:100%;\"></div>            <script type=\"text/javascript\">                                    window.PLOTLYENV=window.PLOTLYENV || {};                                    if (document.getElementById(\"63325cd3-90d7-47c7-980a-1bf52b5699d1\")) {                    Plotly.newPlot(                        \"63325cd3-90d7-47c7-980a-1bf52b5699d1\",                        [{\"mode\":\"lines\",\"name\":\"\\u041a\\u0440\\u0430\\u043d\\u043a-\\u041d\\u0438\\u043a\\u043e\\u043b\\u0441\\u043e\\u043d\",\"showlegend\":true,\"text\":\"(x, y)\",\"x\":[1.5707963267948966,1.0471975511965976,0.7853981633974483,0.6283185307179586,0.5235987755982988,0.4487989505128276,0.39269908169872414,0.3490658503988659,0.3141592653589793,0.28559933214452665,0.2617993877991494,0.241660973353061,0.2243994752564138,0.20943951023931953,0.19634954084936207,0.18479956785822313,0.17453292519943295],\"y\":[1.8706700087522237,1.0079046400070042,0.6201271426391732,0.4208287393184554,0.30627483084399015,0.2344442835779475,0.186316413692868,0.1523803812185906,0.12747105695849684,0.10858855219694898,0.09389232819756191,0.08220080260668193,0.07272610264344231,0.06492571679918023,0.0584156484524814,0.05291753847419989,0.048225355230193834],\"type\":\"scatter\"}],                        {\"template\":{\"data\":{\"barpolar\":[{\"marker\":{\"line\":{\"color\":\"#E5ECF6\",\"width\":0.5},\"pattern\":{\"fillmode\":\"overlay\",\"size\":10,\"solidity\":0.2}},\"type\":\"barpolar\"}],\"bar\":[{\"error_x\":{\"color\":\"#2a3f5f\"},\"error_y\":{\"color\":\"#2a3f5f\"},\"marker\":{\"line\":{\"color\":\"#E5ECF6\",\"width\":0.5},\"pattern\":{\"fillmode\":\"overlay\",\"size\":10,\"solidity\":0.2}},\"type\":\"bar\"}],\"carpet\":[{\"aaxis\":{\"endlinecolor\":\"#2a3f5f\",\"gridcolor\":\"white\",\"linecolor\":\"white\",\"minorgridcolor\":\"white\",\"startlinecolor\":\"#2a3f5f\"},\"baxis\":{\"endlinecolor\":\"#2a3f5f\",\"gridcolor\":\"white\",\"linecolor\":\"white\",\"minorgridcolor\":\"white\",\"startlinecolor\":\"#2a3f5f\"},\"type\":\"carpet\"}],\"choropleth\":[{\"colorbar\":{\"outlinewidth\":0,\"ticks\":\"\"},\"type\":\"choropleth\"}],\"contourcarpet\":[{\"colorbar\":{\"outlinewidth\":0,\"ticks\":\"\"},\"type\":\"contourcarpet\"}],\"contour\":[{\"colorbar\":{\"outlinewidth\":0,\"ticks\":\"\"},\"colorscale\":[[0.0,\"#0d0887\"],[0.1111111111111111,\"#46039f\"],[0.2222222222222222,\"#7201a8\"],[0.3333333333333333,\"#9c179e\"],[0.4444444444444444,\"#bd3786\"],[0.5555555555555556,\"#d8576b\"],[0.6666666666666666,\"#ed7953\"],[0.7777777777777778,\"#fb9f3a\"],[0.8888888888888888,\"#fdca26\"],[1.0,\"#f0f921\"]],\"type\":\"contour\"}],\"heatmapgl\":[{\"colorbar\":{\"outlinewidth\":0,\"ticks\":\"\"},\"colorscale\":[[0.0,\"#0d0887\"],[0.1111111111111111,\"#46039f\"],[0.2222222222222222,\"#7201a8\"],[0.3333333333333333,\"#9c179e\"],[0.4444444444444444,\"#bd3786\"],[0.5555555555555556,\"#d8576b\"],[0.6666666666666666,\"#ed7953\"],[0.7777777777777778,\"#fb9f3a\"],[0.8888888888888888,\"#fdca26\"],[1.0,\"#f0f921\"]],\"type\":\"heatmapgl\"}],\"heatmap\":[{\"colorbar\":{\"outlinewidth\":0,\"ticks\":\"\"},\"colorscale\":[[0.0,\"#0d0887\"],[0.1111111111111111,\"#46039f\"],[0.2222222222222222,\"#7201a8\"],[0.3333333333333333,\"#9c179e\"],[0.4444444444444444,\"#bd3786\"],[0.5555555555555556,\"#d8576b\"],[0.6666666666666666,\"#ed7953\"],[0.7777777777777778,\"#fb9f3a\"],[0.8888888888888888,\"#fdca26\"],[1.0,\"#f0f921\"]],\"type\":\"heatmap\"}],\"histogram2dcontour\":[{\"colorbar\":{\"outlinewidth\":0,\"ticks\":\"\"},\"colorscale\":[[0.0,\"#0d0887\"],[0.1111111111111111,\"#46039f\"],[0.2222222222222222,\"#7201a8\"],[0.3333333333333333,\"#9c179e\"],[0.4444444444444444,\"#bd3786\"],[0.5555555555555556,\"#d8576b\"],[0.6666666666666666,\"#ed7953\"],[0.7777777777777778,\"#fb9f3a\"],[0.8888888888888888,\"#fdca26\"],[1.0,\"#f0f921\"]],\"type\":\"histogram2dcontour\"}],\"histogram2d\":[{\"colorbar\":{\"outlinewidth\":0,\"ticks\":\"\"},\"colorscale\":[[0.0,\"#0d0887\"],[0.1111111111111111,\"#46039f\"],[0.2222222222222222,\"#7201a8\"],[0.3333333333333333,\"#9c179e\"],[0.4444444444444444,\"#bd3786\"],[0.5555555555555556,\"#d8576b\"],[0.6666666666666666,\"#ed7953\"],[0.7777777777777778,\"#fb9f3a\"],[0.8888888888888888,\"#fdca26\"],[1.0,\"#f0f921\"]],\"type\":\"histogram2d\"}],\"histogram\":[{\"marker\":{\"pattern\":{\"fillmode\":\"overlay\",\"size\":10,\"solidity\":0.2}},\"type\":\"histogram\"}],\"mesh3d\":[{\"colorbar\":{\"outlinewidth\":0,\"ticks\":\"\"},\"type\":\"mesh3d\"}],\"parcoords\":[{\"line\":{\"colorbar\":{\"outlinewidth\":0,\"ticks\":\"\"}},\"type\":\"parcoords\"}],\"pie\":[{\"automargin\":true,\"type\":\"pie\"}],\"scatter3d\":[{\"line\":{\"colorbar\":{\"outlinewidth\":0,\"ticks\":\"\"}},\"marker\":{\"colorbar\":{\"outlinewidth\":0,\"ticks\":\"\"}},\"type\":\"scatter3d\"}],\"scattercarpet\":[{\"marker\":{\"colorbar\":{\"outlinewidth\":0,\"ticks\":\"\"}},\"type\":\"scattercarpet\"}],\"scattergeo\":[{\"marker\":{\"colorbar\":{\"outlinewidth\":0,\"ticks\":\"\"}},\"type\":\"scattergeo\"}],\"scattergl\":[{\"marker\":{\"colorbar\":{\"outlinewidth\":0,\"ticks\":\"\"}},\"type\":\"scattergl\"}],\"scattermapbox\":[{\"marker\":{\"colorbar\":{\"outlinewidth\":0,\"ticks\":\"\"}},\"type\":\"scattermapbox\"}],\"scatterpolargl\":[{\"marker\":{\"colorbar\":{\"outlinewidth\":0,\"ticks\":\"\"}},\"type\":\"scatterpolargl\"}],\"scatterpolar\":[{\"marker\":{\"colorbar\":{\"outlinewidth\":0,\"ticks\":\"\"}},\"type\":\"scatterpolar\"}],\"scatter\":[{\"marker\":{\"colorbar\":{\"outlinewidth\":0,\"ticks\":\"\"}},\"type\":\"scatter\"}],\"scatterternary\":[{\"marker\":{\"colorbar\":{\"outlinewidth\":0,\"ticks\":\"\"}},\"type\":\"scatterternary\"}],\"surface\":[{\"colorbar\":{\"outlinewidth\":0,\"ticks\":\"\"},\"colorscale\":[[0.0,\"#0d0887\"],[0.1111111111111111,\"#46039f\"],[0.2222222222222222,\"#7201a8\"],[0.3333333333333333,\"#9c179e\"],[0.4444444444444444,\"#bd3786\"],[0.5555555555555556,\"#d8576b\"],[0.6666666666666666,\"#ed7953\"],[0.7777777777777778,\"#fb9f3a\"],[0.8888888888888888,\"#fdca26\"],[1.0,\"#f0f921\"]],\"type\":\"surface\"}],\"table\":[{\"cells\":{\"fill\":{\"color\":\"#EBF0F8\"},\"line\":{\"color\":\"white\"}},\"header\":{\"fill\":{\"color\":\"#C8D4E3\"},\"line\":{\"color\":\"white\"}},\"type\":\"table\"}]},\"layout\":{\"annotationdefaults\":{\"arrowcolor\":\"#2a3f5f\",\"arrowhead\":0,\"arrowwidth\":1},\"autotypenumbers\":\"strict\",\"coloraxis\":{\"colorbar\":{\"outlinewidth\":0,\"ticks\":\"\"}},\"colorscale\":{\"diverging\":[[0,\"#8e0152\"],[0.1,\"#c51b7d\"],[0.2,\"#de77ae\"],[0.3,\"#f1b6da\"],[0.4,\"#fde0ef\"],[0.5,\"#f7f7f7\"],[0.6,\"#e6f5d0\"],[0.7,\"#b8e186\"],[0.8,\"#7fbc41\"],[0.9,\"#4d9221\"],[1,\"#276419\"]],\"sequential\":[[0.0,\"#0d0887\"],[0.1111111111111111,\"#46039f\"],[0.2222222222222222,\"#7201a8\"],[0.3333333333333333,\"#9c179e\"],[0.4444444444444444,\"#bd3786\"],[0.5555555555555556,\"#d8576b\"],[0.6666666666666666,\"#ed7953\"],[0.7777777777777778,\"#fb9f3a\"],[0.8888888888888888,\"#fdca26\"],[1.0,\"#f0f921\"]],\"sequentialminus\":[[0.0,\"#0d0887\"],[0.1111111111111111,\"#46039f\"],[0.2222222222222222,\"#7201a8\"],[0.3333333333333333,\"#9c179e\"],[0.4444444444444444,\"#bd3786\"],[0.5555555555555556,\"#d8576b\"],[0.6666666666666666,\"#ed7953\"],[0.7777777777777778,\"#fb9f3a\"],[0.8888888888888888,\"#fdca26\"],[1.0,\"#f0f921\"]]},\"colorway\":[\"#636efa\",\"#EF553B\",\"#00cc96\",\"#ab63fa\",\"#FFA15A\",\"#19d3f3\",\"#FF6692\",\"#B6E880\",\"#FF97FF\",\"#FECB52\"],\"font\":{\"color\":\"#2a3f5f\"},\"geo\":{\"bgcolor\":\"white\",\"lakecolor\":\"white\",\"landcolor\":\"#E5ECF6\",\"showlakes\":true,\"showland\":true,\"subunitcolor\":\"white\"},\"hoverlabel\":{\"align\":\"left\"},\"hovermode\":\"closest\",\"mapbox\":{\"style\":\"light\"},\"paper_bgcolor\":\"white\",\"plot_bgcolor\":\"#E5ECF6\",\"polar\":{\"angularaxis\":{\"gridcolor\":\"white\",\"linecolor\":\"white\",\"ticks\":\"\"},\"bgcolor\":\"#E5ECF6\",\"radialaxis\":{\"gridcolor\":\"white\",\"linecolor\":\"white\",\"ticks\":\"\"}},\"scene\":{\"xaxis\":{\"backgroundcolor\":\"#E5ECF6\",\"gridcolor\":\"white\",\"gridwidth\":2,\"linecolor\":\"white\",\"showbackground\":true,\"ticks\":\"\",\"zerolinecolor\":\"white\"},\"yaxis\":{\"backgroundcolor\":\"#E5ECF6\",\"gridcolor\":\"white\",\"gridwidth\":2,\"linecolor\":\"white\",\"showbackground\":true,\"ticks\":\"\",\"zerolinecolor\":\"white\"},\"zaxis\":{\"backgroundcolor\":\"#E5ECF6\",\"gridcolor\":\"white\",\"gridwidth\":2,\"linecolor\":\"white\",\"showbackground\":true,\"ticks\":\"\",\"zerolinecolor\":\"white\"}},\"shapedefaults\":{\"line\":{\"color\":\"#2a3f5f\"}},\"ternary\":{\"aaxis\":{\"gridcolor\":\"white\",\"linecolor\":\"white\",\"ticks\":\"\"},\"baxis\":{\"gridcolor\":\"white\",\"linecolor\":\"white\",\"ticks\":\"\"},\"bgcolor\":\"#E5ECF6\",\"caxis\":{\"gridcolor\":\"white\",\"linecolor\":\"white\",\"ticks\":\"\"}},\"title\":{\"x\":0.05},\"xaxis\":{\"automargin\":true,\"gridcolor\":\"white\",\"linecolor\":\"white\",\"ticks\":\"\",\"title\":{\"standoff\":15},\"zerolinecolor\":\"white\",\"zerolinewidth\":2},\"yaxis\":{\"automargin\":true,\"gridcolor\":\"white\",\"linecolor\":\"white\",\"ticks\":\"\",\"title\":{\"standoff\":15},\"zerolinecolor\":\"white\",\"zerolinewidth\":2}}},\"title\":{\"text\":\"\\u0417\\u0430\\u0432\\u0438\\u0441\\u0438\\u043c\\u043e\\u0441\\u0442\\u044c \\u043f\\u043e\\u0433\\u0440\\u0435\\u0448\\u043d\\u043e\\u0441\\u0442\\u0438 \\u043e\\u0442 \\u0434\\u043b\\u0438\\u043d\\u044b \\u0448\\u0430\\u0433\\u0430\"},\"xaxis\":{\"tickmode\":\"array\",\"tickvals\":[0.0,0.1,0.2,0.30000000000000004,0.4,0.5,0.6000000000000001,0.7000000000000001,0.8,0.9,1.0,1.1,1.2000000000000002,1.3,1.4000000000000001,1.5],\"title\":{\"text\":\"h\"}},\"yaxis\":{\"range\":[0,2.1],\"tickmode\":\"array\",\"tickvals\":[0.0,0.2,0.4,0.6000000000000001,0.8,1.0,1.2000000000000002,1.4000000000000001,1.6,1.8,2.0],\"title\":{\"text\":\"e\"}}},                        {\"responsive\": true}                    ).then(function(){\n",
              "                            \n",
              "var gd = document.getElementById('63325cd3-90d7-47c7-980a-1bf52b5699d1');\n",
              "var x = new MutationObserver(function (mutations, observer) {{\n",
              "        var display = window.getComputedStyle(gd).display;\n",
              "        if (!display || display === 'none') {{\n",
              "            console.log([gd, 'removed!']);\n",
              "            Plotly.purge(gd);\n",
              "            observer.disconnect();\n",
              "        }}\n",
              "}});\n",
              "\n",
              "// Listen for the removal of the full notebook cells\n",
              "var notebookContainer = gd.closest('#notebook-container');\n",
              "if (notebookContainer) {{\n",
              "    x.observe(notebookContainer, {childList: true});\n",
              "}}\n",
              "\n",
              "// Listen for the clearing of the current output cell\n",
              "var outputEl = gd.closest('.output');\n",
              "if (outputEl) {{\n",
              "    x.observe(outputEl, {childList: true});\n",
              "}}\n",
              "\n",
              "                        })                };                            </script>        </div>\n",
              "</body>\n",
              "</html>"
            ]
          },
          "metadata": {}
        },
        {
          "output_type": "display_data",
          "data": {
            "text/html": [
              "<html>\n",
              "<head><meta charset=\"utf-8\" /></head>\n",
              "<body>\n",
              "    <div>            <script src=\"https://cdnjs.cloudflare.com/ajax/libs/mathjax/2.7.5/MathJax.js?config=TeX-AMS-MML_SVG\"></script><script type=\"text/javascript\">if (window.MathJax) {MathJax.Hub.Config({SVG: {font: \"STIX-Web\"}});}</script>                <script type=\"text/javascript\">window.PlotlyConfig = {MathJaxConfig: 'local'};</script>\n",
              "        <script src=\"https://cdn.plot.ly/plotly-2.8.3.min.js\"></script>                <div id=\"5851f591-de1d-47f1-a92d-8fda1819ec07\" class=\"plotly-graph-div\" style=\"height:525px; width:100%;\"></div>            <script type=\"text/javascript\">                                    window.PLOTLYENV=window.PLOTLYENV || {};                                    if (document.getElementById(\"5851f591-de1d-47f1-a92d-8fda1819ec07\")) {                    Plotly.newPlot(                        \"5851f591-de1d-47f1-a92d-8fda1819ec07\",                        [{\"mode\":\"lines\",\"name\":\"\\u041a\\u0440\\u0430\\u043d\\u043a-\\u041d\\u0438\\u043a\\u043e\\u043b\\u0441\\u043e\\u043d\",\"showlegend\":true,\"text\":\"(x, y)\",\"x\":[0.4515827052894548,0.046117597181290375,-0.2415644752704905,-0.46470802658470023,-0.6470295833786549,-0.8011802632059132,-0.9347116558304358,-1.0524946914868192,-1.1578552071446455,-1.2531653869489703,-1.3401767639386002,-1.4202194716121366,-1.4943274437658585,-1.56332031525281,-1.6278588363903812,-1.688483458206816,-1.7456418720467646],\"y\":[0.6262966601451118,0.007873562006360394,-0.4778307531938664,-0.865529323031314,-1.183272440103124,-1.4505373160088932,-1.680308901697417,-1.881375376177766,-2.0598659444001037,-2.22018928958971,-2.365606597942098,-2.4985902128961146,-2.6210549128946723,-2.7345114810756295,-2.840171472087488,-2.939020454910169,-3.0318703541170313],\"type\":\"scatter\"},{\"mode\":\"lines\",\"name\":\"\\u0417\\u0430\\u0432\\u0438\\u0441\\u0438\\u043c\\u043e\\u0441\\u0442\\u044c $O(h)$\",\"showlegend\":true,\"text\":\"(x, y)\",\"x\":[-2,0.5],\"y\":[-3,-0.5],\"type\":\"scatter\"},{\"mode\":\"lines\",\"name\":\"\\u0417\\u0430\\u0432\\u0438\\u0441\\u0438\\u043c\\u043e\\u0441\\u0442\\u044c $O(h^2)$\",\"showlegend\":true,\"text\":\"(x, y)\",\"x\":[-2,0.5],\"y\":[-3,2],\"type\":\"scatter\"}],                        {\"template\":{\"data\":{\"barpolar\":[{\"marker\":{\"line\":{\"color\":\"#E5ECF6\",\"width\":0.5},\"pattern\":{\"fillmode\":\"overlay\",\"size\":10,\"solidity\":0.2}},\"type\":\"barpolar\"}],\"bar\":[{\"error_x\":{\"color\":\"#2a3f5f\"},\"error_y\":{\"color\":\"#2a3f5f\"},\"marker\":{\"line\":{\"color\":\"#E5ECF6\",\"width\":0.5},\"pattern\":{\"fillmode\":\"overlay\",\"size\":10,\"solidity\":0.2}},\"type\":\"bar\"}],\"carpet\":[{\"aaxis\":{\"endlinecolor\":\"#2a3f5f\",\"gridcolor\":\"white\",\"linecolor\":\"white\",\"minorgridcolor\":\"white\",\"startlinecolor\":\"#2a3f5f\"},\"baxis\":{\"endlinecolor\":\"#2a3f5f\",\"gridcolor\":\"white\",\"linecolor\":\"white\",\"minorgridcolor\":\"white\",\"startlinecolor\":\"#2a3f5f\"},\"type\":\"carpet\"}],\"choropleth\":[{\"colorbar\":{\"outlinewidth\":0,\"ticks\":\"\"},\"type\":\"choropleth\"}],\"contourcarpet\":[{\"colorbar\":{\"outlinewidth\":0,\"ticks\":\"\"},\"type\":\"contourcarpet\"}],\"contour\":[{\"colorbar\":{\"outlinewidth\":0,\"ticks\":\"\"},\"colorscale\":[[0.0,\"#0d0887\"],[0.1111111111111111,\"#46039f\"],[0.2222222222222222,\"#7201a8\"],[0.3333333333333333,\"#9c179e\"],[0.4444444444444444,\"#bd3786\"],[0.5555555555555556,\"#d8576b\"],[0.6666666666666666,\"#ed7953\"],[0.7777777777777778,\"#fb9f3a\"],[0.8888888888888888,\"#fdca26\"],[1.0,\"#f0f921\"]],\"type\":\"contour\"}],\"heatmapgl\":[{\"colorbar\":{\"outlinewidth\":0,\"ticks\":\"\"},\"colorscale\":[[0.0,\"#0d0887\"],[0.1111111111111111,\"#46039f\"],[0.2222222222222222,\"#7201a8\"],[0.3333333333333333,\"#9c179e\"],[0.4444444444444444,\"#bd3786\"],[0.5555555555555556,\"#d8576b\"],[0.6666666666666666,\"#ed7953\"],[0.7777777777777778,\"#fb9f3a\"],[0.8888888888888888,\"#fdca26\"],[1.0,\"#f0f921\"]],\"type\":\"heatmapgl\"}],\"heatmap\":[{\"colorbar\":{\"outlinewidth\":0,\"ticks\":\"\"},\"colorscale\":[[0.0,\"#0d0887\"],[0.1111111111111111,\"#46039f\"],[0.2222222222222222,\"#7201a8\"],[0.3333333333333333,\"#9c179e\"],[0.4444444444444444,\"#bd3786\"],[0.5555555555555556,\"#d8576b\"],[0.6666666666666666,\"#ed7953\"],[0.7777777777777778,\"#fb9f3a\"],[0.8888888888888888,\"#fdca26\"],[1.0,\"#f0f921\"]],\"type\":\"heatmap\"}],\"histogram2dcontour\":[{\"colorbar\":{\"outlinewidth\":0,\"ticks\":\"\"},\"colorscale\":[[0.0,\"#0d0887\"],[0.1111111111111111,\"#46039f\"],[0.2222222222222222,\"#7201a8\"],[0.3333333333333333,\"#9c179e\"],[0.4444444444444444,\"#bd3786\"],[0.5555555555555556,\"#d8576b\"],[0.6666666666666666,\"#ed7953\"],[0.7777777777777778,\"#fb9f3a\"],[0.8888888888888888,\"#fdca26\"],[1.0,\"#f0f921\"]],\"type\":\"histogram2dcontour\"}],\"histogram2d\":[{\"colorbar\":{\"outlinewidth\":0,\"ticks\":\"\"},\"colorscale\":[[0.0,\"#0d0887\"],[0.1111111111111111,\"#46039f\"],[0.2222222222222222,\"#7201a8\"],[0.3333333333333333,\"#9c179e\"],[0.4444444444444444,\"#bd3786\"],[0.5555555555555556,\"#d8576b\"],[0.6666666666666666,\"#ed7953\"],[0.7777777777777778,\"#fb9f3a\"],[0.8888888888888888,\"#fdca26\"],[1.0,\"#f0f921\"]],\"type\":\"histogram2d\"}],\"histogram\":[{\"marker\":{\"pattern\":{\"fillmode\":\"overlay\",\"size\":10,\"solidity\":0.2}},\"type\":\"histogram\"}],\"mesh3d\":[{\"colorbar\":{\"outlinewidth\":0,\"ticks\":\"\"},\"type\":\"mesh3d\"}],\"parcoords\":[{\"line\":{\"colorbar\":{\"outlinewidth\":0,\"ticks\":\"\"}},\"type\":\"parcoords\"}],\"pie\":[{\"automargin\":true,\"type\":\"pie\"}],\"scatter3d\":[{\"line\":{\"colorbar\":{\"outlinewidth\":0,\"ticks\":\"\"}},\"marker\":{\"colorbar\":{\"outlinewidth\":0,\"ticks\":\"\"}},\"type\":\"scatter3d\"}],\"scattercarpet\":[{\"marker\":{\"colorbar\":{\"outlinewidth\":0,\"ticks\":\"\"}},\"type\":\"scattercarpet\"}],\"scattergeo\":[{\"marker\":{\"colorbar\":{\"outlinewidth\":0,\"ticks\":\"\"}},\"type\":\"scattergeo\"}],\"scattergl\":[{\"marker\":{\"colorbar\":{\"outlinewidth\":0,\"ticks\":\"\"}},\"type\":\"scattergl\"}],\"scattermapbox\":[{\"marker\":{\"colorbar\":{\"outlinewidth\":0,\"ticks\":\"\"}},\"type\":\"scattermapbox\"}],\"scatterpolargl\":[{\"marker\":{\"colorbar\":{\"outlinewidth\":0,\"ticks\":\"\"}},\"type\":\"scatterpolargl\"}],\"scatterpolar\":[{\"marker\":{\"colorbar\":{\"outlinewidth\":0,\"ticks\":\"\"}},\"type\":\"scatterpolar\"}],\"scatter\":[{\"marker\":{\"colorbar\":{\"outlinewidth\":0,\"ticks\":\"\"}},\"type\":\"scatter\"}],\"scatterternary\":[{\"marker\":{\"colorbar\":{\"outlinewidth\":0,\"ticks\":\"\"}},\"type\":\"scatterternary\"}],\"surface\":[{\"colorbar\":{\"outlinewidth\":0,\"ticks\":\"\"},\"colorscale\":[[0.0,\"#0d0887\"],[0.1111111111111111,\"#46039f\"],[0.2222222222222222,\"#7201a8\"],[0.3333333333333333,\"#9c179e\"],[0.4444444444444444,\"#bd3786\"],[0.5555555555555556,\"#d8576b\"],[0.6666666666666666,\"#ed7953\"],[0.7777777777777778,\"#fb9f3a\"],[0.8888888888888888,\"#fdca26\"],[1.0,\"#f0f921\"]],\"type\":\"surface\"}],\"table\":[{\"cells\":{\"fill\":{\"color\":\"#EBF0F8\"},\"line\":{\"color\":\"white\"}},\"header\":{\"fill\":{\"color\":\"#C8D4E3\"},\"line\":{\"color\":\"white\"}},\"type\":\"table\"}]},\"layout\":{\"annotationdefaults\":{\"arrowcolor\":\"#2a3f5f\",\"arrowhead\":0,\"arrowwidth\":1},\"autotypenumbers\":\"strict\",\"coloraxis\":{\"colorbar\":{\"outlinewidth\":0,\"ticks\":\"\"}},\"colorscale\":{\"diverging\":[[0,\"#8e0152\"],[0.1,\"#c51b7d\"],[0.2,\"#de77ae\"],[0.3,\"#f1b6da\"],[0.4,\"#fde0ef\"],[0.5,\"#f7f7f7\"],[0.6,\"#e6f5d0\"],[0.7,\"#b8e186\"],[0.8,\"#7fbc41\"],[0.9,\"#4d9221\"],[1,\"#276419\"]],\"sequential\":[[0.0,\"#0d0887\"],[0.1111111111111111,\"#46039f\"],[0.2222222222222222,\"#7201a8\"],[0.3333333333333333,\"#9c179e\"],[0.4444444444444444,\"#bd3786\"],[0.5555555555555556,\"#d8576b\"],[0.6666666666666666,\"#ed7953\"],[0.7777777777777778,\"#fb9f3a\"],[0.8888888888888888,\"#fdca26\"],[1.0,\"#f0f921\"]],\"sequentialminus\":[[0.0,\"#0d0887\"],[0.1111111111111111,\"#46039f\"],[0.2222222222222222,\"#7201a8\"],[0.3333333333333333,\"#9c179e\"],[0.4444444444444444,\"#bd3786\"],[0.5555555555555556,\"#d8576b\"],[0.6666666666666666,\"#ed7953\"],[0.7777777777777778,\"#fb9f3a\"],[0.8888888888888888,\"#fdca26\"],[1.0,\"#f0f921\"]]},\"colorway\":[\"#636efa\",\"#EF553B\",\"#00cc96\",\"#ab63fa\",\"#FFA15A\",\"#19d3f3\",\"#FF6692\",\"#B6E880\",\"#FF97FF\",\"#FECB52\"],\"font\":{\"color\":\"#2a3f5f\"},\"geo\":{\"bgcolor\":\"white\",\"lakecolor\":\"white\",\"landcolor\":\"#E5ECF6\",\"showlakes\":true,\"showland\":true,\"subunitcolor\":\"white\"},\"hoverlabel\":{\"align\":\"left\"},\"hovermode\":\"closest\",\"mapbox\":{\"style\":\"light\"},\"paper_bgcolor\":\"white\",\"plot_bgcolor\":\"#E5ECF6\",\"polar\":{\"angularaxis\":{\"gridcolor\":\"white\",\"linecolor\":\"white\",\"ticks\":\"\"},\"bgcolor\":\"#E5ECF6\",\"radialaxis\":{\"gridcolor\":\"white\",\"linecolor\":\"white\",\"ticks\":\"\"}},\"scene\":{\"xaxis\":{\"backgroundcolor\":\"#E5ECF6\",\"gridcolor\":\"white\",\"gridwidth\":2,\"linecolor\":\"white\",\"showbackground\":true,\"ticks\":\"\",\"zerolinecolor\":\"white\"},\"yaxis\":{\"backgroundcolor\":\"#E5ECF6\",\"gridcolor\":\"white\",\"gridwidth\":2,\"linecolor\":\"white\",\"showbackground\":true,\"ticks\":\"\",\"zerolinecolor\":\"white\"},\"zaxis\":{\"backgroundcolor\":\"#E5ECF6\",\"gridcolor\":\"white\",\"gridwidth\":2,\"linecolor\":\"white\",\"showbackground\":true,\"ticks\":\"\",\"zerolinecolor\":\"white\"}},\"shapedefaults\":{\"line\":{\"color\":\"#2a3f5f\"}},\"ternary\":{\"aaxis\":{\"gridcolor\":\"white\",\"linecolor\":\"white\",\"ticks\":\"\"},\"baxis\":{\"gridcolor\":\"white\",\"linecolor\":\"white\",\"ticks\":\"\"},\"bgcolor\":\"#E5ECF6\",\"caxis\":{\"gridcolor\":\"white\",\"linecolor\":\"white\",\"ticks\":\"\"}},\"title\":{\"x\":0.05},\"xaxis\":{\"automargin\":true,\"gridcolor\":\"white\",\"linecolor\":\"white\",\"ticks\":\"\",\"title\":{\"standoff\":15},\"zerolinecolor\":\"white\",\"zerolinewidth\":2},\"yaxis\":{\"automargin\":true,\"gridcolor\":\"white\",\"linecolor\":\"white\",\"ticks\":\"\",\"title\":{\"standoff\":15},\"zerolinecolor\":\"white\",\"zerolinewidth\":2}}},\"title\":{\"text\":\"\\u0417\\u0430\\u0432\\u0438\\u0441\\u0438\\u043c\\u043e\\u0441\\u0442\\u044c \\u043f\\u043e\\u0433\\u0440\\u0435\\u0448\\u043d\\u043e\\u0441\\u0442\\u0438 \\u043e\\u0442 \\u0434\\u043b\\u0438\\u043d\\u044b \\u0448\\u0430\\u0433\\u0430\"},\"xaxis\":{\"dtick\":0.1,\"range\":[-2,0.5],\"tick0\":-2,\"tickmode\":\"linear\",\"title\":{\"text\":\"log h\"}},\"yaxis\":{\"range\":[-3,1],\"tickmode\":\"array\",\"tickvals\":[-3,-2.8,-2.5999999999999996,-2.3999999999999995,-2.1999999999999993,-1.9999999999999993,-1.7999999999999994,-1.5999999999999994,-1.3999999999999995,-1.1999999999999995,-0.9999999999999996,-0.7999999999999996,-0.5999999999999996,-0.39999999999999963,-0.19999999999999962,3.885780586188048e-16,0.2000000000000004,0.4000000000000004,0.6000000000000004,0.8000000000000005,1.0000000000000004],\"title\":{\"text\":\"log e\"}}},                        {\"responsive\": true}                    ).then(function(){\n",
              "                            \n",
              "var gd = document.getElementById('5851f591-de1d-47f1-a92d-8fda1819ec07');\n",
              "var x = new MutationObserver(function (mutations, observer) {{\n",
              "        var display = window.getComputedStyle(gd).display;\n",
              "        if (!display || display === 'none') {{\n",
              "            console.log([gd, 'removed!']);\n",
              "            Plotly.purge(gd);\n",
              "            observer.disconnect();\n",
              "        }}\n",
              "}});\n",
              "\n",
              "// Listen for the removal of the full notebook cells\n",
              "var notebookContainer = gd.closest('#notebook-container');\n",
              "if (notebookContainer) {{\n",
              "    x.observe(notebookContainer, {childList: true});\n",
              "}}\n",
              "\n",
              "// Listen for the clearing of the current output cell\n",
              "var outputEl = gd.closest('.output');\n",
              "if (outputEl) {{\n",
              "    x.observe(outputEl, {childList: true});\n",
              "}}\n",
              "\n",
              "                        })                };                            </script>        </div>\n",
              "</body>\n",
              "</html>"
            ]
          },
          "metadata": {}
        }
      ],
      "source": [
        "h, e = GetStepHandError(krank, u)\n",
        "\n",
        "trace1 = Scatter(\n",
        "    x = h,\n",
        "    y = e,\n",
        "    name = 'Кранк-Николсон',\n",
        "    mode = 'lines',\n",
        "    text = ('(x, y)'),\n",
        "    showlegend = True\n",
        ")\n",
        "\n",
        "data = [trace1]\n",
        "\n",
        "layout = Layout(\n",
        "    title = 'Зависимость погрешности от длины шага',\n",
        "    xaxis = dict(tickmode = 'array',\n",
        "                 tickvals = list(np.arange(0, 1.6, 0.1)),\n",
        "                 title = 'h'),\n",
        "    yaxis = dict(tickmode = 'array',\n",
        "                 tickvals = list(np.arange(0, 2.1, 0.2)),\n",
        "                 range = [0, 2.1],\n",
        "                 title = 'e')\n",
        ")\n",
        "\n",
        "\n",
        "fig = Figure(data = data, layout = layout)\n",
        "offline.iplot(fig)\n",
        "\n",
        "trace1 = Scatter(\n",
        "    x = list(map(math.log, h)),\n",
        "    y = list(map(math.log, e)),\n",
        "    name = 'Кранк-Николсон',\n",
        "    mode = 'lines',\n",
        "    text = ('(x, y)'),\n",
        "    showlegend = True\n",
        ")\n",
        "\n",
        "trace2 = Scatter(\n",
        "    x = [-2, 0.5],\n",
        "    y = [-3, -0.5],\n",
        "    name = 'Зависимость $O(h)$',\n",
        "    mode = 'lines',\n",
        "    text = ('(x, y)'),\n",
        "    showlegend = True\n",
        ")\n",
        "\n",
        "trace3 = Scatter(\n",
        "    x = [-2, 0.5],\n",
        "    y = [-3, 2],\n",
        "    name = 'Зависимость $O(h^2)$',\n",
        "    mode = 'lines',\n",
        "    text = ('(x, y)'),\n",
        "    showlegend = True\n",
        ")\n",
        "\n",
        "data = [trace1, trace2, trace3]\n",
        "\n",
        "layout = Layout(\n",
        "    title = 'Зависимость погрешности от длины шага',\n",
        "    xaxis = dict(#tickmode = 'array',\n",
        "                 #tickvals = list(krank.nparange(-2, 0.5, 0.1)),\n",
        "                 tickmode = 'linear',\n",
        "                 tick0 = -2,\n",
        "                 dtick = 0.1,\n",
        "                 range = [-2, 0.5],\n",
        "                 title = 'log h'),\n",
        "    yaxis = dict(tickmode = 'array',\n",
        "                 tickvals = list(krank.nparange(-3, 1, 0.2)),\n",
        "                 range = [-3, 1],\n",
        "                 title = 'log e')\n",
        ")\n",
        "\n",
        "\n",
        "fig = Figure(data = data, layout = layout)\n",
        "offline.iplot(fig)"
      ]
    },
    {
      "cell_type": "markdown",
      "metadata": {
        "id": "ptnUbyjzJ2eL"
      },
      "source": [
        "### Зависимость погрешности от параметра $\\tau$"
      ]
    },
    {
      "cell_type": "markdown",
      "metadata": {
        "id": "ULFN1hywJ2eM"
      },
      "source": [
        "#### Вычисление погрешности"
      ]
    },
    {
      "cell_type": "markdown",
      "metadata": {
        "id": "kb8bQMyDJ2eM"
      },
      "source": [
        "Построение зависимости погрешности от параметра $\\tau$."
      ]
    },
    {
      "cell_type": "code",
      "execution_count": 18,
      "metadata": {
        "id": "H1SV3iISJ2eM"
      },
      "outputs": [],
      "source": [
        "def GetTandError(solver, real_f):\n",
        "    tau, e = [], []\n",
        "    for K in range(3, 70):\n",
        "        x, y, z = solver(K = K)\n",
        "        tau.append(solver.tau)\n",
        "        e.append(Error(x, y, z, real_f))\n",
        "    return tau, e"
      ]
    },
    {
      "cell_type": "markdown",
      "metadata": {
        "id": "ciSQHjlwJ2eN"
      },
      "source": [
        "#### Явная схема"
      ]
    },
    {
      "cell_type": "code",
      "execution_count": 19,
      "metadata": {
        "id": "hBFO9dHTJ2eN"
      },
      "outputs": [],
      "source": [
        "explict = ExplictSchema(T=5, aprx_cls=Approx2pointSecondOrder)"
      ]
    },
    {
      "cell_type": "code",
      "execution_count": 20,
      "metadata": {
        "colab": {
          "base_uri": "https://localhost:8080/",
          "height": 1140
        },
        "id": "0LASha8vJ2eN",
        "outputId": "ccebdd7e-bd08-4df7-d20f-e66374c5d231"
      },
      "outputs": [
        {
          "output_type": "stream",
          "name": "stderr",
          "text": [
            "<ipython-input-4-1b4bcaef4826>:5: UserWarning:\n",
            "\n",
            "Sigma > 0.5\n",
            "\n"
          ]
        },
        {
          "output_type": "display_data",
          "data": {
            "text/html": [
              "<html>\n",
              "<head><meta charset=\"utf-8\" /></head>\n",
              "<body>\n",
              "    <div>            <script src=\"https://cdnjs.cloudflare.com/ajax/libs/mathjax/2.7.5/MathJax.js?config=TeX-AMS-MML_SVG\"></script><script type=\"text/javascript\">if (window.MathJax) {MathJax.Hub.Config({SVG: {font: \"STIX-Web\"}});}</script>                <script type=\"text/javascript\">window.PlotlyConfig = {MathJaxConfig: 'local'};</script>\n",
              "        <script src=\"https://cdn.plot.ly/plotly-2.8.3.min.js\"></script>                <div id=\"188c24d5-943f-4725-a04f-20240513703b\" class=\"plotly-graph-div\" style=\"height:525px; width:100%;\"></div>            <script type=\"text/javascript\">                                    window.PLOTLYENV=window.PLOTLYENV || {};                                    if (document.getElementById(\"188c24d5-943f-4725-a04f-20240513703b\")) {                    Plotly.newPlot(                        \"188c24d5-943f-4725-a04f-20240513703b\",                        [{\"mode\":\"lines\",\"name\":\"\\u042f\\u0432\\u043d\\u0430\\u044f\",\"showlegend\":true,\"text\":\"(x, y)\",\"x\":[2.5,1.6666666666666667,1.25,1.0,0.8333333333333334,0.7142857142857143,0.625,0.5555555555555556,0.5,0.45454545454545453,0.4166666666666667,0.38461538461538464,0.35714285714285715,0.3333333333333333,0.3125,0.29411764705882354,0.2777777777777778,0.2631578947368421,0.25,0.23809523809523808,0.22727272727272727,0.21739130434782608,0.20833333333333334,0.2,0.19230769230769232,0.18518518518518517,0.17857142857142858,0.1724137931034483,0.16666666666666666,0.16129032258064516,0.15625,0.15151515151515152,0.14705882352941177,0.14285714285714285,0.1388888888888889,0.13513513513513514,0.13157894736842105,0.1282051282051282,0.125,0.12195121951219512,0.11904761904761904,0.11627906976744186,0.11363636363636363,0.1111111111111111,0.10869565217391304,0.10638297872340426,0.10416666666666667,0.10204081632653061,0.1,0.09803921568627451,0.09615384615384616,0.09433962264150944,0.09259259259259259,0.09090909090909091,0.08928571428571429,0.08771929824561403,0.08620689655172414,0.0847457627118644,0.08333333333333333,0.08196721311475409,0.08064516129032258,0.07936507936507936,0.078125,0.07692307692307693,0.07575757575757576,0.07462686567164178,0.07352941176470588],\"y\":[56.531122407147556,42798.92160017797,21375540.23577871,8205825267.064338,2577097369331.3193,686146580702529.9,1.5866399710609782e+17,3.2435681599152726e+19,5.942740196434134e+21,9.864960110263438e+23,1.4969464665479379e+26,2.0918512818557062e+28,2.708852522779549e+30,3.268124546531253e+32,3.6905359865300103e+34,3.9167456000084325e+36,3.9207288074600784e+38,3.71365616723956e+40,3.3378948365944517e+42,2.8542942699440088e+44,2.3275182669702814e+46,1.813749389148914e+48,1.3532972936203316e+50,9.685300397372389e+51,6.659593546204348e+53,4.4060919440595763e+55,2.8089157734891012e+57,1.7276993055567765e+59,1.0265216240581259e+61,5.898341248967221e+62,3.2810539294218996e+64,1.7686821019895e+66,9.247927162692251e+67,4.6943859194646734e+69,2.3153296115947183e+71,1.1104180259308696e+73,5.182287861829276e+74,2.3551728392844163e+76,1.0429886218215791e+78,4.503672623457502e+79,1.8973440521149085e+81,7.803089378145909e+82,3.134483111301244e+84,1.2304700396320048e+86,4.722791437738521e+87,1.7731953192580856e+89,6.515431041112336e+90,2.343953198554336e+92,8.259554551447908e+93,2.8519482767491566e+95,9.653228004779176e+96,3.2041401045282327e+98,1.0433126343329208e+100,3.333740071330331e+101,1.0457024488262256e+103,3.220944966845773e+104,9.745229237831496e+105,2.897107062738696e+107,8.464991355577662e+108,2.431641589211806e+110,6.869122861240522e+111,1.9087344443802556e+113,5.218461302653974e+114,1.4041029306252524e+116,3.718933925467424e+117,9.698429332873609e+118,2.4908362480301778e+120],\"type\":\"scatter\"}],                        {\"template\":{\"data\":{\"barpolar\":[{\"marker\":{\"line\":{\"color\":\"#E5ECF6\",\"width\":0.5},\"pattern\":{\"fillmode\":\"overlay\",\"size\":10,\"solidity\":0.2}},\"type\":\"barpolar\"}],\"bar\":[{\"error_x\":{\"color\":\"#2a3f5f\"},\"error_y\":{\"color\":\"#2a3f5f\"},\"marker\":{\"line\":{\"color\":\"#E5ECF6\",\"width\":0.5},\"pattern\":{\"fillmode\":\"overlay\",\"size\":10,\"solidity\":0.2}},\"type\":\"bar\"}],\"carpet\":[{\"aaxis\":{\"endlinecolor\":\"#2a3f5f\",\"gridcolor\":\"white\",\"linecolor\":\"white\",\"minorgridcolor\":\"white\",\"startlinecolor\":\"#2a3f5f\"},\"baxis\":{\"endlinecolor\":\"#2a3f5f\",\"gridcolor\":\"white\",\"linecolor\":\"white\",\"minorgridcolor\":\"white\",\"startlinecolor\":\"#2a3f5f\"},\"type\":\"carpet\"}],\"choropleth\":[{\"colorbar\":{\"outlinewidth\":0,\"ticks\":\"\"},\"type\":\"choropleth\"}],\"contourcarpet\":[{\"colorbar\":{\"outlinewidth\":0,\"ticks\":\"\"},\"type\":\"contourcarpet\"}],\"contour\":[{\"colorbar\":{\"outlinewidth\":0,\"ticks\":\"\"},\"colorscale\":[[0.0,\"#0d0887\"],[0.1111111111111111,\"#46039f\"],[0.2222222222222222,\"#7201a8\"],[0.3333333333333333,\"#9c179e\"],[0.4444444444444444,\"#bd3786\"],[0.5555555555555556,\"#d8576b\"],[0.6666666666666666,\"#ed7953\"],[0.7777777777777778,\"#fb9f3a\"],[0.8888888888888888,\"#fdca26\"],[1.0,\"#f0f921\"]],\"type\":\"contour\"}],\"heatmapgl\":[{\"colorbar\":{\"outlinewidth\":0,\"ticks\":\"\"},\"colorscale\":[[0.0,\"#0d0887\"],[0.1111111111111111,\"#46039f\"],[0.2222222222222222,\"#7201a8\"],[0.3333333333333333,\"#9c179e\"],[0.4444444444444444,\"#bd3786\"],[0.5555555555555556,\"#d8576b\"],[0.6666666666666666,\"#ed7953\"],[0.7777777777777778,\"#fb9f3a\"],[0.8888888888888888,\"#fdca26\"],[1.0,\"#f0f921\"]],\"type\":\"heatmapgl\"}],\"heatmap\":[{\"colorbar\":{\"outlinewidth\":0,\"ticks\":\"\"},\"colorscale\":[[0.0,\"#0d0887\"],[0.1111111111111111,\"#46039f\"],[0.2222222222222222,\"#7201a8\"],[0.3333333333333333,\"#9c179e\"],[0.4444444444444444,\"#bd3786\"],[0.5555555555555556,\"#d8576b\"],[0.6666666666666666,\"#ed7953\"],[0.7777777777777778,\"#fb9f3a\"],[0.8888888888888888,\"#fdca26\"],[1.0,\"#f0f921\"]],\"type\":\"heatmap\"}],\"histogram2dcontour\":[{\"colorbar\":{\"outlinewidth\":0,\"ticks\":\"\"},\"colorscale\":[[0.0,\"#0d0887\"],[0.1111111111111111,\"#46039f\"],[0.2222222222222222,\"#7201a8\"],[0.3333333333333333,\"#9c179e\"],[0.4444444444444444,\"#bd3786\"],[0.5555555555555556,\"#d8576b\"],[0.6666666666666666,\"#ed7953\"],[0.7777777777777778,\"#fb9f3a\"],[0.8888888888888888,\"#fdca26\"],[1.0,\"#f0f921\"]],\"type\":\"histogram2dcontour\"}],\"histogram2d\":[{\"colorbar\":{\"outlinewidth\":0,\"ticks\":\"\"},\"colorscale\":[[0.0,\"#0d0887\"],[0.1111111111111111,\"#46039f\"],[0.2222222222222222,\"#7201a8\"],[0.3333333333333333,\"#9c179e\"],[0.4444444444444444,\"#bd3786\"],[0.5555555555555556,\"#d8576b\"],[0.6666666666666666,\"#ed7953\"],[0.7777777777777778,\"#fb9f3a\"],[0.8888888888888888,\"#fdca26\"],[1.0,\"#f0f921\"]],\"type\":\"histogram2d\"}],\"histogram\":[{\"marker\":{\"pattern\":{\"fillmode\":\"overlay\",\"size\":10,\"solidity\":0.2}},\"type\":\"histogram\"}],\"mesh3d\":[{\"colorbar\":{\"outlinewidth\":0,\"ticks\":\"\"},\"type\":\"mesh3d\"}],\"parcoords\":[{\"line\":{\"colorbar\":{\"outlinewidth\":0,\"ticks\":\"\"}},\"type\":\"parcoords\"}],\"pie\":[{\"automargin\":true,\"type\":\"pie\"}],\"scatter3d\":[{\"line\":{\"colorbar\":{\"outlinewidth\":0,\"ticks\":\"\"}},\"marker\":{\"colorbar\":{\"outlinewidth\":0,\"ticks\":\"\"}},\"type\":\"scatter3d\"}],\"scattercarpet\":[{\"marker\":{\"colorbar\":{\"outlinewidth\":0,\"ticks\":\"\"}},\"type\":\"scattercarpet\"}],\"scattergeo\":[{\"marker\":{\"colorbar\":{\"outlinewidth\":0,\"ticks\":\"\"}},\"type\":\"scattergeo\"}],\"scattergl\":[{\"marker\":{\"colorbar\":{\"outlinewidth\":0,\"ticks\":\"\"}},\"type\":\"scattergl\"}],\"scattermapbox\":[{\"marker\":{\"colorbar\":{\"outlinewidth\":0,\"ticks\":\"\"}},\"type\":\"scattermapbox\"}],\"scatterpolargl\":[{\"marker\":{\"colorbar\":{\"outlinewidth\":0,\"ticks\":\"\"}},\"type\":\"scatterpolargl\"}],\"scatterpolar\":[{\"marker\":{\"colorbar\":{\"outlinewidth\":0,\"ticks\":\"\"}},\"type\":\"scatterpolar\"}],\"scatter\":[{\"marker\":{\"colorbar\":{\"outlinewidth\":0,\"ticks\":\"\"}},\"type\":\"scatter\"}],\"scatterternary\":[{\"marker\":{\"colorbar\":{\"outlinewidth\":0,\"ticks\":\"\"}},\"type\":\"scatterternary\"}],\"surface\":[{\"colorbar\":{\"outlinewidth\":0,\"ticks\":\"\"},\"colorscale\":[[0.0,\"#0d0887\"],[0.1111111111111111,\"#46039f\"],[0.2222222222222222,\"#7201a8\"],[0.3333333333333333,\"#9c179e\"],[0.4444444444444444,\"#bd3786\"],[0.5555555555555556,\"#d8576b\"],[0.6666666666666666,\"#ed7953\"],[0.7777777777777778,\"#fb9f3a\"],[0.8888888888888888,\"#fdca26\"],[1.0,\"#f0f921\"]],\"type\":\"surface\"}],\"table\":[{\"cells\":{\"fill\":{\"color\":\"#EBF0F8\"},\"line\":{\"color\":\"white\"}},\"header\":{\"fill\":{\"color\":\"#C8D4E3\"},\"line\":{\"color\":\"white\"}},\"type\":\"table\"}]},\"layout\":{\"annotationdefaults\":{\"arrowcolor\":\"#2a3f5f\",\"arrowhead\":0,\"arrowwidth\":1},\"autotypenumbers\":\"strict\",\"coloraxis\":{\"colorbar\":{\"outlinewidth\":0,\"ticks\":\"\"}},\"colorscale\":{\"diverging\":[[0,\"#8e0152\"],[0.1,\"#c51b7d\"],[0.2,\"#de77ae\"],[0.3,\"#f1b6da\"],[0.4,\"#fde0ef\"],[0.5,\"#f7f7f7\"],[0.6,\"#e6f5d0\"],[0.7,\"#b8e186\"],[0.8,\"#7fbc41\"],[0.9,\"#4d9221\"],[1,\"#276419\"]],\"sequential\":[[0.0,\"#0d0887\"],[0.1111111111111111,\"#46039f\"],[0.2222222222222222,\"#7201a8\"],[0.3333333333333333,\"#9c179e\"],[0.4444444444444444,\"#bd3786\"],[0.5555555555555556,\"#d8576b\"],[0.6666666666666666,\"#ed7953\"],[0.7777777777777778,\"#fb9f3a\"],[0.8888888888888888,\"#fdca26\"],[1.0,\"#f0f921\"]],\"sequentialminus\":[[0.0,\"#0d0887\"],[0.1111111111111111,\"#46039f\"],[0.2222222222222222,\"#7201a8\"],[0.3333333333333333,\"#9c179e\"],[0.4444444444444444,\"#bd3786\"],[0.5555555555555556,\"#d8576b\"],[0.6666666666666666,\"#ed7953\"],[0.7777777777777778,\"#fb9f3a\"],[0.8888888888888888,\"#fdca26\"],[1.0,\"#f0f921\"]]},\"colorway\":[\"#636efa\",\"#EF553B\",\"#00cc96\",\"#ab63fa\",\"#FFA15A\",\"#19d3f3\",\"#FF6692\",\"#B6E880\",\"#FF97FF\",\"#FECB52\"],\"font\":{\"color\":\"#2a3f5f\"},\"geo\":{\"bgcolor\":\"white\",\"lakecolor\":\"white\",\"landcolor\":\"#E5ECF6\",\"showlakes\":true,\"showland\":true,\"subunitcolor\":\"white\"},\"hoverlabel\":{\"align\":\"left\"},\"hovermode\":\"closest\",\"mapbox\":{\"style\":\"light\"},\"paper_bgcolor\":\"white\",\"plot_bgcolor\":\"#E5ECF6\",\"polar\":{\"angularaxis\":{\"gridcolor\":\"white\",\"linecolor\":\"white\",\"ticks\":\"\"},\"bgcolor\":\"#E5ECF6\",\"radialaxis\":{\"gridcolor\":\"white\",\"linecolor\":\"white\",\"ticks\":\"\"}},\"scene\":{\"xaxis\":{\"backgroundcolor\":\"#E5ECF6\",\"gridcolor\":\"white\",\"gridwidth\":2,\"linecolor\":\"white\",\"showbackground\":true,\"ticks\":\"\",\"zerolinecolor\":\"white\"},\"yaxis\":{\"backgroundcolor\":\"#E5ECF6\",\"gridcolor\":\"white\",\"gridwidth\":2,\"linecolor\":\"white\",\"showbackground\":true,\"ticks\":\"\",\"zerolinecolor\":\"white\"},\"zaxis\":{\"backgroundcolor\":\"#E5ECF6\",\"gridcolor\":\"white\",\"gridwidth\":2,\"linecolor\":\"white\",\"showbackground\":true,\"ticks\":\"\",\"zerolinecolor\":\"white\"}},\"shapedefaults\":{\"line\":{\"color\":\"#2a3f5f\"}},\"ternary\":{\"aaxis\":{\"gridcolor\":\"white\",\"linecolor\":\"white\",\"ticks\":\"\"},\"baxis\":{\"gridcolor\":\"white\",\"linecolor\":\"white\",\"ticks\":\"\"},\"bgcolor\":\"#E5ECF6\",\"caxis\":{\"gridcolor\":\"white\",\"linecolor\":\"white\",\"ticks\":\"\"}},\"title\":{\"x\":0.05},\"xaxis\":{\"automargin\":true,\"gridcolor\":\"white\",\"linecolor\":\"white\",\"ticks\":\"\",\"title\":{\"standoff\":15},\"zerolinecolor\":\"white\",\"zerolinewidth\":2},\"yaxis\":{\"automargin\":true,\"gridcolor\":\"white\",\"linecolor\":\"white\",\"ticks\":\"\",\"title\":{\"standoff\":15},\"zerolinecolor\":\"white\",\"zerolinewidth\":2}}},\"title\":{\"text\":\"\\u0417\\u0430\\u0432\\u0438\\u0441\\u0438\\u043c\\u043e\\u0441\\u0442\\u044c \\u043f\\u043e\\u0433\\u0440\\u0435\\u0448\\u043d\\u043e\\u0441\\u0442\\u0438 \\u043e\\u0442 \\u0434\\u043b\\u0438\\u043d\\u044b \\u0448\\u0430\\u0433\\u0430\"},\"xaxis\":{\"range\":[0,2.6],\"tickmode\":\"array\",\"tickvals\":[0,0.1,0.2,0.30000000000000004,0.4,0.5,0.6,0.7,0.7999999999999999,0.8999999999999999,0.9999999999999999,1.0999999999999999,1.2,1.3,1.4000000000000001,1.5000000000000002,1.6000000000000003,1.7000000000000004,1.8000000000000005,1.9000000000000006,2.0000000000000004,2.1000000000000005,2.2000000000000006,2.3000000000000007,2.400000000000001,2.500000000000001],\"title\":{\"text\":\"h\"}},\"yaxis\":{\"title\":{\"text\":\"e\"}}},                        {\"responsive\": true}                    ).then(function(){\n",
              "                            \n",
              "var gd = document.getElementById('188c24d5-943f-4725-a04f-20240513703b');\n",
              "var x = new MutationObserver(function (mutations, observer) {{\n",
              "        var display = window.getComputedStyle(gd).display;\n",
              "        if (!display || display === 'none') {{\n",
              "            console.log([gd, 'removed!']);\n",
              "            Plotly.purge(gd);\n",
              "            observer.disconnect();\n",
              "        }}\n",
              "}});\n",
              "\n",
              "// Listen for the removal of the full notebook cells\n",
              "var notebookContainer = gd.closest('#notebook-container');\n",
              "if (notebookContainer) {{\n",
              "    x.observe(notebookContainer, {childList: true});\n",
              "}}\n",
              "\n",
              "// Listen for the clearing of the current output cell\n",
              "var outputEl = gd.closest('.output');\n",
              "if (outputEl) {{\n",
              "    x.observe(outputEl, {childList: true});\n",
              "}}\n",
              "\n",
              "                        })                };                            </script>        </div>\n",
              "</body>\n",
              "</html>"
            ]
          },
          "metadata": {}
        },
        {
          "output_type": "display_data",
          "data": {
            "text/html": [
              "<html>\n",
              "<head><meta charset=\"utf-8\" /></head>\n",
              "<body>\n",
              "    <div>            <script src=\"https://cdnjs.cloudflare.com/ajax/libs/mathjax/2.7.5/MathJax.js?config=TeX-AMS-MML_SVG\"></script><script type=\"text/javascript\">if (window.MathJax) {MathJax.Hub.Config({SVG: {font: \"STIX-Web\"}});}</script>                <script type=\"text/javascript\">window.PlotlyConfig = {MathJaxConfig: 'local'};</script>\n",
              "        <script src=\"https://cdn.plot.ly/plotly-2.8.3.min.js\"></script>                <div id=\"059029ba-a242-43e7-9eff-2fdb0fd404d3\" class=\"plotly-graph-div\" style=\"height:525px; width:100%;\"></div>            <script type=\"text/javascript\">                                    window.PLOTLYENV=window.PLOTLYENV || {};                                    if (document.getElementById(\"059029ba-a242-43e7-9eff-2fdb0fd404d3\")) {                    Plotly.newPlot(                        \"059029ba-a242-43e7-9eff-2fdb0fd404d3\",                        [{\"mode\":\"lines\",\"name\":\"\\u042f\\u0432\\u043d\\u0430\\u044f\",\"showlegend\":true,\"text\":\"(x, y)\",\"x\":[0.9162907318741551,0.5108256237659907,0.22314355131420976,0.0,-0.1823215567939546,-0.3364722366212129,-0.4700036292457356,-0.587786664902119,-0.6931471805599453,-0.7884573603642702,-0.8754687373538999,-0.9555114450274363,-1.0296194171811581,-1.0986122886681098,-1.1631508098056809,-1.2237754316221157,-1.2809338454620642,-1.3350010667323402,-1.3862943611198906,-1.4350845252893227,-1.4816045409242156,-1.5260563034950494,-1.5686159179138452,-1.6094379124341003,-1.6486586255873816,-1.6863989535702288,-1.7227665977411035,-1.7578579175523736,-1.791759469228055,-1.824549292051046,-1.8562979903656263,-1.8870696490323797,-1.916922612182061,-1.9459101490553135,-1.9740810260220096,-2.001480000210124,-2.0281482472922856,-2.0541237336955462,-2.0794415416798357,-2.1041341542702074,-2.128231705849268,-2.151762203259462,-2.174751721484161,-2.1972245773362196,-2.2192034840549946,-2.2407096892759584,-2.2617630984737906,-2.2823823856765264,-2.3025850929940455,-2.322387720290225,-2.341805806147327,-2.3608540011180215,-2.379546134130174,-2.3978952727983707,-2.4159137783010487,-2.4336133554004498,-2.451005098112319,-2.468099531471619,-2.4849066497880004,-2.501435951739211,-2.517696472610991,-2.5336968139574325,-2.5494451709255714,-2.5649493574615367,-2.580216829592325,-2.5952547069568657,-2.6100697927420065],\"y\":[4.034791325560806,10.664268184994933,16.877757846656188,22.82811013742558,28.577684830870744,34.16211239532277,39.60556513537089,44.92579077464729,50.1364572924086,55.24844623476771,60.27063976215424,65.2104320585299,70.07407791171543,74.86693926301469,79.59366486310385,84.25832445269828,88.8645110905655,93.41542060092685,97.9139142255785,102.36256871337649,106.76371685618675,111.11948065214138,115.43179870396342,119.70244905583962,123.93306838227592,128.12516823075586,132.2801488638152,136.39931112890056,140.4838666957058,144.53494693277122,148.55361064234847,152.54085083171182,156.4976006664936,160.42473872611882,164.32309366079872,168.19344833293135,172.03654351249014,175.8530811848002,179.64372752040705,183.40911554899202,187.1498475734542,190.8664973549119,194.55961209521314,198.22971423991532,201.8773031215682,205.50285646064074,209.10683173918963,212.6896674604806,216.2517843061288,219.79358620103974,223.31546129511113,226.81778286967162,230.3009101757942,233.76518921067964,237.21095343781207,240.63852445584828,244.0482126206935,247.44031762488376,250.81512903774572,254.1729268097315,257.5139817437466,260.83855593620757,264.14690319015614,267.43926940263685,270.7158929283413,273.97700492124955,277.222829655962],\"type\":\"scatter\"}],                        {\"template\":{\"data\":{\"barpolar\":[{\"marker\":{\"line\":{\"color\":\"#E5ECF6\",\"width\":0.5},\"pattern\":{\"fillmode\":\"overlay\",\"size\":10,\"solidity\":0.2}},\"type\":\"barpolar\"}],\"bar\":[{\"error_x\":{\"color\":\"#2a3f5f\"},\"error_y\":{\"color\":\"#2a3f5f\"},\"marker\":{\"line\":{\"color\":\"#E5ECF6\",\"width\":0.5},\"pattern\":{\"fillmode\":\"overlay\",\"size\":10,\"solidity\":0.2}},\"type\":\"bar\"}],\"carpet\":[{\"aaxis\":{\"endlinecolor\":\"#2a3f5f\",\"gridcolor\":\"white\",\"linecolor\":\"white\",\"minorgridcolor\":\"white\",\"startlinecolor\":\"#2a3f5f\"},\"baxis\":{\"endlinecolor\":\"#2a3f5f\",\"gridcolor\":\"white\",\"linecolor\":\"white\",\"minorgridcolor\":\"white\",\"startlinecolor\":\"#2a3f5f\"},\"type\":\"carpet\"}],\"choropleth\":[{\"colorbar\":{\"outlinewidth\":0,\"ticks\":\"\"},\"type\":\"choropleth\"}],\"contourcarpet\":[{\"colorbar\":{\"outlinewidth\":0,\"ticks\":\"\"},\"type\":\"contourcarpet\"}],\"contour\":[{\"colorbar\":{\"outlinewidth\":0,\"ticks\":\"\"},\"colorscale\":[[0.0,\"#0d0887\"],[0.1111111111111111,\"#46039f\"],[0.2222222222222222,\"#7201a8\"],[0.3333333333333333,\"#9c179e\"],[0.4444444444444444,\"#bd3786\"],[0.5555555555555556,\"#d8576b\"],[0.6666666666666666,\"#ed7953\"],[0.7777777777777778,\"#fb9f3a\"],[0.8888888888888888,\"#fdca26\"],[1.0,\"#f0f921\"]],\"type\":\"contour\"}],\"heatmapgl\":[{\"colorbar\":{\"outlinewidth\":0,\"ticks\":\"\"},\"colorscale\":[[0.0,\"#0d0887\"],[0.1111111111111111,\"#46039f\"],[0.2222222222222222,\"#7201a8\"],[0.3333333333333333,\"#9c179e\"],[0.4444444444444444,\"#bd3786\"],[0.5555555555555556,\"#d8576b\"],[0.6666666666666666,\"#ed7953\"],[0.7777777777777778,\"#fb9f3a\"],[0.8888888888888888,\"#fdca26\"],[1.0,\"#f0f921\"]],\"type\":\"heatmapgl\"}],\"heatmap\":[{\"colorbar\":{\"outlinewidth\":0,\"ticks\":\"\"},\"colorscale\":[[0.0,\"#0d0887\"],[0.1111111111111111,\"#46039f\"],[0.2222222222222222,\"#7201a8\"],[0.3333333333333333,\"#9c179e\"],[0.4444444444444444,\"#bd3786\"],[0.5555555555555556,\"#d8576b\"],[0.6666666666666666,\"#ed7953\"],[0.7777777777777778,\"#fb9f3a\"],[0.8888888888888888,\"#fdca26\"],[1.0,\"#f0f921\"]],\"type\":\"heatmap\"}],\"histogram2dcontour\":[{\"colorbar\":{\"outlinewidth\":0,\"ticks\":\"\"},\"colorscale\":[[0.0,\"#0d0887\"],[0.1111111111111111,\"#46039f\"],[0.2222222222222222,\"#7201a8\"],[0.3333333333333333,\"#9c179e\"],[0.4444444444444444,\"#bd3786\"],[0.5555555555555556,\"#d8576b\"],[0.6666666666666666,\"#ed7953\"],[0.7777777777777778,\"#fb9f3a\"],[0.8888888888888888,\"#fdca26\"],[1.0,\"#f0f921\"]],\"type\":\"histogram2dcontour\"}],\"histogram2d\":[{\"colorbar\":{\"outlinewidth\":0,\"ticks\":\"\"},\"colorscale\":[[0.0,\"#0d0887\"],[0.1111111111111111,\"#46039f\"],[0.2222222222222222,\"#7201a8\"],[0.3333333333333333,\"#9c179e\"],[0.4444444444444444,\"#bd3786\"],[0.5555555555555556,\"#d8576b\"],[0.6666666666666666,\"#ed7953\"],[0.7777777777777778,\"#fb9f3a\"],[0.8888888888888888,\"#fdca26\"],[1.0,\"#f0f921\"]],\"type\":\"histogram2d\"}],\"histogram\":[{\"marker\":{\"pattern\":{\"fillmode\":\"overlay\",\"size\":10,\"solidity\":0.2}},\"type\":\"histogram\"}],\"mesh3d\":[{\"colorbar\":{\"outlinewidth\":0,\"ticks\":\"\"},\"type\":\"mesh3d\"}],\"parcoords\":[{\"line\":{\"colorbar\":{\"outlinewidth\":0,\"ticks\":\"\"}},\"type\":\"parcoords\"}],\"pie\":[{\"automargin\":true,\"type\":\"pie\"}],\"scatter3d\":[{\"line\":{\"colorbar\":{\"outlinewidth\":0,\"ticks\":\"\"}},\"marker\":{\"colorbar\":{\"outlinewidth\":0,\"ticks\":\"\"}},\"type\":\"scatter3d\"}],\"scattercarpet\":[{\"marker\":{\"colorbar\":{\"outlinewidth\":0,\"ticks\":\"\"}},\"type\":\"scattercarpet\"}],\"scattergeo\":[{\"marker\":{\"colorbar\":{\"outlinewidth\":0,\"ticks\":\"\"}},\"type\":\"scattergeo\"}],\"scattergl\":[{\"marker\":{\"colorbar\":{\"outlinewidth\":0,\"ticks\":\"\"}},\"type\":\"scattergl\"}],\"scattermapbox\":[{\"marker\":{\"colorbar\":{\"outlinewidth\":0,\"ticks\":\"\"}},\"type\":\"scattermapbox\"}],\"scatterpolargl\":[{\"marker\":{\"colorbar\":{\"outlinewidth\":0,\"ticks\":\"\"}},\"type\":\"scatterpolargl\"}],\"scatterpolar\":[{\"marker\":{\"colorbar\":{\"outlinewidth\":0,\"ticks\":\"\"}},\"type\":\"scatterpolar\"}],\"scatter\":[{\"marker\":{\"colorbar\":{\"outlinewidth\":0,\"ticks\":\"\"}},\"type\":\"scatter\"}],\"scatterternary\":[{\"marker\":{\"colorbar\":{\"outlinewidth\":0,\"ticks\":\"\"}},\"type\":\"scatterternary\"}],\"surface\":[{\"colorbar\":{\"outlinewidth\":0,\"ticks\":\"\"},\"colorscale\":[[0.0,\"#0d0887\"],[0.1111111111111111,\"#46039f\"],[0.2222222222222222,\"#7201a8\"],[0.3333333333333333,\"#9c179e\"],[0.4444444444444444,\"#bd3786\"],[0.5555555555555556,\"#d8576b\"],[0.6666666666666666,\"#ed7953\"],[0.7777777777777778,\"#fb9f3a\"],[0.8888888888888888,\"#fdca26\"],[1.0,\"#f0f921\"]],\"type\":\"surface\"}],\"table\":[{\"cells\":{\"fill\":{\"color\":\"#EBF0F8\"},\"line\":{\"color\":\"white\"}},\"header\":{\"fill\":{\"color\":\"#C8D4E3\"},\"line\":{\"color\":\"white\"}},\"type\":\"table\"}]},\"layout\":{\"annotationdefaults\":{\"arrowcolor\":\"#2a3f5f\",\"arrowhead\":0,\"arrowwidth\":1},\"autotypenumbers\":\"strict\",\"coloraxis\":{\"colorbar\":{\"outlinewidth\":0,\"ticks\":\"\"}},\"colorscale\":{\"diverging\":[[0,\"#8e0152\"],[0.1,\"#c51b7d\"],[0.2,\"#de77ae\"],[0.3,\"#f1b6da\"],[0.4,\"#fde0ef\"],[0.5,\"#f7f7f7\"],[0.6,\"#e6f5d0\"],[0.7,\"#b8e186\"],[0.8,\"#7fbc41\"],[0.9,\"#4d9221\"],[1,\"#276419\"]],\"sequential\":[[0.0,\"#0d0887\"],[0.1111111111111111,\"#46039f\"],[0.2222222222222222,\"#7201a8\"],[0.3333333333333333,\"#9c179e\"],[0.4444444444444444,\"#bd3786\"],[0.5555555555555556,\"#d8576b\"],[0.6666666666666666,\"#ed7953\"],[0.7777777777777778,\"#fb9f3a\"],[0.8888888888888888,\"#fdca26\"],[1.0,\"#f0f921\"]],\"sequentialminus\":[[0.0,\"#0d0887\"],[0.1111111111111111,\"#46039f\"],[0.2222222222222222,\"#7201a8\"],[0.3333333333333333,\"#9c179e\"],[0.4444444444444444,\"#bd3786\"],[0.5555555555555556,\"#d8576b\"],[0.6666666666666666,\"#ed7953\"],[0.7777777777777778,\"#fb9f3a\"],[0.8888888888888888,\"#fdca26\"],[1.0,\"#f0f921\"]]},\"colorway\":[\"#636efa\",\"#EF553B\",\"#00cc96\",\"#ab63fa\",\"#FFA15A\",\"#19d3f3\",\"#FF6692\",\"#B6E880\",\"#FF97FF\",\"#FECB52\"],\"font\":{\"color\":\"#2a3f5f\"},\"geo\":{\"bgcolor\":\"white\",\"lakecolor\":\"white\",\"landcolor\":\"#E5ECF6\",\"showlakes\":true,\"showland\":true,\"subunitcolor\":\"white\"},\"hoverlabel\":{\"align\":\"left\"},\"hovermode\":\"closest\",\"mapbox\":{\"style\":\"light\"},\"paper_bgcolor\":\"white\",\"plot_bgcolor\":\"#E5ECF6\",\"polar\":{\"angularaxis\":{\"gridcolor\":\"white\",\"linecolor\":\"white\",\"ticks\":\"\"},\"bgcolor\":\"#E5ECF6\",\"radialaxis\":{\"gridcolor\":\"white\",\"linecolor\":\"white\",\"ticks\":\"\"}},\"scene\":{\"xaxis\":{\"backgroundcolor\":\"#E5ECF6\",\"gridcolor\":\"white\",\"gridwidth\":2,\"linecolor\":\"white\",\"showbackground\":true,\"ticks\":\"\",\"zerolinecolor\":\"white\"},\"yaxis\":{\"backgroundcolor\":\"#E5ECF6\",\"gridcolor\":\"white\",\"gridwidth\":2,\"linecolor\":\"white\",\"showbackground\":true,\"ticks\":\"\",\"zerolinecolor\":\"white\"},\"zaxis\":{\"backgroundcolor\":\"#E5ECF6\",\"gridcolor\":\"white\",\"gridwidth\":2,\"linecolor\":\"white\",\"showbackground\":true,\"ticks\":\"\",\"zerolinecolor\":\"white\"}},\"shapedefaults\":{\"line\":{\"color\":\"#2a3f5f\"}},\"ternary\":{\"aaxis\":{\"gridcolor\":\"white\",\"linecolor\":\"white\",\"ticks\":\"\"},\"baxis\":{\"gridcolor\":\"white\",\"linecolor\":\"white\",\"ticks\":\"\"},\"bgcolor\":\"#E5ECF6\",\"caxis\":{\"gridcolor\":\"white\",\"linecolor\":\"white\",\"ticks\":\"\"}},\"title\":{\"x\":0.05},\"xaxis\":{\"automargin\":true,\"gridcolor\":\"white\",\"linecolor\":\"white\",\"ticks\":\"\",\"title\":{\"standoff\":15},\"zerolinecolor\":\"white\",\"zerolinewidth\":2},\"yaxis\":{\"automargin\":true,\"gridcolor\":\"white\",\"linecolor\":\"white\",\"ticks\":\"\",\"title\":{\"standoff\":15},\"zerolinecolor\":\"white\",\"zerolinewidth\":2}}},\"title\":{\"text\":\"\\u0417\\u0430\\u0432\\u0438\\u0441\\u0438\\u043c\\u043e\\u0441\\u0442\\u044c \\u043f\\u043e\\u0433\\u0440\\u0435\\u0448\\u043d\\u043e\\u0441\\u0442\\u0438 \\u043e\\u0442 \\u0432\\u0440\\u0435\\u043c\\u0435\\u043d\\u0438\"},\"xaxis\":{\"dtick\":0.2,\"range\":[-3,1],\"tick0\":-3,\"tickmode\":\"linear\",\"title\":{\"text\":\"log h\"}},\"yaxis\":{\"title\":{\"text\":\"log e\"}}},                        {\"responsive\": true}                    ).then(function(){\n",
              "                            \n",
              "var gd = document.getElementById('059029ba-a242-43e7-9eff-2fdb0fd404d3');\n",
              "var x = new MutationObserver(function (mutations, observer) {{\n",
              "        var display = window.getComputedStyle(gd).display;\n",
              "        if (!display || display === 'none') {{\n",
              "            console.log([gd, 'removed!']);\n",
              "            Plotly.purge(gd);\n",
              "            observer.disconnect();\n",
              "        }}\n",
              "}});\n",
              "\n",
              "// Listen for the removal of the full notebook cells\n",
              "var notebookContainer = gd.closest('#notebook-container');\n",
              "if (notebookContainer) {{\n",
              "    x.observe(notebookContainer, {childList: true});\n",
              "}}\n",
              "\n",
              "// Listen for the clearing of the current output cell\n",
              "var outputEl = gd.closest('.output');\n",
              "if (outputEl) {{\n",
              "    x.observe(outputEl, {childList: true});\n",
              "}}\n",
              "\n",
              "                        })                };                            </script>        </div>\n",
              "</body>\n",
              "</html>"
            ]
          },
          "metadata": {}
        }
      ],
      "source": [
        "tau, e = GetTandError(explict, u)\n",
        "\n",
        "trace1 = Scatter(\n",
        "    x = tau,\n",
        "    y = e,\n",
        "    name = 'Явная',\n",
        "    mode = 'lines',\n",
        "    text = ('(x, y)'),\n",
        "    showlegend = True\n",
        ")\n",
        "\n",
        "data = [trace1]\n",
        "\n",
        "layout = Layout(\n",
        "    title = 'Зависимость погрешности от длины шага',\n",
        "    xaxis = dict(tickmode = 'array',\n",
        "                 tickvals = list(explict.nparange(0, 2.5, 0.1)),\n",
        "                 range = [0, 2.6],\n",
        "                 title = 'h'),\n",
        "    yaxis = dict(title = 'e')\n",
        ")\n",
        "\n",
        "\n",
        "fig = Figure(data = data, layout = layout)\n",
        "offline.iplot(fig)\n",
        "\n",
        "trace1 = Scatter(\n",
        "    x = list(map(math.log, tau)),\n",
        "    y = list(map(math.log, e)),\n",
        "    name = 'Явная',\n",
        "    mode = 'lines',\n",
        "    text = ('(x, y)'),\n",
        "    showlegend = True\n",
        ")\n",
        "\n",
        "data = [trace1]\n",
        "\n",
        "layout = Layout(\n",
        "    title = 'Зависимость погрешности от времени',\n",
        "    xaxis = dict(#tickmode = 'array',\n",
        "                 #tickvals = list(explict.nparange(-3, 1, 0.2)),\n",
        "                 tickmode = 'linear',\n",
        "                 tick0 = -3,\n",
        "                 dtick = 0.2,\n",
        "                 range = [-3, 1],\n",
        "                 title = 'log h'),\n",
        "    yaxis = dict(title = 'log e')\n",
        ")\n",
        "\n",
        "\n",
        "fig = Figure(data = data, layout = layout)\n",
        "offline.iplot(fig)"
      ]
    },
    {
      "cell_type": "markdown",
      "metadata": {
        "id": "Z2FcbobUJ2eP"
      },
      "source": [
        "#### Неявная схема"
      ]
    },
    {
      "cell_type": "code",
      "execution_count": 21,
      "metadata": {
        "id": "oCUNvUnFJ2eQ"
      },
      "outputs": [],
      "source": [
        "# ImplictExplict с параметром O=1 это неявная схема\n",
        "implict = ImplictExplict(T = 5, aprx_cls=Approx2pointSecondOrder, O=1)"
      ]
    },
    {
      "cell_type": "code",
      "execution_count": 22,
      "metadata": {
        "colab": {
          "base_uri": "https://localhost:8080/",
          "height": 1067
        },
        "id": "Tx0GZiv6J2eR",
        "outputId": "efe3df48-c078-4bc6-b85d-f87d3f30f97c"
      },
      "outputs": [
        {
          "output_type": "display_data",
          "data": {
            "text/html": [
              "<html>\n",
              "<head><meta charset=\"utf-8\" /></head>\n",
              "<body>\n",
              "    <div>            <script src=\"https://cdnjs.cloudflare.com/ajax/libs/mathjax/2.7.5/MathJax.js?config=TeX-AMS-MML_SVG\"></script><script type=\"text/javascript\">if (window.MathJax) {MathJax.Hub.Config({SVG: {font: \"STIX-Web\"}});}</script>                <script type=\"text/javascript\">window.PlotlyConfig = {MathJaxConfig: 'local'};</script>\n",
              "        <script src=\"https://cdn.plot.ly/plotly-2.8.3.min.js\"></script>                <div id=\"9aa63b95-6a85-4fe9-9e77-e53090ab767a\" class=\"plotly-graph-div\" style=\"height:525px; width:100%;\"></div>            <script type=\"text/javascript\">                                    window.PLOTLYENV=window.PLOTLYENV || {};                                    if (document.getElementById(\"9aa63b95-6a85-4fe9-9e77-e53090ab767a\")) {                    Plotly.newPlot(                        \"9aa63b95-6a85-4fe9-9e77-e53090ab767a\",                        [{\"mode\":\"lines\",\"name\":\"\\u041d\\u0435\\u044f\\u0432\\u043d\\u044b\\u0439\",\"showlegend\":true,\"text\":\"(x, y)\",\"x\":[2.5,1.6666666666666667,1.25,1.0,0.8333333333333334,0.7142857142857143,0.625,0.5555555555555556,0.5,0.45454545454545453,0.4166666666666667,0.38461538461538464,0.35714285714285715,0.3333333333333333,0.3125,0.29411764705882354,0.2777777777777778,0.2631578947368421,0.25,0.23809523809523808,0.22727272727272727,0.21739130434782608,0.20833333333333334,0.2,0.19230769230769232,0.18518518518518517,0.17857142857142858,0.1724137931034483,0.16666666666666666,0.16129032258064516,0.15625,0.15151515151515152,0.14705882352941177,0.14285714285714285,0.1388888888888889,0.13513513513513514,0.13157894736842105,0.1282051282051282,0.125,0.12195121951219512,0.11904761904761904,0.11627906976744186,0.11363636363636363,0.1111111111111111,0.10869565217391304,0.10638297872340426,0.10416666666666667,0.10204081632653061,0.1,0.09803921568627451,0.09615384615384616,0.09433962264150944,0.09259259259259259,0.09090909090909091,0.08928571428571429,0.08771929824561403,0.08620689655172414,0.0847457627118644,0.08333333333333333,0.08196721311475409,0.08064516129032258,0.07936507936507936,0.078125,0.07692307692307693,0.07575757575757576,0.07462686567164178,0.07352941176470588],\"y\":[2.6031052653552877,2.179093803792627,1.901734587734461,1.7059537533055555,1.559107505128772,1.4439690227618684,1.350656723785631,1.2730881298082555,1.207301613090045,1.15059697886429,1.1010643530928694,1.0573107755720716,1.0182937648827255,0.9832158279847993,0.9514552538328485,0.9225193419083404,0.896011965091444,0.871610557587368,0.8490494585450973,0.8281076387310008,0.8085995110117559,0.7903679499009107,0.7732789194692465,0.75721728964823,0.7420835425046153,0.7277911532377032,0.7142644885300281,0.7014371057352639,0.6892503656346404,0.6776522926898294,0.6665966322776289,0.6560420659110587,0.6459515541038299,0.6362917830469994,0.6270326962747481,0.6181470963088379,0.6096103042563199,0.601399867658529,0.5934953087104473,0.5858779064246447,0.5785305074558894,0.5714373612425708,0.5645839758499364,0.5579569915138677,0.5515440693767728,0.5453337932956912,0.5393155829591351,0.5334796167912155,0.527816763376974,0.5223185203133827,0.5169769595523089,0.5117846784412721,0.5067347557702313,0.5018207122284586,0.49703647476464435,0.49237634439254246,0.4878349670695434,0.483407307290105,0.47908862411757624,0.47487444937746986,0.47076056779777753,0.46674299888383924,0.46281798036098487,0.4589819530184322,0.4552315468236323,0.45156356817848153,0.4479749882093442],\"type\":\"scatter\"}],                        {\"template\":{\"data\":{\"barpolar\":[{\"marker\":{\"line\":{\"color\":\"#E5ECF6\",\"width\":0.5},\"pattern\":{\"fillmode\":\"overlay\",\"size\":10,\"solidity\":0.2}},\"type\":\"barpolar\"}],\"bar\":[{\"error_x\":{\"color\":\"#2a3f5f\"},\"error_y\":{\"color\":\"#2a3f5f\"},\"marker\":{\"line\":{\"color\":\"#E5ECF6\",\"width\":0.5},\"pattern\":{\"fillmode\":\"overlay\",\"size\":10,\"solidity\":0.2}},\"type\":\"bar\"}],\"carpet\":[{\"aaxis\":{\"endlinecolor\":\"#2a3f5f\",\"gridcolor\":\"white\",\"linecolor\":\"white\",\"minorgridcolor\":\"white\",\"startlinecolor\":\"#2a3f5f\"},\"baxis\":{\"endlinecolor\":\"#2a3f5f\",\"gridcolor\":\"white\",\"linecolor\":\"white\",\"minorgridcolor\":\"white\",\"startlinecolor\":\"#2a3f5f\"},\"type\":\"carpet\"}],\"choropleth\":[{\"colorbar\":{\"outlinewidth\":0,\"ticks\":\"\"},\"type\":\"choropleth\"}],\"contourcarpet\":[{\"colorbar\":{\"outlinewidth\":0,\"ticks\":\"\"},\"type\":\"contourcarpet\"}],\"contour\":[{\"colorbar\":{\"outlinewidth\":0,\"ticks\":\"\"},\"colorscale\":[[0.0,\"#0d0887\"],[0.1111111111111111,\"#46039f\"],[0.2222222222222222,\"#7201a8\"],[0.3333333333333333,\"#9c179e\"],[0.4444444444444444,\"#bd3786\"],[0.5555555555555556,\"#d8576b\"],[0.6666666666666666,\"#ed7953\"],[0.7777777777777778,\"#fb9f3a\"],[0.8888888888888888,\"#fdca26\"],[1.0,\"#f0f921\"]],\"type\":\"contour\"}],\"heatmapgl\":[{\"colorbar\":{\"outlinewidth\":0,\"ticks\":\"\"},\"colorscale\":[[0.0,\"#0d0887\"],[0.1111111111111111,\"#46039f\"],[0.2222222222222222,\"#7201a8\"],[0.3333333333333333,\"#9c179e\"],[0.4444444444444444,\"#bd3786\"],[0.5555555555555556,\"#d8576b\"],[0.6666666666666666,\"#ed7953\"],[0.7777777777777778,\"#fb9f3a\"],[0.8888888888888888,\"#fdca26\"],[1.0,\"#f0f921\"]],\"type\":\"heatmapgl\"}],\"heatmap\":[{\"colorbar\":{\"outlinewidth\":0,\"ticks\":\"\"},\"colorscale\":[[0.0,\"#0d0887\"],[0.1111111111111111,\"#46039f\"],[0.2222222222222222,\"#7201a8\"],[0.3333333333333333,\"#9c179e\"],[0.4444444444444444,\"#bd3786\"],[0.5555555555555556,\"#d8576b\"],[0.6666666666666666,\"#ed7953\"],[0.7777777777777778,\"#fb9f3a\"],[0.8888888888888888,\"#fdca26\"],[1.0,\"#f0f921\"]],\"type\":\"heatmap\"}],\"histogram2dcontour\":[{\"colorbar\":{\"outlinewidth\":0,\"ticks\":\"\"},\"colorscale\":[[0.0,\"#0d0887\"],[0.1111111111111111,\"#46039f\"],[0.2222222222222222,\"#7201a8\"],[0.3333333333333333,\"#9c179e\"],[0.4444444444444444,\"#bd3786\"],[0.5555555555555556,\"#d8576b\"],[0.6666666666666666,\"#ed7953\"],[0.7777777777777778,\"#fb9f3a\"],[0.8888888888888888,\"#fdca26\"],[1.0,\"#f0f921\"]],\"type\":\"histogram2dcontour\"}],\"histogram2d\":[{\"colorbar\":{\"outlinewidth\":0,\"ticks\":\"\"},\"colorscale\":[[0.0,\"#0d0887\"],[0.1111111111111111,\"#46039f\"],[0.2222222222222222,\"#7201a8\"],[0.3333333333333333,\"#9c179e\"],[0.4444444444444444,\"#bd3786\"],[0.5555555555555556,\"#d8576b\"],[0.6666666666666666,\"#ed7953\"],[0.7777777777777778,\"#fb9f3a\"],[0.8888888888888888,\"#fdca26\"],[1.0,\"#f0f921\"]],\"type\":\"histogram2d\"}],\"histogram\":[{\"marker\":{\"pattern\":{\"fillmode\":\"overlay\",\"size\":10,\"solidity\":0.2}},\"type\":\"histogram\"}],\"mesh3d\":[{\"colorbar\":{\"outlinewidth\":0,\"ticks\":\"\"},\"type\":\"mesh3d\"}],\"parcoords\":[{\"line\":{\"colorbar\":{\"outlinewidth\":0,\"ticks\":\"\"}},\"type\":\"parcoords\"}],\"pie\":[{\"automargin\":true,\"type\":\"pie\"}],\"scatter3d\":[{\"line\":{\"colorbar\":{\"outlinewidth\":0,\"ticks\":\"\"}},\"marker\":{\"colorbar\":{\"outlinewidth\":0,\"ticks\":\"\"}},\"type\":\"scatter3d\"}],\"scattercarpet\":[{\"marker\":{\"colorbar\":{\"outlinewidth\":0,\"ticks\":\"\"}},\"type\":\"scattercarpet\"}],\"scattergeo\":[{\"marker\":{\"colorbar\":{\"outlinewidth\":0,\"ticks\":\"\"}},\"type\":\"scattergeo\"}],\"scattergl\":[{\"marker\":{\"colorbar\":{\"outlinewidth\":0,\"ticks\":\"\"}},\"type\":\"scattergl\"}],\"scattermapbox\":[{\"marker\":{\"colorbar\":{\"outlinewidth\":0,\"ticks\":\"\"}},\"type\":\"scattermapbox\"}],\"scatterpolargl\":[{\"marker\":{\"colorbar\":{\"outlinewidth\":0,\"ticks\":\"\"}},\"type\":\"scatterpolargl\"}],\"scatterpolar\":[{\"marker\":{\"colorbar\":{\"outlinewidth\":0,\"ticks\":\"\"}},\"type\":\"scatterpolar\"}],\"scatter\":[{\"marker\":{\"colorbar\":{\"outlinewidth\":0,\"ticks\":\"\"}},\"type\":\"scatter\"}],\"scatterternary\":[{\"marker\":{\"colorbar\":{\"outlinewidth\":0,\"ticks\":\"\"}},\"type\":\"scatterternary\"}],\"surface\":[{\"colorbar\":{\"outlinewidth\":0,\"ticks\":\"\"},\"colorscale\":[[0.0,\"#0d0887\"],[0.1111111111111111,\"#46039f\"],[0.2222222222222222,\"#7201a8\"],[0.3333333333333333,\"#9c179e\"],[0.4444444444444444,\"#bd3786\"],[0.5555555555555556,\"#d8576b\"],[0.6666666666666666,\"#ed7953\"],[0.7777777777777778,\"#fb9f3a\"],[0.8888888888888888,\"#fdca26\"],[1.0,\"#f0f921\"]],\"type\":\"surface\"}],\"table\":[{\"cells\":{\"fill\":{\"color\":\"#EBF0F8\"},\"line\":{\"color\":\"white\"}},\"header\":{\"fill\":{\"color\":\"#C8D4E3\"},\"line\":{\"color\":\"white\"}},\"type\":\"table\"}]},\"layout\":{\"annotationdefaults\":{\"arrowcolor\":\"#2a3f5f\",\"arrowhead\":0,\"arrowwidth\":1},\"autotypenumbers\":\"strict\",\"coloraxis\":{\"colorbar\":{\"outlinewidth\":0,\"ticks\":\"\"}},\"colorscale\":{\"diverging\":[[0,\"#8e0152\"],[0.1,\"#c51b7d\"],[0.2,\"#de77ae\"],[0.3,\"#f1b6da\"],[0.4,\"#fde0ef\"],[0.5,\"#f7f7f7\"],[0.6,\"#e6f5d0\"],[0.7,\"#b8e186\"],[0.8,\"#7fbc41\"],[0.9,\"#4d9221\"],[1,\"#276419\"]],\"sequential\":[[0.0,\"#0d0887\"],[0.1111111111111111,\"#46039f\"],[0.2222222222222222,\"#7201a8\"],[0.3333333333333333,\"#9c179e\"],[0.4444444444444444,\"#bd3786\"],[0.5555555555555556,\"#d8576b\"],[0.6666666666666666,\"#ed7953\"],[0.7777777777777778,\"#fb9f3a\"],[0.8888888888888888,\"#fdca26\"],[1.0,\"#f0f921\"]],\"sequentialminus\":[[0.0,\"#0d0887\"],[0.1111111111111111,\"#46039f\"],[0.2222222222222222,\"#7201a8\"],[0.3333333333333333,\"#9c179e\"],[0.4444444444444444,\"#bd3786\"],[0.5555555555555556,\"#d8576b\"],[0.6666666666666666,\"#ed7953\"],[0.7777777777777778,\"#fb9f3a\"],[0.8888888888888888,\"#fdca26\"],[1.0,\"#f0f921\"]]},\"colorway\":[\"#636efa\",\"#EF553B\",\"#00cc96\",\"#ab63fa\",\"#FFA15A\",\"#19d3f3\",\"#FF6692\",\"#B6E880\",\"#FF97FF\",\"#FECB52\"],\"font\":{\"color\":\"#2a3f5f\"},\"geo\":{\"bgcolor\":\"white\",\"lakecolor\":\"white\",\"landcolor\":\"#E5ECF6\",\"showlakes\":true,\"showland\":true,\"subunitcolor\":\"white\"},\"hoverlabel\":{\"align\":\"left\"},\"hovermode\":\"closest\",\"mapbox\":{\"style\":\"light\"},\"paper_bgcolor\":\"white\",\"plot_bgcolor\":\"#E5ECF6\",\"polar\":{\"angularaxis\":{\"gridcolor\":\"white\",\"linecolor\":\"white\",\"ticks\":\"\"},\"bgcolor\":\"#E5ECF6\",\"radialaxis\":{\"gridcolor\":\"white\",\"linecolor\":\"white\",\"ticks\":\"\"}},\"scene\":{\"xaxis\":{\"backgroundcolor\":\"#E5ECF6\",\"gridcolor\":\"white\",\"gridwidth\":2,\"linecolor\":\"white\",\"showbackground\":true,\"ticks\":\"\",\"zerolinecolor\":\"white\"},\"yaxis\":{\"backgroundcolor\":\"#E5ECF6\",\"gridcolor\":\"white\",\"gridwidth\":2,\"linecolor\":\"white\",\"showbackground\":true,\"ticks\":\"\",\"zerolinecolor\":\"white\"},\"zaxis\":{\"backgroundcolor\":\"#E5ECF6\",\"gridcolor\":\"white\",\"gridwidth\":2,\"linecolor\":\"white\",\"showbackground\":true,\"ticks\":\"\",\"zerolinecolor\":\"white\"}},\"shapedefaults\":{\"line\":{\"color\":\"#2a3f5f\"}},\"ternary\":{\"aaxis\":{\"gridcolor\":\"white\",\"linecolor\":\"white\",\"ticks\":\"\"},\"baxis\":{\"gridcolor\":\"white\",\"linecolor\":\"white\",\"ticks\":\"\"},\"bgcolor\":\"#E5ECF6\",\"caxis\":{\"gridcolor\":\"white\",\"linecolor\":\"white\",\"ticks\":\"\"}},\"title\":{\"x\":0.05},\"xaxis\":{\"automargin\":true,\"gridcolor\":\"white\",\"linecolor\":\"white\",\"ticks\":\"\",\"title\":{\"standoff\":15},\"zerolinecolor\":\"white\",\"zerolinewidth\":2},\"yaxis\":{\"automargin\":true,\"gridcolor\":\"white\",\"linecolor\":\"white\",\"ticks\":\"\",\"title\":{\"standoff\":15},\"zerolinecolor\":\"white\",\"zerolinewidth\":2}}},\"title\":{\"text\":\"\\u0417\\u0430\\u0432\\u0438\\u0441\\u0438\\u043c\\u043e\\u0441\\u0442\\u044c \\u043f\\u043e\\u0433\\u0440\\u0435\\u0448\\u043d\\u043e\\u0441\\u0442\\u0438 \\u043e\\u0442 \\u043c\\u0435\\u043b\\u043a\\u043e\\u0441\\u0442\\u0438 \\u0440\\u0430\\u0437\\u0431\\u0438\\u0435\\u043d\\u0438\\u044f \\u043f\\u043e \\u0432\\u0440\\u0435\\u043c\\u0435\\u043d\\u0438\"},\"xaxis\":{\"range\":[0,2.6],\"tickmode\":\"array\",\"tickvals\":[0,0.1,0.2,0.30000000000000004,0.4,0.5,0.6,0.7,0.7999999999999999,0.8999999999999999,0.9999999999999999,1.0999999999999999,1.2,1.3,1.4000000000000001,1.5000000000000002,1.6000000000000003,1.7000000000000004,1.8000000000000005,1.9000000000000006,2.0000000000000004,2.1000000000000005,2.2000000000000006,2.3000000000000007,2.400000000000001,2.500000000000001],\"title\":{\"text\":\"t\"}},\"yaxis\":{\"title\":{\"text\":\"e\"}}},                        {\"responsive\": true}                    ).then(function(){\n",
              "                            \n",
              "var gd = document.getElementById('9aa63b95-6a85-4fe9-9e77-e53090ab767a');\n",
              "var x = new MutationObserver(function (mutations, observer) {{\n",
              "        var display = window.getComputedStyle(gd).display;\n",
              "        if (!display || display === 'none') {{\n",
              "            console.log([gd, 'removed!']);\n",
              "            Plotly.purge(gd);\n",
              "            observer.disconnect();\n",
              "        }}\n",
              "}});\n",
              "\n",
              "// Listen for the removal of the full notebook cells\n",
              "var notebookContainer = gd.closest('#notebook-container');\n",
              "if (notebookContainer) {{\n",
              "    x.observe(notebookContainer, {childList: true});\n",
              "}}\n",
              "\n",
              "// Listen for the clearing of the current output cell\n",
              "var outputEl = gd.closest('.output');\n",
              "if (outputEl) {{\n",
              "    x.observe(outputEl, {childList: true});\n",
              "}}\n",
              "\n",
              "                        })                };                            </script>        </div>\n",
              "</body>\n",
              "</html>"
            ]
          },
          "metadata": {}
        },
        {
          "output_type": "display_data",
          "data": {
            "text/html": [
              "<html>\n",
              "<head><meta charset=\"utf-8\" /></head>\n",
              "<body>\n",
              "    <div>            <script src=\"https://cdnjs.cloudflare.com/ajax/libs/mathjax/2.7.5/MathJax.js?config=TeX-AMS-MML_SVG\"></script><script type=\"text/javascript\">if (window.MathJax) {MathJax.Hub.Config({SVG: {font: \"STIX-Web\"}});}</script>                <script type=\"text/javascript\">window.PlotlyConfig = {MathJaxConfig: 'local'};</script>\n",
              "        <script src=\"https://cdn.plot.ly/plotly-2.8.3.min.js\"></script>                <div id=\"b558ee27-dde3-4e3f-b991-9dca62905b80\" class=\"plotly-graph-div\" style=\"height:525px; width:100%;\"></div>            <script type=\"text/javascript\">                                    window.PLOTLYENV=window.PLOTLYENV || {};                                    if (document.getElementById(\"b558ee27-dde3-4e3f-b991-9dca62905b80\")) {                    Plotly.newPlot(                        \"b558ee27-dde3-4e3f-b991-9dca62905b80\",                        [{\"mode\":\"lines\",\"name\":\"\\u041d\\u0435\\u044f\\u0432\\u043d\\u044b\\u0439\",\"showlegend\":true,\"text\":\"(x, y)\",\"x\":[0.9162907318741551,0.5108256237659907,0.22314355131420976,0.0,-0.1823215567939546,-0.3364722366212129,-0.4700036292457356,-0.587786664902119,-0.6931471805599453,-0.7884573603642702,-0.8754687373538999,-0.9555114450274363,-1.0296194171811581,-1.0986122886681098,-1.1631508098056809,-1.2237754316221157,-1.2809338454620642,-1.3350010667323402,-1.3862943611198906,-1.4350845252893227,-1.4816045409242156,-1.5260563034950494,-1.5686159179138452,-1.6094379124341003,-1.6486586255873816,-1.6863989535702288,-1.7227665977411035,-1.7578579175523736,-1.791759469228055,-1.824549292051046,-1.8562979903656263,-1.8870696490323797,-1.916922612182061,-1.9459101490553135,-1.9740810260220096,-2.001480000210124,-2.0281482472922856,-2.0541237336955462,-2.0794415416798357,-2.1041341542702074,-2.128231705849268,-2.151762203259462,-2.174751721484161,-2.1972245773362196,-2.2192034840549946,-2.2407096892759584,-2.2617630984737906,-2.2823823856765264,-2.3025850929940455,-2.322387720290225,-2.341805806147327,-2.3608540011180215,-2.379546134130174,-2.3978952727983707,-2.4159137783010487,-2.4336133554004498,-2.451005098112319,-2.468099531471619,-2.4849066497880004,-2.501435951739211,-2.517696472610991,-2.5336968139574325,-2.5494451709255714,-2.5649493574615367,-2.580216829592325,-2.5952547069568657,-2.6100697927420065],\"y\":[0.9567050652083096,0.778909104045826,0.6427664106081737,0.5341243404403611,0.44411354544593235,0.36739558785955134,0.30059093622945793,0.24144554719332315,0.18838779746899126,0.14028091973901127,0.09627730570805791,0.05572868029815963,0.018128447111554973,-0.016926622421323187,-0.04976262032719717,-0.08064693644894651,-0.10980151219966819,-0.13741256310370165,-0.1636378393085424,-0.1886121345785536,-0.21245152651005966,-0.2352566825850554,-0.25711546822075054,-0.2781050262464938,-0.2982934511760744,-0.3177411493633873,-0.33650195312070436,-0.35462404028688416,-0.372150698596485,-0.3891209652308758,-0.40557016521002515,-0.42153036722954046,-0.43703077165902154,-0.4520980424728523,-0.46675659254017543,-0.48102882992947926,-0.4949353714449484,-0.5084952284833877,-0.5217259694110896,-0.5346438619243566,-0.5472639982922165,-0.5596004058792282,-0.5716661449860956,-0.5834733957113665,-0.5950335352729604,-0.6063572070361536,-0.6174543822684638,-0.6283344155471345,-0.6390060945666267,-0.6494776850198128,-0.6597569711296319,-0.669851292317938,-0.679767576450352,-0.6895123700378327,-0.6990918657099132,-0.708511927270743,-0.7177781125600396,-0.726895694380782,-0.7358696796505265,-0.7447048269854806,-0.7534056628433632,-0.7619764963860547,-0.7704214331619368,-0.7787443877371978,-0.7869490953560118,-0.7950391227277227,-0.8030178780155548],\"type\":\"scatter\"},{\"mode\":\"lines\",\"name\":\"\\u0417\\u0430\\u0432\\u0438\\u0441\\u0438\\u043c\\u043e\\u0441\\u0442\\u044c $O(t)$\",\"showlegend\":true,\"text\":\"(x, y)\",\"x\":[-3,1],\"y\":[-0.5,3.5],\"type\":\"scatter\"},{\"mode\":\"lines\",\"name\":\"\\u0417\\u0430\\u0432\\u0438\\u0441\\u0438\\u043c\\u043e\\u0441\\u0442\\u044c $O(\\\\sqrt{t})$\",\"showlegend\":true,\"text\":\"(x, y)\",\"x\":[-3,1],\"y\":[0,2],\"type\":\"scatter\"}],                        {\"template\":{\"data\":{\"barpolar\":[{\"marker\":{\"line\":{\"color\":\"#E5ECF6\",\"width\":0.5},\"pattern\":{\"fillmode\":\"overlay\",\"size\":10,\"solidity\":0.2}},\"type\":\"barpolar\"}],\"bar\":[{\"error_x\":{\"color\":\"#2a3f5f\"},\"error_y\":{\"color\":\"#2a3f5f\"},\"marker\":{\"line\":{\"color\":\"#E5ECF6\",\"width\":0.5},\"pattern\":{\"fillmode\":\"overlay\",\"size\":10,\"solidity\":0.2}},\"type\":\"bar\"}],\"carpet\":[{\"aaxis\":{\"endlinecolor\":\"#2a3f5f\",\"gridcolor\":\"white\",\"linecolor\":\"white\",\"minorgridcolor\":\"white\",\"startlinecolor\":\"#2a3f5f\"},\"baxis\":{\"endlinecolor\":\"#2a3f5f\",\"gridcolor\":\"white\",\"linecolor\":\"white\",\"minorgridcolor\":\"white\",\"startlinecolor\":\"#2a3f5f\"},\"type\":\"carpet\"}],\"choropleth\":[{\"colorbar\":{\"outlinewidth\":0,\"ticks\":\"\"},\"type\":\"choropleth\"}],\"contourcarpet\":[{\"colorbar\":{\"outlinewidth\":0,\"ticks\":\"\"},\"type\":\"contourcarpet\"}],\"contour\":[{\"colorbar\":{\"outlinewidth\":0,\"ticks\":\"\"},\"colorscale\":[[0.0,\"#0d0887\"],[0.1111111111111111,\"#46039f\"],[0.2222222222222222,\"#7201a8\"],[0.3333333333333333,\"#9c179e\"],[0.4444444444444444,\"#bd3786\"],[0.5555555555555556,\"#d8576b\"],[0.6666666666666666,\"#ed7953\"],[0.7777777777777778,\"#fb9f3a\"],[0.8888888888888888,\"#fdca26\"],[1.0,\"#f0f921\"]],\"type\":\"contour\"}],\"heatmapgl\":[{\"colorbar\":{\"outlinewidth\":0,\"ticks\":\"\"},\"colorscale\":[[0.0,\"#0d0887\"],[0.1111111111111111,\"#46039f\"],[0.2222222222222222,\"#7201a8\"],[0.3333333333333333,\"#9c179e\"],[0.4444444444444444,\"#bd3786\"],[0.5555555555555556,\"#d8576b\"],[0.6666666666666666,\"#ed7953\"],[0.7777777777777778,\"#fb9f3a\"],[0.8888888888888888,\"#fdca26\"],[1.0,\"#f0f921\"]],\"type\":\"heatmapgl\"}],\"heatmap\":[{\"colorbar\":{\"outlinewidth\":0,\"ticks\":\"\"},\"colorscale\":[[0.0,\"#0d0887\"],[0.1111111111111111,\"#46039f\"],[0.2222222222222222,\"#7201a8\"],[0.3333333333333333,\"#9c179e\"],[0.4444444444444444,\"#bd3786\"],[0.5555555555555556,\"#d8576b\"],[0.6666666666666666,\"#ed7953\"],[0.7777777777777778,\"#fb9f3a\"],[0.8888888888888888,\"#fdca26\"],[1.0,\"#f0f921\"]],\"type\":\"heatmap\"}],\"histogram2dcontour\":[{\"colorbar\":{\"outlinewidth\":0,\"ticks\":\"\"},\"colorscale\":[[0.0,\"#0d0887\"],[0.1111111111111111,\"#46039f\"],[0.2222222222222222,\"#7201a8\"],[0.3333333333333333,\"#9c179e\"],[0.4444444444444444,\"#bd3786\"],[0.5555555555555556,\"#d8576b\"],[0.6666666666666666,\"#ed7953\"],[0.7777777777777778,\"#fb9f3a\"],[0.8888888888888888,\"#fdca26\"],[1.0,\"#f0f921\"]],\"type\":\"histogram2dcontour\"}],\"histogram2d\":[{\"colorbar\":{\"outlinewidth\":0,\"ticks\":\"\"},\"colorscale\":[[0.0,\"#0d0887\"],[0.1111111111111111,\"#46039f\"],[0.2222222222222222,\"#7201a8\"],[0.3333333333333333,\"#9c179e\"],[0.4444444444444444,\"#bd3786\"],[0.5555555555555556,\"#d8576b\"],[0.6666666666666666,\"#ed7953\"],[0.7777777777777778,\"#fb9f3a\"],[0.8888888888888888,\"#fdca26\"],[1.0,\"#f0f921\"]],\"type\":\"histogram2d\"}],\"histogram\":[{\"marker\":{\"pattern\":{\"fillmode\":\"overlay\",\"size\":10,\"solidity\":0.2}},\"type\":\"histogram\"}],\"mesh3d\":[{\"colorbar\":{\"outlinewidth\":0,\"ticks\":\"\"},\"type\":\"mesh3d\"}],\"parcoords\":[{\"line\":{\"colorbar\":{\"outlinewidth\":0,\"ticks\":\"\"}},\"type\":\"parcoords\"}],\"pie\":[{\"automargin\":true,\"type\":\"pie\"}],\"scatter3d\":[{\"line\":{\"colorbar\":{\"outlinewidth\":0,\"ticks\":\"\"}},\"marker\":{\"colorbar\":{\"outlinewidth\":0,\"ticks\":\"\"}},\"type\":\"scatter3d\"}],\"scattercarpet\":[{\"marker\":{\"colorbar\":{\"outlinewidth\":0,\"ticks\":\"\"}},\"type\":\"scattercarpet\"}],\"scattergeo\":[{\"marker\":{\"colorbar\":{\"outlinewidth\":0,\"ticks\":\"\"}},\"type\":\"scattergeo\"}],\"scattergl\":[{\"marker\":{\"colorbar\":{\"outlinewidth\":0,\"ticks\":\"\"}},\"type\":\"scattergl\"}],\"scattermapbox\":[{\"marker\":{\"colorbar\":{\"outlinewidth\":0,\"ticks\":\"\"}},\"type\":\"scattermapbox\"}],\"scatterpolargl\":[{\"marker\":{\"colorbar\":{\"outlinewidth\":0,\"ticks\":\"\"}},\"type\":\"scatterpolargl\"}],\"scatterpolar\":[{\"marker\":{\"colorbar\":{\"outlinewidth\":0,\"ticks\":\"\"}},\"type\":\"scatterpolar\"}],\"scatter\":[{\"marker\":{\"colorbar\":{\"outlinewidth\":0,\"ticks\":\"\"}},\"type\":\"scatter\"}],\"scatterternary\":[{\"marker\":{\"colorbar\":{\"outlinewidth\":0,\"ticks\":\"\"}},\"type\":\"scatterternary\"}],\"surface\":[{\"colorbar\":{\"outlinewidth\":0,\"ticks\":\"\"},\"colorscale\":[[0.0,\"#0d0887\"],[0.1111111111111111,\"#46039f\"],[0.2222222222222222,\"#7201a8\"],[0.3333333333333333,\"#9c179e\"],[0.4444444444444444,\"#bd3786\"],[0.5555555555555556,\"#d8576b\"],[0.6666666666666666,\"#ed7953\"],[0.7777777777777778,\"#fb9f3a\"],[0.8888888888888888,\"#fdca26\"],[1.0,\"#f0f921\"]],\"type\":\"surface\"}],\"table\":[{\"cells\":{\"fill\":{\"color\":\"#EBF0F8\"},\"line\":{\"color\":\"white\"}},\"header\":{\"fill\":{\"color\":\"#C8D4E3\"},\"line\":{\"color\":\"white\"}},\"type\":\"table\"}]},\"layout\":{\"annotationdefaults\":{\"arrowcolor\":\"#2a3f5f\",\"arrowhead\":0,\"arrowwidth\":1},\"autotypenumbers\":\"strict\",\"coloraxis\":{\"colorbar\":{\"outlinewidth\":0,\"ticks\":\"\"}},\"colorscale\":{\"diverging\":[[0,\"#8e0152\"],[0.1,\"#c51b7d\"],[0.2,\"#de77ae\"],[0.3,\"#f1b6da\"],[0.4,\"#fde0ef\"],[0.5,\"#f7f7f7\"],[0.6,\"#e6f5d0\"],[0.7,\"#b8e186\"],[0.8,\"#7fbc41\"],[0.9,\"#4d9221\"],[1,\"#276419\"]],\"sequential\":[[0.0,\"#0d0887\"],[0.1111111111111111,\"#46039f\"],[0.2222222222222222,\"#7201a8\"],[0.3333333333333333,\"#9c179e\"],[0.4444444444444444,\"#bd3786\"],[0.5555555555555556,\"#d8576b\"],[0.6666666666666666,\"#ed7953\"],[0.7777777777777778,\"#fb9f3a\"],[0.8888888888888888,\"#fdca26\"],[1.0,\"#f0f921\"]],\"sequentialminus\":[[0.0,\"#0d0887\"],[0.1111111111111111,\"#46039f\"],[0.2222222222222222,\"#7201a8\"],[0.3333333333333333,\"#9c179e\"],[0.4444444444444444,\"#bd3786\"],[0.5555555555555556,\"#d8576b\"],[0.6666666666666666,\"#ed7953\"],[0.7777777777777778,\"#fb9f3a\"],[0.8888888888888888,\"#fdca26\"],[1.0,\"#f0f921\"]]},\"colorway\":[\"#636efa\",\"#EF553B\",\"#00cc96\",\"#ab63fa\",\"#FFA15A\",\"#19d3f3\",\"#FF6692\",\"#B6E880\",\"#FF97FF\",\"#FECB52\"],\"font\":{\"color\":\"#2a3f5f\"},\"geo\":{\"bgcolor\":\"white\",\"lakecolor\":\"white\",\"landcolor\":\"#E5ECF6\",\"showlakes\":true,\"showland\":true,\"subunitcolor\":\"white\"},\"hoverlabel\":{\"align\":\"left\"},\"hovermode\":\"closest\",\"mapbox\":{\"style\":\"light\"},\"paper_bgcolor\":\"white\",\"plot_bgcolor\":\"#E5ECF6\",\"polar\":{\"angularaxis\":{\"gridcolor\":\"white\",\"linecolor\":\"white\",\"ticks\":\"\"},\"bgcolor\":\"#E5ECF6\",\"radialaxis\":{\"gridcolor\":\"white\",\"linecolor\":\"white\",\"ticks\":\"\"}},\"scene\":{\"xaxis\":{\"backgroundcolor\":\"#E5ECF6\",\"gridcolor\":\"white\",\"gridwidth\":2,\"linecolor\":\"white\",\"showbackground\":true,\"ticks\":\"\",\"zerolinecolor\":\"white\"},\"yaxis\":{\"backgroundcolor\":\"#E5ECF6\",\"gridcolor\":\"white\",\"gridwidth\":2,\"linecolor\":\"white\",\"showbackground\":true,\"ticks\":\"\",\"zerolinecolor\":\"white\"},\"zaxis\":{\"backgroundcolor\":\"#E5ECF6\",\"gridcolor\":\"white\",\"gridwidth\":2,\"linecolor\":\"white\",\"showbackground\":true,\"ticks\":\"\",\"zerolinecolor\":\"white\"}},\"shapedefaults\":{\"line\":{\"color\":\"#2a3f5f\"}},\"ternary\":{\"aaxis\":{\"gridcolor\":\"white\",\"linecolor\":\"white\",\"ticks\":\"\"},\"baxis\":{\"gridcolor\":\"white\",\"linecolor\":\"white\",\"ticks\":\"\"},\"bgcolor\":\"#E5ECF6\",\"caxis\":{\"gridcolor\":\"white\",\"linecolor\":\"white\",\"ticks\":\"\"}},\"title\":{\"x\":0.05},\"xaxis\":{\"automargin\":true,\"gridcolor\":\"white\",\"linecolor\":\"white\",\"ticks\":\"\",\"title\":{\"standoff\":15},\"zerolinecolor\":\"white\",\"zerolinewidth\":2},\"yaxis\":{\"automargin\":true,\"gridcolor\":\"white\",\"linecolor\":\"white\",\"ticks\":\"\",\"title\":{\"standoff\":15},\"zerolinecolor\":\"white\",\"zerolinewidth\":2}}},\"title\":{\"text\":\"\\u0417\\u0430\\u0432\\u0438\\u0441\\u0438\\u043c\\u043e\\u0441\\u0442\\u044c \\u043f\\u043e\\u0433\\u0440\\u0435\\u0448\\u043d\\u043e\\u0441\\u0442\\u0438 \\u043e\\u0442 \\u043c\\u0435\\u043b\\u043a\\u043e\\u0441\\u0442\\u0438 \\u0440\\u0430\\u0437\\u0431\\u0438\\u0435\\u043d\\u0438\\u044f \\u043f\\u043e \\u0432\\u0440\\u0435\\u043c\\u0435\\u043d\\u0438\"},\"xaxis\":{\"dtick\":0.2,\"range\":[-3.1,1.2],\"tick0\":-3,\"tickmode\":\"linear\",\"title\":{\"text\":\"log t\"}},\"yaxis\":{\"range\":[-1,3],\"title\":{\"text\":\"log e\"}}},                        {\"responsive\": true}                    ).then(function(){\n",
              "                            \n",
              "var gd = document.getElementById('b558ee27-dde3-4e3f-b991-9dca62905b80');\n",
              "var x = new MutationObserver(function (mutations, observer) {{\n",
              "        var display = window.getComputedStyle(gd).display;\n",
              "        if (!display || display === 'none') {{\n",
              "            console.log([gd, 'removed!']);\n",
              "            Plotly.purge(gd);\n",
              "            observer.disconnect();\n",
              "        }}\n",
              "}});\n",
              "\n",
              "// Listen for the removal of the full notebook cells\n",
              "var notebookContainer = gd.closest('#notebook-container');\n",
              "if (notebookContainer) {{\n",
              "    x.observe(notebookContainer, {childList: true});\n",
              "}}\n",
              "\n",
              "// Listen for the clearing of the current output cell\n",
              "var outputEl = gd.closest('.output');\n",
              "if (outputEl) {{\n",
              "    x.observe(outputEl, {childList: true});\n",
              "}}\n",
              "\n",
              "                        })                };                            </script>        </div>\n",
              "</body>\n",
              "</html>"
            ]
          },
          "metadata": {}
        }
      ],
      "source": [
        "tau, e = GetTandError(implict, u)\n",
        "\n",
        "trace1 = Scatter(\n",
        "    x = tau,\n",
        "    y = e,\n",
        "    name = 'Неявный',\n",
        "    mode = 'lines',\n",
        "    text = ('(x, y)'),\n",
        "    showlegend = True\n",
        ")\n",
        "\n",
        "data = [trace1]\n",
        "\n",
        "layout = Layout(\n",
        "    title = 'Зависимость погрешности от мелкости разбиения по времени',\n",
        "    xaxis = dict(tickmode = 'array',\n",
        "                 tickvals = list(explict.nparange(0, 2.5, 0.1)),\n",
        "                 range = [0, 2.6],\n",
        "                 title = 't'),\n",
        "    yaxis = dict(title = 'e')\n",
        ")\n",
        "\n",
        "\n",
        "fig = Figure(data = data, layout = layout)\n",
        "offline.iplot(fig)\n",
        "\n",
        "trace1 = Scatter(\n",
        "    x = list(map(math.log, tau)),\n",
        "    y = list(map(math.log, e)),\n",
        "    name = 'Неявный',\n",
        "    mode = 'lines',\n",
        "    text = ('(x, y)'),\n",
        "    showlegend = True\n",
        ")\n",
        "\n",
        "trace2 = Scatter(\n",
        "    x = [-3, 1],\n",
        "    y = [-0.5, 3.5],\n",
        "    name = 'Зависимость $O(t)$',\n",
        "    mode = 'lines',\n",
        "    text = ('(x, y)'),\n",
        "    showlegend = True\n",
        ")\n",
        "\n",
        "trace3 = Scatter(\n",
        "    x = [-3, 1],\n",
        "    y = [0, 2],\n",
        "    name = 'Зависимость $O(\\sqrt{t})$',\n",
        "    mode = 'lines',\n",
        "    text = ('(x, y)'),\n",
        "    showlegend = True\n",
        ")\n",
        "\n",
        "data = [trace1, trace2, trace3]\n",
        "\n",
        "layout = Layout(\n",
        "    title = 'Зависимость погрешности от мелкости разбиения по времени',\n",
        "    xaxis = dict(#tickmode = 'array',\n",
        "                 #tickvals = list(explict.nparange(-3, 1, 0.2)),\n",
        "                 tickmode = 'linear',\n",
        "                 tick0 = -3,\n",
        "                 dtick = 0.2,\n",
        "                 range = [-3.1, 1.2],\n",
        "                 title = 'log t'),\n",
        "    yaxis = dict(range = [-1, 3],\n",
        "                 title = 'log e')\n",
        ")\n",
        "\n",
        "\n",
        "fig = Figure(data = data, layout = layout)\n",
        "offline.iplot(fig)"
      ]
    },
    {
      "cell_type": "markdown",
      "metadata": {
        "id": "SSbIqT4BJ2eS"
      },
      "source": [
        "#### Схема Кранка-Николсона"
      ]
    },
    {
      "cell_type": "code",
      "execution_count": 23,
      "metadata": {
        "id": "o3VOzpsoJ2eT"
      },
      "outputs": [],
      "source": [
        "krank = ImplictExplict(aprx_cls=Approx2pointSecondOrder)"
      ]
    },
    {
      "cell_type": "code",
      "execution_count": 24,
      "metadata": {
        "colab": {
          "base_uri": "https://localhost:8080/",
          "height": 1067
        },
        "id": "6-HQi8y_J2eT",
        "outputId": "9293dab1-d629-44f3-80fa-16226d75dce5"
      },
      "outputs": [
        {
          "output_type": "display_data",
          "data": {
            "text/html": [
              "<html>\n",
              "<head><meta charset=\"utf-8\" /></head>\n",
              "<body>\n",
              "    <div>            <script src=\"https://cdnjs.cloudflare.com/ajax/libs/mathjax/2.7.5/MathJax.js?config=TeX-AMS-MML_SVG\"></script><script type=\"text/javascript\">if (window.MathJax) {MathJax.Hub.Config({SVG: {font: \"STIX-Web\"}});}</script>                <script type=\"text/javascript\">window.PlotlyConfig = {MathJaxConfig: 'local'};</script>\n",
              "        <script src=\"https://cdn.plot.ly/plotly-2.8.3.min.js\"></script>                <div id=\"ede71dcf-1331-4083-8f4f-9074a093741d\" class=\"plotly-graph-div\" style=\"height:525px; width:100%;\"></div>            <script type=\"text/javascript\">                                    window.PLOTLYENV=window.PLOTLYENV || {};                                    if (document.getElementById(\"ede71dcf-1331-4083-8f4f-9074a093741d\")) {                    Plotly.newPlot(                        \"ede71dcf-1331-4083-8f4f-9074a093741d\",                        [{\"mode\":\"lines\",\"name\":\"\\u041a\\u0440\\u0430\\u043d\\u043a-\\u041d\\u0438\\u043a\\u043e\\u043b\\u0441\\u043e\\u043d\",\"showlegend\":true,\"text\":\"(x, y)\",\"x\":[2.5,1.6666666666666667,1.25,1.0,0.8333333333333334,0.7142857142857143,0.625,0.5555555555555556,0.5,0.45454545454545453,0.4166666666666667,0.38461538461538464,0.35714285714285715,0.3333333333333333,0.3125,0.29411764705882354,0.2777777777777778,0.2631578947368421,0.25,0.23809523809523808,0.22727272727272727,0.21739130434782608,0.20833333333333334,0.2,0.19230769230769232,0.18518518518518517,0.17857142857142858,0.1724137931034483,0.16666666666666666,0.16129032258064516,0.15625,0.15151515151515152,0.14705882352941177,0.14285714285714285,0.1388888888888889,0.13513513513513514,0.13157894736842105,0.1282051282051282,0.125,0.12195121951219512,0.11904761904761904,0.11627906976744186,0.11363636363636363,0.1111111111111111,0.10869565217391304,0.10638297872340426,0.10416666666666667,0.10204081632653061,0.1,0.09803921568627451,0.09615384615384616,0.09433962264150944,0.09259259259259259,0.09090909090909091,0.08928571428571429,0.08771929824561403,0.08620689655172414,0.0847457627118644,0.08333333333333333,0.08196721311475409,0.08064516129032258,0.07936507936507936,0.078125,0.07692307692307693,0.07575757575757576,0.07462686567164178,0.07352941176470588],\"y\":[0.6687065294038826,0.3518473625755945,0.22481907008393526,0.15999782745581698,0.12194486819381621,0.09748457398007628,0.08071447676204786,0.06867187380434432,0.05969820844023189,0.05282604577172391,0.04743496271236301,0.04313140595484507,0.03963695856001051,0.0367665988962025,0.03437852049909855,0.03237638307337241,0.030680889952426585,0.029237929982862957,0.027999866759242216,0.026934483712944338,0.026011499827637657,0.025210825970443964,0.02451231877232322,0.02390296967029778,0.023368873930064347,0.022901337616141396,0.022490466033973755,0.022130288980747745,0.021813585841894776,0.02153615761117251,0.02129262355511224,0.02107996596453188,0.02089410436136771,0.02073282640876455,0.02059299186531464,0.02047294827156757,0.02037024881913248,0.02028363719296771,0.02021118672289561,0.020151926013379957,0.020104324258758636,0.02006761818646524,0.020040582045212106,0.020022606896384056,0.020012704585669224,0.020010382323766646,0.020014838715433924,0.020025669672415914,0.020042221758897458,0.02006415962039713,0.02009094783919439,0.020122305095069924,0.020157790663510818,0.020197166305241716,0.020240067669817813,0.020286291335609285,0.020335534835638977,0.020387623252200605,0.020442304470553726,0.020499427189069726,0.020558780420766386,0.02062023264276413,0.02068360658572373,0.02074878745163619,0.020815625711092616,0.020884020828272884,0.02095384617554292],\"type\":\"scatter\"}],                        {\"template\":{\"data\":{\"barpolar\":[{\"marker\":{\"line\":{\"color\":\"#E5ECF6\",\"width\":0.5},\"pattern\":{\"fillmode\":\"overlay\",\"size\":10,\"solidity\":0.2}},\"type\":\"barpolar\"}],\"bar\":[{\"error_x\":{\"color\":\"#2a3f5f\"},\"error_y\":{\"color\":\"#2a3f5f\"},\"marker\":{\"line\":{\"color\":\"#E5ECF6\",\"width\":0.5},\"pattern\":{\"fillmode\":\"overlay\",\"size\":10,\"solidity\":0.2}},\"type\":\"bar\"}],\"carpet\":[{\"aaxis\":{\"endlinecolor\":\"#2a3f5f\",\"gridcolor\":\"white\",\"linecolor\":\"white\",\"minorgridcolor\":\"white\",\"startlinecolor\":\"#2a3f5f\"},\"baxis\":{\"endlinecolor\":\"#2a3f5f\",\"gridcolor\":\"white\",\"linecolor\":\"white\",\"minorgridcolor\":\"white\",\"startlinecolor\":\"#2a3f5f\"},\"type\":\"carpet\"}],\"choropleth\":[{\"colorbar\":{\"outlinewidth\":0,\"ticks\":\"\"},\"type\":\"choropleth\"}],\"contourcarpet\":[{\"colorbar\":{\"outlinewidth\":0,\"ticks\":\"\"},\"type\":\"contourcarpet\"}],\"contour\":[{\"colorbar\":{\"outlinewidth\":0,\"ticks\":\"\"},\"colorscale\":[[0.0,\"#0d0887\"],[0.1111111111111111,\"#46039f\"],[0.2222222222222222,\"#7201a8\"],[0.3333333333333333,\"#9c179e\"],[0.4444444444444444,\"#bd3786\"],[0.5555555555555556,\"#d8576b\"],[0.6666666666666666,\"#ed7953\"],[0.7777777777777778,\"#fb9f3a\"],[0.8888888888888888,\"#fdca26\"],[1.0,\"#f0f921\"]],\"type\":\"contour\"}],\"heatmapgl\":[{\"colorbar\":{\"outlinewidth\":0,\"ticks\":\"\"},\"colorscale\":[[0.0,\"#0d0887\"],[0.1111111111111111,\"#46039f\"],[0.2222222222222222,\"#7201a8\"],[0.3333333333333333,\"#9c179e\"],[0.4444444444444444,\"#bd3786\"],[0.5555555555555556,\"#d8576b\"],[0.6666666666666666,\"#ed7953\"],[0.7777777777777778,\"#fb9f3a\"],[0.8888888888888888,\"#fdca26\"],[1.0,\"#f0f921\"]],\"type\":\"heatmapgl\"}],\"heatmap\":[{\"colorbar\":{\"outlinewidth\":0,\"ticks\":\"\"},\"colorscale\":[[0.0,\"#0d0887\"],[0.1111111111111111,\"#46039f\"],[0.2222222222222222,\"#7201a8\"],[0.3333333333333333,\"#9c179e\"],[0.4444444444444444,\"#bd3786\"],[0.5555555555555556,\"#d8576b\"],[0.6666666666666666,\"#ed7953\"],[0.7777777777777778,\"#fb9f3a\"],[0.8888888888888888,\"#fdca26\"],[1.0,\"#f0f921\"]],\"type\":\"heatmap\"}],\"histogram2dcontour\":[{\"colorbar\":{\"outlinewidth\":0,\"ticks\":\"\"},\"colorscale\":[[0.0,\"#0d0887\"],[0.1111111111111111,\"#46039f\"],[0.2222222222222222,\"#7201a8\"],[0.3333333333333333,\"#9c179e\"],[0.4444444444444444,\"#bd3786\"],[0.5555555555555556,\"#d8576b\"],[0.6666666666666666,\"#ed7953\"],[0.7777777777777778,\"#fb9f3a\"],[0.8888888888888888,\"#fdca26\"],[1.0,\"#f0f921\"]],\"type\":\"histogram2dcontour\"}],\"histogram2d\":[{\"colorbar\":{\"outlinewidth\":0,\"ticks\":\"\"},\"colorscale\":[[0.0,\"#0d0887\"],[0.1111111111111111,\"#46039f\"],[0.2222222222222222,\"#7201a8\"],[0.3333333333333333,\"#9c179e\"],[0.4444444444444444,\"#bd3786\"],[0.5555555555555556,\"#d8576b\"],[0.6666666666666666,\"#ed7953\"],[0.7777777777777778,\"#fb9f3a\"],[0.8888888888888888,\"#fdca26\"],[1.0,\"#f0f921\"]],\"type\":\"histogram2d\"}],\"histogram\":[{\"marker\":{\"pattern\":{\"fillmode\":\"overlay\",\"size\":10,\"solidity\":0.2}},\"type\":\"histogram\"}],\"mesh3d\":[{\"colorbar\":{\"outlinewidth\":0,\"ticks\":\"\"},\"type\":\"mesh3d\"}],\"parcoords\":[{\"line\":{\"colorbar\":{\"outlinewidth\":0,\"ticks\":\"\"}},\"type\":\"parcoords\"}],\"pie\":[{\"automargin\":true,\"type\":\"pie\"}],\"scatter3d\":[{\"line\":{\"colorbar\":{\"outlinewidth\":0,\"ticks\":\"\"}},\"marker\":{\"colorbar\":{\"outlinewidth\":0,\"ticks\":\"\"}},\"type\":\"scatter3d\"}],\"scattercarpet\":[{\"marker\":{\"colorbar\":{\"outlinewidth\":0,\"ticks\":\"\"}},\"type\":\"scattercarpet\"}],\"scattergeo\":[{\"marker\":{\"colorbar\":{\"outlinewidth\":0,\"ticks\":\"\"}},\"type\":\"scattergeo\"}],\"scattergl\":[{\"marker\":{\"colorbar\":{\"outlinewidth\":0,\"ticks\":\"\"}},\"type\":\"scattergl\"}],\"scattermapbox\":[{\"marker\":{\"colorbar\":{\"outlinewidth\":0,\"ticks\":\"\"}},\"type\":\"scattermapbox\"}],\"scatterpolargl\":[{\"marker\":{\"colorbar\":{\"outlinewidth\":0,\"ticks\":\"\"}},\"type\":\"scatterpolargl\"}],\"scatterpolar\":[{\"marker\":{\"colorbar\":{\"outlinewidth\":0,\"ticks\":\"\"}},\"type\":\"scatterpolar\"}],\"scatter\":[{\"marker\":{\"colorbar\":{\"outlinewidth\":0,\"ticks\":\"\"}},\"type\":\"scatter\"}],\"scatterternary\":[{\"marker\":{\"colorbar\":{\"outlinewidth\":0,\"ticks\":\"\"}},\"type\":\"scatterternary\"}],\"surface\":[{\"colorbar\":{\"outlinewidth\":0,\"ticks\":\"\"},\"colorscale\":[[0.0,\"#0d0887\"],[0.1111111111111111,\"#46039f\"],[0.2222222222222222,\"#7201a8\"],[0.3333333333333333,\"#9c179e\"],[0.4444444444444444,\"#bd3786\"],[0.5555555555555556,\"#d8576b\"],[0.6666666666666666,\"#ed7953\"],[0.7777777777777778,\"#fb9f3a\"],[0.8888888888888888,\"#fdca26\"],[1.0,\"#f0f921\"]],\"type\":\"surface\"}],\"table\":[{\"cells\":{\"fill\":{\"color\":\"#EBF0F8\"},\"line\":{\"color\":\"white\"}},\"header\":{\"fill\":{\"color\":\"#C8D4E3\"},\"line\":{\"color\":\"white\"}},\"type\":\"table\"}]},\"layout\":{\"annotationdefaults\":{\"arrowcolor\":\"#2a3f5f\",\"arrowhead\":0,\"arrowwidth\":1},\"autotypenumbers\":\"strict\",\"coloraxis\":{\"colorbar\":{\"outlinewidth\":0,\"ticks\":\"\"}},\"colorscale\":{\"diverging\":[[0,\"#8e0152\"],[0.1,\"#c51b7d\"],[0.2,\"#de77ae\"],[0.3,\"#f1b6da\"],[0.4,\"#fde0ef\"],[0.5,\"#f7f7f7\"],[0.6,\"#e6f5d0\"],[0.7,\"#b8e186\"],[0.8,\"#7fbc41\"],[0.9,\"#4d9221\"],[1,\"#276419\"]],\"sequential\":[[0.0,\"#0d0887\"],[0.1111111111111111,\"#46039f\"],[0.2222222222222222,\"#7201a8\"],[0.3333333333333333,\"#9c179e\"],[0.4444444444444444,\"#bd3786\"],[0.5555555555555556,\"#d8576b\"],[0.6666666666666666,\"#ed7953\"],[0.7777777777777778,\"#fb9f3a\"],[0.8888888888888888,\"#fdca26\"],[1.0,\"#f0f921\"]],\"sequentialminus\":[[0.0,\"#0d0887\"],[0.1111111111111111,\"#46039f\"],[0.2222222222222222,\"#7201a8\"],[0.3333333333333333,\"#9c179e\"],[0.4444444444444444,\"#bd3786\"],[0.5555555555555556,\"#d8576b\"],[0.6666666666666666,\"#ed7953\"],[0.7777777777777778,\"#fb9f3a\"],[0.8888888888888888,\"#fdca26\"],[1.0,\"#f0f921\"]]},\"colorway\":[\"#636efa\",\"#EF553B\",\"#00cc96\",\"#ab63fa\",\"#FFA15A\",\"#19d3f3\",\"#FF6692\",\"#B6E880\",\"#FF97FF\",\"#FECB52\"],\"font\":{\"color\":\"#2a3f5f\"},\"geo\":{\"bgcolor\":\"white\",\"lakecolor\":\"white\",\"landcolor\":\"#E5ECF6\",\"showlakes\":true,\"showland\":true,\"subunitcolor\":\"white\"},\"hoverlabel\":{\"align\":\"left\"},\"hovermode\":\"closest\",\"mapbox\":{\"style\":\"light\"},\"paper_bgcolor\":\"white\",\"plot_bgcolor\":\"#E5ECF6\",\"polar\":{\"angularaxis\":{\"gridcolor\":\"white\",\"linecolor\":\"white\",\"ticks\":\"\"},\"bgcolor\":\"#E5ECF6\",\"radialaxis\":{\"gridcolor\":\"white\",\"linecolor\":\"white\",\"ticks\":\"\"}},\"scene\":{\"xaxis\":{\"backgroundcolor\":\"#E5ECF6\",\"gridcolor\":\"white\",\"gridwidth\":2,\"linecolor\":\"white\",\"showbackground\":true,\"ticks\":\"\",\"zerolinecolor\":\"white\"},\"yaxis\":{\"backgroundcolor\":\"#E5ECF6\",\"gridcolor\":\"white\",\"gridwidth\":2,\"linecolor\":\"white\",\"showbackground\":true,\"ticks\":\"\",\"zerolinecolor\":\"white\"},\"zaxis\":{\"backgroundcolor\":\"#E5ECF6\",\"gridcolor\":\"white\",\"gridwidth\":2,\"linecolor\":\"white\",\"showbackground\":true,\"ticks\":\"\",\"zerolinecolor\":\"white\"}},\"shapedefaults\":{\"line\":{\"color\":\"#2a3f5f\"}},\"ternary\":{\"aaxis\":{\"gridcolor\":\"white\",\"linecolor\":\"white\",\"ticks\":\"\"},\"baxis\":{\"gridcolor\":\"white\",\"linecolor\":\"white\",\"ticks\":\"\"},\"bgcolor\":\"#E5ECF6\",\"caxis\":{\"gridcolor\":\"white\",\"linecolor\":\"white\",\"ticks\":\"\"}},\"title\":{\"x\":0.05},\"xaxis\":{\"automargin\":true,\"gridcolor\":\"white\",\"linecolor\":\"white\",\"ticks\":\"\",\"title\":{\"standoff\":15},\"zerolinecolor\":\"white\",\"zerolinewidth\":2},\"yaxis\":{\"automargin\":true,\"gridcolor\":\"white\",\"linecolor\":\"white\",\"ticks\":\"\",\"title\":{\"standoff\":15},\"zerolinecolor\":\"white\",\"zerolinewidth\":2}}},\"title\":{\"text\":\"\\u0417\\u0430\\u0432\\u0438\\u0441\\u0438\\u043c\\u043e\\u0441\\u0442\\u044c \\u043f\\u043e\\u0433\\u0440\\u0435\\u0448\\u043d\\u043e\\u0441\\u0442\\u0438 \\u043e\\u0442 \\u043c\\u0435\\u043b\\u043a\\u043e\\u0441\\u0442\\u0438 \\u0440\\u0430\\u0437\\u0431\\u0438\\u0435\\u043d\\u0438\\u044f \\u043f\\u043e \\u0432\\u0440\\u0435\\u043c\\u0435\\u043d\\u0438\"},\"xaxis\":{\"range\":[0,2.6],\"tickmode\":\"array\",\"tickvals\":[0,0.1,0.2,0.30000000000000004,0.4,0.5,0.6,0.7,0.7999999999999999,0.8999999999999999,0.9999999999999999,1.0999999999999999,1.2,1.3,1.4000000000000001,1.5000000000000002,1.6000000000000003,1.7000000000000004,1.8000000000000005,1.9000000000000006,2.0000000000000004,2.1000000000000005,2.2000000000000006,2.3000000000000007,2.400000000000001,2.500000000000001],\"title\":{\"text\":\"t\"}},\"yaxis\":{\"title\":{\"text\":\"e\"}}},                        {\"responsive\": true}                    ).then(function(){\n",
              "                            \n",
              "var gd = document.getElementById('ede71dcf-1331-4083-8f4f-9074a093741d');\n",
              "var x = new MutationObserver(function (mutations, observer) {{\n",
              "        var display = window.getComputedStyle(gd).display;\n",
              "        if (!display || display === 'none') {{\n",
              "            console.log([gd, 'removed!']);\n",
              "            Plotly.purge(gd);\n",
              "            observer.disconnect();\n",
              "        }}\n",
              "}});\n",
              "\n",
              "// Listen for the removal of the full notebook cells\n",
              "var notebookContainer = gd.closest('#notebook-container');\n",
              "if (notebookContainer) {{\n",
              "    x.observe(notebookContainer, {childList: true});\n",
              "}}\n",
              "\n",
              "// Listen for the clearing of the current output cell\n",
              "var outputEl = gd.closest('.output');\n",
              "if (outputEl) {{\n",
              "    x.observe(outputEl, {childList: true});\n",
              "}}\n",
              "\n",
              "                        })                };                            </script>        </div>\n",
              "</body>\n",
              "</html>"
            ]
          },
          "metadata": {}
        },
        {
          "output_type": "display_data",
          "data": {
            "text/html": [
              "<html>\n",
              "<head><meta charset=\"utf-8\" /></head>\n",
              "<body>\n",
              "    <div>            <script src=\"https://cdnjs.cloudflare.com/ajax/libs/mathjax/2.7.5/MathJax.js?config=TeX-AMS-MML_SVG\"></script><script type=\"text/javascript\">if (window.MathJax) {MathJax.Hub.Config({SVG: {font: \"STIX-Web\"}});}</script>                <script type=\"text/javascript\">window.PlotlyConfig = {MathJaxConfig: 'local'};</script>\n",
              "        <script src=\"https://cdn.plot.ly/plotly-2.8.3.min.js\"></script>                <div id=\"3a3d0790-b012-4ab4-a681-132c9941c82a\" class=\"plotly-graph-div\" style=\"height:525px; width:100%;\"></div>            <script type=\"text/javascript\">                                    window.PLOTLYENV=window.PLOTLYENV || {};                                    if (document.getElementById(\"3a3d0790-b012-4ab4-a681-132c9941c82a\")) {                    Plotly.newPlot(                        \"3a3d0790-b012-4ab4-a681-132c9941c82a\",                        [{\"mode\":\"lines\",\"name\":\"\\u041a\\u0440\\u0430\\u043d\\u043a-\\u041d\\u0438\\u043a\\u043e\\u043b\\u0441\\u043e\\u043d\",\"showlegend\":true,\"text\":\"(x, y)\",\"x\":[0.9162907318741551,0.5108256237659907,0.22314355131420976,0.0,-0.1823215567939546,-0.3364722366212129,-0.4700036292457356,-0.587786664902119,-0.6931471805599453,-0.7884573603642702,-0.8754687373538999,-0.9555114450274363,-1.0296194171811581,-1.0986122886681098,-1.1631508098056809,-1.2237754316221157,-1.2809338454620642,-1.3350010667323402,-1.3862943611198906,-1.4350845252893227,-1.4816045409242156,-1.5260563034950494,-1.5686159179138452,-1.6094379124341003,-1.6486586255873816,-1.6863989535702288,-1.7227665977411035,-1.7578579175523736,-1.791759469228055,-1.824549292051046,-1.8562979903656263,-1.8870696490323797,-1.916922612182061,-1.9459101490553135,-1.9740810260220096,-2.001480000210124,-2.0281482472922856,-2.0541237336955462,-2.0794415416798357,-2.1041341542702074,-2.128231705849268,-2.151762203259462,-2.174751721484161,-2.1972245773362196,-2.2192034840549946,-2.2407096892759584,-2.2617630984737906,-2.2823823856765264,-2.3025850929940455,-2.322387720290225,-2.341805806147327,-2.3608540011180215,-2.379546134130174,-2.3978952727983707,-2.4159137783010487,-2.4336133554004498,-2.451005098112319,-2.468099531471619,-2.4849066497880004,-2.501435951739211,-2.517696472610991,-2.5336968139574325,-2.5494451709255714,-2.5649493574615367,-2.580216829592325,-2.5952547069568657,-2.6100697927420065],\"y\":[-0.40240998564524105,-1.0445578264749094,-1.4924593332263436,-1.8325950422416413,-2.104186236437167,-2.3280611290847033,-2.516837329930386,-2.6784155696336724,-2.8184532684102215,-2.9407509187668595,-3.0483957122161764,-3.143503870781698,-3.227993299002566,-3.303165484650807,-3.37032331372018,-3.4303260394618786,-3.4841152953279595,-3.532288440626309,-3.5755555274167476,-3.6143478909210636,-3.6492165376839503,-3.6804817747155343,-3.708579480762955,-3.7337525737762047,-3.7563503160139993,-3.776559958942596,-3.7946637913948487,-3.810808066678738,-3.825222299541271,-3.8380220070486195,-3.8493945782131562,-3.859432169896053,-3.8682882477785046,-3.876037017942057,-3.8828044617808737,-3.8886508607808588,-3.8936798338385215,-3.8979407675745557,-3.90151902970144,-3.904455411366716,-3.9068203498041334,-3.9086477985295045,-3.909995959014986,-3.91089329896765,-3.911387977817405,-3.9115040239340098,-3.9112813447547325,-3.9107403447683566,-3.9099141426982293,-3.9088201590012144,-3.90748592161693,-3.9059263729635365,-3.9041644318880335,-3.9022129663341336,-3.900091091198016,-3.8978099247191884,-3.895385438732579,-3.8928272655744016,-3.8901487768238927,-3.887358335224758,-3.884467158210668,-3.8814825180726755,-3.8784138448512624,-3.875267470078609,-3.872051338201248,-3.8687709661027405,-3.8654330611328613],\"type\":\"scatter\"},{\"mode\":\"lines\",\"name\":\"\\u0417\\u0430\\u0432\\u0438\\u0441\\u0438\\u043c\\u043e\\u0441\\u0442\\u044c $O(t^2)$\",\"showlegend\":true,\"text\":\"(x, y)\",\"x\":[-3,1],\"y\":[-5,3],\"type\":\"scatter\"},{\"mode\":\"lines\",\"name\":\"\\u0417\\u0430\\u0432\\u0438\\u0441\\u0438\\u043c\\u043e\\u0441\\u0442\\u044c $O(t)$\",\"showlegend\":true,\"text\":\"(x, y)\",\"x\":[-3,1],\"y\":[-3.5,-0.5],\"type\":\"scatter\"}],                        {\"template\":{\"data\":{\"barpolar\":[{\"marker\":{\"line\":{\"color\":\"#E5ECF6\",\"width\":0.5},\"pattern\":{\"fillmode\":\"overlay\",\"size\":10,\"solidity\":0.2}},\"type\":\"barpolar\"}],\"bar\":[{\"error_x\":{\"color\":\"#2a3f5f\"},\"error_y\":{\"color\":\"#2a3f5f\"},\"marker\":{\"line\":{\"color\":\"#E5ECF6\",\"width\":0.5},\"pattern\":{\"fillmode\":\"overlay\",\"size\":10,\"solidity\":0.2}},\"type\":\"bar\"}],\"carpet\":[{\"aaxis\":{\"endlinecolor\":\"#2a3f5f\",\"gridcolor\":\"white\",\"linecolor\":\"white\",\"minorgridcolor\":\"white\",\"startlinecolor\":\"#2a3f5f\"},\"baxis\":{\"endlinecolor\":\"#2a3f5f\",\"gridcolor\":\"white\",\"linecolor\":\"white\",\"minorgridcolor\":\"white\",\"startlinecolor\":\"#2a3f5f\"},\"type\":\"carpet\"}],\"choropleth\":[{\"colorbar\":{\"outlinewidth\":0,\"ticks\":\"\"},\"type\":\"choropleth\"}],\"contourcarpet\":[{\"colorbar\":{\"outlinewidth\":0,\"ticks\":\"\"},\"type\":\"contourcarpet\"}],\"contour\":[{\"colorbar\":{\"outlinewidth\":0,\"ticks\":\"\"},\"colorscale\":[[0.0,\"#0d0887\"],[0.1111111111111111,\"#46039f\"],[0.2222222222222222,\"#7201a8\"],[0.3333333333333333,\"#9c179e\"],[0.4444444444444444,\"#bd3786\"],[0.5555555555555556,\"#d8576b\"],[0.6666666666666666,\"#ed7953\"],[0.7777777777777778,\"#fb9f3a\"],[0.8888888888888888,\"#fdca26\"],[1.0,\"#f0f921\"]],\"type\":\"contour\"}],\"heatmapgl\":[{\"colorbar\":{\"outlinewidth\":0,\"ticks\":\"\"},\"colorscale\":[[0.0,\"#0d0887\"],[0.1111111111111111,\"#46039f\"],[0.2222222222222222,\"#7201a8\"],[0.3333333333333333,\"#9c179e\"],[0.4444444444444444,\"#bd3786\"],[0.5555555555555556,\"#d8576b\"],[0.6666666666666666,\"#ed7953\"],[0.7777777777777778,\"#fb9f3a\"],[0.8888888888888888,\"#fdca26\"],[1.0,\"#f0f921\"]],\"type\":\"heatmapgl\"}],\"heatmap\":[{\"colorbar\":{\"outlinewidth\":0,\"ticks\":\"\"},\"colorscale\":[[0.0,\"#0d0887\"],[0.1111111111111111,\"#46039f\"],[0.2222222222222222,\"#7201a8\"],[0.3333333333333333,\"#9c179e\"],[0.4444444444444444,\"#bd3786\"],[0.5555555555555556,\"#d8576b\"],[0.6666666666666666,\"#ed7953\"],[0.7777777777777778,\"#fb9f3a\"],[0.8888888888888888,\"#fdca26\"],[1.0,\"#f0f921\"]],\"type\":\"heatmap\"}],\"histogram2dcontour\":[{\"colorbar\":{\"outlinewidth\":0,\"ticks\":\"\"},\"colorscale\":[[0.0,\"#0d0887\"],[0.1111111111111111,\"#46039f\"],[0.2222222222222222,\"#7201a8\"],[0.3333333333333333,\"#9c179e\"],[0.4444444444444444,\"#bd3786\"],[0.5555555555555556,\"#d8576b\"],[0.6666666666666666,\"#ed7953\"],[0.7777777777777778,\"#fb9f3a\"],[0.8888888888888888,\"#fdca26\"],[1.0,\"#f0f921\"]],\"type\":\"histogram2dcontour\"}],\"histogram2d\":[{\"colorbar\":{\"outlinewidth\":0,\"ticks\":\"\"},\"colorscale\":[[0.0,\"#0d0887\"],[0.1111111111111111,\"#46039f\"],[0.2222222222222222,\"#7201a8\"],[0.3333333333333333,\"#9c179e\"],[0.4444444444444444,\"#bd3786\"],[0.5555555555555556,\"#d8576b\"],[0.6666666666666666,\"#ed7953\"],[0.7777777777777778,\"#fb9f3a\"],[0.8888888888888888,\"#fdca26\"],[1.0,\"#f0f921\"]],\"type\":\"histogram2d\"}],\"histogram\":[{\"marker\":{\"pattern\":{\"fillmode\":\"overlay\",\"size\":10,\"solidity\":0.2}},\"type\":\"histogram\"}],\"mesh3d\":[{\"colorbar\":{\"outlinewidth\":0,\"ticks\":\"\"},\"type\":\"mesh3d\"}],\"parcoords\":[{\"line\":{\"colorbar\":{\"outlinewidth\":0,\"ticks\":\"\"}},\"type\":\"parcoords\"}],\"pie\":[{\"automargin\":true,\"type\":\"pie\"}],\"scatter3d\":[{\"line\":{\"colorbar\":{\"outlinewidth\":0,\"ticks\":\"\"}},\"marker\":{\"colorbar\":{\"outlinewidth\":0,\"ticks\":\"\"}},\"type\":\"scatter3d\"}],\"scattercarpet\":[{\"marker\":{\"colorbar\":{\"outlinewidth\":0,\"ticks\":\"\"}},\"type\":\"scattercarpet\"}],\"scattergeo\":[{\"marker\":{\"colorbar\":{\"outlinewidth\":0,\"ticks\":\"\"}},\"type\":\"scattergeo\"}],\"scattergl\":[{\"marker\":{\"colorbar\":{\"outlinewidth\":0,\"ticks\":\"\"}},\"type\":\"scattergl\"}],\"scattermapbox\":[{\"marker\":{\"colorbar\":{\"outlinewidth\":0,\"ticks\":\"\"}},\"type\":\"scattermapbox\"}],\"scatterpolargl\":[{\"marker\":{\"colorbar\":{\"outlinewidth\":0,\"ticks\":\"\"}},\"type\":\"scatterpolargl\"}],\"scatterpolar\":[{\"marker\":{\"colorbar\":{\"outlinewidth\":0,\"ticks\":\"\"}},\"type\":\"scatterpolar\"}],\"scatter\":[{\"marker\":{\"colorbar\":{\"outlinewidth\":0,\"ticks\":\"\"}},\"type\":\"scatter\"}],\"scatterternary\":[{\"marker\":{\"colorbar\":{\"outlinewidth\":0,\"ticks\":\"\"}},\"type\":\"scatterternary\"}],\"surface\":[{\"colorbar\":{\"outlinewidth\":0,\"ticks\":\"\"},\"colorscale\":[[0.0,\"#0d0887\"],[0.1111111111111111,\"#46039f\"],[0.2222222222222222,\"#7201a8\"],[0.3333333333333333,\"#9c179e\"],[0.4444444444444444,\"#bd3786\"],[0.5555555555555556,\"#d8576b\"],[0.6666666666666666,\"#ed7953\"],[0.7777777777777778,\"#fb9f3a\"],[0.8888888888888888,\"#fdca26\"],[1.0,\"#f0f921\"]],\"type\":\"surface\"}],\"table\":[{\"cells\":{\"fill\":{\"color\":\"#EBF0F8\"},\"line\":{\"color\":\"white\"}},\"header\":{\"fill\":{\"color\":\"#C8D4E3\"},\"line\":{\"color\":\"white\"}},\"type\":\"table\"}]},\"layout\":{\"annotationdefaults\":{\"arrowcolor\":\"#2a3f5f\",\"arrowhead\":0,\"arrowwidth\":1},\"autotypenumbers\":\"strict\",\"coloraxis\":{\"colorbar\":{\"outlinewidth\":0,\"ticks\":\"\"}},\"colorscale\":{\"diverging\":[[0,\"#8e0152\"],[0.1,\"#c51b7d\"],[0.2,\"#de77ae\"],[0.3,\"#f1b6da\"],[0.4,\"#fde0ef\"],[0.5,\"#f7f7f7\"],[0.6,\"#e6f5d0\"],[0.7,\"#b8e186\"],[0.8,\"#7fbc41\"],[0.9,\"#4d9221\"],[1,\"#276419\"]],\"sequential\":[[0.0,\"#0d0887\"],[0.1111111111111111,\"#46039f\"],[0.2222222222222222,\"#7201a8\"],[0.3333333333333333,\"#9c179e\"],[0.4444444444444444,\"#bd3786\"],[0.5555555555555556,\"#d8576b\"],[0.6666666666666666,\"#ed7953\"],[0.7777777777777778,\"#fb9f3a\"],[0.8888888888888888,\"#fdca26\"],[1.0,\"#f0f921\"]],\"sequentialminus\":[[0.0,\"#0d0887\"],[0.1111111111111111,\"#46039f\"],[0.2222222222222222,\"#7201a8\"],[0.3333333333333333,\"#9c179e\"],[0.4444444444444444,\"#bd3786\"],[0.5555555555555556,\"#d8576b\"],[0.6666666666666666,\"#ed7953\"],[0.7777777777777778,\"#fb9f3a\"],[0.8888888888888888,\"#fdca26\"],[1.0,\"#f0f921\"]]},\"colorway\":[\"#636efa\",\"#EF553B\",\"#00cc96\",\"#ab63fa\",\"#FFA15A\",\"#19d3f3\",\"#FF6692\",\"#B6E880\",\"#FF97FF\",\"#FECB52\"],\"font\":{\"color\":\"#2a3f5f\"},\"geo\":{\"bgcolor\":\"white\",\"lakecolor\":\"white\",\"landcolor\":\"#E5ECF6\",\"showlakes\":true,\"showland\":true,\"subunitcolor\":\"white\"},\"hoverlabel\":{\"align\":\"left\"},\"hovermode\":\"closest\",\"mapbox\":{\"style\":\"light\"},\"paper_bgcolor\":\"white\",\"plot_bgcolor\":\"#E5ECF6\",\"polar\":{\"angularaxis\":{\"gridcolor\":\"white\",\"linecolor\":\"white\",\"ticks\":\"\"},\"bgcolor\":\"#E5ECF6\",\"radialaxis\":{\"gridcolor\":\"white\",\"linecolor\":\"white\",\"ticks\":\"\"}},\"scene\":{\"xaxis\":{\"backgroundcolor\":\"#E5ECF6\",\"gridcolor\":\"white\",\"gridwidth\":2,\"linecolor\":\"white\",\"showbackground\":true,\"ticks\":\"\",\"zerolinecolor\":\"white\"},\"yaxis\":{\"backgroundcolor\":\"#E5ECF6\",\"gridcolor\":\"white\",\"gridwidth\":2,\"linecolor\":\"white\",\"showbackground\":true,\"ticks\":\"\",\"zerolinecolor\":\"white\"},\"zaxis\":{\"backgroundcolor\":\"#E5ECF6\",\"gridcolor\":\"white\",\"gridwidth\":2,\"linecolor\":\"white\",\"showbackground\":true,\"ticks\":\"\",\"zerolinecolor\":\"white\"}},\"shapedefaults\":{\"line\":{\"color\":\"#2a3f5f\"}},\"ternary\":{\"aaxis\":{\"gridcolor\":\"white\",\"linecolor\":\"white\",\"ticks\":\"\"},\"baxis\":{\"gridcolor\":\"white\",\"linecolor\":\"white\",\"ticks\":\"\"},\"bgcolor\":\"#E5ECF6\",\"caxis\":{\"gridcolor\":\"white\",\"linecolor\":\"white\",\"ticks\":\"\"}},\"title\":{\"x\":0.05},\"xaxis\":{\"automargin\":true,\"gridcolor\":\"white\",\"linecolor\":\"white\",\"ticks\":\"\",\"title\":{\"standoff\":15},\"zerolinecolor\":\"white\",\"zerolinewidth\":2},\"yaxis\":{\"automargin\":true,\"gridcolor\":\"white\",\"linecolor\":\"white\",\"ticks\":\"\",\"title\":{\"standoff\":15},\"zerolinecolor\":\"white\",\"zerolinewidth\":2}}},\"title\":{\"text\":\"\\u0417\\u0430\\u0432\\u0438\\u0441\\u0438\\u043c\\u043e\\u0441\\u0442\\u044c \\u043f\\u043e\\u0433\\u0440\\u0435\\u0448\\u043d\\u043e\\u0441\\u0442\\u0438 \\u043e\\u0442 \\u043c\\u0435\\u043b\\u043a\\u043e\\u0441\\u0442\\u0438 \\u0440\\u0430\\u0437\\u0431\\u0438\\u0435\\u043d\\u0438\\u044f \\u043f\\u043e \\u0432\\u0440\\u0435\\u043c\\u0435\\u043d\\u0438\"},\"xaxis\":{\"dtick\":0.2,\"range\":[-3.1,1.1],\"tick0\":-3,\"tickmode\":\"linear\",\"title\":{\"text\":\"log t\"}},\"yaxis\":{\"range\":[-5,3],\"title\":{\"text\":\"log e\"}}},                        {\"responsive\": true}                    ).then(function(){\n",
              "                            \n",
              "var gd = document.getElementById('3a3d0790-b012-4ab4-a681-132c9941c82a');\n",
              "var x = new MutationObserver(function (mutations, observer) {{\n",
              "        var display = window.getComputedStyle(gd).display;\n",
              "        if (!display || display === 'none') {{\n",
              "            console.log([gd, 'removed!']);\n",
              "            Plotly.purge(gd);\n",
              "            observer.disconnect();\n",
              "        }}\n",
              "}});\n",
              "\n",
              "// Listen for the removal of the full notebook cells\n",
              "var notebookContainer = gd.closest('#notebook-container');\n",
              "if (notebookContainer) {{\n",
              "    x.observe(notebookContainer, {childList: true});\n",
              "}}\n",
              "\n",
              "// Listen for the clearing of the current output cell\n",
              "var outputEl = gd.closest('.output');\n",
              "if (outputEl) {{\n",
              "    x.observe(outputEl, {childList: true});\n",
              "}}\n",
              "\n",
              "                        })                };                            </script>        </div>\n",
              "</body>\n",
              "</html>"
            ]
          },
          "metadata": {}
        }
      ],
      "source": [
        "tau, e = GetTandError(krank, u)\n",
        "\n",
        "trace1 = Scatter(\n",
        "    x = tau,\n",
        "    y = e,\n",
        "    name = 'Кранк-Николсон',\n",
        "    mode = 'lines',\n",
        "    text = ('(x, y)'),\n",
        "    showlegend = True\n",
        ")\n",
        "\n",
        "data = [trace1]\n",
        "\n",
        "layout = Layout(\n",
        "    title = 'Зависимость погрешности от мелкости разбиения по времени',\n",
        "    xaxis = dict(tickmode = 'array',\n",
        "                 tickvals = list(krank.nparange(0, 2.5, 0.1)),\n",
        "                 range = [0, 2.6],\n",
        "                 title = 't'),\n",
        "    yaxis = dict(title = 'e')\n",
        ")\n",
        "\n",
        "\n",
        "fig = Figure(data = data, layout = layout)\n",
        "offline.iplot(fig)\n",
        "\n",
        "trace1 = Scatter(\n",
        "    x = list(map(math.log, tau)),\n",
        "    y = list(map(math.log, e)),\n",
        "    name = 'Кранк-Николсон',\n",
        "    mode = 'lines',\n",
        "    text = ('(x, y)'),\n",
        "    showlegend = True\n",
        ")\n",
        "\n",
        "trace2 = Scatter(\n",
        "    x = [-3, 1],\n",
        "    y = [-5, 3],\n",
        "    name = 'Зависимость $O(t^2)$',\n",
        "    mode = 'lines',\n",
        "    text = ('(x, y)'),\n",
        "    showlegend = True\n",
        ")\n",
        "\n",
        "trace3 = Scatter(\n",
        "    x = [-3, 1],\n",
        "    y = [-3.5, -0.5],\n",
        "    name = 'Зависимость $O(t)$',\n",
        "    mode = 'lines',\n",
        "    text = ('(x, y)'),\n",
        "    showlegend = True\n",
        ")\n",
        "\n",
        "data = [trace1, trace2, trace3]\n",
        "\n",
        "layout = Layout(\n",
        "    title = 'Зависимость погрешности от мелкости разбиения по времени',\n",
        "    xaxis = dict(#tickmode = 'array',\n",
        "                 #tickvals = list(krank.nparange(-3, 1, 0.2)),\n",
        "                 tickmode = 'linear',\n",
        "                 tick0 = -3,\n",
        "                 dtick = 0.2,\n",
        "                 range = [-3.1, 1.1],\n",
        "                 title = 'log t'),\n",
        "    yaxis = dict(range = [-5, 3],\n",
        "                 title = 'log e')\n",
        ")\n",
        "\n",
        "\n",
        "fig = Figure(data = data, layout = layout)\n",
        "offline.iplot(fig)"
      ]
    },
    {
      "cell_type": "markdown",
      "metadata": {
        "id": "Ubqdfv4fJ2eU"
      },
      "source": [
        "### Вывод:\n",
        "\n",
        "Выполнив данную лабораторную работу, я изучил явные и неявные конечно-разностные схемы, схему Кранка-Николсона для решения начально-краевой задачи для дифференциального уравнения параболического типа. Реализовал три варианта аппроксимации граничных условий, содержащих производные: двухточечная аппроксимация с первым порядком, трехточечная аппроксимация со вторым порядком, двухточечная аппроксимация со вторым порядком. Также исследовал зависимость погрешности от сеточных параметров $\\tau$ и $h$.\n"
      ]
    }
  ],
  "metadata": {
    "kernelspec": {
      "display_name": "Python 3",
      "language": "python",
      "name": "python3"
    },
    "language_info": {
      "codemirror_mode": {
        "name": "ipython",
        "version": 3
      },
      "file_extension": ".py",
      "mimetype": "text/x-python",
      "name": "python",
      "nbconvert_exporter": "python",
      "pygments_lexer": "ipython3",
      "version": "3.7.1"
    },
    "colab": {
      "provenance": []
    }
  },
  "nbformat": 4,
  "nbformat_minor": 0
}