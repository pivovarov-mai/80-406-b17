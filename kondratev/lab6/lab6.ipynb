{
  "cells": [
    {
      "cell_type": "markdown",
      "metadata": {
        "id": "H_ATM2XlJ5kd"
      },
      "source": [
        "##          Московский авиационный институт\n",
        "###      (Национальный исследовательский университет)\n",
        "####   Институт №8 «Информационные технологии и прикладная математика»\n",
        "####        Кафедра вычислительной математики и программирования\n",
        "\n",
        " \n",
        " \n",
        " \n",
        "\n",
        "\n",
        "\n",
        "\n",
        "\n",
        "\n",
        "\n",
        "\n",
        "            Лабораторная работа № 6\n",
        "            по курсу «Численные методы».\n",
        "            \n",
        "            Тема: «МЕТОД КОНЕЧНЫХ РАЗНОСТЕЙ ДЛЯ РЕШЕНИЯ УРАВНЕНИЙ\n",
        "            ГИПЕРБОЛИЧЕСКОГО ТИПА».\n",
        "\n",
        " \n",
        " \n",
        " \n",
        "\n",
        "\n",
        "\n",
        "\n",
        "\n",
        "\n",
        "\n",
        "                                  Студент: Кондратьев Е.А.\n",
        "                                  Группа: 80-406Б\n",
        "                                  Преподаватель: Ревизников Д.Л.\n",
        "                                  Преподаватель: Пивоваров Д.Е.\n",
        "\n",
        "\n",
        " \n",
        "\n",
        "                        Москва, 2022"
      ]
    },
    {
      "cell_type": "markdown",
      "metadata": {
        "id": "PNhEgEOlJ5kk"
      },
      "source": [
        "# Лабораторная работа №6"
      ]
    },
    {
      "cell_type": "markdown",
      "metadata": {
        "id": "bW_lSDRUJ5kl"
      },
      "source": [
        "***Задание:*** Используя *явную схему крест* и *неявную схему*, решить начально-краевую задачу для *дифференциального уравнения гиперболического типа*. Аппроксимацию второго начального условия произвести с первым и со вторым порядком. Осуществить реализацию трех вариантов аппроксимации граничных условий, содержащих производные: *двухточечная аппроксимация с первым порядком, трехточечная аппроксимация со вторым порядком, двухточечная аппроксимация со вторым порядком*. В различные моменты времени вычислить погрешность численного решения путем сравнения результатов с приведенным в задании аналитическим решением $u(x, t)$. Исследовать зависимость погрешности от сеточных параметров $\\tau$ и $h$."
      ]
    },
    {
      "cell_type": "markdown",
      "metadata": {
        "id": "OHCR52CnJ5kn"
      },
      "source": [
        "### Вариант №4"
      ]
    },
    {
      "cell_type": "code",
      "execution_count": 3,
      "metadata": {
        "id": "dkpqZkceJ5kn"
      },
      "outputs": [],
      "source": [
        "import ipywidgets as widgets\n",
        "from ipywidgets import interact\n",
        "from IPython.display import display\n",
        "import random\n",
        "import matplotlib.pyplot as plt\n",
        "import math\n",
        "import sys\n",
        "import warnings\n",
        "import numpy as np\n",
        "from functools import reduce\n",
        "from mpl_toolkits.mplot3d import Axes3D"
      ]
    },
    {
      "cell_type": "markdown",
      "metadata": {
        "id": "L1GgE_9GJ5kq"
      },
      "source": [
        "***Уравнение:***\n",
        "\n",
        "$$\\displaystyle\\frac{\\partial^2 u}{\\partial t^2} + 2 \\displaystyle\\frac{\\partial u}{\\partial t} =  \\displaystyle\\frac{\\partial^2 u}{\\partial x^2} + 2 \\displaystyle\\frac{\\partial u}{\\partial x} - 3u $$\n",
        "\n",
        "***Граничные условия:***\n",
        "\n",
        "\\begin{equation*}\n",
        " \\begin{cases}\n",
        "   u (0, \\: t) = e^{-t} \\cos{2t}\n",
        "   \\\\\n",
        "   u (\\frac{\\pi}{2}, \\: t) =  0\n",
        "   \\\\\n",
        "   u(x, \\: 0) = \\psi_1(x) = e^{-x}\\cos{x}\n",
        "   \\\\\n",
        "   u_{t}(x, 0) = \\psi_2(x) = -e^{-x}\\cos{x}\n",
        " \\end{cases}\n",
        "\\end{equation*}\n",
        "\n",
        "***Аналитическое решение:***\n",
        "$$u(x, t) = e^{-x-t} \\cos{x} \\cos{2t}$$"
      ]
    },
    {
      "cell_type": "markdown",
      "metadata": {
        "id": "ljS_i0NvJ5ks"
      },
      "source": [
        "Задаем наши данные из условия задачи."
      ]
    },
    {
      "cell_type": "code",
      "execution_count": 4,
      "metadata": {
        "id": "uio7_DVkJ5ks"
      },
      "outputs": [],
      "source": [
        "def psi_1(x):\n",
        "    return math.exp(-x) * math.cos(x)\n",
        "\n",
        "def psi_2(x):\n",
        "    return -math.exp(-x) * math.cos(x)\n",
        "\n",
        "def phi_0(t):\n",
        "    return math.exp(-t) * math.cos(2 * t)\n",
        "\n",
        "def phi_l(t):\n",
        "    return 0\n",
        "\n",
        "def dpsi2_dx2(x):\n",
        "    return 2 * math.sin(x) * math.exp(-x)\n",
        "\n",
        "def u(x, t):\n",
        "    return math.exp(-x - t) * math.cos(2 * t) * math.cos(x)"
      ]
    },
    {
      "cell_type": "markdown",
      "metadata": {
        "id": "-khr9-0MJ5kt"
      },
      "source": [
        "## Конечно-разностная схема"
      ]
    },
    {
      "cell_type": "markdown",
      "metadata": {
        "id": "8aCIAEDYJ5ku"
      },
      "source": [
        "Так как значения функции $u^k_j = u(x_j, t^k)$ для всех координат $x_j = j h, \\; \\forall j \\in \\{0, ..., N\\}$ на предыдущих временных слоях известны, попробуем определить значения функции на следующем временном слое $t^{k+1}$ с помощью разностной апроксимации производной:\n",
        "$$\\displaystyle\\frac{\\partial^2 u}{\\partial t^2}(x_j, t^k) = \\displaystyle\\frac{u^{k+1}_j - 2u^k_j + u^{k-1}_j}{\\tau^2}$$\n",
        "\n",
        "И одним из методов апроксимации второй производной по $x$:\n",
        "$$\\displaystyle\\frac{\\partial^2 u}{\\partial x^2}(x_j, t^k)$$\n",
        "\n",
        "Для расчета $u_j^0$ и $u_j^1$ можно использовать следующие формулы:\n",
        "$$u_j^0 = \\psi_1(x_j)$$\n",
        "$$u_j^1 = \\psi_1(x_j) + \\tau \\psi_2(x_j) + \\frac{\\tau^2}{2}\\psi_1''(x_j) + O(\\tau^2)$$\n",
        "$$u_j^1 = \\psi_1(x_j) + \\tau \\psi_2(x_j) + O(\\tau^1)$$"
      ]
    },
    {
      "cell_type": "code",
      "execution_count": 5,
      "metadata": {
        "id": "pityOoUGJ5kv"
      },
      "outputs": [],
      "source": [
        "class Schema:\n",
        "    def __init__(self, psi1=psi_1, psi2=psi_2,\n",
        "                 diffpsi2=dpsi2_dx2, f0=phi_0, fl=phi_l, \n",
        "                 l0=0, l1=math.pi / 2, T=5, order2nd=True):\n",
        "        self.psi1 = psi1\n",
        "        self.diffpsi = diffpsi2\n",
        "        self.psi2 = psi2\n",
        "        self.T = T\n",
        "        self.l0 = l0\n",
        "        self.l1 = l1\n",
        "        self.tau = None\n",
        "        self.h = None\n",
        "        self.order = order2nd\n",
        "        self.sigma = None\n",
        "        self.f0 = f0\n",
        "        self.fl = fl\n",
        " \n",
        "    def CalculateH(self, N):\n",
        "        self.h = (self.l1 - self.l0) / N\n",
        "        \n",
        "    def CalculateTau(self, K):\n",
        "        self.tau = self.T / K\n",
        "        \n",
        "    def CalculateSigma(self):\n",
        "        self.sigma = self.tau*self.tau / (self.h*self.h)\n",
        "        \n",
        "    def Set_l0_l1(self, l0, l1):\n",
        "        self.l0 = l0\n",
        "        self.l1 = l1\n",
        "        \n",
        "    def SetT(self, T):\n",
        "        self.T = T\n",
        "      \n",
        "    @staticmethod\n",
        "    def nparange(start, end, step = 1):\n",
        "        curr = start\n",
        "        e = 0.00000000001\n",
        "        while curr - e <= end:\n",
        "            yield curr\n",
        "            curr += step\n",
        "        \n",
        "    def CalculateLine(self, t, x, lastLine1, lastLine2):\n",
        "        pass\n",
        "    \n",
        "    def __call__(self, N=30, K=70):\n",
        "        N, K = N - 1, K - 1\n",
        "        self.CalculateTau(K)\n",
        "        self.CalculateH(N)\n",
        "        self.CalculateSigma()\n",
        "        ans = []\n",
        "        x = list(self.nparange(self.l0, self.l1, self.h))\n",
        "        lastLine = list(map(self.psi1, x))\n",
        "        ans.append(list(lastLine))\n",
        "        if self.order:\n",
        "            lastLine = list(map(lambda a: self.psi1(a) + self.tau * self.psi2(a) + self.tau * self.tau * self.diffpsi(a) / 2, x))\n",
        "        else:\n",
        "            lastLine = list(map(lambda a: self.psi1(a) + self.tau * self.psi2(a), x))\n",
        "        ans.append(list(lastLine))\n",
        "        X = [x, x]\n",
        "        Y = [[0.0 for _ in x]]\n",
        "        Y.append([self.tau for _ in x])\n",
        "        for t in self.nparange(self.tau + self.tau, self.T, self.tau):\n",
        "            ans.append(self.CalculateLine(t, x, ans[-1], ans[-2]))\n",
        "            X.append(x)\n",
        "            Y.append([t for _ in x])\n",
        "        return X, Y, ans"
      ]
    },
    {
      "cell_type": "markdown",
      "metadata": {
        "id": "aeLHuwY2J5kw"
      },
      "source": [
        "### Явная конечно-разностная схема"
      ]
    },
    {
      "cell_type": "markdown",
      "metadata": {
        "id": "18wXIXidJ5kx"
      },
      "source": [
        "Апроксимируем вторую производную по значениям нижнего временного слоя $t^k$:\n",
        "\n",
        "$$\\displaystyle\\frac{\\partial^2 u}{\\partial x^2}(x_j, t^k) = \\displaystyle\\frac{u^k_{j-1} - 2 u^k_{j} + u^k_{j+1}}{h^2}$$\n",
        "\n",
        "Выражаем явную схему конечно-разностного метода во внутренних узлах сетки:\n",
        "\n",
        "$$\\displaystyle\\frac{u^{k+1}_j - 2u^k_j + u_j^{k-1}}{\\tau^2} + \\displaystyle\\frac{u^{k+1} - u^{k-1}}{\\tau} = \\displaystyle\\frac{u^k_{j-1} - 2 u^k_{j} + u^k_{j+1}}{h^2} + \\displaystyle\\frac{u^{k}_{j+1} - u^{k}_{j-1}}{h} - 3u_j^k$$\n",
        "\n",
        "Обозначим $\\sigma = \\displaystyle\\frac{\\tau^2}{h^2}$, тогда:\n",
        "\n",
        "$$u^{k+1}_j = \\displaystyle\\frac{\\sigma (u^k_{j+1} - 2 u^k_j + u^k_{j-1}) + \\displaystyle\\frac{u^k_{j+1} - u^k_{j-1}}{h} - 3\\tau^2 u^k_j + \\tau u^{k-1}_j + 2u^k_j - u^{k-1}_j}{1 + \\tau}$$\n",
        "\n",
        "Граничные же значения $u^{k+1}_0$ и $u^{k+1}_N$ определяются граничными условиями $u(0, t)$ и $u(l, t)$."
      ]
    },
    {
      "cell_type": "code",
      "execution_count": 6,
      "metadata": {
        "id": "9LWCALIdJ5kx"
      },
      "outputs": [],
      "source": [
        "class ExplictSchema(Schema):\n",
        "    def CalculateSigma(self):\n",
        "        self.sigma =  self.tau * self.tau / (self.h * self.h)\n",
        "        if self.sigma > 1:\n",
        "            warnings.warn(\"Sigma > 1\")\n",
        "        \n",
        "    def CalculateLine(self, t, x, lastLine1, lastLine2):\n",
        "        line = [None for _ in lastLine1]\n",
        "        for i in range(1, len(x) - 1):\n",
        "            line[i] = self.sigma * (lastLine1[i - 1] - 2 * lastLine1[i] + lastLine1[i + 1])\n",
        "            line[i] -= 3 * self.tau * self.tau * lastLine1[i]\n",
        "            line[i] += 2 * lastLine1[i]\n",
        "            line[i] += (self.tau - 1) * lastLine2[i]\n",
        "            line[i] += self.tau * self.tau * (lastLine1[i + 1] - lastLine1[i - 1]) / self.h\n",
        "            line[i] /= (1 + self.tau)\n",
        "        line[0] = self.f0(t)\n",
        "        line[-1] = self.fl(t)\n",
        "        return line"
      ]
    },
    {
      "cell_type": "markdown",
      "metadata": {
        "id": "nQROmvBsJ5ky"
      },
      "source": [
        "### Неявная конечно-разностная схема"
      ]
    },
    {
      "cell_type": "markdown",
      "metadata": {
        "id": "ubW0eUwqJ5ky"
      },
      "source": [
        "Аппроксимируем вторую производную по значениям верхнего временного слоя $t^{k+1}$:\n",
        "\n",
        "$$\\displaystyle\\frac{\\partial^2 u}{\\partial x^2}(x_j, t^k) = \\displaystyle\\frac{u^{k+1}_{j-1} - 2 u^{k+1}_{j} + u^{k+1}_{j+1}}{h^2}$$\n",
        "\n",
        "Тогда у нас получается явная схема конечно-разностного метода во внутренних узлах сетки:\n",
        "\n",
        "$$\\displaystyle\\frac{u^{k+1}_j - 2u^k_j + u_j^{k-1}}{\\tau^2} + \\displaystyle\\frac{u^{k+1} - u^{k-1}}{\\tau} = \\displaystyle\\frac{u^{k+1}_{j-1} - 2 u^{k+1}_{j} + u^{k+1}_{j+1}}{h^2} + \\displaystyle\\frac{u^{k+1}_{j+1} - u^{k+1}_{j-1}}{h} - 3u_j^{k+1}$$\n",
        "\n",
        "Введем обозначение $\\sigma = \\displaystyle\\frac{\\tau^2}{h^2}$. Следовательно значения функции на слое можно найти из решения СЛАУ с трехдиагональной матрицей. Сделаем это с помощью метода прогонки, где СЛАУ, кроме крайних двух уравнений, будет определяться коэффициентами:\n",
        "\n",
        "$a_j = 1-h$,\n",
        "\n",
        "$b_j = -2 - 3h^2 - \\displaystyle\\frac{1 + \\tau}{\\sigma}$,\n",
        "\n",
        "$c_j = 1+h$,\n",
        "\n",
        "$d_j = \\displaystyle\\frac{-2u^k_j + u^{k-1}_j - \\tau u^{k-1}_j}{\\sigma}$ уравнений:\n",
        "\n",
        "$$a_j u^{k+1}_{j - 1} + b_j u^{k+1}_j + c_j u^{k+1}_{j+1} = d_j, \\; \\forall j \\in \\{1, ..., N-1\\}$$"
      ]
    },
    {
      "cell_type": "code",
      "execution_count": 7,
      "metadata": {
        "id": "obd_VT4bJ5ky"
      },
      "outputs": [],
      "source": [
        "class ImplictSchema(Schema):\n",
        "    @staticmethod\n",
        "    def SweepMethod(A, b):\n",
        "        P = [-item[2] for item in A]\n",
        "        Q = [item for item in b]\n",
        "        P[0] /= A[0][1]\n",
        "        Q[0] /= A[0][1]\n",
        "        for i in range(1, len(b)):\n",
        "            z = (A[i][1] + A[i][0] * P[i-1])\n",
        "            P[i] /= z\n",
        "            Q[i] -= A[i][0] * Q[i-1]\n",
        "            Q[i] /= z\n",
        "        x = [item for item in Q]\n",
        "        for i in range(len(x) - 2, -1, -1):\n",
        "            x[i] += P[i] * x[i + 1]\n",
        "        return x\n",
        "    \n",
        "    def CalculateLine(self, t, x, lastLine1, lastLine2):\n",
        "        a = 1 - self.h\n",
        "        c = 1 + self.h\n",
        "        b = -2 - 3*self.h*self.h - (1 + self.tau)/self.sigma\n",
        "        A = [(a, b, c) for _ in range(2, len(x) - 2)]\n",
        "        w = [((1 - self.tau) * lastLine2[i] - 2 * lastLine1[i]) / self.sigma for i in range(2, len(x)-2)]\n",
        "        koeffs = (0, b, c, (((1 - self.tau) * lastLine2[1] - 2 * lastLine1[1]) / self.sigma) - a * self.f0(t))\n",
        "        A.insert(0, koeffs[:-1])\n",
        "        w.insert(0, koeffs[-1])\n",
        "        koeffs = (a, b, 0, (((1 - self.tau) * lastLine2[-2] - 2 * lastLine1[-2]) / self.sigma) - c * self.fl(t))\n",
        "        A.append(koeffs[:-1])\n",
        "        w.append(koeffs[-1])\n",
        "        ans = self.SweepMethod(A, w)\n",
        "        ans.insert(0, self.f0(t))\n",
        "        ans.append(self.fl(t))\n",
        "        return ans"
      ]
    },
    {
      "cell_type": "markdown",
      "metadata": {
        "id": "OeSjI3fBJ5kz"
      },
      "source": [
        "## Полученные результаты работы"
      ]
    },
    {
      "cell_type": "markdown",
      "metadata": {
        "id": "biA2KWgjJ5kz"
      },
      "source": [
        "### Зависимость погрешности от параметра"
      ]
    },
    {
      "cell_type": "markdown",
      "metadata": {
        "id": "wy-p0sPCJ5kz"
      },
      "source": [
        "#### Вычисление погрешностей"
      ]
    },
    {
      "cell_type": "code",
      "execution_count": 8,
      "metadata": {
        "id": "1wXrhCJMJ5k0"
      },
      "outputs": [],
      "source": [
        "def Error(x, y, z, f):\n",
        "    ans = 0.0\n",
        "    for i in range(len(z)):\n",
        "        for j in range(len(z[i])):\n",
        "            tmp = abs(z[i][j] - f(x[i][j], y[i][j]))\n",
        "            ans = tmp if tmp > ans else ans\n",
        "    return ans"
      ]
    },
    {
      "cell_type": "code",
      "execution_count": 9,
      "metadata": {
        "id": "IIJIvE6PJ5k0"
      },
      "outputs": [],
      "source": [
        "def GetStepHandEror(solver, real_f):\n",
        "    h = []\n",
        "    e = []\n",
        "    for N in range(5, 30, 2):\n",
        "        x, y, z = solver(N, 100)\n",
        "        h.append(solver.h)\n",
        "        e.append(Error(x, y, z, real_f))\n",
        "    return h, e"
      ]
    },
    {
      "cell_type": "markdown",
      "metadata": {
        "id": "TLjFSXv6J5k1"
      },
      "source": [
        "#### Явная схема"
      ]
    },
    {
      "cell_type": "code",
      "execution_count": 10,
      "metadata": {
        "id": "rPOa-SZVJ5k2"
      },
      "outputs": [],
      "source": [
        "explict = ExplictSchema(T=1)"
      ]
    },
    {
      "cell_type": "code",
      "execution_count": 11,
      "metadata": {
        "colab": {
          "base_uri": "https://localhost:8080/",
          "height": 1067
        },
        "id": "FM6Lds8VJ5k2",
        "outputId": "d8dc48d0-49fc-45a6-c0d6-37b81509bcd9"
      },
      "outputs": [
        {
          "output_type": "display_data",
          "data": {
            "text/html": [
              "<html>\n",
              "<head><meta charset=\"utf-8\" /></head>\n",
              "<body>\n",
              "    <div>            <script src=\"https://cdnjs.cloudflare.com/ajax/libs/mathjax/2.7.5/MathJax.js?config=TeX-AMS-MML_SVG\"></script><script type=\"text/javascript\">if (window.MathJax) {MathJax.Hub.Config({SVG: {font: \"STIX-Web\"}});}</script>                <script type=\"text/javascript\">window.PlotlyConfig = {MathJaxConfig: 'local'};</script>\n",
              "        <script src=\"https://cdn.plot.ly/plotly-2.8.3.min.js\"></script>                <div id=\"c0ef230b-b49d-408a-9739-7e2f8babf906\" class=\"plotly-graph-div\" style=\"height:525px; width:100%;\"></div>            <script type=\"text/javascript\">                                    window.PLOTLYENV=window.PLOTLYENV || {};                                    if (document.getElementById(\"c0ef230b-b49d-408a-9739-7e2f8babf906\")) {                    Plotly.newPlot(                        \"c0ef230b-b49d-408a-9739-7e2f8babf906\",                        [{\"mode\":\"lines\",\"name\":\"\\u042f\\u0432\\u043d\\u0430\\u044f\",\"showlegend\":true,\"text\":\"(x, y)\",\"x\":[0.39269908169872414,0.2617993877991494,0.19634954084936207,0.15707963267948966,0.1308996938995747,0.1121997376282069,0.09817477042468103,0.08726646259971647,0.07853981633974483,0.07139983303613166,0.06544984694978735,0.06041524333826525,0.05609986881410345],\"y\":[0.0027291752246604295,0.002576835431888025,0.00270913975755388,0.002670014845411045,0.0027324549110514518,0.0027293447485655653,0.0027522234216244557,0.0027581497914179187,0.0027673495325188924,0.0027751943186961614,0.0027790752886545644,0.002788052724277623,0.0027884378389497755],\"type\":\"scatter\"}],                        {\"paper_bgcolor\":\"gray\",\"plot_bgcolor\":\"darkgray\",\"template\":{\"data\":{\"barpolar\":[{\"marker\":{\"line\":{\"color\":\"#E5ECF6\",\"width\":0.5},\"pattern\":{\"fillmode\":\"overlay\",\"size\":10,\"solidity\":0.2}},\"type\":\"barpolar\"}],\"bar\":[{\"error_x\":{\"color\":\"#2a3f5f\"},\"error_y\":{\"color\":\"#2a3f5f\"},\"marker\":{\"line\":{\"color\":\"#E5ECF6\",\"width\":0.5},\"pattern\":{\"fillmode\":\"overlay\",\"size\":10,\"solidity\":0.2}},\"type\":\"bar\"}],\"carpet\":[{\"aaxis\":{\"endlinecolor\":\"#2a3f5f\",\"gridcolor\":\"white\",\"linecolor\":\"white\",\"minorgridcolor\":\"white\",\"startlinecolor\":\"#2a3f5f\"},\"baxis\":{\"endlinecolor\":\"#2a3f5f\",\"gridcolor\":\"white\",\"linecolor\":\"white\",\"minorgridcolor\":\"white\",\"startlinecolor\":\"#2a3f5f\"},\"type\":\"carpet\"}],\"choropleth\":[{\"colorbar\":{\"outlinewidth\":0,\"ticks\":\"\"},\"type\":\"choropleth\"}],\"contourcarpet\":[{\"colorbar\":{\"outlinewidth\":0,\"ticks\":\"\"},\"type\":\"contourcarpet\"}],\"contour\":[{\"colorbar\":{\"outlinewidth\":0,\"ticks\":\"\"},\"colorscale\":[[0.0,\"#0d0887\"],[0.1111111111111111,\"#46039f\"],[0.2222222222222222,\"#7201a8\"],[0.3333333333333333,\"#9c179e\"],[0.4444444444444444,\"#bd3786\"],[0.5555555555555556,\"#d8576b\"],[0.6666666666666666,\"#ed7953\"],[0.7777777777777778,\"#fb9f3a\"],[0.8888888888888888,\"#fdca26\"],[1.0,\"#f0f921\"]],\"type\":\"contour\"}],\"heatmapgl\":[{\"colorbar\":{\"outlinewidth\":0,\"ticks\":\"\"},\"colorscale\":[[0.0,\"#0d0887\"],[0.1111111111111111,\"#46039f\"],[0.2222222222222222,\"#7201a8\"],[0.3333333333333333,\"#9c179e\"],[0.4444444444444444,\"#bd3786\"],[0.5555555555555556,\"#d8576b\"],[0.6666666666666666,\"#ed7953\"],[0.7777777777777778,\"#fb9f3a\"],[0.8888888888888888,\"#fdca26\"],[1.0,\"#f0f921\"]],\"type\":\"heatmapgl\"}],\"heatmap\":[{\"colorbar\":{\"outlinewidth\":0,\"ticks\":\"\"},\"colorscale\":[[0.0,\"#0d0887\"],[0.1111111111111111,\"#46039f\"],[0.2222222222222222,\"#7201a8\"],[0.3333333333333333,\"#9c179e\"],[0.4444444444444444,\"#bd3786\"],[0.5555555555555556,\"#d8576b\"],[0.6666666666666666,\"#ed7953\"],[0.7777777777777778,\"#fb9f3a\"],[0.8888888888888888,\"#fdca26\"],[1.0,\"#f0f921\"]],\"type\":\"heatmap\"}],\"histogram2dcontour\":[{\"colorbar\":{\"outlinewidth\":0,\"ticks\":\"\"},\"colorscale\":[[0.0,\"#0d0887\"],[0.1111111111111111,\"#46039f\"],[0.2222222222222222,\"#7201a8\"],[0.3333333333333333,\"#9c179e\"],[0.4444444444444444,\"#bd3786\"],[0.5555555555555556,\"#d8576b\"],[0.6666666666666666,\"#ed7953\"],[0.7777777777777778,\"#fb9f3a\"],[0.8888888888888888,\"#fdca26\"],[1.0,\"#f0f921\"]],\"type\":\"histogram2dcontour\"}],\"histogram2d\":[{\"colorbar\":{\"outlinewidth\":0,\"ticks\":\"\"},\"colorscale\":[[0.0,\"#0d0887\"],[0.1111111111111111,\"#46039f\"],[0.2222222222222222,\"#7201a8\"],[0.3333333333333333,\"#9c179e\"],[0.4444444444444444,\"#bd3786\"],[0.5555555555555556,\"#d8576b\"],[0.6666666666666666,\"#ed7953\"],[0.7777777777777778,\"#fb9f3a\"],[0.8888888888888888,\"#fdca26\"],[1.0,\"#f0f921\"]],\"type\":\"histogram2d\"}],\"histogram\":[{\"marker\":{\"pattern\":{\"fillmode\":\"overlay\",\"size\":10,\"solidity\":0.2}},\"type\":\"histogram\"}],\"mesh3d\":[{\"colorbar\":{\"outlinewidth\":0,\"ticks\":\"\"},\"type\":\"mesh3d\"}],\"parcoords\":[{\"line\":{\"colorbar\":{\"outlinewidth\":0,\"ticks\":\"\"}},\"type\":\"parcoords\"}],\"pie\":[{\"automargin\":true,\"type\":\"pie\"}],\"scatter3d\":[{\"line\":{\"colorbar\":{\"outlinewidth\":0,\"ticks\":\"\"}},\"marker\":{\"colorbar\":{\"outlinewidth\":0,\"ticks\":\"\"}},\"type\":\"scatter3d\"}],\"scattercarpet\":[{\"marker\":{\"colorbar\":{\"outlinewidth\":0,\"ticks\":\"\"}},\"type\":\"scattercarpet\"}],\"scattergeo\":[{\"marker\":{\"colorbar\":{\"outlinewidth\":0,\"ticks\":\"\"}},\"type\":\"scattergeo\"}],\"scattergl\":[{\"marker\":{\"colorbar\":{\"outlinewidth\":0,\"ticks\":\"\"}},\"type\":\"scattergl\"}],\"scattermapbox\":[{\"marker\":{\"colorbar\":{\"outlinewidth\":0,\"ticks\":\"\"}},\"type\":\"scattermapbox\"}],\"scatterpolargl\":[{\"marker\":{\"colorbar\":{\"outlinewidth\":0,\"ticks\":\"\"}},\"type\":\"scatterpolargl\"}],\"scatterpolar\":[{\"marker\":{\"colorbar\":{\"outlinewidth\":0,\"ticks\":\"\"}},\"type\":\"scatterpolar\"}],\"scatter\":[{\"marker\":{\"colorbar\":{\"outlinewidth\":0,\"ticks\":\"\"}},\"type\":\"scatter\"}],\"scatterternary\":[{\"marker\":{\"colorbar\":{\"outlinewidth\":0,\"ticks\":\"\"}},\"type\":\"scatterternary\"}],\"surface\":[{\"colorbar\":{\"outlinewidth\":0,\"ticks\":\"\"},\"colorscale\":[[0.0,\"#0d0887\"],[0.1111111111111111,\"#46039f\"],[0.2222222222222222,\"#7201a8\"],[0.3333333333333333,\"#9c179e\"],[0.4444444444444444,\"#bd3786\"],[0.5555555555555556,\"#d8576b\"],[0.6666666666666666,\"#ed7953\"],[0.7777777777777778,\"#fb9f3a\"],[0.8888888888888888,\"#fdca26\"],[1.0,\"#f0f921\"]],\"type\":\"surface\"}],\"table\":[{\"cells\":{\"fill\":{\"color\":\"#EBF0F8\"},\"line\":{\"color\":\"white\"}},\"header\":{\"fill\":{\"color\":\"#C8D4E3\"},\"line\":{\"color\":\"white\"}},\"type\":\"table\"}]},\"layout\":{\"annotationdefaults\":{\"arrowcolor\":\"#2a3f5f\",\"arrowhead\":0,\"arrowwidth\":1},\"autotypenumbers\":\"strict\",\"coloraxis\":{\"colorbar\":{\"outlinewidth\":0,\"ticks\":\"\"}},\"colorscale\":{\"diverging\":[[0,\"#8e0152\"],[0.1,\"#c51b7d\"],[0.2,\"#de77ae\"],[0.3,\"#f1b6da\"],[0.4,\"#fde0ef\"],[0.5,\"#f7f7f7\"],[0.6,\"#e6f5d0\"],[0.7,\"#b8e186\"],[0.8,\"#7fbc41\"],[0.9,\"#4d9221\"],[1,\"#276419\"]],\"sequential\":[[0.0,\"#0d0887\"],[0.1111111111111111,\"#46039f\"],[0.2222222222222222,\"#7201a8\"],[0.3333333333333333,\"#9c179e\"],[0.4444444444444444,\"#bd3786\"],[0.5555555555555556,\"#d8576b\"],[0.6666666666666666,\"#ed7953\"],[0.7777777777777778,\"#fb9f3a\"],[0.8888888888888888,\"#fdca26\"],[1.0,\"#f0f921\"]],\"sequentialminus\":[[0.0,\"#0d0887\"],[0.1111111111111111,\"#46039f\"],[0.2222222222222222,\"#7201a8\"],[0.3333333333333333,\"#9c179e\"],[0.4444444444444444,\"#bd3786\"],[0.5555555555555556,\"#d8576b\"],[0.6666666666666666,\"#ed7953\"],[0.7777777777777778,\"#fb9f3a\"],[0.8888888888888888,\"#fdca26\"],[1.0,\"#f0f921\"]]},\"colorway\":[\"#636efa\",\"#EF553B\",\"#00cc96\",\"#ab63fa\",\"#FFA15A\",\"#19d3f3\",\"#FF6692\",\"#B6E880\",\"#FF97FF\",\"#FECB52\"],\"font\":{\"color\":\"#2a3f5f\"},\"geo\":{\"bgcolor\":\"white\",\"lakecolor\":\"white\",\"landcolor\":\"#E5ECF6\",\"showlakes\":true,\"showland\":true,\"subunitcolor\":\"white\"},\"hoverlabel\":{\"align\":\"left\"},\"hovermode\":\"closest\",\"mapbox\":{\"style\":\"light\"},\"paper_bgcolor\":\"white\",\"plot_bgcolor\":\"#E5ECF6\",\"polar\":{\"angularaxis\":{\"gridcolor\":\"white\",\"linecolor\":\"white\",\"ticks\":\"\"},\"bgcolor\":\"#E5ECF6\",\"radialaxis\":{\"gridcolor\":\"white\",\"linecolor\":\"white\",\"ticks\":\"\"}},\"scene\":{\"xaxis\":{\"backgroundcolor\":\"#E5ECF6\",\"gridcolor\":\"white\",\"gridwidth\":2,\"linecolor\":\"white\",\"showbackground\":true,\"ticks\":\"\",\"zerolinecolor\":\"white\"},\"yaxis\":{\"backgroundcolor\":\"#E5ECF6\",\"gridcolor\":\"white\",\"gridwidth\":2,\"linecolor\":\"white\",\"showbackground\":true,\"ticks\":\"\",\"zerolinecolor\":\"white\"},\"zaxis\":{\"backgroundcolor\":\"#E5ECF6\",\"gridcolor\":\"white\",\"gridwidth\":2,\"linecolor\":\"white\",\"showbackground\":true,\"ticks\":\"\",\"zerolinecolor\":\"white\"}},\"shapedefaults\":{\"line\":{\"color\":\"#2a3f5f\"}},\"ternary\":{\"aaxis\":{\"gridcolor\":\"white\",\"linecolor\":\"white\",\"ticks\":\"\"},\"baxis\":{\"gridcolor\":\"white\",\"linecolor\":\"white\",\"ticks\":\"\"},\"bgcolor\":\"#E5ECF6\",\"caxis\":{\"gridcolor\":\"white\",\"linecolor\":\"white\",\"ticks\":\"\"}},\"title\":{\"x\":0.05},\"xaxis\":{\"automargin\":true,\"gridcolor\":\"white\",\"linecolor\":\"white\",\"ticks\":\"\",\"title\":{\"standoff\":15},\"zerolinecolor\":\"white\",\"zerolinewidth\":2},\"yaxis\":{\"automargin\":true,\"gridcolor\":\"white\",\"linecolor\":\"white\",\"ticks\":\"\",\"title\":{\"standoff\":15},\"zerolinecolor\":\"white\",\"zerolinewidth\":2}}},\"title\":{\"text\":\"\\u0417\\u0430\\u0432\\u0438\\u0441\\u0438\\u043c\\u043e\\u0441\\u0442\\u044c \\u043f\\u043e\\u0433\\u0440\\u0435\\u0448\\u043d\\u043e\\u0441\\u0442\\u0438 \\u043e\\u0442 \\u0434\\u043b\\u0438\\u043d\\u044b \\u0448\\u0430\\u0433\\u0430\"},\"xaxis\":{\"title\":{\"text\":\"h\"}},\"yaxis\":{\"title\":{\"text\":\"e\"}}},                        {\"responsive\": true}                    ).then(function(){\n",
              "                            \n",
              "var gd = document.getElementById('c0ef230b-b49d-408a-9739-7e2f8babf906');\n",
              "var x = new MutationObserver(function (mutations, observer) {{\n",
              "        var display = window.getComputedStyle(gd).display;\n",
              "        if (!display || display === 'none') {{\n",
              "            console.log([gd, 'removed!']);\n",
              "            Plotly.purge(gd);\n",
              "            observer.disconnect();\n",
              "        }}\n",
              "}});\n",
              "\n",
              "// Listen for the removal of the full notebook cells\n",
              "var notebookContainer = gd.closest('#notebook-container');\n",
              "if (notebookContainer) {{\n",
              "    x.observe(notebookContainer, {childList: true});\n",
              "}}\n",
              "\n",
              "// Listen for the clearing of the current output cell\n",
              "var outputEl = gd.closest('.output');\n",
              "if (outputEl) {{\n",
              "    x.observe(outputEl, {childList: true});\n",
              "}}\n",
              "\n",
              "                        })                };                            </script>        </div>\n",
              "</body>\n",
              "</html>"
            ]
          },
          "metadata": {}
        },
        {
          "output_type": "display_data",
          "data": {
            "text/html": [
              "<html>\n",
              "<head><meta charset=\"utf-8\" /></head>\n",
              "<body>\n",
              "    <div>            <script src=\"https://cdnjs.cloudflare.com/ajax/libs/mathjax/2.7.5/MathJax.js?config=TeX-AMS-MML_SVG\"></script><script type=\"text/javascript\">if (window.MathJax) {MathJax.Hub.Config({SVG: {font: \"STIX-Web\"}});}</script>                <script type=\"text/javascript\">window.PlotlyConfig = {MathJaxConfig: 'local'};</script>\n",
              "        <script src=\"https://cdn.plot.ly/plotly-2.8.3.min.js\"></script>                <div id=\"26b57ec2-83e2-48a4-9d64-ff70f78aa705\" class=\"plotly-graph-div\" style=\"height:525px; width:100%;\"></div>            <script type=\"text/javascript\">                                    window.PLOTLYENV=window.PLOTLYENV || {};                                    if (document.getElementById(\"26b57ec2-83e2-48a4-9d64-ff70f78aa705\")) {                    Plotly.newPlot(                        \"26b57ec2-83e2-48a4-9d64-ff70f78aa705\",                        [{\"mode\":\"lines\",\"name\":\"\\u042f\\u0432\\u043d\\u0430\\u044f\",\"showlegend\":true,\"text\":\"(x, y)\",\"x\":[-0.9347116558304358,-1.3401767639386002,-1.6278588363903812,-1.851002387704591,-2.0333239444985454,-2.187474624325804,-2.3210060169503266,-2.43878905260671,-2.5441495682645363,-2.639459748068861,-2.7264711250584908,-2.806513832732027,-2.8806218048857493],\"y\":[-5.903755830940353,-5.961193209697197,-5.9111241271198764,-5.9256712465063925,-5.902554839037298,-5.9036937174348525,-5.8953461770230735,-5.893195189476741,-5.889865264319757,-5.887034509479984,-5.885637036593587,-5.882411875115749,-5.882273754314361],\"type\":\"scatter\"}],                        {\"paper_bgcolor\":\"gray\",\"plot_bgcolor\":\"darkgray\",\"template\":{\"data\":{\"barpolar\":[{\"marker\":{\"line\":{\"color\":\"#E5ECF6\",\"width\":0.5},\"pattern\":{\"fillmode\":\"overlay\",\"size\":10,\"solidity\":0.2}},\"type\":\"barpolar\"}],\"bar\":[{\"error_x\":{\"color\":\"#2a3f5f\"},\"error_y\":{\"color\":\"#2a3f5f\"},\"marker\":{\"line\":{\"color\":\"#E5ECF6\",\"width\":0.5},\"pattern\":{\"fillmode\":\"overlay\",\"size\":10,\"solidity\":0.2}},\"type\":\"bar\"}],\"carpet\":[{\"aaxis\":{\"endlinecolor\":\"#2a3f5f\",\"gridcolor\":\"white\",\"linecolor\":\"white\",\"minorgridcolor\":\"white\",\"startlinecolor\":\"#2a3f5f\"},\"baxis\":{\"endlinecolor\":\"#2a3f5f\",\"gridcolor\":\"white\",\"linecolor\":\"white\",\"minorgridcolor\":\"white\",\"startlinecolor\":\"#2a3f5f\"},\"type\":\"carpet\"}],\"choropleth\":[{\"colorbar\":{\"outlinewidth\":0,\"ticks\":\"\"},\"type\":\"choropleth\"}],\"contourcarpet\":[{\"colorbar\":{\"outlinewidth\":0,\"ticks\":\"\"},\"type\":\"contourcarpet\"}],\"contour\":[{\"colorbar\":{\"outlinewidth\":0,\"ticks\":\"\"},\"colorscale\":[[0.0,\"#0d0887\"],[0.1111111111111111,\"#46039f\"],[0.2222222222222222,\"#7201a8\"],[0.3333333333333333,\"#9c179e\"],[0.4444444444444444,\"#bd3786\"],[0.5555555555555556,\"#d8576b\"],[0.6666666666666666,\"#ed7953\"],[0.7777777777777778,\"#fb9f3a\"],[0.8888888888888888,\"#fdca26\"],[1.0,\"#f0f921\"]],\"type\":\"contour\"}],\"heatmapgl\":[{\"colorbar\":{\"outlinewidth\":0,\"ticks\":\"\"},\"colorscale\":[[0.0,\"#0d0887\"],[0.1111111111111111,\"#46039f\"],[0.2222222222222222,\"#7201a8\"],[0.3333333333333333,\"#9c179e\"],[0.4444444444444444,\"#bd3786\"],[0.5555555555555556,\"#d8576b\"],[0.6666666666666666,\"#ed7953\"],[0.7777777777777778,\"#fb9f3a\"],[0.8888888888888888,\"#fdca26\"],[1.0,\"#f0f921\"]],\"type\":\"heatmapgl\"}],\"heatmap\":[{\"colorbar\":{\"outlinewidth\":0,\"ticks\":\"\"},\"colorscale\":[[0.0,\"#0d0887\"],[0.1111111111111111,\"#46039f\"],[0.2222222222222222,\"#7201a8\"],[0.3333333333333333,\"#9c179e\"],[0.4444444444444444,\"#bd3786\"],[0.5555555555555556,\"#d8576b\"],[0.6666666666666666,\"#ed7953\"],[0.7777777777777778,\"#fb9f3a\"],[0.8888888888888888,\"#fdca26\"],[1.0,\"#f0f921\"]],\"type\":\"heatmap\"}],\"histogram2dcontour\":[{\"colorbar\":{\"outlinewidth\":0,\"ticks\":\"\"},\"colorscale\":[[0.0,\"#0d0887\"],[0.1111111111111111,\"#46039f\"],[0.2222222222222222,\"#7201a8\"],[0.3333333333333333,\"#9c179e\"],[0.4444444444444444,\"#bd3786\"],[0.5555555555555556,\"#d8576b\"],[0.6666666666666666,\"#ed7953\"],[0.7777777777777778,\"#fb9f3a\"],[0.8888888888888888,\"#fdca26\"],[1.0,\"#f0f921\"]],\"type\":\"histogram2dcontour\"}],\"histogram2d\":[{\"colorbar\":{\"outlinewidth\":0,\"ticks\":\"\"},\"colorscale\":[[0.0,\"#0d0887\"],[0.1111111111111111,\"#46039f\"],[0.2222222222222222,\"#7201a8\"],[0.3333333333333333,\"#9c179e\"],[0.4444444444444444,\"#bd3786\"],[0.5555555555555556,\"#d8576b\"],[0.6666666666666666,\"#ed7953\"],[0.7777777777777778,\"#fb9f3a\"],[0.8888888888888888,\"#fdca26\"],[1.0,\"#f0f921\"]],\"type\":\"histogram2d\"}],\"histogram\":[{\"marker\":{\"pattern\":{\"fillmode\":\"overlay\",\"size\":10,\"solidity\":0.2}},\"type\":\"histogram\"}],\"mesh3d\":[{\"colorbar\":{\"outlinewidth\":0,\"ticks\":\"\"},\"type\":\"mesh3d\"}],\"parcoords\":[{\"line\":{\"colorbar\":{\"outlinewidth\":0,\"ticks\":\"\"}},\"type\":\"parcoords\"}],\"pie\":[{\"automargin\":true,\"type\":\"pie\"}],\"scatter3d\":[{\"line\":{\"colorbar\":{\"outlinewidth\":0,\"ticks\":\"\"}},\"marker\":{\"colorbar\":{\"outlinewidth\":0,\"ticks\":\"\"}},\"type\":\"scatter3d\"}],\"scattercarpet\":[{\"marker\":{\"colorbar\":{\"outlinewidth\":0,\"ticks\":\"\"}},\"type\":\"scattercarpet\"}],\"scattergeo\":[{\"marker\":{\"colorbar\":{\"outlinewidth\":0,\"ticks\":\"\"}},\"type\":\"scattergeo\"}],\"scattergl\":[{\"marker\":{\"colorbar\":{\"outlinewidth\":0,\"ticks\":\"\"}},\"type\":\"scattergl\"}],\"scattermapbox\":[{\"marker\":{\"colorbar\":{\"outlinewidth\":0,\"ticks\":\"\"}},\"type\":\"scattermapbox\"}],\"scatterpolargl\":[{\"marker\":{\"colorbar\":{\"outlinewidth\":0,\"ticks\":\"\"}},\"type\":\"scatterpolargl\"}],\"scatterpolar\":[{\"marker\":{\"colorbar\":{\"outlinewidth\":0,\"ticks\":\"\"}},\"type\":\"scatterpolar\"}],\"scatter\":[{\"marker\":{\"colorbar\":{\"outlinewidth\":0,\"ticks\":\"\"}},\"type\":\"scatter\"}],\"scatterternary\":[{\"marker\":{\"colorbar\":{\"outlinewidth\":0,\"ticks\":\"\"}},\"type\":\"scatterternary\"}],\"surface\":[{\"colorbar\":{\"outlinewidth\":0,\"ticks\":\"\"},\"colorscale\":[[0.0,\"#0d0887\"],[0.1111111111111111,\"#46039f\"],[0.2222222222222222,\"#7201a8\"],[0.3333333333333333,\"#9c179e\"],[0.4444444444444444,\"#bd3786\"],[0.5555555555555556,\"#d8576b\"],[0.6666666666666666,\"#ed7953\"],[0.7777777777777778,\"#fb9f3a\"],[0.8888888888888888,\"#fdca26\"],[1.0,\"#f0f921\"]],\"type\":\"surface\"}],\"table\":[{\"cells\":{\"fill\":{\"color\":\"#EBF0F8\"},\"line\":{\"color\":\"white\"}},\"header\":{\"fill\":{\"color\":\"#C8D4E3\"},\"line\":{\"color\":\"white\"}},\"type\":\"table\"}]},\"layout\":{\"annotationdefaults\":{\"arrowcolor\":\"#2a3f5f\",\"arrowhead\":0,\"arrowwidth\":1},\"autotypenumbers\":\"strict\",\"coloraxis\":{\"colorbar\":{\"outlinewidth\":0,\"ticks\":\"\"}},\"colorscale\":{\"diverging\":[[0,\"#8e0152\"],[0.1,\"#c51b7d\"],[0.2,\"#de77ae\"],[0.3,\"#f1b6da\"],[0.4,\"#fde0ef\"],[0.5,\"#f7f7f7\"],[0.6,\"#e6f5d0\"],[0.7,\"#b8e186\"],[0.8,\"#7fbc41\"],[0.9,\"#4d9221\"],[1,\"#276419\"]],\"sequential\":[[0.0,\"#0d0887\"],[0.1111111111111111,\"#46039f\"],[0.2222222222222222,\"#7201a8\"],[0.3333333333333333,\"#9c179e\"],[0.4444444444444444,\"#bd3786\"],[0.5555555555555556,\"#d8576b\"],[0.6666666666666666,\"#ed7953\"],[0.7777777777777778,\"#fb9f3a\"],[0.8888888888888888,\"#fdca26\"],[1.0,\"#f0f921\"]],\"sequentialminus\":[[0.0,\"#0d0887\"],[0.1111111111111111,\"#46039f\"],[0.2222222222222222,\"#7201a8\"],[0.3333333333333333,\"#9c179e\"],[0.4444444444444444,\"#bd3786\"],[0.5555555555555556,\"#d8576b\"],[0.6666666666666666,\"#ed7953\"],[0.7777777777777778,\"#fb9f3a\"],[0.8888888888888888,\"#fdca26\"],[1.0,\"#f0f921\"]]},\"colorway\":[\"#636efa\",\"#EF553B\",\"#00cc96\",\"#ab63fa\",\"#FFA15A\",\"#19d3f3\",\"#FF6692\",\"#B6E880\",\"#FF97FF\",\"#FECB52\"],\"font\":{\"color\":\"#2a3f5f\"},\"geo\":{\"bgcolor\":\"white\",\"lakecolor\":\"white\",\"landcolor\":\"#E5ECF6\",\"showlakes\":true,\"showland\":true,\"subunitcolor\":\"white\"},\"hoverlabel\":{\"align\":\"left\"},\"hovermode\":\"closest\",\"mapbox\":{\"style\":\"light\"},\"paper_bgcolor\":\"white\",\"plot_bgcolor\":\"#E5ECF6\",\"polar\":{\"angularaxis\":{\"gridcolor\":\"white\",\"linecolor\":\"white\",\"ticks\":\"\"},\"bgcolor\":\"#E5ECF6\",\"radialaxis\":{\"gridcolor\":\"white\",\"linecolor\":\"white\",\"ticks\":\"\"}},\"scene\":{\"xaxis\":{\"backgroundcolor\":\"#E5ECF6\",\"gridcolor\":\"white\",\"gridwidth\":2,\"linecolor\":\"white\",\"showbackground\":true,\"ticks\":\"\",\"zerolinecolor\":\"white\"},\"yaxis\":{\"backgroundcolor\":\"#E5ECF6\",\"gridcolor\":\"white\",\"gridwidth\":2,\"linecolor\":\"white\",\"showbackground\":true,\"ticks\":\"\",\"zerolinecolor\":\"white\"},\"zaxis\":{\"backgroundcolor\":\"#E5ECF6\",\"gridcolor\":\"white\",\"gridwidth\":2,\"linecolor\":\"white\",\"showbackground\":true,\"ticks\":\"\",\"zerolinecolor\":\"white\"}},\"shapedefaults\":{\"line\":{\"color\":\"#2a3f5f\"}},\"ternary\":{\"aaxis\":{\"gridcolor\":\"white\",\"linecolor\":\"white\",\"ticks\":\"\"},\"baxis\":{\"gridcolor\":\"white\",\"linecolor\":\"white\",\"ticks\":\"\"},\"bgcolor\":\"#E5ECF6\",\"caxis\":{\"gridcolor\":\"white\",\"linecolor\":\"white\",\"ticks\":\"\"}},\"title\":{\"x\":0.05},\"xaxis\":{\"automargin\":true,\"gridcolor\":\"white\",\"linecolor\":\"white\",\"ticks\":\"\",\"title\":{\"standoff\":15},\"zerolinecolor\":\"white\",\"zerolinewidth\":2},\"yaxis\":{\"automargin\":true,\"gridcolor\":\"white\",\"linecolor\":\"white\",\"ticks\":\"\",\"title\":{\"standoff\":15},\"zerolinecolor\":\"white\",\"zerolinewidth\":2}}},\"title\":{\"text\":\"\\u0417\\u0430\\u0432\\u0438\\u0441\\u0438\\u043c\\u043e\\u0441\\u0442\\u044c \\u043f\\u043e\\u0433\\u0440\\u0435\\u0448\\u043d\\u043e\\u0441\\u0442\\u0438 \\u043e\\u0442 \\u0434\\u043b\\u0438\\u043d\\u044b \\u0448\\u0430\\u0433\\u0430\"},\"xaxis\":{\"title\":{\"text\":\"log h\"}},\"yaxis\":{\"title\":{\"text\":\"log e\"}}},                        {\"responsive\": true}                    ).then(function(){\n",
              "                            \n",
              "var gd = document.getElementById('26b57ec2-83e2-48a4-9d64-ff70f78aa705');\n",
              "var x = new MutationObserver(function (mutations, observer) {{\n",
              "        var display = window.getComputedStyle(gd).display;\n",
              "        if (!display || display === 'none') {{\n",
              "            console.log([gd, 'removed!']);\n",
              "            Plotly.purge(gd);\n",
              "            observer.disconnect();\n",
              "        }}\n",
              "}});\n",
              "\n",
              "// Listen for the removal of the full notebook cells\n",
              "var notebookContainer = gd.closest('#notebook-container');\n",
              "if (notebookContainer) {{\n",
              "    x.observe(notebookContainer, {childList: true});\n",
              "}}\n",
              "\n",
              "// Listen for the clearing of the current output cell\n",
              "var outputEl = gd.closest('.output');\n",
              "if (outputEl) {{\n",
              "    x.observe(outputEl, {childList: true});\n",
              "}}\n",
              "\n",
              "                        })                };                            </script>        </div>\n",
              "</body>\n",
              "</html>"
            ]
          },
          "metadata": {}
        }
      ],
      "source": [
        "import plotly.offline as offline\n",
        "from plotly.graph_objs import *\n",
        "\n",
        "h, e = GetStepHandEror(explict, u)\n",
        "\n",
        "trace1 = Scatter(\n",
        "    x = h,\n",
        "    y = e,\n",
        "    name = 'Явная',\n",
        "    mode = 'lines',\n",
        "    text = ('(x, y)'),\n",
        "    showlegend = True\n",
        ")\n",
        "\n",
        "data = [trace1]\n",
        "\n",
        "layout = Layout(\n",
        "    title = 'Зависимость погрешности от длины шага',\n",
        "    xaxis = dict(title = 'h'),\n",
        "    yaxis = dict(title = 'e'),\n",
        "    plot_bgcolor = 'darkgray',\n",
        "    paper_bgcolor = 'gray'\n",
        ")\n",
        "\n",
        "fig = Figure(data = data, layout = layout)\n",
        "offline.iplot(fig)\n",
        "\n",
        "\n",
        "trace1 = Scatter(\n",
        "    x = list(map(math.log, h)),\n",
        "    y = list(map(math.log, e)),\n",
        "    name = 'Явная',\n",
        "    mode = 'lines',\n",
        "    text = ('(x, y)'),\n",
        "    showlegend = True\n",
        ")\n",
        "\n",
        "trace2 = Scatter(\n",
        "    x = [-3.5, -1],\n",
        "    y = [-3, -0.5],\n",
        "    name = 'Зависимость $O(h)$',\n",
        "    mode = 'lines',\n",
        "    text = ('(x, y)'),\n",
        "    showlegend = True\n",
        ")\n",
        "\n",
        "trace3 = Scatter(\n",
        "    x = [-3.5, -1],\n",
        "    y = [-3, 2],\n",
        "    name = 'Зависимость $O(h^2)$',\n",
        "    mode = 'lines',\n",
        "    text = ('(x, y)'),\n",
        "    showlegend = True\n",
        ")\n",
        "\n",
        "data = [trace1]\n",
        "\n",
        "layout = Layout(\n",
        "    title = 'Зависимость погрешности от длины шага',\n",
        "    xaxis = dict(title = 'log h'),\n",
        "    yaxis = dict(title = 'log e'),\n",
        "    plot_bgcolor = 'darkgray',\n",
        "    paper_bgcolor = 'gray'\n",
        ")\n",
        "\n",
        "fig = Figure(data = data, layout = layout)\n",
        "offline.iplot(fig)"
      ]
    },
    {
      "cell_type": "markdown",
      "metadata": {
        "id": "GhOjyEIwJ5k4"
      },
      "source": [
        "#### Неявная схема"
      ]
    },
    {
      "cell_type": "code",
      "execution_count": 12,
      "metadata": {
        "id": "58hEXyWoJ5k4"
      },
      "outputs": [],
      "source": [
        "implict = ImplictSchema(T=1)"
      ]
    },
    {
      "cell_type": "code",
      "execution_count": 13,
      "metadata": {
        "colab": {
          "base_uri": "https://localhost:8080/",
          "height": 1067
        },
        "id": "jPsxbz2vJ5k4",
        "outputId": "ee23ef6d-8306-4ad1-970e-61534aacad60"
      },
      "outputs": [
        {
          "output_type": "display_data",
          "data": {
            "text/html": [
              "<html>\n",
              "<head><meta charset=\"utf-8\" /></head>\n",
              "<body>\n",
              "    <div>            <script src=\"https://cdnjs.cloudflare.com/ajax/libs/mathjax/2.7.5/MathJax.js?config=TeX-AMS-MML_SVG\"></script><script type=\"text/javascript\">if (window.MathJax) {MathJax.Hub.Config({SVG: {font: \"STIX-Web\"}});}</script>                <script type=\"text/javascript\">window.PlotlyConfig = {MathJaxConfig: 'local'};</script>\n",
              "        <script src=\"https://cdn.plot.ly/plotly-2.8.3.min.js\"></script>                <div id=\"3a0dab16-0733-4c37-acb1-910a2486ff6b\" class=\"plotly-graph-div\" style=\"height:525px; width:100%;\"></div>            <script type=\"text/javascript\">                                    window.PLOTLYENV=window.PLOTLYENV || {};                                    if (document.getElementById(\"3a0dab16-0733-4c37-acb1-910a2486ff6b\")) {                    Plotly.newPlot(                        \"3a0dab16-0733-4c37-acb1-910a2486ff6b\",                        [{\"mode\":\"lines\",\"name\":\"\\u041d\\u0435\\u044f\\u0432\\u043d\\u0430\\u044f\",\"showlegend\":true,\"text\":\"(x, y)\",\"x\":[0.39269908169872414,0.2617993877991494,0.19634954084936207,0.15707963267948966,0.1308996938995747,0.1121997376282069,0.09817477042468103,0.08726646259971647,0.07853981633974483,0.07139983303613166,0.06544984694978735,0.06041524333826525,0.05609986881410345],\"y\":[0.006174310782618389,0.00596370328951196,0.006208001919676909,0.006240648510540632,0.006166616062072541,0.006232369811436322,0.006220671392561786,0.006209749829938591,0.006223843970949425,0.006205917259279596,0.006223358206011775,0.006219516513555748,0.006223375678861977],\"type\":\"scatter\"}],                        {\"paper_bgcolor\":\"gray\",\"plot_bgcolor\":\"darkgray\",\"template\":{\"data\":{\"barpolar\":[{\"marker\":{\"line\":{\"color\":\"#E5ECF6\",\"width\":0.5},\"pattern\":{\"fillmode\":\"overlay\",\"size\":10,\"solidity\":0.2}},\"type\":\"barpolar\"}],\"bar\":[{\"error_x\":{\"color\":\"#2a3f5f\"},\"error_y\":{\"color\":\"#2a3f5f\"},\"marker\":{\"line\":{\"color\":\"#E5ECF6\",\"width\":0.5},\"pattern\":{\"fillmode\":\"overlay\",\"size\":10,\"solidity\":0.2}},\"type\":\"bar\"}],\"carpet\":[{\"aaxis\":{\"endlinecolor\":\"#2a3f5f\",\"gridcolor\":\"white\",\"linecolor\":\"white\",\"minorgridcolor\":\"white\",\"startlinecolor\":\"#2a3f5f\"},\"baxis\":{\"endlinecolor\":\"#2a3f5f\",\"gridcolor\":\"white\",\"linecolor\":\"white\",\"minorgridcolor\":\"white\",\"startlinecolor\":\"#2a3f5f\"},\"type\":\"carpet\"}],\"choropleth\":[{\"colorbar\":{\"outlinewidth\":0,\"ticks\":\"\"},\"type\":\"choropleth\"}],\"contourcarpet\":[{\"colorbar\":{\"outlinewidth\":0,\"ticks\":\"\"},\"type\":\"contourcarpet\"}],\"contour\":[{\"colorbar\":{\"outlinewidth\":0,\"ticks\":\"\"},\"colorscale\":[[0.0,\"#0d0887\"],[0.1111111111111111,\"#46039f\"],[0.2222222222222222,\"#7201a8\"],[0.3333333333333333,\"#9c179e\"],[0.4444444444444444,\"#bd3786\"],[0.5555555555555556,\"#d8576b\"],[0.6666666666666666,\"#ed7953\"],[0.7777777777777778,\"#fb9f3a\"],[0.8888888888888888,\"#fdca26\"],[1.0,\"#f0f921\"]],\"type\":\"contour\"}],\"heatmapgl\":[{\"colorbar\":{\"outlinewidth\":0,\"ticks\":\"\"},\"colorscale\":[[0.0,\"#0d0887\"],[0.1111111111111111,\"#46039f\"],[0.2222222222222222,\"#7201a8\"],[0.3333333333333333,\"#9c179e\"],[0.4444444444444444,\"#bd3786\"],[0.5555555555555556,\"#d8576b\"],[0.6666666666666666,\"#ed7953\"],[0.7777777777777778,\"#fb9f3a\"],[0.8888888888888888,\"#fdca26\"],[1.0,\"#f0f921\"]],\"type\":\"heatmapgl\"}],\"heatmap\":[{\"colorbar\":{\"outlinewidth\":0,\"ticks\":\"\"},\"colorscale\":[[0.0,\"#0d0887\"],[0.1111111111111111,\"#46039f\"],[0.2222222222222222,\"#7201a8\"],[0.3333333333333333,\"#9c179e\"],[0.4444444444444444,\"#bd3786\"],[0.5555555555555556,\"#d8576b\"],[0.6666666666666666,\"#ed7953\"],[0.7777777777777778,\"#fb9f3a\"],[0.8888888888888888,\"#fdca26\"],[1.0,\"#f0f921\"]],\"type\":\"heatmap\"}],\"histogram2dcontour\":[{\"colorbar\":{\"outlinewidth\":0,\"ticks\":\"\"},\"colorscale\":[[0.0,\"#0d0887\"],[0.1111111111111111,\"#46039f\"],[0.2222222222222222,\"#7201a8\"],[0.3333333333333333,\"#9c179e\"],[0.4444444444444444,\"#bd3786\"],[0.5555555555555556,\"#d8576b\"],[0.6666666666666666,\"#ed7953\"],[0.7777777777777778,\"#fb9f3a\"],[0.8888888888888888,\"#fdca26\"],[1.0,\"#f0f921\"]],\"type\":\"histogram2dcontour\"}],\"histogram2d\":[{\"colorbar\":{\"outlinewidth\":0,\"ticks\":\"\"},\"colorscale\":[[0.0,\"#0d0887\"],[0.1111111111111111,\"#46039f\"],[0.2222222222222222,\"#7201a8\"],[0.3333333333333333,\"#9c179e\"],[0.4444444444444444,\"#bd3786\"],[0.5555555555555556,\"#d8576b\"],[0.6666666666666666,\"#ed7953\"],[0.7777777777777778,\"#fb9f3a\"],[0.8888888888888888,\"#fdca26\"],[1.0,\"#f0f921\"]],\"type\":\"histogram2d\"}],\"histogram\":[{\"marker\":{\"pattern\":{\"fillmode\":\"overlay\",\"size\":10,\"solidity\":0.2}},\"type\":\"histogram\"}],\"mesh3d\":[{\"colorbar\":{\"outlinewidth\":0,\"ticks\":\"\"},\"type\":\"mesh3d\"}],\"parcoords\":[{\"line\":{\"colorbar\":{\"outlinewidth\":0,\"ticks\":\"\"}},\"type\":\"parcoords\"}],\"pie\":[{\"automargin\":true,\"type\":\"pie\"}],\"scatter3d\":[{\"line\":{\"colorbar\":{\"outlinewidth\":0,\"ticks\":\"\"}},\"marker\":{\"colorbar\":{\"outlinewidth\":0,\"ticks\":\"\"}},\"type\":\"scatter3d\"}],\"scattercarpet\":[{\"marker\":{\"colorbar\":{\"outlinewidth\":0,\"ticks\":\"\"}},\"type\":\"scattercarpet\"}],\"scattergeo\":[{\"marker\":{\"colorbar\":{\"outlinewidth\":0,\"ticks\":\"\"}},\"type\":\"scattergeo\"}],\"scattergl\":[{\"marker\":{\"colorbar\":{\"outlinewidth\":0,\"ticks\":\"\"}},\"type\":\"scattergl\"}],\"scattermapbox\":[{\"marker\":{\"colorbar\":{\"outlinewidth\":0,\"ticks\":\"\"}},\"type\":\"scattermapbox\"}],\"scatterpolargl\":[{\"marker\":{\"colorbar\":{\"outlinewidth\":0,\"ticks\":\"\"}},\"type\":\"scatterpolargl\"}],\"scatterpolar\":[{\"marker\":{\"colorbar\":{\"outlinewidth\":0,\"ticks\":\"\"}},\"type\":\"scatterpolar\"}],\"scatter\":[{\"marker\":{\"colorbar\":{\"outlinewidth\":0,\"ticks\":\"\"}},\"type\":\"scatter\"}],\"scatterternary\":[{\"marker\":{\"colorbar\":{\"outlinewidth\":0,\"ticks\":\"\"}},\"type\":\"scatterternary\"}],\"surface\":[{\"colorbar\":{\"outlinewidth\":0,\"ticks\":\"\"},\"colorscale\":[[0.0,\"#0d0887\"],[0.1111111111111111,\"#46039f\"],[0.2222222222222222,\"#7201a8\"],[0.3333333333333333,\"#9c179e\"],[0.4444444444444444,\"#bd3786\"],[0.5555555555555556,\"#d8576b\"],[0.6666666666666666,\"#ed7953\"],[0.7777777777777778,\"#fb9f3a\"],[0.8888888888888888,\"#fdca26\"],[1.0,\"#f0f921\"]],\"type\":\"surface\"}],\"table\":[{\"cells\":{\"fill\":{\"color\":\"#EBF0F8\"},\"line\":{\"color\":\"white\"}},\"header\":{\"fill\":{\"color\":\"#C8D4E3\"},\"line\":{\"color\":\"white\"}},\"type\":\"table\"}]},\"layout\":{\"annotationdefaults\":{\"arrowcolor\":\"#2a3f5f\",\"arrowhead\":0,\"arrowwidth\":1},\"autotypenumbers\":\"strict\",\"coloraxis\":{\"colorbar\":{\"outlinewidth\":0,\"ticks\":\"\"}},\"colorscale\":{\"diverging\":[[0,\"#8e0152\"],[0.1,\"#c51b7d\"],[0.2,\"#de77ae\"],[0.3,\"#f1b6da\"],[0.4,\"#fde0ef\"],[0.5,\"#f7f7f7\"],[0.6,\"#e6f5d0\"],[0.7,\"#b8e186\"],[0.8,\"#7fbc41\"],[0.9,\"#4d9221\"],[1,\"#276419\"]],\"sequential\":[[0.0,\"#0d0887\"],[0.1111111111111111,\"#46039f\"],[0.2222222222222222,\"#7201a8\"],[0.3333333333333333,\"#9c179e\"],[0.4444444444444444,\"#bd3786\"],[0.5555555555555556,\"#d8576b\"],[0.6666666666666666,\"#ed7953\"],[0.7777777777777778,\"#fb9f3a\"],[0.8888888888888888,\"#fdca26\"],[1.0,\"#f0f921\"]],\"sequentialminus\":[[0.0,\"#0d0887\"],[0.1111111111111111,\"#46039f\"],[0.2222222222222222,\"#7201a8\"],[0.3333333333333333,\"#9c179e\"],[0.4444444444444444,\"#bd3786\"],[0.5555555555555556,\"#d8576b\"],[0.6666666666666666,\"#ed7953\"],[0.7777777777777778,\"#fb9f3a\"],[0.8888888888888888,\"#fdca26\"],[1.0,\"#f0f921\"]]},\"colorway\":[\"#636efa\",\"#EF553B\",\"#00cc96\",\"#ab63fa\",\"#FFA15A\",\"#19d3f3\",\"#FF6692\",\"#B6E880\",\"#FF97FF\",\"#FECB52\"],\"font\":{\"color\":\"#2a3f5f\"},\"geo\":{\"bgcolor\":\"white\",\"lakecolor\":\"white\",\"landcolor\":\"#E5ECF6\",\"showlakes\":true,\"showland\":true,\"subunitcolor\":\"white\"},\"hoverlabel\":{\"align\":\"left\"},\"hovermode\":\"closest\",\"mapbox\":{\"style\":\"light\"},\"paper_bgcolor\":\"white\",\"plot_bgcolor\":\"#E5ECF6\",\"polar\":{\"angularaxis\":{\"gridcolor\":\"white\",\"linecolor\":\"white\",\"ticks\":\"\"},\"bgcolor\":\"#E5ECF6\",\"radialaxis\":{\"gridcolor\":\"white\",\"linecolor\":\"white\",\"ticks\":\"\"}},\"scene\":{\"xaxis\":{\"backgroundcolor\":\"#E5ECF6\",\"gridcolor\":\"white\",\"gridwidth\":2,\"linecolor\":\"white\",\"showbackground\":true,\"ticks\":\"\",\"zerolinecolor\":\"white\"},\"yaxis\":{\"backgroundcolor\":\"#E5ECF6\",\"gridcolor\":\"white\",\"gridwidth\":2,\"linecolor\":\"white\",\"showbackground\":true,\"ticks\":\"\",\"zerolinecolor\":\"white\"},\"zaxis\":{\"backgroundcolor\":\"#E5ECF6\",\"gridcolor\":\"white\",\"gridwidth\":2,\"linecolor\":\"white\",\"showbackground\":true,\"ticks\":\"\",\"zerolinecolor\":\"white\"}},\"shapedefaults\":{\"line\":{\"color\":\"#2a3f5f\"}},\"ternary\":{\"aaxis\":{\"gridcolor\":\"white\",\"linecolor\":\"white\",\"ticks\":\"\"},\"baxis\":{\"gridcolor\":\"white\",\"linecolor\":\"white\",\"ticks\":\"\"},\"bgcolor\":\"#E5ECF6\",\"caxis\":{\"gridcolor\":\"white\",\"linecolor\":\"white\",\"ticks\":\"\"}},\"title\":{\"x\":0.05},\"xaxis\":{\"automargin\":true,\"gridcolor\":\"white\",\"linecolor\":\"white\",\"ticks\":\"\",\"title\":{\"standoff\":15},\"zerolinecolor\":\"white\",\"zerolinewidth\":2},\"yaxis\":{\"automargin\":true,\"gridcolor\":\"white\",\"linecolor\":\"white\",\"ticks\":\"\",\"title\":{\"standoff\":15},\"zerolinecolor\":\"white\",\"zerolinewidth\":2}}},\"title\":{\"text\":\"\\u0417\\u0430\\u0432\\u0438\\u0441\\u0438\\u043c\\u043e\\u0441\\u0442\\u044c \\u043f\\u043e\\u0433\\u0440\\u0435\\u0448\\u043d\\u043e\\u0441\\u0442\\u0438 \\u043e\\u0442 \\u0434\\u043b\\u0438\\u043d\\u044b \\u0448\\u0430\\u0433\\u0430\"},\"xaxis\":{\"title\":{\"text\":\"h\"}},\"yaxis\":{\"title\":{\"text\":\"e\"}}},                        {\"responsive\": true}                    ).then(function(){\n",
              "                            \n",
              "var gd = document.getElementById('3a0dab16-0733-4c37-acb1-910a2486ff6b');\n",
              "var x = new MutationObserver(function (mutations, observer) {{\n",
              "        var display = window.getComputedStyle(gd).display;\n",
              "        if (!display || display === 'none') {{\n",
              "            console.log([gd, 'removed!']);\n",
              "            Plotly.purge(gd);\n",
              "            observer.disconnect();\n",
              "        }}\n",
              "}});\n",
              "\n",
              "// Listen for the removal of the full notebook cells\n",
              "var notebookContainer = gd.closest('#notebook-container');\n",
              "if (notebookContainer) {{\n",
              "    x.observe(notebookContainer, {childList: true});\n",
              "}}\n",
              "\n",
              "// Listen for the clearing of the current output cell\n",
              "var outputEl = gd.closest('.output');\n",
              "if (outputEl) {{\n",
              "    x.observe(outputEl, {childList: true});\n",
              "}}\n",
              "\n",
              "                        })                };                            </script>        </div>\n",
              "</body>\n",
              "</html>"
            ]
          },
          "metadata": {}
        },
        {
          "output_type": "display_data",
          "data": {
            "text/html": [
              "<html>\n",
              "<head><meta charset=\"utf-8\" /></head>\n",
              "<body>\n",
              "    <div>            <script src=\"https://cdnjs.cloudflare.com/ajax/libs/mathjax/2.7.5/MathJax.js?config=TeX-AMS-MML_SVG\"></script><script type=\"text/javascript\">if (window.MathJax) {MathJax.Hub.Config({SVG: {font: \"STIX-Web\"}});}</script>                <script type=\"text/javascript\">window.PlotlyConfig = {MathJaxConfig: 'local'};</script>\n",
              "        <script src=\"https://cdn.plot.ly/plotly-2.8.3.min.js\"></script>                <div id=\"04d51fed-35fc-4f30-8135-d9b54bf48238\" class=\"plotly-graph-div\" style=\"height:525px; width:100%;\"></div>            <script type=\"text/javascript\">                                    window.PLOTLYENV=window.PLOTLYENV || {};                                    if (document.getElementById(\"04d51fed-35fc-4f30-8135-d9b54bf48238\")) {                    Plotly.newPlot(                        \"04d51fed-35fc-4f30-8135-d9b54bf48238\",                        [{\"mode\":\"lines\",\"name\":\"\\u041d\\u0435\\u044f\\u0432\\u043d\\u0430\\u044f\",\"showlegend\":true,\"text\":\"(x, y)\",\"x\":[-0.9347116558304358,-1.3401767639386002,-1.6278588363903812,-1.851002387704591,-2.0333239444985454,-2.187474624325804,-2.3210060169503266,-2.43878905260671,-2.5441495682645363,-2.639459748068861,-2.7264711250584908,-2.806513832732027,-2.8806218048857493],\"y\":[-5.087358016848287,-5.122063633566733,-5.081916186874961,-5.076671174029683,-5.088605041750037,-5.077998631443164,-5.07987743712992,-5.0816346688822565,-5.079367561355139,-5.082252045420011,-5.0794456134235455,-5.0800631061918455,-5.079442805803432],\"type\":\"scatter\"},{\"mode\":\"lines\",\"name\":\"\\u0417\\u0430\\u0432\\u0438\\u0441\\u0438\\u043c\\u043e\\u0441\\u0442\\u044c $O(h)$\",\"showlegend\":true,\"text\":\"(x, y)\",\"x\":[-3.5,-1],\"y\":[-6,-1],\"type\":\"scatter\"},{\"mode\":\"lines\",\"name\":\"\\u0417\\u0430\\u0432\\u0438\\u0441\\u0438\\u043c\\u043e\\u0441\\u0442\\u044c $O(h^2)$\",\"showlegend\":true,\"text\":\"(x, y)\",\"x\":[-3.5,-1],\"y\":[-6,4],\"type\":\"scatter\"}],                        {\"paper_bgcolor\":\"gray\",\"plot_bgcolor\":\"darkgray\",\"template\":{\"data\":{\"barpolar\":[{\"marker\":{\"line\":{\"color\":\"#E5ECF6\",\"width\":0.5},\"pattern\":{\"fillmode\":\"overlay\",\"size\":10,\"solidity\":0.2}},\"type\":\"barpolar\"}],\"bar\":[{\"error_x\":{\"color\":\"#2a3f5f\"},\"error_y\":{\"color\":\"#2a3f5f\"},\"marker\":{\"line\":{\"color\":\"#E5ECF6\",\"width\":0.5},\"pattern\":{\"fillmode\":\"overlay\",\"size\":10,\"solidity\":0.2}},\"type\":\"bar\"}],\"carpet\":[{\"aaxis\":{\"endlinecolor\":\"#2a3f5f\",\"gridcolor\":\"white\",\"linecolor\":\"white\",\"minorgridcolor\":\"white\",\"startlinecolor\":\"#2a3f5f\"},\"baxis\":{\"endlinecolor\":\"#2a3f5f\",\"gridcolor\":\"white\",\"linecolor\":\"white\",\"minorgridcolor\":\"white\",\"startlinecolor\":\"#2a3f5f\"},\"type\":\"carpet\"}],\"choropleth\":[{\"colorbar\":{\"outlinewidth\":0,\"ticks\":\"\"},\"type\":\"choropleth\"}],\"contourcarpet\":[{\"colorbar\":{\"outlinewidth\":0,\"ticks\":\"\"},\"type\":\"contourcarpet\"}],\"contour\":[{\"colorbar\":{\"outlinewidth\":0,\"ticks\":\"\"},\"colorscale\":[[0.0,\"#0d0887\"],[0.1111111111111111,\"#46039f\"],[0.2222222222222222,\"#7201a8\"],[0.3333333333333333,\"#9c179e\"],[0.4444444444444444,\"#bd3786\"],[0.5555555555555556,\"#d8576b\"],[0.6666666666666666,\"#ed7953\"],[0.7777777777777778,\"#fb9f3a\"],[0.8888888888888888,\"#fdca26\"],[1.0,\"#f0f921\"]],\"type\":\"contour\"}],\"heatmapgl\":[{\"colorbar\":{\"outlinewidth\":0,\"ticks\":\"\"},\"colorscale\":[[0.0,\"#0d0887\"],[0.1111111111111111,\"#46039f\"],[0.2222222222222222,\"#7201a8\"],[0.3333333333333333,\"#9c179e\"],[0.4444444444444444,\"#bd3786\"],[0.5555555555555556,\"#d8576b\"],[0.6666666666666666,\"#ed7953\"],[0.7777777777777778,\"#fb9f3a\"],[0.8888888888888888,\"#fdca26\"],[1.0,\"#f0f921\"]],\"type\":\"heatmapgl\"}],\"heatmap\":[{\"colorbar\":{\"outlinewidth\":0,\"ticks\":\"\"},\"colorscale\":[[0.0,\"#0d0887\"],[0.1111111111111111,\"#46039f\"],[0.2222222222222222,\"#7201a8\"],[0.3333333333333333,\"#9c179e\"],[0.4444444444444444,\"#bd3786\"],[0.5555555555555556,\"#d8576b\"],[0.6666666666666666,\"#ed7953\"],[0.7777777777777778,\"#fb9f3a\"],[0.8888888888888888,\"#fdca26\"],[1.0,\"#f0f921\"]],\"type\":\"heatmap\"}],\"histogram2dcontour\":[{\"colorbar\":{\"outlinewidth\":0,\"ticks\":\"\"},\"colorscale\":[[0.0,\"#0d0887\"],[0.1111111111111111,\"#46039f\"],[0.2222222222222222,\"#7201a8\"],[0.3333333333333333,\"#9c179e\"],[0.4444444444444444,\"#bd3786\"],[0.5555555555555556,\"#d8576b\"],[0.6666666666666666,\"#ed7953\"],[0.7777777777777778,\"#fb9f3a\"],[0.8888888888888888,\"#fdca26\"],[1.0,\"#f0f921\"]],\"type\":\"histogram2dcontour\"}],\"histogram2d\":[{\"colorbar\":{\"outlinewidth\":0,\"ticks\":\"\"},\"colorscale\":[[0.0,\"#0d0887\"],[0.1111111111111111,\"#46039f\"],[0.2222222222222222,\"#7201a8\"],[0.3333333333333333,\"#9c179e\"],[0.4444444444444444,\"#bd3786\"],[0.5555555555555556,\"#d8576b\"],[0.6666666666666666,\"#ed7953\"],[0.7777777777777778,\"#fb9f3a\"],[0.8888888888888888,\"#fdca26\"],[1.0,\"#f0f921\"]],\"type\":\"histogram2d\"}],\"histogram\":[{\"marker\":{\"pattern\":{\"fillmode\":\"overlay\",\"size\":10,\"solidity\":0.2}},\"type\":\"histogram\"}],\"mesh3d\":[{\"colorbar\":{\"outlinewidth\":0,\"ticks\":\"\"},\"type\":\"mesh3d\"}],\"parcoords\":[{\"line\":{\"colorbar\":{\"outlinewidth\":0,\"ticks\":\"\"}},\"type\":\"parcoords\"}],\"pie\":[{\"automargin\":true,\"type\":\"pie\"}],\"scatter3d\":[{\"line\":{\"colorbar\":{\"outlinewidth\":0,\"ticks\":\"\"}},\"marker\":{\"colorbar\":{\"outlinewidth\":0,\"ticks\":\"\"}},\"type\":\"scatter3d\"}],\"scattercarpet\":[{\"marker\":{\"colorbar\":{\"outlinewidth\":0,\"ticks\":\"\"}},\"type\":\"scattercarpet\"}],\"scattergeo\":[{\"marker\":{\"colorbar\":{\"outlinewidth\":0,\"ticks\":\"\"}},\"type\":\"scattergeo\"}],\"scattergl\":[{\"marker\":{\"colorbar\":{\"outlinewidth\":0,\"ticks\":\"\"}},\"type\":\"scattergl\"}],\"scattermapbox\":[{\"marker\":{\"colorbar\":{\"outlinewidth\":0,\"ticks\":\"\"}},\"type\":\"scattermapbox\"}],\"scatterpolargl\":[{\"marker\":{\"colorbar\":{\"outlinewidth\":0,\"ticks\":\"\"}},\"type\":\"scatterpolargl\"}],\"scatterpolar\":[{\"marker\":{\"colorbar\":{\"outlinewidth\":0,\"ticks\":\"\"}},\"type\":\"scatterpolar\"}],\"scatter\":[{\"marker\":{\"colorbar\":{\"outlinewidth\":0,\"ticks\":\"\"}},\"type\":\"scatter\"}],\"scatterternary\":[{\"marker\":{\"colorbar\":{\"outlinewidth\":0,\"ticks\":\"\"}},\"type\":\"scatterternary\"}],\"surface\":[{\"colorbar\":{\"outlinewidth\":0,\"ticks\":\"\"},\"colorscale\":[[0.0,\"#0d0887\"],[0.1111111111111111,\"#46039f\"],[0.2222222222222222,\"#7201a8\"],[0.3333333333333333,\"#9c179e\"],[0.4444444444444444,\"#bd3786\"],[0.5555555555555556,\"#d8576b\"],[0.6666666666666666,\"#ed7953\"],[0.7777777777777778,\"#fb9f3a\"],[0.8888888888888888,\"#fdca26\"],[1.0,\"#f0f921\"]],\"type\":\"surface\"}],\"table\":[{\"cells\":{\"fill\":{\"color\":\"#EBF0F8\"},\"line\":{\"color\":\"white\"}},\"header\":{\"fill\":{\"color\":\"#C8D4E3\"},\"line\":{\"color\":\"white\"}},\"type\":\"table\"}]},\"layout\":{\"annotationdefaults\":{\"arrowcolor\":\"#2a3f5f\",\"arrowhead\":0,\"arrowwidth\":1},\"autotypenumbers\":\"strict\",\"coloraxis\":{\"colorbar\":{\"outlinewidth\":0,\"ticks\":\"\"}},\"colorscale\":{\"diverging\":[[0,\"#8e0152\"],[0.1,\"#c51b7d\"],[0.2,\"#de77ae\"],[0.3,\"#f1b6da\"],[0.4,\"#fde0ef\"],[0.5,\"#f7f7f7\"],[0.6,\"#e6f5d0\"],[0.7,\"#b8e186\"],[0.8,\"#7fbc41\"],[0.9,\"#4d9221\"],[1,\"#276419\"]],\"sequential\":[[0.0,\"#0d0887\"],[0.1111111111111111,\"#46039f\"],[0.2222222222222222,\"#7201a8\"],[0.3333333333333333,\"#9c179e\"],[0.4444444444444444,\"#bd3786\"],[0.5555555555555556,\"#d8576b\"],[0.6666666666666666,\"#ed7953\"],[0.7777777777777778,\"#fb9f3a\"],[0.8888888888888888,\"#fdca26\"],[1.0,\"#f0f921\"]],\"sequentialminus\":[[0.0,\"#0d0887\"],[0.1111111111111111,\"#46039f\"],[0.2222222222222222,\"#7201a8\"],[0.3333333333333333,\"#9c179e\"],[0.4444444444444444,\"#bd3786\"],[0.5555555555555556,\"#d8576b\"],[0.6666666666666666,\"#ed7953\"],[0.7777777777777778,\"#fb9f3a\"],[0.8888888888888888,\"#fdca26\"],[1.0,\"#f0f921\"]]},\"colorway\":[\"#636efa\",\"#EF553B\",\"#00cc96\",\"#ab63fa\",\"#FFA15A\",\"#19d3f3\",\"#FF6692\",\"#B6E880\",\"#FF97FF\",\"#FECB52\"],\"font\":{\"color\":\"#2a3f5f\"},\"geo\":{\"bgcolor\":\"white\",\"lakecolor\":\"white\",\"landcolor\":\"#E5ECF6\",\"showlakes\":true,\"showland\":true,\"subunitcolor\":\"white\"},\"hoverlabel\":{\"align\":\"left\"},\"hovermode\":\"closest\",\"mapbox\":{\"style\":\"light\"},\"paper_bgcolor\":\"white\",\"plot_bgcolor\":\"#E5ECF6\",\"polar\":{\"angularaxis\":{\"gridcolor\":\"white\",\"linecolor\":\"white\",\"ticks\":\"\"},\"bgcolor\":\"#E5ECF6\",\"radialaxis\":{\"gridcolor\":\"white\",\"linecolor\":\"white\",\"ticks\":\"\"}},\"scene\":{\"xaxis\":{\"backgroundcolor\":\"#E5ECF6\",\"gridcolor\":\"white\",\"gridwidth\":2,\"linecolor\":\"white\",\"showbackground\":true,\"ticks\":\"\",\"zerolinecolor\":\"white\"},\"yaxis\":{\"backgroundcolor\":\"#E5ECF6\",\"gridcolor\":\"white\",\"gridwidth\":2,\"linecolor\":\"white\",\"showbackground\":true,\"ticks\":\"\",\"zerolinecolor\":\"white\"},\"zaxis\":{\"backgroundcolor\":\"#E5ECF6\",\"gridcolor\":\"white\",\"gridwidth\":2,\"linecolor\":\"white\",\"showbackground\":true,\"ticks\":\"\",\"zerolinecolor\":\"white\"}},\"shapedefaults\":{\"line\":{\"color\":\"#2a3f5f\"}},\"ternary\":{\"aaxis\":{\"gridcolor\":\"white\",\"linecolor\":\"white\",\"ticks\":\"\"},\"baxis\":{\"gridcolor\":\"white\",\"linecolor\":\"white\",\"ticks\":\"\"},\"bgcolor\":\"#E5ECF6\",\"caxis\":{\"gridcolor\":\"white\",\"linecolor\":\"white\",\"ticks\":\"\"}},\"title\":{\"x\":0.05},\"xaxis\":{\"automargin\":true,\"gridcolor\":\"white\",\"linecolor\":\"white\",\"ticks\":\"\",\"title\":{\"standoff\":15},\"zerolinecolor\":\"white\",\"zerolinewidth\":2},\"yaxis\":{\"automargin\":true,\"gridcolor\":\"white\",\"linecolor\":\"white\",\"ticks\":\"\",\"title\":{\"standoff\":15},\"zerolinecolor\":\"white\",\"zerolinewidth\":2}}},\"title\":{\"text\":\"\\u0417\\u0430\\u0432\\u0438\\u0441\\u0438\\u043c\\u043e\\u0441\\u0442\\u044c \\u043f\\u043e\\u0433\\u0440\\u0435\\u0448\\u043d\\u043e\\u0441\\u0442\\u0438 \\u043e\\u0442 \\u0434\\u043b\\u0438\\u043d\\u044b \\u0448\\u0430\\u0433\\u0430\"},\"xaxis\":{\"title\":{\"text\":\"log h\"}},\"yaxis\":{\"title\":{\"text\":\"log e\"}}},                        {\"responsive\": true}                    ).then(function(){\n",
              "                            \n",
              "var gd = document.getElementById('04d51fed-35fc-4f30-8135-d9b54bf48238');\n",
              "var x = new MutationObserver(function (mutations, observer) {{\n",
              "        var display = window.getComputedStyle(gd).display;\n",
              "        if (!display || display === 'none') {{\n",
              "            console.log([gd, 'removed!']);\n",
              "            Plotly.purge(gd);\n",
              "            observer.disconnect();\n",
              "        }}\n",
              "}});\n",
              "\n",
              "// Listen for the removal of the full notebook cells\n",
              "var notebookContainer = gd.closest('#notebook-container');\n",
              "if (notebookContainer) {{\n",
              "    x.observe(notebookContainer, {childList: true});\n",
              "}}\n",
              "\n",
              "// Listen for the clearing of the current output cell\n",
              "var outputEl = gd.closest('.output');\n",
              "if (outputEl) {{\n",
              "    x.observe(outputEl, {childList: true});\n",
              "}}\n",
              "\n",
              "                        })                };                            </script>        </div>\n",
              "</body>\n",
              "</html>"
            ]
          },
          "metadata": {}
        }
      ],
      "source": [
        "h, e = GetStepHandEror(implict, u)\n",
        "\n",
        "trace1 = Scatter(\n",
        "    x = h,\n",
        "    y = e,\n",
        "    name = 'Неявная',\n",
        "    mode = 'lines',\n",
        "    text = ('(x, y)'),\n",
        "    showlegend = True\n",
        ")\n",
        "\n",
        "data = [trace1]\n",
        "\n",
        "layout = Layout(\n",
        "    title = 'Зависимость погрешности от длины шага',\n",
        "    xaxis = dict(title = 'h'),\n",
        "    yaxis = dict(title = 'e'),\n",
        "    plot_bgcolor = 'darkgray',\n",
        "    paper_bgcolor = 'gray'\n",
        ")\n",
        "\n",
        "fig = Figure(data = data, layout = layout)\n",
        "offline.iplot(fig)\n",
        "\n",
        "\n",
        "trace1 = Scatter(\n",
        "    x = list(map(math.log, h)),\n",
        "    y = list(map(math.log, e)),\n",
        "    name = 'Неявная',\n",
        "    mode = 'lines',\n",
        "    text = ('(x, y)'),\n",
        "    showlegend = True\n",
        ")\n",
        "\n",
        "trace2 = Scatter(\n",
        "    x = [-3.5, -1],\n",
        "    y = [-6, -1],\n",
        "    name = 'Зависимость $O(h)$',\n",
        "    mode = 'lines',\n",
        "    text = ('(x, y)'),\n",
        "    showlegend = True\n",
        ")\n",
        "\n",
        "trace3 = Scatter(\n",
        "    x = [-3.5, -1],\n",
        "    y = [-6, 4],\n",
        "    name = 'Зависимость $O(h^2)$',\n",
        "    mode = 'lines',\n",
        "    text = ('(x, y)'),\n",
        "    showlegend = True\n",
        ")\n",
        "\n",
        "data = [trace1, trace2, trace3]\n",
        "\n",
        "layout = Layout(\n",
        "    title = 'Зависимость погрешности от длины шага',\n",
        "    xaxis = dict(title = 'log h'),\n",
        "    yaxis = dict(title = 'log e'),\n",
        "    plot_bgcolor = 'darkgray',\n",
        "    paper_bgcolor = 'gray'\n",
        ")\n",
        "\n",
        "fig = Figure(data = data, layout = layout)\n",
        "offline.iplot(fig)"
      ]
    },
    {
      "cell_type": "markdown",
      "metadata": {
        "id": "pGiFP8upJ5k5"
      },
      "source": [
        "### Зависимость погрешности от параметра $\\tau$."
      ]
    },
    {
      "cell_type": "markdown",
      "metadata": {
        "id": "BNeh5ZmLJ5k5"
      },
      "source": [
        "#### Вычисление погрешности"
      ]
    },
    {
      "cell_type": "markdown",
      "metadata": {
        "id": "MGAyaRhyJ5k6"
      },
      "source": [
        "Построение зависимости погрешности от параметра $\\tau$."
      ]
    },
    {
      "cell_type": "code",
      "execution_count": 14,
      "metadata": {
        "id": "6wkLmExUJ5k6"
      },
      "outputs": [],
      "source": [
        "def GetTandError(methodToSolve, realF):\n",
        "    tau, e = [], []\n",
        "    for K in range(3, 90):\n",
        "        x, y, z = methodToSolve(K=K)\n",
        "        tau.append(methodToSolve.tau)\n",
        "        e.append(Error(x, y, z, realF))\n",
        "    return tau, e"
      ]
    },
    {
      "cell_type": "markdown",
      "metadata": {
        "id": "C_CVCAhlJ5k7"
      },
      "source": [
        "#### Явная схема"
      ]
    },
    {
      "cell_type": "code",
      "execution_count": 15,
      "metadata": {
        "id": "GaNwlFN8J5k7"
      },
      "outputs": [],
      "source": [
        "explict = ExplictSchema(T=1)"
      ]
    },
    {
      "cell_type": "code",
      "execution_count": 16,
      "metadata": {
        "colab": {
          "base_uri": "https://localhost:8080/",
          "height": 1140
        },
        "id": "lwsMg0CPJ5k7",
        "outputId": "003e4449-afba-49f3-9bb7-d6cab28f4dcf"
      },
      "outputs": [
        {
          "output_type": "stream",
          "name": "stderr",
          "text": [
            "<ipython-input-6-d161589d8095>:5: UserWarning:\n",
            "\n",
            "Sigma > 1\n",
            "\n"
          ]
        },
        {
          "output_type": "display_data",
          "data": {
            "text/html": [
              "<html>\n",
              "<head><meta charset=\"utf-8\" /></head>\n",
              "<body>\n",
              "    <div>            <script src=\"https://cdnjs.cloudflare.com/ajax/libs/mathjax/2.7.5/MathJax.js?config=TeX-AMS-MML_SVG\"></script><script type=\"text/javascript\">if (window.MathJax) {MathJax.Hub.Config({SVG: {font: \"STIX-Web\"}});}</script>                <script type=\"text/javascript\">window.PlotlyConfig = {MathJaxConfig: 'local'};</script>\n",
              "        <script src=\"https://cdn.plot.ly/plotly-2.8.3.min.js\"></script>                <div id=\"784b6ef8-4e34-4756-8fc0-6dc528419e6b\" class=\"plotly-graph-div\" style=\"height:525px; width:100%;\"></div>            <script type=\"text/javascript\">                                    window.PLOTLYENV=window.PLOTLYENV || {};                                    if (document.getElementById(\"784b6ef8-4e34-4756-8fc0-6dc528419e6b\")) {                    Plotly.newPlot(                        \"784b6ef8-4e34-4756-8fc0-6dc528419e6b\",                        [{\"mode\":\"lines\",\"name\":\"\\u042f\\u0432\\u043d\\u0430\\u044f\",\"showlegend\":true,\"text\":\"(x, y)\",\"x\":[0.5,0.3333333333333333,0.25,0.2,0.16666666666666666,0.14285714285714285,0.125,0.1111111111111111,0.1,0.09090909090909091,0.08333333333333333,0.07692307692307693,0.07142857142857142,0.06666666666666667,0.0625,0.058823529411764705,0.05555555555555555,0.05263157894736842,0.05,0.047619047619047616,0.045454545454545456,0.043478260869565216,0.041666666666666664,0.04,0.038461538461538464,0.037037037037037035,0.03571428571428571,0.034482758620689655,0.03333333333333333,0.03225806451612903,0.03125,0.030303030303030304,0.029411764705882353,0.02857142857142857,0.027777777777777776,0.02702702702702703,0.02631578947368421,0.02564102564102564,0.025,0.024390243902439025,0.023809523809523808,0.023255813953488372,0.022727272727272728,0.022222222222222223,0.021739130434782608,0.02127659574468085,0.020833333333333332,0.02040816326530612,0.02,0.0196078431372549,0.019230769230769232,0.018867924528301886,0.018518518518518517,0.01818181818181818,0.017857142857142856,0.017543859649122806,0.017241379310344827,0.01694915254237288,0.016666666666666666,0.01639344262295082,0.016129032258064516,0.015873015873015872,0.015625,0.015384615384615385,0.015151515151515152,0.014925373134328358,0.014705882352941176,0.014492753623188406,0.014285714285714285,0.014084507042253521,0.013888888888888888,0.0136986301369863,0.013513513513513514,0.013333333333333334,0.013157894736842105,0.012987012987012988,0.01282051282051282,0.012658227848101266,0.0125,0.012345679012345678,0.012195121951219513,0.012048192771084338,0.011904761904761904,0.011764705882352941,0.011627906976744186,0.011494252873563218,0.011363636363636364],\"y\":[0.17890010803848155,2.6661807567418476,43.48982412122777,395.54476906558125,2258.816119962909,9871.277594794386,28741.256585596955,57941.3725424361,82362.80431509718,82827.70511247759,58326.72427394554,29535.049841815806,9691.34632903178,1892.193892863082,188.81646357732328,7.116357192582582,0.031877652395948905,0.015384665525333574,0.01436856432235567,0.013519612523458568,0.012940424137809159,0.012287194029385995,0.011743450516834175,0.011272911870842173,0.010768765617269804,0.010387707827169357,0.009998257919195896,0.009637518414575413,0.009312136015668937,0.008990098557793647,0.008715112352860321,0.008437081930914192,0.008191197514424792,0.007945705830194438,0.007724448772213677,0.007513883548521838,0.0073064211880533025,0.007124378280651739,0.006934536765895116,0.006771612399478322,0.006605167642846799,0.006450874691249886,0.006304103416163526,0.006158176830801415,0.006028056192247833,0.005893192088689325,0.005774191609391521,0.005653489612557405,0.005540061127342483,0.0054315858250199855,0.005323544057797364,0.00522567542464672,0.0051247364295907705,0.005034173567188521,0.0049424761807527196,0.004855686081230881,0.004772122956832547,0.004688983755734705,0.004612606743608472,0.004534138167422819,0.004462974272460202,0.004390877208027388,0.004322374763237408,0.004255969310978658,0.004190047465906427,0.004128741177556128,0.004065949932168744,0.004008585779965462,0.003950376295541624,0.0038949550073800743,0.003840886514327624,0.003787353164375701,0.0037370361855822154,0.0036856287034405244,0.0036384207116238465,0.00359041982999303,0.003544671260164889,0.003499778604844267,0.00345545115635873,0.003413400055099075,0.003370525413198211,0.003331004255659742,0.003290732164692056,0.0032523339902147397,0.0032144552160608686,0.0031771526429045793,0.0031414784034725918],\"type\":\"scatter\"}],                        {\"paper_bgcolor\":\"gray\",\"plot_bgcolor\":\"darkgray\",\"template\":{\"data\":{\"barpolar\":[{\"marker\":{\"line\":{\"color\":\"#E5ECF6\",\"width\":0.5},\"pattern\":{\"fillmode\":\"overlay\",\"size\":10,\"solidity\":0.2}},\"type\":\"barpolar\"}],\"bar\":[{\"error_x\":{\"color\":\"#2a3f5f\"},\"error_y\":{\"color\":\"#2a3f5f\"},\"marker\":{\"line\":{\"color\":\"#E5ECF6\",\"width\":0.5},\"pattern\":{\"fillmode\":\"overlay\",\"size\":10,\"solidity\":0.2}},\"type\":\"bar\"}],\"carpet\":[{\"aaxis\":{\"endlinecolor\":\"#2a3f5f\",\"gridcolor\":\"white\",\"linecolor\":\"white\",\"minorgridcolor\":\"white\",\"startlinecolor\":\"#2a3f5f\"},\"baxis\":{\"endlinecolor\":\"#2a3f5f\",\"gridcolor\":\"white\",\"linecolor\":\"white\",\"minorgridcolor\":\"white\",\"startlinecolor\":\"#2a3f5f\"},\"type\":\"carpet\"}],\"choropleth\":[{\"colorbar\":{\"outlinewidth\":0,\"ticks\":\"\"},\"type\":\"choropleth\"}],\"contourcarpet\":[{\"colorbar\":{\"outlinewidth\":0,\"ticks\":\"\"},\"type\":\"contourcarpet\"}],\"contour\":[{\"colorbar\":{\"outlinewidth\":0,\"ticks\":\"\"},\"colorscale\":[[0.0,\"#0d0887\"],[0.1111111111111111,\"#46039f\"],[0.2222222222222222,\"#7201a8\"],[0.3333333333333333,\"#9c179e\"],[0.4444444444444444,\"#bd3786\"],[0.5555555555555556,\"#d8576b\"],[0.6666666666666666,\"#ed7953\"],[0.7777777777777778,\"#fb9f3a\"],[0.8888888888888888,\"#fdca26\"],[1.0,\"#f0f921\"]],\"type\":\"contour\"}],\"heatmapgl\":[{\"colorbar\":{\"outlinewidth\":0,\"ticks\":\"\"},\"colorscale\":[[0.0,\"#0d0887\"],[0.1111111111111111,\"#46039f\"],[0.2222222222222222,\"#7201a8\"],[0.3333333333333333,\"#9c179e\"],[0.4444444444444444,\"#bd3786\"],[0.5555555555555556,\"#d8576b\"],[0.6666666666666666,\"#ed7953\"],[0.7777777777777778,\"#fb9f3a\"],[0.8888888888888888,\"#fdca26\"],[1.0,\"#f0f921\"]],\"type\":\"heatmapgl\"}],\"heatmap\":[{\"colorbar\":{\"outlinewidth\":0,\"ticks\":\"\"},\"colorscale\":[[0.0,\"#0d0887\"],[0.1111111111111111,\"#46039f\"],[0.2222222222222222,\"#7201a8\"],[0.3333333333333333,\"#9c179e\"],[0.4444444444444444,\"#bd3786\"],[0.5555555555555556,\"#d8576b\"],[0.6666666666666666,\"#ed7953\"],[0.7777777777777778,\"#fb9f3a\"],[0.8888888888888888,\"#fdca26\"],[1.0,\"#f0f921\"]],\"type\":\"heatmap\"}],\"histogram2dcontour\":[{\"colorbar\":{\"outlinewidth\":0,\"ticks\":\"\"},\"colorscale\":[[0.0,\"#0d0887\"],[0.1111111111111111,\"#46039f\"],[0.2222222222222222,\"#7201a8\"],[0.3333333333333333,\"#9c179e\"],[0.4444444444444444,\"#bd3786\"],[0.5555555555555556,\"#d8576b\"],[0.6666666666666666,\"#ed7953\"],[0.7777777777777778,\"#fb9f3a\"],[0.8888888888888888,\"#fdca26\"],[1.0,\"#f0f921\"]],\"type\":\"histogram2dcontour\"}],\"histogram2d\":[{\"colorbar\":{\"outlinewidth\":0,\"ticks\":\"\"},\"colorscale\":[[0.0,\"#0d0887\"],[0.1111111111111111,\"#46039f\"],[0.2222222222222222,\"#7201a8\"],[0.3333333333333333,\"#9c179e\"],[0.4444444444444444,\"#bd3786\"],[0.5555555555555556,\"#d8576b\"],[0.6666666666666666,\"#ed7953\"],[0.7777777777777778,\"#fb9f3a\"],[0.8888888888888888,\"#fdca26\"],[1.0,\"#f0f921\"]],\"type\":\"histogram2d\"}],\"histogram\":[{\"marker\":{\"pattern\":{\"fillmode\":\"overlay\",\"size\":10,\"solidity\":0.2}},\"type\":\"histogram\"}],\"mesh3d\":[{\"colorbar\":{\"outlinewidth\":0,\"ticks\":\"\"},\"type\":\"mesh3d\"}],\"parcoords\":[{\"line\":{\"colorbar\":{\"outlinewidth\":0,\"ticks\":\"\"}},\"type\":\"parcoords\"}],\"pie\":[{\"automargin\":true,\"type\":\"pie\"}],\"scatter3d\":[{\"line\":{\"colorbar\":{\"outlinewidth\":0,\"ticks\":\"\"}},\"marker\":{\"colorbar\":{\"outlinewidth\":0,\"ticks\":\"\"}},\"type\":\"scatter3d\"}],\"scattercarpet\":[{\"marker\":{\"colorbar\":{\"outlinewidth\":0,\"ticks\":\"\"}},\"type\":\"scattercarpet\"}],\"scattergeo\":[{\"marker\":{\"colorbar\":{\"outlinewidth\":0,\"ticks\":\"\"}},\"type\":\"scattergeo\"}],\"scattergl\":[{\"marker\":{\"colorbar\":{\"outlinewidth\":0,\"ticks\":\"\"}},\"type\":\"scattergl\"}],\"scattermapbox\":[{\"marker\":{\"colorbar\":{\"outlinewidth\":0,\"ticks\":\"\"}},\"type\":\"scattermapbox\"}],\"scatterpolargl\":[{\"marker\":{\"colorbar\":{\"outlinewidth\":0,\"ticks\":\"\"}},\"type\":\"scatterpolargl\"}],\"scatterpolar\":[{\"marker\":{\"colorbar\":{\"outlinewidth\":0,\"ticks\":\"\"}},\"type\":\"scatterpolar\"}],\"scatter\":[{\"marker\":{\"colorbar\":{\"outlinewidth\":0,\"ticks\":\"\"}},\"type\":\"scatter\"}],\"scatterternary\":[{\"marker\":{\"colorbar\":{\"outlinewidth\":0,\"ticks\":\"\"}},\"type\":\"scatterternary\"}],\"surface\":[{\"colorbar\":{\"outlinewidth\":0,\"ticks\":\"\"},\"colorscale\":[[0.0,\"#0d0887\"],[0.1111111111111111,\"#46039f\"],[0.2222222222222222,\"#7201a8\"],[0.3333333333333333,\"#9c179e\"],[0.4444444444444444,\"#bd3786\"],[0.5555555555555556,\"#d8576b\"],[0.6666666666666666,\"#ed7953\"],[0.7777777777777778,\"#fb9f3a\"],[0.8888888888888888,\"#fdca26\"],[1.0,\"#f0f921\"]],\"type\":\"surface\"}],\"table\":[{\"cells\":{\"fill\":{\"color\":\"#EBF0F8\"},\"line\":{\"color\":\"white\"}},\"header\":{\"fill\":{\"color\":\"#C8D4E3\"},\"line\":{\"color\":\"white\"}},\"type\":\"table\"}]},\"layout\":{\"annotationdefaults\":{\"arrowcolor\":\"#2a3f5f\",\"arrowhead\":0,\"arrowwidth\":1},\"autotypenumbers\":\"strict\",\"coloraxis\":{\"colorbar\":{\"outlinewidth\":0,\"ticks\":\"\"}},\"colorscale\":{\"diverging\":[[0,\"#8e0152\"],[0.1,\"#c51b7d\"],[0.2,\"#de77ae\"],[0.3,\"#f1b6da\"],[0.4,\"#fde0ef\"],[0.5,\"#f7f7f7\"],[0.6,\"#e6f5d0\"],[0.7,\"#b8e186\"],[0.8,\"#7fbc41\"],[0.9,\"#4d9221\"],[1,\"#276419\"]],\"sequential\":[[0.0,\"#0d0887\"],[0.1111111111111111,\"#46039f\"],[0.2222222222222222,\"#7201a8\"],[0.3333333333333333,\"#9c179e\"],[0.4444444444444444,\"#bd3786\"],[0.5555555555555556,\"#d8576b\"],[0.6666666666666666,\"#ed7953\"],[0.7777777777777778,\"#fb9f3a\"],[0.8888888888888888,\"#fdca26\"],[1.0,\"#f0f921\"]],\"sequentialminus\":[[0.0,\"#0d0887\"],[0.1111111111111111,\"#46039f\"],[0.2222222222222222,\"#7201a8\"],[0.3333333333333333,\"#9c179e\"],[0.4444444444444444,\"#bd3786\"],[0.5555555555555556,\"#d8576b\"],[0.6666666666666666,\"#ed7953\"],[0.7777777777777778,\"#fb9f3a\"],[0.8888888888888888,\"#fdca26\"],[1.0,\"#f0f921\"]]},\"colorway\":[\"#636efa\",\"#EF553B\",\"#00cc96\",\"#ab63fa\",\"#FFA15A\",\"#19d3f3\",\"#FF6692\",\"#B6E880\",\"#FF97FF\",\"#FECB52\"],\"font\":{\"color\":\"#2a3f5f\"},\"geo\":{\"bgcolor\":\"white\",\"lakecolor\":\"white\",\"landcolor\":\"#E5ECF6\",\"showlakes\":true,\"showland\":true,\"subunitcolor\":\"white\"},\"hoverlabel\":{\"align\":\"left\"},\"hovermode\":\"closest\",\"mapbox\":{\"style\":\"light\"},\"paper_bgcolor\":\"white\",\"plot_bgcolor\":\"#E5ECF6\",\"polar\":{\"angularaxis\":{\"gridcolor\":\"white\",\"linecolor\":\"white\",\"ticks\":\"\"},\"bgcolor\":\"#E5ECF6\",\"radialaxis\":{\"gridcolor\":\"white\",\"linecolor\":\"white\",\"ticks\":\"\"}},\"scene\":{\"xaxis\":{\"backgroundcolor\":\"#E5ECF6\",\"gridcolor\":\"white\",\"gridwidth\":2,\"linecolor\":\"white\",\"showbackground\":true,\"ticks\":\"\",\"zerolinecolor\":\"white\"},\"yaxis\":{\"backgroundcolor\":\"#E5ECF6\",\"gridcolor\":\"white\",\"gridwidth\":2,\"linecolor\":\"white\",\"showbackground\":true,\"ticks\":\"\",\"zerolinecolor\":\"white\"},\"zaxis\":{\"backgroundcolor\":\"#E5ECF6\",\"gridcolor\":\"white\",\"gridwidth\":2,\"linecolor\":\"white\",\"showbackground\":true,\"ticks\":\"\",\"zerolinecolor\":\"white\"}},\"shapedefaults\":{\"line\":{\"color\":\"#2a3f5f\"}},\"ternary\":{\"aaxis\":{\"gridcolor\":\"white\",\"linecolor\":\"white\",\"ticks\":\"\"},\"baxis\":{\"gridcolor\":\"white\",\"linecolor\":\"white\",\"ticks\":\"\"},\"bgcolor\":\"#E5ECF6\",\"caxis\":{\"gridcolor\":\"white\",\"linecolor\":\"white\",\"ticks\":\"\"}},\"title\":{\"x\":0.05},\"xaxis\":{\"automargin\":true,\"gridcolor\":\"white\",\"linecolor\":\"white\",\"ticks\":\"\",\"title\":{\"standoff\":15},\"zerolinecolor\":\"white\",\"zerolinewidth\":2},\"yaxis\":{\"automargin\":true,\"gridcolor\":\"white\",\"linecolor\":\"white\",\"ticks\":\"\",\"title\":{\"standoff\":15},\"zerolinecolor\":\"white\",\"zerolinewidth\":2}}},\"title\":{\"text\":\"\\u0417\\u0430\\u0432\\u0438\\u0441\\u0438\\u043c\\u043e\\u0441\\u0442\\u044c \\u043f\\u043e\\u0433\\u0440\\u0435\\u0448\\u043d\\u043e\\u0441\\u0442\\u0438 \\u043e\\u0442 \\u043c\\u0435\\u043b\\u043a\\u043e\\u0441\\u0442\\u0438 \\u0440\\u0430\\u0437\\u0431\\u0438\\u0435\\u043d\\u0438\\u044f \\u043f\\u043e \\u0432\\u0440\\u0435\\u043c\\u0435\\u043d\\u0438\"},\"xaxis\":{\"title\":{\"text\":\"t\"}},\"yaxis\":{\"title\":{\"text\":\"e\"}}},                        {\"responsive\": true}                    ).then(function(){\n",
              "                            \n",
              "var gd = document.getElementById('784b6ef8-4e34-4756-8fc0-6dc528419e6b');\n",
              "var x = new MutationObserver(function (mutations, observer) {{\n",
              "        var display = window.getComputedStyle(gd).display;\n",
              "        if (!display || display === 'none') {{\n",
              "            console.log([gd, 'removed!']);\n",
              "            Plotly.purge(gd);\n",
              "            observer.disconnect();\n",
              "        }}\n",
              "}});\n",
              "\n",
              "// Listen for the removal of the full notebook cells\n",
              "var notebookContainer = gd.closest('#notebook-container');\n",
              "if (notebookContainer) {{\n",
              "    x.observe(notebookContainer, {childList: true});\n",
              "}}\n",
              "\n",
              "// Listen for the clearing of the current output cell\n",
              "var outputEl = gd.closest('.output');\n",
              "if (outputEl) {{\n",
              "    x.observe(outputEl, {childList: true});\n",
              "}}\n",
              "\n",
              "                        })                };                            </script>        </div>\n",
              "</body>\n",
              "</html>"
            ]
          },
          "metadata": {}
        },
        {
          "output_type": "display_data",
          "data": {
            "text/html": [
              "<html>\n",
              "<head><meta charset=\"utf-8\" /></head>\n",
              "<body>\n",
              "    <div>            <script src=\"https://cdnjs.cloudflare.com/ajax/libs/mathjax/2.7.5/MathJax.js?config=TeX-AMS-MML_SVG\"></script><script type=\"text/javascript\">if (window.MathJax) {MathJax.Hub.Config({SVG: {font: \"STIX-Web\"}});}</script>                <script type=\"text/javascript\">window.PlotlyConfig = {MathJaxConfig: 'local'};</script>\n",
              "        <script src=\"https://cdn.plot.ly/plotly-2.8.3.min.js\"></script>                <div id=\"3435ec06-6f83-4fcb-b61a-6e5d45a5c022\" class=\"plotly-graph-div\" style=\"height:525px; width:100%;\"></div>            <script type=\"text/javascript\">                                    window.PLOTLYENV=window.PLOTLYENV || {};                                    if (document.getElementById(\"3435ec06-6f83-4fcb-b61a-6e5d45a5c022\")) {                    Plotly.newPlot(                        \"3435ec06-6f83-4fcb-b61a-6e5d45a5c022\",                        [{\"mode\":\"lines\",\"name\":\"\\u042f\\u0432\\u043d\\u0430\\u044f\",\"showlegend\":true,\"text\":\"(x, y)\",\"x\":[-0.6931471805599453,-1.0986122886681098,-1.3862943611198906,-1.6094379124341003,-1.791759469228055,-1.9459101490553135,-2.0794415416798357,-2.1972245773362196,-2.3025850929940455,-2.3978952727983707,-2.4849066497880004,-2.5649493574615367,-2.639057329615259,-2.70805020110221,-2.772588722239781,-2.833213344056216,-2.890371757896165,-2.9444389791664407,-2.995732273553991,-3.044522437723423,-3.0910424533583156,-3.1354942159291497,-3.1780538303479458,-3.2188758248682006,-3.258096538021482,-3.295836866004329,-3.332204510175204,-3.367295829986474,-3.4011973816621555,-3.4339872044851463,-3.4657359027997265,-3.4965075614664802,-3.5263605246161616,-3.5553480614894135,-3.58351893845611,-3.6109179126442243,-3.6375861597263857,-3.6635616461296463,-3.6888794541139363,-3.713572066704308,-3.7376696182833684,-3.7612001156935624,-3.784189633918261,-3.8066624897703196,-3.828641396489095,-3.8501476017100584,-3.871201010907891,-3.891820298110627,-3.912023005428146,-3.9318256327243257,-3.951243718581427,-3.970291913552122,-3.9889840465642745,-4.007333185232471,-4.02535169073515,-4.04305126783455,-4.060443010546419,-4.07753744390572,-4.0943445622221,-4.110873864173311,-4.127134385045092,-4.143134726391533,-4.1588830833596715,-4.174387269895637,-4.189654742026425,-4.204692619390966,-4.219507705176107,-4.23410650459726,-4.248495242049359,-4.2626798770413155,-4.276666119016055,-4.290459441148391,-4.304065093204169,-4.31748811353631,-4.330733340286331,-4.343805421853684,-4.356708826689592,-4.3694478524670215,-4.382026634673881,-4.394449154672439,-4.406719247264253,-4.418840607796598,-4.430816798843313,-4.442651256490317,-4.454347296253507,-4.465908118654584,-4.477336814478207],\"y\":[-1.7209276845633332,0.9806470201865264,3.7725269824815206,5.980263976921818,7.722596114289468,9.197384566279013,10.266088881210162,10.967186960073414,11.318889210041137,11.324517887214016,10.973815659657886,10.29333296729081,9.178988635278097,7.545492224732677,5.240775451060678,1.9623959642412105,-3.445850066543582,-4.174384010754266,-4.24271249186037,-4.303613868285513,-4.347399213181541,-4.399197694784421,-4.444459596621298,-4.485352610670325,-4.53110540744929,-4.567132111571657,-4.605344409244492,-4.64209162937333,-4.676436781606071,-4.711631467511578,-4.742696708198781,-4.7751187729397655,-4.8046951751482885,-4.835123643393271,-4.863364815092058,-4.891002829884732,-4.91900170266036,-4.944232815490595,-4.971241024000749,-4.995016052102625,-5.019902960126797,-5.043539546322308,-5.066554521712842,-5.089974514269929,-5.11133067638877,-5.133957477579318,-5.154357013430288,-5.175482293937898,-5.195749744467484,-5.215524138867617,-5.235616021147802,-5.2541712216106635,-5.2736761836526815,-5.291505903882763,-5.309888822202188,-5.327604872860088,-5.344964008768156,-5.362539403215364,-5.37896212763753,-5.396120253734552,-5.411939857980748,-5.428226252260117,-5.443950314050989,-5.459432737735084,-5.475043216733634,-5.489782718093256,-5.505107877632234,-5.519316773192843,-5.533944439912418,-5.5480731511048145,-5.562052075921136,-5.5760878773798295,-5.589462445469151,-5.603314156376224,-5.616205561915507,-5.6294861390316475,-5.642309856678901,-5.65505556824628,-5.667802249575779,-5.680046400837625,-5.692686637809512,-5.704481442179174,-5.716645196504165,-5.728382389552104,-5.740097386331855,-5.75176987860891,-5.763061760735833],\"type\":\"scatter\"}],                        {\"paper_bgcolor\":\"gray\",\"plot_bgcolor\":\"darkgray\",\"template\":{\"data\":{\"barpolar\":[{\"marker\":{\"line\":{\"color\":\"#E5ECF6\",\"width\":0.5},\"pattern\":{\"fillmode\":\"overlay\",\"size\":10,\"solidity\":0.2}},\"type\":\"barpolar\"}],\"bar\":[{\"error_x\":{\"color\":\"#2a3f5f\"},\"error_y\":{\"color\":\"#2a3f5f\"},\"marker\":{\"line\":{\"color\":\"#E5ECF6\",\"width\":0.5},\"pattern\":{\"fillmode\":\"overlay\",\"size\":10,\"solidity\":0.2}},\"type\":\"bar\"}],\"carpet\":[{\"aaxis\":{\"endlinecolor\":\"#2a3f5f\",\"gridcolor\":\"white\",\"linecolor\":\"white\",\"minorgridcolor\":\"white\",\"startlinecolor\":\"#2a3f5f\"},\"baxis\":{\"endlinecolor\":\"#2a3f5f\",\"gridcolor\":\"white\",\"linecolor\":\"white\",\"minorgridcolor\":\"white\",\"startlinecolor\":\"#2a3f5f\"},\"type\":\"carpet\"}],\"choropleth\":[{\"colorbar\":{\"outlinewidth\":0,\"ticks\":\"\"},\"type\":\"choropleth\"}],\"contourcarpet\":[{\"colorbar\":{\"outlinewidth\":0,\"ticks\":\"\"},\"type\":\"contourcarpet\"}],\"contour\":[{\"colorbar\":{\"outlinewidth\":0,\"ticks\":\"\"},\"colorscale\":[[0.0,\"#0d0887\"],[0.1111111111111111,\"#46039f\"],[0.2222222222222222,\"#7201a8\"],[0.3333333333333333,\"#9c179e\"],[0.4444444444444444,\"#bd3786\"],[0.5555555555555556,\"#d8576b\"],[0.6666666666666666,\"#ed7953\"],[0.7777777777777778,\"#fb9f3a\"],[0.8888888888888888,\"#fdca26\"],[1.0,\"#f0f921\"]],\"type\":\"contour\"}],\"heatmapgl\":[{\"colorbar\":{\"outlinewidth\":0,\"ticks\":\"\"},\"colorscale\":[[0.0,\"#0d0887\"],[0.1111111111111111,\"#46039f\"],[0.2222222222222222,\"#7201a8\"],[0.3333333333333333,\"#9c179e\"],[0.4444444444444444,\"#bd3786\"],[0.5555555555555556,\"#d8576b\"],[0.6666666666666666,\"#ed7953\"],[0.7777777777777778,\"#fb9f3a\"],[0.8888888888888888,\"#fdca26\"],[1.0,\"#f0f921\"]],\"type\":\"heatmapgl\"}],\"heatmap\":[{\"colorbar\":{\"outlinewidth\":0,\"ticks\":\"\"},\"colorscale\":[[0.0,\"#0d0887\"],[0.1111111111111111,\"#46039f\"],[0.2222222222222222,\"#7201a8\"],[0.3333333333333333,\"#9c179e\"],[0.4444444444444444,\"#bd3786\"],[0.5555555555555556,\"#d8576b\"],[0.6666666666666666,\"#ed7953\"],[0.7777777777777778,\"#fb9f3a\"],[0.8888888888888888,\"#fdca26\"],[1.0,\"#f0f921\"]],\"type\":\"heatmap\"}],\"histogram2dcontour\":[{\"colorbar\":{\"outlinewidth\":0,\"ticks\":\"\"},\"colorscale\":[[0.0,\"#0d0887\"],[0.1111111111111111,\"#46039f\"],[0.2222222222222222,\"#7201a8\"],[0.3333333333333333,\"#9c179e\"],[0.4444444444444444,\"#bd3786\"],[0.5555555555555556,\"#d8576b\"],[0.6666666666666666,\"#ed7953\"],[0.7777777777777778,\"#fb9f3a\"],[0.8888888888888888,\"#fdca26\"],[1.0,\"#f0f921\"]],\"type\":\"histogram2dcontour\"}],\"histogram2d\":[{\"colorbar\":{\"outlinewidth\":0,\"ticks\":\"\"},\"colorscale\":[[0.0,\"#0d0887\"],[0.1111111111111111,\"#46039f\"],[0.2222222222222222,\"#7201a8\"],[0.3333333333333333,\"#9c179e\"],[0.4444444444444444,\"#bd3786\"],[0.5555555555555556,\"#d8576b\"],[0.6666666666666666,\"#ed7953\"],[0.7777777777777778,\"#fb9f3a\"],[0.8888888888888888,\"#fdca26\"],[1.0,\"#f0f921\"]],\"type\":\"histogram2d\"}],\"histogram\":[{\"marker\":{\"pattern\":{\"fillmode\":\"overlay\",\"size\":10,\"solidity\":0.2}},\"type\":\"histogram\"}],\"mesh3d\":[{\"colorbar\":{\"outlinewidth\":0,\"ticks\":\"\"},\"type\":\"mesh3d\"}],\"parcoords\":[{\"line\":{\"colorbar\":{\"outlinewidth\":0,\"ticks\":\"\"}},\"type\":\"parcoords\"}],\"pie\":[{\"automargin\":true,\"type\":\"pie\"}],\"scatter3d\":[{\"line\":{\"colorbar\":{\"outlinewidth\":0,\"ticks\":\"\"}},\"marker\":{\"colorbar\":{\"outlinewidth\":0,\"ticks\":\"\"}},\"type\":\"scatter3d\"}],\"scattercarpet\":[{\"marker\":{\"colorbar\":{\"outlinewidth\":0,\"ticks\":\"\"}},\"type\":\"scattercarpet\"}],\"scattergeo\":[{\"marker\":{\"colorbar\":{\"outlinewidth\":0,\"ticks\":\"\"}},\"type\":\"scattergeo\"}],\"scattergl\":[{\"marker\":{\"colorbar\":{\"outlinewidth\":0,\"ticks\":\"\"}},\"type\":\"scattergl\"}],\"scattermapbox\":[{\"marker\":{\"colorbar\":{\"outlinewidth\":0,\"ticks\":\"\"}},\"type\":\"scattermapbox\"}],\"scatterpolargl\":[{\"marker\":{\"colorbar\":{\"outlinewidth\":0,\"ticks\":\"\"}},\"type\":\"scatterpolargl\"}],\"scatterpolar\":[{\"marker\":{\"colorbar\":{\"outlinewidth\":0,\"ticks\":\"\"}},\"type\":\"scatterpolar\"}],\"scatter\":[{\"marker\":{\"colorbar\":{\"outlinewidth\":0,\"ticks\":\"\"}},\"type\":\"scatter\"}],\"scatterternary\":[{\"marker\":{\"colorbar\":{\"outlinewidth\":0,\"ticks\":\"\"}},\"type\":\"scatterternary\"}],\"surface\":[{\"colorbar\":{\"outlinewidth\":0,\"ticks\":\"\"},\"colorscale\":[[0.0,\"#0d0887\"],[0.1111111111111111,\"#46039f\"],[0.2222222222222222,\"#7201a8\"],[0.3333333333333333,\"#9c179e\"],[0.4444444444444444,\"#bd3786\"],[0.5555555555555556,\"#d8576b\"],[0.6666666666666666,\"#ed7953\"],[0.7777777777777778,\"#fb9f3a\"],[0.8888888888888888,\"#fdca26\"],[1.0,\"#f0f921\"]],\"type\":\"surface\"}],\"table\":[{\"cells\":{\"fill\":{\"color\":\"#EBF0F8\"},\"line\":{\"color\":\"white\"}},\"header\":{\"fill\":{\"color\":\"#C8D4E3\"},\"line\":{\"color\":\"white\"}},\"type\":\"table\"}]},\"layout\":{\"annotationdefaults\":{\"arrowcolor\":\"#2a3f5f\",\"arrowhead\":0,\"arrowwidth\":1},\"autotypenumbers\":\"strict\",\"coloraxis\":{\"colorbar\":{\"outlinewidth\":0,\"ticks\":\"\"}},\"colorscale\":{\"diverging\":[[0,\"#8e0152\"],[0.1,\"#c51b7d\"],[0.2,\"#de77ae\"],[0.3,\"#f1b6da\"],[0.4,\"#fde0ef\"],[0.5,\"#f7f7f7\"],[0.6,\"#e6f5d0\"],[0.7,\"#b8e186\"],[0.8,\"#7fbc41\"],[0.9,\"#4d9221\"],[1,\"#276419\"]],\"sequential\":[[0.0,\"#0d0887\"],[0.1111111111111111,\"#46039f\"],[0.2222222222222222,\"#7201a8\"],[0.3333333333333333,\"#9c179e\"],[0.4444444444444444,\"#bd3786\"],[0.5555555555555556,\"#d8576b\"],[0.6666666666666666,\"#ed7953\"],[0.7777777777777778,\"#fb9f3a\"],[0.8888888888888888,\"#fdca26\"],[1.0,\"#f0f921\"]],\"sequentialminus\":[[0.0,\"#0d0887\"],[0.1111111111111111,\"#46039f\"],[0.2222222222222222,\"#7201a8\"],[0.3333333333333333,\"#9c179e\"],[0.4444444444444444,\"#bd3786\"],[0.5555555555555556,\"#d8576b\"],[0.6666666666666666,\"#ed7953\"],[0.7777777777777778,\"#fb9f3a\"],[0.8888888888888888,\"#fdca26\"],[1.0,\"#f0f921\"]]},\"colorway\":[\"#636efa\",\"#EF553B\",\"#00cc96\",\"#ab63fa\",\"#FFA15A\",\"#19d3f3\",\"#FF6692\",\"#B6E880\",\"#FF97FF\",\"#FECB52\"],\"font\":{\"color\":\"#2a3f5f\"},\"geo\":{\"bgcolor\":\"white\",\"lakecolor\":\"white\",\"landcolor\":\"#E5ECF6\",\"showlakes\":true,\"showland\":true,\"subunitcolor\":\"white\"},\"hoverlabel\":{\"align\":\"left\"},\"hovermode\":\"closest\",\"mapbox\":{\"style\":\"light\"},\"paper_bgcolor\":\"white\",\"plot_bgcolor\":\"#E5ECF6\",\"polar\":{\"angularaxis\":{\"gridcolor\":\"white\",\"linecolor\":\"white\",\"ticks\":\"\"},\"bgcolor\":\"#E5ECF6\",\"radialaxis\":{\"gridcolor\":\"white\",\"linecolor\":\"white\",\"ticks\":\"\"}},\"scene\":{\"xaxis\":{\"backgroundcolor\":\"#E5ECF6\",\"gridcolor\":\"white\",\"gridwidth\":2,\"linecolor\":\"white\",\"showbackground\":true,\"ticks\":\"\",\"zerolinecolor\":\"white\"},\"yaxis\":{\"backgroundcolor\":\"#E5ECF6\",\"gridcolor\":\"white\",\"gridwidth\":2,\"linecolor\":\"white\",\"showbackground\":true,\"ticks\":\"\",\"zerolinecolor\":\"white\"},\"zaxis\":{\"backgroundcolor\":\"#E5ECF6\",\"gridcolor\":\"white\",\"gridwidth\":2,\"linecolor\":\"white\",\"showbackground\":true,\"ticks\":\"\",\"zerolinecolor\":\"white\"}},\"shapedefaults\":{\"line\":{\"color\":\"#2a3f5f\"}},\"ternary\":{\"aaxis\":{\"gridcolor\":\"white\",\"linecolor\":\"white\",\"ticks\":\"\"},\"baxis\":{\"gridcolor\":\"white\",\"linecolor\":\"white\",\"ticks\":\"\"},\"bgcolor\":\"#E5ECF6\",\"caxis\":{\"gridcolor\":\"white\",\"linecolor\":\"white\",\"ticks\":\"\"}},\"title\":{\"x\":0.05},\"xaxis\":{\"automargin\":true,\"gridcolor\":\"white\",\"linecolor\":\"white\",\"ticks\":\"\",\"title\":{\"standoff\":15},\"zerolinecolor\":\"white\",\"zerolinewidth\":2},\"yaxis\":{\"automargin\":true,\"gridcolor\":\"white\",\"linecolor\":\"white\",\"ticks\":\"\",\"title\":{\"standoff\":15},\"zerolinecolor\":\"white\",\"zerolinewidth\":2}}},\"title\":{\"text\":\"\\u0417\\u0430\\u0432\\u0438\\u0441\\u0438\\u043c\\u043e\\u0441\\u0442\\u044c \\u043f\\u043e\\u0433\\u0440\\u0435\\u0448\\u043d\\u043e\\u0441\\u0442\\u0438 \\u043e\\u0442 \\u043c\\u0435\\u043b\\u043a\\u043e\\u0441\\u0442\\u0438 \\u0440\\u0430\\u0437\\u0431\\u0438\\u0435\\u043d\\u0438\\u044f \\u043f\\u043e \\u0432\\u0440\\u0435\\u043c\\u0435\\u043d\\u0438\"},\"xaxis\":{\"title\":{\"text\":\"log t\"}},\"yaxis\":{\"title\":{\"text\":\"log e\"}}},                        {\"responsive\": true}                    ).then(function(){\n",
              "                            \n",
              "var gd = document.getElementById('3435ec06-6f83-4fcb-b61a-6e5d45a5c022');\n",
              "var x = new MutationObserver(function (mutations, observer) {{\n",
              "        var display = window.getComputedStyle(gd).display;\n",
              "        if (!display || display === 'none') {{\n",
              "            console.log([gd, 'removed!']);\n",
              "            Plotly.purge(gd);\n",
              "            observer.disconnect();\n",
              "        }}\n",
              "}});\n",
              "\n",
              "// Listen for the removal of the full notebook cells\n",
              "var notebookContainer = gd.closest('#notebook-container');\n",
              "if (notebookContainer) {{\n",
              "    x.observe(notebookContainer, {childList: true});\n",
              "}}\n",
              "\n",
              "// Listen for the clearing of the current output cell\n",
              "var outputEl = gd.closest('.output');\n",
              "if (outputEl) {{\n",
              "    x.observe(outputEl, {childList: true});\n",
              "}}\n",
              "\n",
              "                        })                };                            </script>        </div>\n",
              "</body>\n",
              "</html>"
            ]
          },
          "metadata": {}
        }
      ],
      "source": [
        "tau, e = GetTandError(explict, u)\n",
        "\n",
        "trace1 = Scatter(\n",
        "    x = tau,\n",
        "    y = e,\n",
        "    name = 'Явная',\n",
        "    mode = 'lines',\n",
        "    text = ('(x, y)'),\n",
        "    showlegend = True\n",
        ")\n",
        "\n",
        "data = [trace1]\n",
        "\n",
        "layout = Layout(\n",
        "    title = 'Зависимость погрешности от мелкости разбиения по времени',\n",
        "    xaxis = dict(title = 't'),\n",
        "    yaxis = dict(title = 'e'),\n",
        "    plot_bgcolor = 'darkgray',\n",
        "    paper_bgcolor = 'gray'\n",
        ")\n",
        "\n",
        "\n",
        "fig = Figure(data = data, layout = layout)\n",
        "offline.iplot(fig)\n",
        "\n",
        "trace1 = Scatter(\n",
        "    x = list(map(math.log, tau)),\n",
        "    y = list(map(math.log, e)),\n",
        "    name = 'Явная',\n",
        "    mode = 'lines',\n",
        "    text = ('(x, y)'),\n",
        "    showlegend = True\n",
        ")\n",
        "\n",
        "data = [trace1]\n",
        "\n",
        "layout = Layout(\n",
        "    title = 'Зависимость погрешности от мелкости разбиения по времени',\n",
        "    xaxis = dict(title = 'log t'),\n",
        "    yaxis = dict(title = 'log e'),\n",
        "    plot_bgcolor = 'darkgray',\n",
        "    paper_bgcolor = 'gray'\n",
        ")\n",
        "\n",
        "fig = Figure(data = data, layout = layout)\n",
        "offline.iplot(fig)"
      ]
    },
    {
      "cell_type": "markdown",
      "metadata": {
        "id": "SGBAFIZ7J5k8"
      },
      "source": [
        "#### Неявная схема"
      ]
    },
    {
      "cell_type": "code",
      "execution_count": 17,
      "metadata": {
        "id": "lakekD35J5k9"
      },
      "outputs": [],
      "source": [
        "implict = ImplictSchema(T=1)"
      ]
    },
    {
      "cell_type": "code",
      "execution_count": 18,
      "metadata": {
        "colab": {
          "base_uri": "https://localhost:8080/",
          "height": 1067
        },
        "id": "_6I-o2_cJ5k9",
        "outputId": "21e8502f-202b-45c6-845f-1d5dcd7ef555"
      },
      "outputs": [
        {
          "output_type": "display_data",
          "data": {
            "text/html": [
              "<html>\n",
              "<head><meta charset=\"utf-8\" /></head>\n",
              "<body>\n",
              "    <div>            <script src=\"https://cdnjs.cloudflare.com/ajax/libs/mathjax/2.7.5/MathJax.js?config=TeX-AMS-MML_SVG\"></script><script type=\"text/javascript\">if (window.MathJax) {MathJax.Hub.Config({SVG: {font: \"STIX-Web\"}});}</script>                <script type=\"text/javascript\">window.PlotlyConfig = {MathJaxConfig: 'local'};</script>\n",
              "        <script src=\"https://cdn.plot.ly/plotly-2.8.3.min.js\"></script>                <div id=\"32eb8053-ae46-434a-938a-9d8165edf0dd\" class=\"plotly-graph-div\" style=\"height:525px; width:100%;\"></div>            <script type=\"text/javascript\">                                    window.PLOTLYENV=window.PLOTLYENV || {};                                    if (document.getElementById(\"32eb8053-ae46-434a-938a-9d8165edf0dd\")) {                    Plotly.newPlot(                        \"32eb8053-ae46-434a-938a-9d8165edf0dd\",                        [{\"mode\":\"lines\",\"name\":\"\\u041d\\u0435\\u044f\\u0432\\u043d\\u044b\\u0439\",\"showlegend\":true,\"text\":\"(x, y)\",\"x\":[0.5,0.3333333333333333,0.25,0.2,0.16666666666666666,0.14285714285714285,0.125,0.1111111111111111,0.1,0.09090909090909091,0.08333333333333333,0.07692307692307693,0.07142857142857142,0.06666666666666667,0.0625,0.058823529411764705,0.05555555555555555,0.05263157894736842,0.05,0.047619047619047616,0.045454545454545456,0.043478260869565216,0.041666666666666664,0.04,0.038461538461538464,0.037037037037037035,0.03571428571428571,0.034482758620689655,0.03333333333333333,0.03225806451612903,0.03125,0.030303030303030304,0.029411764705882353,0.02857142857142857,0.027777777777777776,0.02702702702702703,0.02631578947368421,0.02564102564102564,0.025,0.024390243902439025,0.023809523809523808,0.023255813953488372,0.022727272727272728,0.022222222222222223,0.021739130434782608,0.02127659574468085,0.020833333333333332,0.02040816326530612,0.02,0.0196078431372549,0.019230769230769232,0.018867924528301886,0.018518518518518517,0.01818181818181818,0.017857142857142856,0.017543859649122806,0.017241379310344827,0.01694915254237288,0.016666666666666666,0.01639344262295082,0.016129032258064516,0.015873015873015872,0.015625,0.015384615384615385,0.015151515151515152,0.014925373134328358,0.014705882352941176,0.014492753623188406,0.014285714285714285,0.014084507042253521,0.013888888888888888,0.0136986301369863,0.013513513513513514,0.013333333333333334,0.013157894736842105,0.012987012987012988,0.01282051282051282,0.012658227848101266,0.0125,0.012345679012345678,0.012195121951219513,0.012048192771084338,0.011904761904761904,0.011764705882352941,0.011627906976744186,0.011494252873563218,0.011363636363636364],\"y\":[0.18842133806003497,0.14185417434414782,0.11497395748708547,0.09585903604331997,0.08189599703753912,0.07296069671838823,0.06533502385475601,0.058929242532290704,0.05384905717687912,0.04968609773088427,0.046000537165656614,0.04274727467519221,0.040108362172134926,0.03770979149938081,0.03553390918038007,0.03363073862732448,0.031943687290591646,0.030386453147558022,0.028954720783124464,0.02770277830310846,0.02653324534673769,0.02544180585233057,0.024453328516587852,0.023542718194795163,0.022685389343442303,0.02188445308626591,0.021155325882773766,0.02046419409033677,0.019809326231396942,0.01920585134874723,0.018636916890307706,0.018094932956151062,0.01758422598861263,0.017107745322408954,0.016651843611657127,0.016219030227142855,0.015809490745160387,0.01542071499465495,0.015050977219868297,0.0146973861698091,0.014358249633201349,0.014038869090387304,0.013731864600484752,0.013435782254102337,0.013153587146276208,0.012884546034984914,0.012624419910252906,0.012372928566810468,0.012135099551330096,0.011904769640779432,0.011681600588900616,0.011467577241639312,0.011262210271308283,0.01106284784736529,0.010869320112251585,0.010685052003333181,0.010505888587426036,0.010331677132829516,0.010163841638762348,0.010001961206607436,0.00984431973074286,0.00969085515301181,0.00954387568227761,0.009400553062102017,0.009260798947889295,0.009125678553625116,0.008994812471760462,0.008867051370947295,0.008742399536869103,0.008622436295618097,0.008505191657646079,0.00839060438777502,0.008279490956551158,0.008171518271564052,0.008065888590908864,0.00796263493726785,0.007862878031145569,0.007765197613569398,0.007669549772276359,0.007576568790766618,0.007485974670286388,0.007397192406231545,0.0073102620081555506,0.007226011385528343,0.00714338284668431,0.00706234400552809,0.006983390740517154],\"type\":\"scatter\"}],                        {\"paper_bgcolor\":\"gray\",\"plot_bgcolor\":\"darkgray\",\"template\":{\"data\":{\"barpolar\":[{\"marker\":{\"line\":{\"color\":\"#E5ECF6\",\"width\":0.5},\"pattern\":{\"fillmode\":\"overlay\",\"size\":10,\"solidity\":0.2}},\"type\":\"barpolar\"}],\"bar\":[{\"error_x\":{\"color\":\"#2a3f5f\"},\"error_y\":{\"color\":\"#2a3f5f\"},\"marker\":{\"line\":{\"color\":\"#E5ECF6\",\"width\":0.5},\"pattern\":{\"fillmode\":\"overlay\",\"size\":10,\"solidity\":0.2}},\"type\":\"bar\"}],\"carpet\":[{\"aaxis\":{\"endlinecolor\":\"#2a3f5f\",\"gridcolor\":\"white\",\"linecolor\":\"white\",\"minorgridcolor\":\"white\",\"startlinecolor\":\"#2a3f5f\"},\"baxis\":{\"endlinecolor\":\"#2a3f5f\",\"gridcolor\":\"white\",\"linecolor\":\"white\",\"minorgridcolor\":\"white\",\"startlinecolor\":\"#2a3f5f\"},\"type\":\"carpet\"}],\"choropleth\":[{\"colorbar\":{\"outlinewidth\":0,\"ticks\":\"\"},\"type\":\"choropleth\"}],\"contourcarpet\":[{\"colorbar\":{\"outlinewidth\":0,\"ticks\":\"\"},\"type\":\"contourcarpet\"}],\"contour\":[{\"colorbar\":{\"outlinewidth\":0,\"ticks\":\"\"},\"colorscale\":[[0.0,\"#0d0887\"],[0.1111111111111111,\"#46039f\"],[0.2222222222222222,\"#7201a8\"],[0.3333333333333333,\"#9c179e\"],[0.4444444444444444,\"#bd3786\"],[0.5555555555555556,\"#d8576b\"],[0.6666666666666666,\"#ed7953\"],[0.7777777777777778,\"#fb9f3a\"],[0.8888888888888888,\"#fdca26\"],[1.0,\"#f0f921\"]],\"type\":\"contour\"}],\"heatmapgl\":[{\"colorbar\":{\"outlinewidth\":0,\"ticks\":\"\"},\"colorscale\":[[0.0,\"#0d0887\"],[0.1111111111111111,\"#46039f\"],[0.2222222222222222,\"#7201a8\"],[0.3333333333333333,\"#9c179e\"],[0.4444444444444444,\"#bd3786\"],[0.5555555555555556,\"#d8576b\"],[0.6666666666666666,\"#ed7953\"],[0.7777777777777778,\"#fb9f3a\"],[0.8888888888888888,\"#fdca26\"],[1.0,\"#f0f921\"]],\"type\":\"heatmapgl\"}],\"heatmap\":[{\"colorbar\":{\"outlinewidth\":0,\"ticks\":\"\"},\"colorscale\":[[0.0,\"#0d0887\"],[0.1111111111111111,\"#46039f\"],[0.2222222222222222,\"#7201a8\"],[0.3333333333333333,\"#9c179e\"],[0.4444444444444444,\"#bd3786\"],[0.5555555555555556,\"#d8576b\"],[0.6666666666666666,\"#ed7953\"],[0.7777777777777778,\"#fb9f3a\"],[0.8888888888888888,\"#fdca26\"],[1.0,\"#f0f921\"]],\"type\":\"heatmap\"}],\"histogram2dcontour\":[{\"colorbar\":{\"outlinewidth\":0,\"ticks\":\"\"},\"colorscale\":[[0.0,\"#0d0887\"],[0.1111111111111111,\"#46039f\"],[0.2222222222222222,\"#7201a8\"],[0.3333333333333333,\"#9c179e\"],[0.4444444444444444,\"#bd3786\"],[0.5555555555555556,\"#d8576b\"],[0.6666666666666666,\"#ed7953\"],[0.7777777777777778,\"#fb9f3a\"],[0.8888888888888888,\"#fdca26\"],[1.0,\"#f0f921\"]],\"type\":\"histogram2dcontour\"}],\"histogram2d\":[{\"colorbar\":{\"outlinewidth\":0,\"ticks\":\"\"},\"colorscale\":[[0.0,\"#0d0887\"],[0.1111111111111111,\"#46039f\"],[0.2222222222222222,\"#7201a8\"],[0.3333333333333333,\"#9c179e\"],[0.4444444444444444,\"#bd3786\"],[0.5555555555555556,\"#d8576b\"],[0.6666666666666666,\"#ed7953\"],[0.7777777777777778,\"#fb9f3a\"],[0.8888888888888888,\"#fdca26\"],[1.0,\"#f0f921\"]],\"type\":\"histogram2d\"}],\"histogram\":[{\"marker\":{\"pattern\":{\"fillmode\":\"overlay\",\"size\":10,\"solidity\":0.2}},\"type\":\"histogram\"}],\"mesh3d\":[{\"colorbar\":{\"outlinewidth\":0,\"ticks\":\"\"},\"type\":\"mesh3d\"}],\"parcoords\":[{\"line\":{\"colorbar\":{\"outlinewidth\":0,\"ticks\":\"\"}},\"type\":\"parcoords\"}],\"pie\":[{\"automargin\":true,\"type\":\"pie\"}],\"scatter3d\":[{\"line\":{\"colorbar\":{\"outlinewidth\":0,\"ticks\":\"\"}},\"marker\":{\"colorbar\":{\"outlinewidth\":0,\"ticks\":\"\"}},\"type\":\"scatter3d\"}],\"scattercarpet\":[{\"marker\":{\"colorbar\":{\"outlinewidth\":0,\"ticks\":\"\"}},\"type\":\"scattercarpet\"}],\"scattergeo\":[{\"marker\":{\"colorbar\":{\"outlinewidth\":0,\"ticks\":\"\"}},\"type\":\"scattergeo\"}],\"scattergl\":[{\"marker\":{\"colorbar\":{\"outlinewidth\":0,\"ticks\":\"\"}},\"type\":\"scattergl\"}],\"scattermapbox\":[{\"marker\":{\"colorbar\":{\"outlinewidth\":0,\"ticks\":\"\"}},\"type\":\"scattermapbox\"}],\"scatterpolargl\":[{\"marker\":{\"colorbar\":{\"outlinewidth\":0,\"ticks\":\"\"}},\"type\":\"scatterpolargl\"}],\"scatterpolar\":[{\"marker\":{\"colorbar\":{\"outlinewidth\":0,\"ticks\":\"\"}},\"type\":\"scatterpolar\"}],\"scatter\":[{\"marker\":{\"colorbar\":{\"outlinewidth\":0,\"ticks\":\"\"}},\"type\":\"scatter\"}],\"scatterternary\":[{\"marker\":{\"colorbar\":{\"outlinewidth\":0,\"ticks\":\"\"}},\"type\":\"scatterternary\"}],\"surface\":[{\"colorbar\":{\"outlinewidth\":0,\"ticks\":\"\"},\"colorscale\":[[0.0,\"#0d0887\"],[0.1111111111111111,\"#46039f\"],[0.2222222222222222,\"#7201a8\"],[0.3333333333333333,\"#9c179e\"],[0.4444444444444444,\"#bd3786\"],[0.5555555555555556,\"#d8576b\"],[0.6666666666666666,\"#ed7953\"],[0.7777777777777778,\"#fb9f3a\"],[0.8888888888888888,\"#fdca26\"],[1.0,\"#f0f921\"]],\"type\":\"surface\"}],\"table\":[{\"cells\":{\"fill\":{\"color\":\"#EBF0F8\"},\"line\":{\"color\":\"white\"}},\"header\":{\"fill\":{\"color\":\"#C8D4E3\"},\"line\":{\"color\":\"white\"}},\"type\":\"table\"}]},\"layout\":{\"annotationdefaults\":{\"arrowcolor\":\"#2a3f5f\",\"arrowhead\":0,\"arrowwidth\":1},\"autotypenumbers\":\"strict\",\"coloraxis\":{\"colorbar\":{\"outlinewidth\":0,\"ticks\":\"\"}},\"colorscale\":{\"diverging\":[[0,\"#8e0152\"],[0.1,\"#c51b7d\"],[0.2,\"#de77ae\"],[0.3,\"#f1b6da\"],[0.4,\"#fde0ef\"],[0.5,\"#f7f7f7\"],[0.6,\"#e6f5d0\"],[0.7,\"#b8e186\"],[0.8,\"#7fbc41\"],[0.9,\"#4d9221\"],[1,\"#276419\"]],\"sequential\":[[0.0,\"#0d0887\"],[0.1111111111111111,\"#46039f\"],[0.2222222222222222,\"#7201a8\"],[0.3333333333333333,\"#9c179e\"],[0.4444444444444444,\"#bd3786\"],[0.5555555555555556,\"#d8576b\"],[0.6666666666666666,\"#ed7953\"],[0.7777777777777778,\"#fb9f3a\"],[0.8888888888888888,\"#fdca26\"],[1.0,\"#f0f921\"]],\"sequentialminus\":[[0.0,\"#0d0887\"],[0.1111111111111111,\"#46039f\"],[0.2222222222222222,\"#7201a8\"],[0.3333333333333333,\"#9c179e\"],[0.4444444444444444,\"#bd3786\"],[0.5555555555555556,\"#d8576b\"],[0.6666666666666666,\"#ed7953\"],[0.7777777777777778,\"#fb9f3a\"],[0.8888888888888888,\"#fdca26\"],[1.0,\"#f0f921\"]]},\"colorway\":[\"#636efa\",\"#EF553B\",\"#00cc96\",\"#ab63fa\",\"#FFA15A\",\"#19d3f3\",\"#FF6692\",\"#B6E880\",\"#FF97FF\",\"#FECB52\"],\"font\":{\"color\":\"#2a3f5f\"},\"geo\":{\"bgcolor\":\"white\",\"lakecolor\":\"white\",\"landcolor\":\"#E5ECF6\",\"showlakes\":true,\"showland\":true,\"subunitcolor\":\"white\"},\"hoverlabel\":{\"align\":\"left\"},\"hovermode\":\"closest\",\"mapbox\":{\"style\":\"light\"},\"paper_bgcolor\":\"white\",\"plot_bgcolor\":\"#E5ECF6\",\"polar\":{\"angularaxis\":{\"gridcolor\":\"white\",\"linecolor\":\"white\",\"ticks\":\"\"},\"bgcolor\":\"#E5ECF6\",\"radialaxis\":{\"gridcolor\":\"white\",\"linecolor\":\"white\",\"ticks\":\"\"}},\"scene\":{\"xaxis\":{\"backgroundcolor\":\"#E5ECF6\",\"gridcolor\":\"white\",\"gridwidth\":2,\"linecolor\":\"white\",\"showbackground\":true,\"ticks\":\"\",\"zerolinecolor\":\"white\"},\"yaxis\":{\"backgroundcolor\":\"#E5ECF6\",\"gridcolor\":\"white\",\"gridwidth\":2,\"linecolor\":\"white\",\"showbackground\":true,\"ticks\":\"\",\"zerolinecolor\":\"white\"},\"zaxis\":{\"backgroundcolor\":\"#E5ECF6\",\"gridcolor\":\"white\",\"gridwidth\":2,\"linecolor\":\"white\",\"showbackground\":true,\"ticks\":\"\",\"zerolinecolor\":\"white\"}},\"shapedefaults\":{\"line\":{\"color\":\"#2a3f5f\"}},\"ternary\":{\"aaxis\":{\"gridcolor\":\"white\",\"linecolor\":\"white\",\"ticks\":\"\"},\"baxis\":{\"gridcolor\":\"white\",\"linecolor\":\"white\",\"ticks\":\"\"},\"bgcolor\":\"#E5ECF6\",\"caxis\":{\"gridcolor\":\"white\",\"linecolor\":\"white\",\"ticks\":\"\"}},\"title\":{\"x\":0.05},\"xaxis\":{\"automargin\":true,\"gridcolor\":\"white\",\"linecolor\":\"white\",\"ticks\":\"\",\"title\":{\"standoff\":15},\"zerolinecolor\":\"white\",\"zerolinewidth\":2},\"yaxis\":{\"automargin\":true,\"gridcolor\":\"white\",\"linecolor\":\"white\",\"ticks\":\"\",\"title\":{\"standoff\":15},\"zerolinecolor\":\"white\",\"zerolinewidth\":2}}},\"title\":{\"text\":\"\\u0417\\u0430\\u0432\\u0438\\u0441\\u0438\\u043c\\u043e\\u0441\\u0442\\u044c \\u043f\\u043e\\u0433\\u0440\\u0435\\u0448\\u043d\\u043e\\u0441\\u0442\\u0438 \\u043e\\u0442 \\u043c\\u0435\\u043b\\u043a\\u043e\\u0441\\u0442\\u0438 \\u0440\\u0430\\u0437\\u0431\\u0438\\u0435\\u043d\\u0438\\u044f \\u043f\\u043e \\u0432\\u0440\\u0435\\u043c\\u0435\\u043d\\u0438\"},\"xaxis\":{\"title\":{\"text\":\"h\"}},\"yaxis\":{\"title\":{\"text\":\"e\"}}},                        {\"responsive\": true}                    ).then(function(){\n",
              "                            \n",
              "var gd = document.getElementById('32eb8053-ae46-434a-938a-9d8165edf0dd');\n",
              "var x = new MutationObserver(function (mutations, observer) {{\n",
              "        var display = window.getComputedStyle(gd).display;\n",
              "        if (!display || display === 'none') {{\n",
              "            console.log([gd, 'removed!']);\n",
              "            Plotly.purge(gd);\n",
              "            observer.disconnect();\n",
              "        }}\n",
              "}});\n",
              "\n",
              "// Listen for the removal of the full notebook cells\n",
              "var notebookContainer = gd.closest('#notebook-container');\n",
              "if (notebookContainer) {{\n",
              "    x.observe(notebookContainer, {childList: true});\n",
              "}}\n",
              "\n",
              "// Listen for the clearing of the current output cell\n",
              "var outputEl = gd.closest('.output');\n",
              "if (outputEl) {{\n",
              "    x.observe(outputEl, {childList: true});\n",
              "}}\n",
              "\n",
              "                        })                };                            </script>        </div>\n",
              "</body>\n",
              "</html>"
            ]
          },
          "metadata": {}
        },
        {
          "output_type": "display_data",
          "data": {
            "text/html": [
              "<html>\n",
              "<head><meta charset=\"utf-8\" /></head>\n",
              "<body>\n",
              "    <div>            <script src=\"https://cdnjs.cloudflare.com/ajax/libs/mathjax/2.7.5/MathJax.js?config=TeX-AMS-MML_SVG\"></script><script type=\"text/javascript\">if (window.MathJax) {MathJax.Hub.Config({SVG: {font: \"STIX-Web\"}});}</script>                <script type=\"text/javascript\">window.PlotlyConfig = {MathJaxConfig: 'local'};</script>\n",
              "        <script src=\"https://cdn.plot.ly/plotly-2.8.3.min.js\"></script>                <div id=\"574b9f64-02ca-4c2f-a54a-ec0be31c35ad\" class=\"plotly-graph-div\" style=\"height:525px; width:100%;\"></div>            <script type=\"text/javascript\">                                    window.PLOTLYENV=window.PLOTLYENV || {};                                    if (document.getElementById(\"574b9f64-02ca-4c2f-a54a-ec0be31c35ad\")) {                    Plotly.newPlot(                        \"574b9f64-02ca-4c2f-a54a-ec0be31c35ad\",                        [{\"mode\":\"lines\",\"name\":\"\\u041d\\u0435\\u044f\\u0432\\u043d\\u044b\\u0439\",\"showlegend\":true,\"text\":\"(x, y)\",\"x\":[-0.6931471805599453,-1.0986122886681098,-1.3862943611198906,-1.6094379124341003,-1.791759469228055,-1.9459101490553135,-2.0794415416798357,-2.1972245773362196,-2.3025850929940455,-2.3978952727983707,-2.4849066497880004,-2.5649493574615367,-2.639057329615259,-2.70805020110221,-2.772588722239781,-2.833213344056216,-2.890371757896165,-2.9444389791664407,-2.995732273553991,-3.044522437723423,-3.0910424533583156,-3.1354942159291497,-3.1780538303479458,-3.2188758248682006,-3.258096538021482,-3.295836866004329,-3.332204510175204,-3.367295829986474,-3.4011973816621555,-3.4339872044851463,-3.4657359027997265,-3.4965075614664802,-3.5263605246161616,-3.5553480614894135,-3.58351893845611,-3.6109179126442243,-3.6375861597263857,-3.6635616461296463,-3.6888794541139363,-3.713572066704308,-3.7376696182833684,-3.7612001156935624,-3.784189633918261,-3.8066624897703196,-3.828641396489095,-3.8501476017100584,-3.871201010907891,-3.891820298110627,-3.912023005428146,-3.9318256327243257,-3.951243718581427,-3.970291913552122,-3.9889840465642745,-4.007333185232471,-4.02535169073515,-4.04305126783455,-4.060443010546419,-4.07753744390572,-4.0943445622221,-4.110873864173311,-4.127134385045092,-4.143134726391533,-4.1588830833596715,-4.174387269895637,-4.189654742026425,-4.204692619390966,-4.219507705176107,-4.23410650459726,-4.248495242049359,-4.2626798770413155,-4.276666119016055,-4.290459441148391,-4.304065093204169,-4.31748811353631,-4.330733340286331,-4.343805421853684,-4.356708826689592,-4.3694478524670215,-4.382026634673881,-4.394449154672439,-4.406719247264253,-4.418840607796598,-4.430816798843313,-4.442651256490317,-4.454347296253507,-4.465908118654584,-4.477336814478207],\"y\":[-1.669074663911218,-1.9529556902847107,-2.1630496328981015,-2.344876541181455,-2.502305165538118,-2.6178343839416414,-2.728227033426592,-2.831417833900811,-2.9215703838546623,-3.002030108734195,-3.0791022050469494,-3.1524498359194055,-3.2161704334386454,-3.277835496780967,-3.3372678502229842,-3.3923147901251944,-3.443780698569419,-3.4937583900342424,-3.5420220214824814,-3.58622257106732,-3.629356790883133,-3.6713615582680927,-3.7109889366791076,-3.7489387124996036,-3.786034202978787,-3.821978798998085,-3.8558635904015146,-3.8890785497136546,-3.921602430389864,-3.952540288630359,-3.982610886285745,-4.012123327076856,-4.040753029457789,-4.06822397519023,-4.095234341258659,-4.121570020791111,-4.147144839211837,-4.172043543915759,-4.196312358342504,-4.220085612585412,-4.243430614629819,-4.26592543274644,-4.288036263580602,-4.309833813518344,-4.3310607707688495,-4.351726667552417,-4.372122252579081,-4.392244373078976,-4.4116532361841445,-4.430816149018052,-4.449740274249787,-4.46823159581567,-4.4863023814566425,-4.504162825312806,-4.521811126976142,-4.53890952327545,-4.55581936116812,-4.572540653479018,-4.588918794247492,-4.60497408455649,-4.6208606672222645,-4.63657260588855,-4.651855620017627,-4.66698675504314,-4.681964954576222,-4.696663020237192,-4.711107259850276,-4.72541296510299,-4.739570580443172,-4.753387601337359,-4.76707851868556,-4.780642724413985,-4.793973791152257,-4.807100552422641,-4.8201113948122085,-4.832995311631799,-4.845602577838511,-4.858103373436879,-4.870497365159466,-4.882694847937872,-4.894724053116847,-4.906654755327439,-4.9184761634338345,-4.930068070624337,-4.94156882678174,-4.952978270466351,-4.964220700716774],\"type\":\"scatter\"},{\"mode\":\"lines\",\"name\":\"\\u0417\\u0430\\u0432\\u0438\\u0441\\u0438\\u043c\\u043e\\u0441\\u0442\\u044c $O(t)$\",\"showlegend\":true,\"text\":\"(x, y)\",\"x\":[-4,0],\"y\":[-4.5,-1.5],\"type\":\"scatter\"},{\"mode\":\"lines\",\"name\":\"\\u0417\\u0430\\u0432\\u0438\\u0441\\u0438\\u043c\\u043e\\u0441\\u0442\\u044c $O(\\\\sqrt{t})$\",\"showlegend\":true,\"text\":\"(x, y)\",\"x\":[-4,0],\"y\":[-4,-2],\"type\":\"scatter\"}],                        {\"paper_bgcolor\":\"gray\",\"plot_bgcolor\":\"darkgray\",\"template\":{\"data\":{\"barpolar\":[{\"marker\":{\"line\":{\"color\":\"#E5ECF6\",\"width\":0.5},\"pattern\":{\"fillmode\":\"overlay\",\"size\":10,\"solidity\":0.2}},\"type\":\"barpolar\"}],\"bar\":[{\"error_x\":{\"color\":\"#2a3f5f\"},\"error_y\":{\"color\":\"#2a3f5f\"},\"marker\":{\"line\":{\"color\":\"#E5ECF6\",\"width\":0.5},\"pattern\":{\"fillmode\":\"overlay\",\"size\":10,\"solidity\":0.2}},\"type\":\"bar\"}],\"carpet\":[{\"aaxis\":{\"endlinecolor\":\"#2a3f5f\",\"gridcolor\":\"white\",\"linecolor\":\"white\",\"minorgridcolor\":\"white\",\"startlinecolor\":\"#2a3f5f\"},\"baxis\":{\"endlinecolor\":\"#2a3f5f\",\"gridcolor\":\"white\",\"linecolor\":\"white\",\"minorgridcolor\":\"white\",\"startlinecolor\":\"#2a3f5f\"},\"type\":\"carpet\"}],\"choropleth\":[{\"colorbar\":{\"outlinewidth\":0,\"ticks\":\"\"},\"type\":\"choropleth\"}],\"contourcarpet\":[{\"colorbar\":{\"outlinewidth\":0,\"ticks\":\"\"},\"type\":\"contourcarpet\"}],\"contour\":[{\"colorbar\":{\"outlinewidth\":0,\"ticks\":\"\"},\"colorscale\":[[0.0,\"#0d0887\"],[0.1111111111111111,\"#46039f\"],[0.2222222222222222,\"#7201a8\"],[0.3333333333333333,\"#9c179e\"],[0.4444444444444444,\"#bd3786\"],[0.5555555555555556,\"#d8576b\"],[0.6666666666666666,\"#ed7953\"],[0.7777777777777778,\"#fb9f3a\"],[0.8888888888888888,\"#fdca26\"],[1.0,\"#f0f921\"]],\"type\":\"contour\"}],\"heatmapgl\":[{\"colorbar\":{\"outlinewidth\":0,\"ticks\":\"\"},\"colorscale\":[[0.0,\"#0d0887\"],[0.1111111111111111,\"#46039f\"],[0.2222222222222222,\"#7201a8\"],[0.3333333333333333,\"#9c179e\"],[0.4444444444444444,\"#bd3786\"],[0.5555555555555556,\"#d8576b\"],[0.6666666666666666,\"#ed7953\"],[0.7777777777777778,\"#fb9f3a\"],[0.8888888888888888,\"#fdca26\"],[1.0,\"#f0f921\"]],\"type\":\"heatmapgl\"}],\"heatmap\":[{\"colorbar\":{\"outlinewidth\":0,\"ticks\":\"\"},\"colorscale\":[[0.0,\"#0d0887\"],[0.1111111111111111,\"#46039f\"],[0.2222222222222222,\"#7201a8\"],[0.3333333333333333,\"#9c179e\"],[0.4444444444444444,\"#bd3786\"],[0.5555555555555556,\"#d8576b\"],[0.6666666666666666,\"#ed7953\"],[0.7777777777777778,\"#fb9f3a\"],[0.8888888888888888,\"#fdca26\"],[1.0,\"#f0f921\"]],\"type\":\"heatmap\"}],\"histogram2dcontour\":[{\"colorbar\":{\"outlinewidth\":0,\"ticks\":\"\"},\"colorscale\":[[0.0,\"#0d0887\"],[0.1111111111111111,\"#46039f\"],[0.2222222222222222,\"#7201a8\"],[0.3333333333333333,\"#9c179e\"],[0.4444444444444444,\"#bd3786\"],[0.5555555555555556,\"#d8576b\"],[0.6666666666666666,\"#ed7953\"],[0.7777777777777778,\"#fb9f3a\"],[0.8888888888888888,\"#fdca26\"],[1.0,\"#f0f921\"]],\"type\":\"histogram2dcontour\"}],\"histogram2d\":[{\"colorbar\":{\"outlinewidth\":0,\"ticks\":\"\"},\"colorscale\":[[0.0,\"#0d0887\"],[0.1111111111111111,\"#46039f\"],[0.2222222222222222,\"#7201a8\"],[0.3333333333333333,\"#9c179e\"],[0.4444444444444444,\"#bd3786\"],[0.5555555555555556,\"#d8576b\"],[0.6666666666666666,\"#ed7953\"],[0.7777777777777778,\"#fb9f3a\"],[0.8888888888888888,\"#fdca26\"],[1.0,\"#f0f921\"]],\"type\":\"histogram2d\"}],\"histogram\":[{\"marker\":{\"pattern\":{\"fillmode\":\"overlay\",\"size\":10,\"solidity\":0.2}},\"type\":\"histogram\"}],\"mesh3d\":[{\"colorbar\":{\"outlinewidth\":0,\"ticks\":\"\"},\"type\":\"mesh3d\"}],\"parcoords\":[{\"line\":{\"colorbar\":{\"outlinewidth\":0,\"ticks\":\"\"}},\"type\":\"parcoords\"}],\"pie\":[{\"automargin\":true,\"type\":\"pie\"}],\"scatter3d\":[{\"line\":{\"colorbar\":{\"outlinewidth\":0,\"ticks\":\"\"}},\"marker\":{\"colorbar\":{\"outlinewidth\":0,\"ticks\":\"\"}},\"type\":\"scatter3d\"}],\"scattercarpet\":[{\"marker\":{\"colorbar\":{\"outlinewidth\":0,\"ticks\":\"\"}},\"type\":\"scattercarpet\"}],\"scattergeo\":[{\"marker\":{\"colorbar\":{\"outlinewidth\":0,\"ticks\":\"\"}},\"type\":\"scattergeo\"}],\"scattergl\":[{\"marker\":{\"colorbar\":{\"outlinewidth\":0,\"ticks\":\"\"}},\"type\":\"scattergl\"}],\"scattermapbox\":[{\"marker\":{\"colorbar\":{\"outlinewidth\":0,\"ticks\":\"\"}},\"type\":\"scattermapbox\"}],\"scatterpolargl\":[{\"marker\":{\"colorbar\":{\"outlinewidth\":0,\"ticks\":\"\"}},\"type\":\"scatterpolargl\"}],\"scatterpolar\":[{\"marker\":{\"colorbar\":{\"outlinewidth\":0,\"ticks\":\"\"}},\"type\":\"scatterpolar\"}],\"scatter\":[{\"marker\":{\"colorbar\":{\"outlinewidth\":0,\"ticks\":\"\"}},\"type\":\"scatter\"}],\"scatterternary\":[{\"marker\":{\"colorbar\":{\"outlinewidth\":0,\"ticks\":\"\"}},\"type\":\"scatterternary\"}],\"surface\":[{\"colorbar\":{\"outlinewidth\":0,\"ticks\":\"\"},\"colorscale\":[[0.0,\"#0d0887\"],[0.1111111111111111,\"#46039f\"],[0.2222222222222222,\"#7201a8\"],[0.3333333333333333,\"#9c179e\"],[0.4444444444444444,\"#bd3786\"],[0.5555555555555556,\"#d8576b\"],[0.6666666666666666,\"#ed7953\"],[0.7777777777777778,\"#fb9f3a\"],[0.8888888888888888,\"#fdca26\"],[1.0,\"#f0f921\"]],\"type\":\"surface\"}],\"table\":[{\"cells\":{\"fill\":{\"color\":\"#EBF0F8\"},\"line\":{\"color\":\"white\"}},\"header\":{\"fill\":{\"color\":\"#C8D4E3\"},\"line\":{\"color\":\"white\"}},\"type\":\"table\"}]},\"layout\":{\"annotationdefaults\":{\"arrowcolor\":\"#2a3f5f\",\"arrowhead\":0,\"arrowwidth\":1},\"autotypenumbers\":\"strict\",\"coloraxis\":{\"colorbar\":{\"outlinewidth\":0,\"ticks\":\"\"}},\"colorscale\":{\"diverging\":[[0,\"#8e0152\"],[0.1,\"#c51b7d\"],[0.2,\"#de77ae\"],[0.3,\"#f1b6da\"],[0.4,\"#fde0ef\"],[0.5,\"#f7f7f7\"],[0.6,\"#e6f5d0\"],[0.7,\"#b8e186\"],[0.8,\"#7fbc41\"],[0.9,\"#4d9221\"],[1,\"#276419\"]],\"sequential\":[[0.0,\"#0d0887\"],[0.1111111111111111,\"#46039f\"],[0.2222222222222222,\"#7201a8\"],[0.3333333333333333,\"#9c179e\"],[0.4444444444444444,\"#bd3786\"],[0.5555555555555556,\"#d8576b\"],[0.6666666666666666,\"#ed7953\"],[0.7777777777777778,\"#fb9f3a\"],[0.8888888888888888,\"#fdca26\"],[1.0,\"#f0f921\"]],\"sequentialminus\":[[0.0,\"#0d0887\"],[0.1111111111111111,\"#46039f\"],[0.2222222222222222,\"#7201a8\"],[0.3333333333333333,\"#9c179e\"],[0.4444444444444444,\"#bd3786\"],[0.5555555555555556,\"#d8576b\"],[0.6666666666666666,\"#ed7953\"],[0.7777777777777778,\"#fb9f3a\"],[0.8888888888888888,\"#fdca26\"],[1.0,\"#f0f921\"]]},\"colorway\":[\"#636efa\",\"#EF553B\",\"#00cc96\",\"#ab63fa\",\"#FFA15A\",\"#19d3f3\",\"#FF6692\",\"#B6E880\",\"#FF97FF\",\"#FECB52\"],\"font\":{\"color\":\"#2a3f5f\"},\"geo\":{\"bgcolor\":\"white\",\"lakecolor\":\"white\",\"landcolor\":\"#E5ECF6\",\"showlakes\":true,\"showland\":true,\"subunitcolor\":\"white\"},\"hoverlabel\":{\"align\":\"left\"},\"hovermode\":\"closest\",\"mapbox\":{\"style\":\"light\"},\"paper_bgcolor\":\"white\",\"plot_bgcolor\":\"#E5ECF6\",\"polar\":{\"angularaxis\":{\"gridcolor\":\"white\",\"linecolor\":\"white\",\"ticks\":\"\"},\"bgcolor\":\"#E5ECF6\",\"radialaxis\":{\"gridcolor\":\"white\",\"linecolor\":\"white\",\"ticks\":\"\"}},\"scene\":{\"xaxis\":{\"backgroundcolor\":\"#E5ECF6\",\"gridcolor\":\"white\",\"gridwidth\":2,\"linecolor\":\"white\",\"showbackground\":true,\"ticks\":\"\",\"zerolinecolor\":\"white\"},\"yaxis\":{\"backgroundcolor\":\"#E5ECF6\",\"gridcolor\":\"white\",\"gridwidth\":2,\"linecolor\":\"white\",\"showbackground\":true,\"ticks\":\"\",\"zerolinecolor\":\"white\"},\"zaxis\":{\"backgroundcolor\":\"#E5ECF6\",\"gridcolor\":\"white\",\"gridwidth\":2,\"linecolor\":\"white\",\"showbackground\":true,\"ticks\":\"\",\"zerolinecolor\":\"white\"}},\"shapedefaults\":{\"line\":{\"color\":\"#2a3f5f\"}},\"ternary\":{\"aaxis\":{\"gridcolor\":\"white\",\"linecolor\":\"white\",\"ticks\":\"\"},\"baxis\":{\"gridcolor\":\"white\",\"linecolor\":\"white\",\"ticks\":\"\"},\"bgcolor\":\"#E5ECF6\",\"caxis\":{\"gridcolor\":\"white\",\"linecolor\":\"white\",\"ticks\":\"\"}},\"title\":{\"x\":0.05},\"xaxis\":{\"automargin\":true,\"gridcolor\":\"white\",\"linecolor\":\"white\",\"ticks\":\"\",\"title\":{\"standoff\":15},\"zerolinecolor\":\"white\",\"zerolinewidth\":2},\"yaxis\":{\"automargin\":true,\"gridcolor\":\"white\",\"linecolor\":\"white\",\"ticks\":\"\",\"title\":{\"standoff\":15},\"zerolinecolor\":\"white\",\"zerolinewidth\":2}}},\"title\":{\"text\":\"\\u0417\\u0430\\u0432\\u0438\\u0441\\u0438\\u043c\\u043e\\u0441\\u0442\\u044c \\u043f\\u043e\\u0433\\u0440\\u0435\\u0448\\u043d\\u043e\\u0441\\u0442\\u0438 \\u043e\\u0442 \\u043c\\u0435\\u043b\\u043a\\u043e\\u0441\\u0442\\u0438 \\u0440\\u0430\\u0437\\u0431\\u0438\\u0435\\u043d\\u0438\\u044f \\u043f\\u043e \\u0432\\u0440\\u0435\\u043c\\u0435\\u043d\\u0438\"},\"xaxis\":{\"title\":{\"text\":\"log t\"}},\"yaxis\":{\"title\":{\"text\":\"log e\"}}},                        {\"responsive\": true}                    ).then(function(){\n",
              "                            \n",
              "var gd = document.getElementById('574b9f64-02ca-4c2f-a54a-ec0be31c35ad');\n",
              "var x = new MutationObserver(function (mutations, observer) {{\n",
              "        var display = window.getComputedStyle(gd).display;\n",
              "        if (!display || display === 'none') {{\n",
              "            console.log([gd, 'removed!']);\n",
              "            Plotly.purge(gd);\n",
              "            observer.disconnect();\n",
              "        }}\n",
              "}});\n",
              "\n",
              "// Listen for the removal of the full notebook cells\n",
              "var notebookContainer = gd.closest('#notebook-container');\n",
              "if (notebookContainer) {{\n",
              "    x.observe(notebookContainer, {childList: true});\n",
              "}}\n",
              "\n",
              "// Listen for the clearing of the current output cell\n",
              "var outputEl = gd.closest('.output');\n",
              "if (outputEl) {{\n",
              "    x.observe(outputEl, {childList: true});\n",
              "}}\n",
              "\n",
              "                        })                };                            </script>        </div>\n",
              "</body>\n",
              "</html>"
            ]
          },
          "metadata": {}
        }
      ],
      "source": [
        "tau, e = GetTandError(implict, u)\n",
        "\n",
        "trace1 = Scatter(\n",
        "    x = tau,\n",
        "    y = e,\n",
        "    name = 'Неявный',\n",
        "    mode = 'lines',\n",
        "    text = ('(x, y)'),\n",
        "    showlegend = True\n",
        ")\n",
        "\n",
        "data = [trace1]\n",
        "\n",
        "layout = Layout(\n",
        "    title = 'Зависимость погрешности от мелкости разбиения по времени',\n",
        "    xaxis = dict(title = 'h'),\n",
        "    yaxis = dict(title = 'e'),\n",
        "    plot_bgcolor = 'darkgray',\n",
        "    paper_bgcolor = 'gray'\n",
        ")\n",
        "\n",
        "\n",
        "fig = Figure(data = data, layout = layout)\n",
        "offline.iplot(fig)\n",
        "\n",
        "trace1 = Scatter(\n",
        "    x = list(map(math.log, tau)),\n",
        "    y = list(map(math.log, e)),\n",
        "    name = 'Неявный',\n",
        "    mode = 'lines',\n",
        "    text = ('(x, y)'),\n",
        "    showlegend = True\n",
        ")\n",
        "\n",
        "trace2 = Scatter(\n",
        "    x = [-4, 0],\n",
        "    y = [-4.5, -1.5],\n",
        "    name = 'Зависимость $O(t)$',\n",
        "    mode = 'lines',\n",
        "    text = ('(x, y)'),\n",
        "    showlegend = True\n",
        ")\n",
        "\n",
        "trace3 = Scatter(\n",
        "    x = [-4, 0],\n",
        "    y = [-4, -2],\n",
        "    name = 'Зависимость $O(\\sqrt{t})$',\n",
        "    mode = 'lines',\n",
        "    text = ('(x, y)'),\n",
        "    showlegend = True\n",
        ")\n",
        "\n",
        "data = [trace1, trace2, trace3]\n",
        "\n",
        "layout = Layout(\n",
        "    title = 'Зависимость погрешности от мелкости разбиения по времени',\n",
        "    xaxis = dict(title = 'log t'),\n",
        "    yaxis = dict(title = 'log e'),\n",
        "    plot_bgcolor = 'darkgray',\n",
        "    paper_bgcolor = 'gray'\n",
        ")\n",
        "\n",
        "fig = Figure(data = data, layout = layout)\n",
        "offline.iplot(fig)"
      ]
    },
    {
      "cell_type": "markdown",
      "metadata": {
        "id": "U70ltL_zJ5k-"
      },
      "source": [
        "Решение"
      ]
    },
    {
      "cell_type": "code",
      "execution_count": 19,
      "metadata": {
        "id": "Tu7itbpdJ5k-"
      },
      "outputs": [],
      "source": [
        "!"
      ]
    },
    {
      "cell_type": "code",
      "execution_count": 20,
      "metadata": {
        "colab": {
          "base_uri": "https://localhost:8080/",
          "height": 1057,
          "referenced_widgets": [
            "7a924359ca3a412c9c9cdcee25b3428d",
            "1e1c35f893944836af4ccefada8f6359",
            "7d60b17f52094656a22ee010c79582ad",
            "ba5f1be087ee4afb8ed35c02157e4560",
            "92945fa9e0ba4ba5ae7063b5fc82d8dd",
            "c6384e3d134c483d8599beb0edd47327",
            "9d67c5b925b8481da28d59be0e95ed4c",
            "016dbdad0c0d4f35a8a278606c2a11df",
            "d384bb854b8e47fa9853f6bed463f519",
            "6ce69d43f2584640aea5208d4d18f84d",
            "bbf576a17cea489f8d17a3b6e80e23ae",
            "debc611d33404000ae1f77b60ee4c25a",
            "ba2a37b0cad14616a06aced777dbf46b"
          ]
        },
        "id": "UXXkznavJ5k-",
        "outputId": "59d8ac77-2861-4b31-fe84-2826b9cd2452"
      },
      "outputs": [
        {
          "output_type": "display_data",
          "data": {
            "text/plain": [
              "interactive(children=(IntSlider(value=5, description='n', max=200, min=4, step=2), IntSlider(value=10, descrip…"
            ],
            "application/vnd.jupyter.widget-view+json": {
              "version_major": 2,
              "version_minor": 0,
              "model_id": "7a924359ca3a412c9c9cdcee25b3428d"
            }
          },
          "metadata": {}
        }
      ],
      "source": [
        "#k - количество разбиений\n",
        "def plotDependenceT(n=5, k=10, t=1):\n",
        "    schema = ImplictSchema(T=t)\n",
        "    x, y, z = schema(N=n, K=k)\n",
        "    plt.figure(figsize=(18, 20))\n",
        "    for i in range(1, 6):\n",
        "        plt.subplot(5, 1, i)\n",
        "        j = (k * (i - 1)) // 5\n",
        "        X = x[j]\n",
        "        Z = z[j]\n",
        "        T = y[j][0]\n",
        "        \n",
        "        plt.plot(X, Z, label=\"time:\" + str(T), color='#00FF00')\n",
        "        plt.plot(X, list(map(lambda o: u(o, T), X)), label='real function', color='#FF00FF')\n",
        "        plt.grid()\n",
        "        plt.legend()\n",
        "\n",
        "interact(plotDependenceT, n=(4, 200, 2), k=(5, 200, 3), t=(1, 10, 1))\n",
        "None"
      ]
    },
    {
      "cell_type": "markdown",
      "metadata": {
        "id": "l2WB_ntPJ5k_"
      },
      "source": [
        "#### Вывод:\n",
        "Выполнив данную лабораторную работу, изучил явную схему крест и неявную схему для решения начально-краевой задачи для дифференциального уравнения гиперболического типа. Выполнил три варианта аппроксимации граничных условий, содержащих производные: двухточечная аппроксимация с первым порядком, трехточечная аппроксимация со вторым порядком и двухточечная аппроксимация со вторым порядком. В различные моменты времени вычислил погрешность численного решения путем сравнения результатов с приведенным в задании аналитическим решением $u(x, t)$. Также исследовал зависимость погрешности от сеточных параметров $\\tau$ и $h$.\n"
      ]
    }
  ],
  "metadata": {
    "kernelspec": {
      "display_name": "Python 3",
      "language": "python",
      "name": "python3"
    },
    "language_info": {
      "codemirror_mode": {
        "name": "ipython",
        "version": 3
      },
      "file_extension": ".py",
      "mimetype": "text/x-python",
      "name": "python",
      "nbconvert_exporter": "python",
      "pygments_lexer": "ipython3",
      "version": "3.7.1"
    },
    "colab": {
      "provenance": []
    },
    "widgets": {
      "application/vnd.jupyter.widget-state+json": {
        "7a924359ca3a412c9c9cdcee25b3428d": {
          "model_module": "@jupyter-widgets/controls",
          "model_name": "VBoxModel",
          "model_module_version": "1.5.0",
          "state": {
            "_dom_classes": [
              "widget-interact"
            ],
            "_model_module": "@jupyter-widgets/controls",
            "_model_module_version": "1.5.0",
            "_model_name": "VBoxModel",
            "_view_count": null,
            "_view_module": "@jupyter-widgets/controls",
            "_view_module_version": "1.5.0",
            "_view_name": "VBoxView",
            "box_style": "",
            "children": [
              "IPY_MODEL_1e1c35f893944836af4ccefada8f6359",
              "IPY_MODEL_7d60b17f52094656a22ee010c79582ad",
              "IPY_MODEL_ba5f1be087ee4afb8ed35c02157e4560",
              "IPY_MODEL_92945fa9e0ba4ba5ae7063b5fc82d8dd"
            ],
            "layout": "IPY_MODEL_c6384e3d134c483d8599beb0edd47327"
          }
        },
        "1e1c35f893944836af4ccefada8f6359": {
          "model_module": "@jupyter-widgets/controls",
          "model_name": "IntSliderModel",
          "model_module_version": "1.5.0",
          "state": {
            "_dom_classes": [],
            "_model_module": "@jupyter-widgets/controls",
            "_model_module_version": "1.5.0",
            "_model_name": "IntSliderModel",
            "_view_count": null,
            "_view_module": "@jupyter-widgets/controls",
            "_view_module_version": "1.5.0",
            "_view_name": "IntSliderView",
            "continuous_update": true,
            "description": "n",
            "description_tooltip": null,
            "disabled": false,
            "layout": "IPY_MODEL_9d67c5b925b8481da28d59be0e95ed4c",
            "max": 200,
            "min": 4,
            "orientation": "horizontal",
            "readout": true,
            "readout_format": "d",
            "step": 2,
            "style": "IPY_MODEL_016dbdad0c0d4f35a8a278606c2a11df",
            "value": 5
          }
        },
        "7d60b17f52094656a22ee010c79582ad": {
          "model_module": "@jupyter-widgets/controls",
          "model_name": "IntSliderModel",
          "model_module_version": "1.5.0",
          "state": {
            "_dom_classes": [],
            "_model_module": "@jupyter-widgets/controls",
            "_model_module_version": "1.5.0",
            "_model_name": "IntSliderModel",
            "_view_count": null,
            "_view_module": "@jupyter-widgets/controls",
            "_view_module_version": "1.5.0",
            "_view_name": "IntSliderView",
            "continuous_update": true,
            "description": "k",
            "description_tooltip": null,
            "disabled": false,
            "layout": "IPY_MODEL_d384bb854b8e47fa9853f6bed463f519",
            "max": 200,
            "min": 5,
            "orientation": "horizontal",
            "readout": true,
            "readout_format": "d",
            "step": 3,
            "style": "IPY_MODEL_6ce69d43f2584640aea5208d4d18f84d",
            "value": 10
          }
        },
        "ba5f1be087ee4afb8ed35c02157e4560": {
          "model_module": "@jupyter-widgets/controls",
          "model_name": "IntSliderModel",
          "model_module_version": "1.5.0",
          "state": {
            "_dom_classes": [],
            "_model_module": "@jupyter-widgets/controls",
            "_model_module_version": "1.5.0",
            "_model_name": "IntSliderModel",
            "_view_count": null,
            "_view_module": "@jupyter-widgets/controls",
            "_view_module_version": "1.5.0",
            "_view_name": "IntSliderView",
            "continuous_update": true,
            "description": "t",
            "description_tooltip": null,
            "disabled": false,
            "layout": "IPY_MODEL_bbf576a17cea489f8d17a3b6e80e23ae",
            "max": 10,
            "min": 1,
            "orientation": "horizontal",
            "readout": true,
            "readout_format": "d",
            "step": 1,
            "style": "IPY_MODEL_debc611d33404000ae1f77b60ee4c25a",
            "value": 1
          }
        },
        "92945fa9e0ba4ba5ae7063b5fc82d8dd": {
          "model_module": "@jupyter-widgets/output",
          "model_name": "OutputModel",
          "model_module_version": "1.0.0",
          "state": {
            "_dom_classes": [],
            "_model_module": "@jupyter-widgets/output",
            "_model_module_version": "1.0.0",
            "_model_name": "OutputModel",
            "_view_count": null,
            "_view_module": "@jupyter-widgets/output",
            "_view_module_version": "1.0.0",
            "_view_name": "OutputView",
            "layout": "IPY_MODEL_ba2a37b0cad14616a06aced777dbf46b",
            "msg_id": "",
            "outputs": [
              {
                "output_type": "display_data",
                "data": {
                  "text/plain": "<Figure size 1296x1440 with 5 Axes>",
                  "image/png": "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\n"
                },
                "metadata": {
                  "needs_background": "light"
                }
              }
            ]
          }
        },
        "c6384e3d134c483d8599beb0edd47327": {
          "model_module": "@jupyter-widgets/base",
          "model_name": "LayoutModel",
          "model_module_version": "1.2.0",
          "state": {
            "_model_module": "@jupyter-widgets/base",
            "_model_module_version": "1.2.0",
            "_model_name": "LayoutModel",
            "_view_count": null,
            "_view_module": "@jupyter-widgets/base",
            "_view_module_version": "1.2.0",
            "_view_name": "LayoutView",
            "align_content": null,
            "align_items": null,
            "align_self": null,
            "border": null,
            "bottom": null,
            "display": null,
            "flex": null,
            "flex_flow": null,
            "grid_area": null,
            "grid_auto_columns": null,
            "grid_auto_flow": null,
            "grid_auto_rows": null,
            "grid_column": null,
            "grid_gap": null,
            "grid_row": null,
            "grid_template_areas": null,
            "grid_template_columns": null,
            "grid_template_rows": null,
            "height": null,
            "justify_content": null,
            "justify_items": null,
            "left": null,
            "margin": null,
            "max_height": null,
            "max_width": null,
            "min_height": null,
            "min_width": null,
            "object_fit": null,
            "object_position": null,
            "order": null,
            "overflow": null,
            "overflow_x": null,
            "overflow_y": null,
            "padding": null,
            "right": null,
            "top": null,
            "visibility": null,
            "width": null
          }
        },
        "9d67c5b925b8481da28d59be0e95ed4c": {
          "model_module": "@jupyter-widgets/base",
          "model_name": "LayoutModel",
          "model_module_version": "1.2.0",
          "state": {
            "_model_module": "@jupyter-widgets/base",
            "_model_module_version": "1.2.0",
            "_model_name": "LayoutModel",
            "_view_count": null,
            "_view_module": "@jupyter-widgets/base",
            "_view_module_version": "1.2.0",
            "_view_name": "LayoutView",
            "align_content": null,
            "align_items": null,
            "align_self": null,
            "border": null,
            "bottom": null,
            "display": null,
            "flex": null,
            "flex_flow": null,
            "grid_area": null,
            "grid_auto_columns": null,
            "grid_auto_flow": null,
            "grid_auto_rows": null,
            "grid_column": null,
            "grid_gap": null,
            "grid_row": null,
            "grid_template_areas": null,
            "grid_template_columns": null,
            "grid_template_rows": null,
            "height": null,
            "justify_content": null,
            "justify_items": null,
            "left": null,
            "margin": null,
            "max_height": null,
            "max_width": null,
            "min_height": null,
            "min_width": null,
            "object_fit": null,
            "object_position": null,
            "order": null,
            "overflow": null,
            "overflow_x": null,
            "overflow_y": null,
            "padding": null,
            "right": null,
            "top": null,
            "visibility": null,
            "width": null
          }
        },
        "016dbdad0c0d4f35a8a278606c2a11df": {
          "model_module": "@jupyter-widgets/controls",
          "model_name": "SliderStyleModel",
          "model_module_version": "1.5.0",
          "state": {
            "_model_module": "@jupyter-widgets/controls",
            "_model_module_version": "1.5.0",
            "_model_name": "SliderStyleModel",
            "_view_count": null,
            "_view_module": "@jupyter-widgets/base",
            "_view_module_version": "1.2.0",
            "_view_name": "StyleView",
            "description_width": "",
            "handle_color": null
          }
        },
        "d384bb854b8e47fa9853f6bed463f519": {
          "model_module": "@jupyter-widgets/base",
          "model_name": "LayoutModel",
          "model_module_version": "1.2.0",
          "state": {
            "_model_module": "@jupyter-widgets/base",
            "_model_module_version": "1.2.0",
            "_model_name": "LayoutModel",
            "_view_count": null,
            "_view_module": "@jupyter-widgets/base",
            "_view_module_version": "1.2.0",
            "_view_name": "LayoutView",
            "align_content": null,
            "align_items": null,
            "align_self": null,
            "border": null,
            "bottom": null,
            "display": null,
            "flex": null,
            "flex_flow": null,
            "grid_area": null,
            "grid_auto_columns": null,
            "grid_auto_flow": null,
            "grid_auto_rows": null,
            "grid_column": null,
            "grid_gap": null,
            "grid_row": null,
            "grid_template_areas": null,
            "grid_template_columns": null,
            "grid_template_rows": null,
            "height": null,
            "justify_content": null,
            "justify_items": null,
            "left": null,
            "margin": null,
            "max_height": null,
            "max_width": null,
            "min_height": null,
            "min_width": null,
            "object_fit": null,
            "object_position": null,
            "order": null,
            "overflow": null,
            "overflow_x": null,
            "overflow_y": null,
            "padding": null,
            "right": null,
            "top": null,
            "visibility": null,
            "width": null
          }
        },
        "6ce69d43f2584640aea5208d4d18f84d": {
          "model_module": "@jupyter-widgets/controls",
          "model_name": "SliderStyleModel",
          "model_module_version": "1.5.0",
          "state": {
            "_model_module": "@jupyter-widgets/controls",
            "_model_module_version": "1.5.0",
            "_model_name": "SliderStyleModel",
            "_view_count": null,
            "_view_module": "@jupyter-widgets/base",
            "_view_module_version": "1.2.0",
            "_view_name": "StyleView",
            "description_width": "",
            "handle_color": null
          }
        },
        "bbf576a17cea489f8d17a3b6e80e23ae": {
          "model_module": "@jupyter-widgets/base",
          "model_name": "LayoutModel",
          "model_module_version": "1.2.0",
          "state": {
            "_model_module": "@jupyter-widgets/base",
            "_model_module_version": "1.2.0",
            "_model_name": "LayoutModel",
            "_view_count": null,
            "_view_module": "@jupyter-widgets/base",
            "_view_module_version": "1.2.0",
            "_view_name": "LayoutView",
            "align_content": null,
            "align_items": null,
            "align_self": null,
            "border": null,
            "bottom": null,
            "display": null,
            "flex": null,
            "flex_flow": null,
            "grid_area": null,
            "grid_auto_columns": null,
            "grid_auto_flow": null,
            "grid_auto_rows": null,
            "grid_column": null,
            "grid_gap": null,
            "grid_row": null,
            "grid_template_areas": null,
            "grid_template_columns": null,
            "grid_template_rows": null,
            "height": null,
            "justify_content": null,
            "justify_items": null,
            "left": null,
            "margin": null,
            "max_height": null,
            "max_width": null,
            "min_height": null,
            "min_width": null,
            "object_fit": null,
            "object_position": null,
            "order": null,
            "overflow": null,
            "overflow_x": null,
            "overflow_y": null,
            "padding": null,
            "right": null,
            "top": null,
            "visibility": null,
            "width": null
          }
        },
        "debc611d33404000ae1f77b60ee4c25a": {
          "model_module": "@jupyter-widgets/controls",
          "model_name": "SliderStyleModel",
          "model_module_version": "1.5.0",
          "state": {
            "_model_module": "@jupyter-widgets/controls",
            "_model_module_version": "1.5.0",
            "_model_name": "SliderStyleModel",
            "_view_count": null,
            "_view_module": "@jupyter-widgets/base",
            "_view_module_version": "1.2.0",
            "_view_name": "StyleView",
            "description_width": "",
            "handle_color": null
          }
        },
        "ba2a37b0cad14616a06aced777dbf46b": {
          "model_module": "@jupyter-widgets/base",
          "model_name": "LayoutModel",
          "model_module_version": "1.2.0",
          "state": {
            "_model_module": "@jupyter-widgets/base",
            "_model_module_version": "1.2.0",
            "_model_name": "LayoutModel",
            "_view_count": null,
            "_view_module": "@jupyter-widgets/base",
            "_view_module_version": "1.2.0",
            "_view_name": "LayoutView",
            "align_content": null,
            "align_items": null,
            "align_self": null,
            "border": null,
            "bottom": null,
            "display": null,
            "flex": null,
            "flex_flow": null,
            "grid_area": null,
            "grid_auto_columns": null,
            "grid_auto_flow": null,
            "grid_auto_rows": null,
            "grid_column": null,
            "grid_gap": null,
            "grid_row": null,
            "grid_template_areas": null,
            "grid_template_columns": null,
            "grid_template_rows": null,
            "height": null,
            "justify_content": null,
            "justify_items": null,
            "left": null,
            "margin": null,
            "max_height": null,
            "max_width": null,
            "min_height": null,
            "min_width": null,
            "object_fit": null,
            "object_position": null,
            "order": null,
            "overflow": null,
            "overflow_x": null,
            "overflow_y": null,
            "padding": null,
            "right": null,
            "top": null,
            "visibility": null,
            "width": null
          }
        }
      }
    }
  },
  "nbformat": 4,
  "nbformat_minor": 0
}